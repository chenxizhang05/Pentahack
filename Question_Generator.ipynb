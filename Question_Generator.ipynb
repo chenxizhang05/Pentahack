{
  "nbformat": 4,
  "nbformat_minor": 0,
  "metadata": {
    "kernelspec": {
      "name": "python3",
      "display_name": "Python 3",
      "language": "python"
    },
    "language_info": {
      "name": "python",
      "version": "3.7.6",
      "mimetype": "text/x-python",
      "codemirror_mode": {
        "name": "ipython",
        "version": 3
      },
      "pygments_lexer": "ipython3",
      "nbconvert_exporter": "python",
      "file_extension": ".py"
    },
    "colab": {
      "provenance": [],
      "collapsed_sections": [
        "Nh5aHPQvILf9",
        "tiKBEqeHy2-c",
        "3Nxi86jH49N7"
      ],
      "include_colab_link": true
    }
  },
  "cells": [
    {
      "cell_type": "markdown",
      "metadata": {
        "id": "view-in-github",
        "colab_type": "text"
      },
      "source": [
        "<a href=\"https://colab.research.google.com/github/chenxizhang05/Pentahack/blob/main/Question_Generator.ipynb\" target=\"_parent\"><img src=\"https://colab.research.google.com/assets/colab-badge.svg\" alt=\"Open In Colab\"/></a>"
      ]
    },
    {
      "cell_type": "markdown",
      "metadata": {
        "id": "S-Kj1T_yHa_A"
      },
      "source": [
        "# Installations"
      ]
    },
    {
      "cell_type": "code",
      "source": [
        "pip install pyPDF2\n"
      ],
      "metadata": {
        "colab": {
          "base_uri": "https://localhost:8080/"
        },
        "id": "LmB3MVI-V1l-",
        "outputId": "daebe3c9-2790-4acd-c055-230785215f4e"
      },
      "execution_count": 1,
      "outputs": [
        {
          "output_type": "stream",
          "name": "stdout",
          "text": [
            "Looking in indexes: https://pypi.org/simple, https://us-python.pkg.dev/colab-wheels/public/simple/\n",
            "Collecting pyPDF2\n",
            "  Downloading pypdf2-3.0.1-py3-none-any.whl (232 kB)\n",
            "\u001b[2K     \u001b[90m━━━━━━━━━━━━━━━━━━━━━━━━━━━━━━━━━━━━━━━\u001b[0m \u001b[32m232.6/232.6 KB\u001b[0m \u001b[31m3.6 MB/s\u001b[0m eta \u001b[36m0:00:00\u001b[0m\n",
            "\u001b[?25hRequirement already satisfied: typing_extensions>=3.10.0.0 in /usr/local/lib/python3.9/dist-packages (from pyPDF2) (4.5.0)\n",
            "Installing collected packages: pyPDF2\n",
            "Successfully installed pyPDF2-3.0.1\n"
          ]
        }
      ]
    },
    {
      "cell_type": "code",
      "source": [
        "import spacy\n",
        "import PyPDF2\n",
        "def read_file(file_1): \n",
        "  pdffileobj=open(file_1, 'rb')\n",
        "  pdfreader=PyPDF2.PdfReader(pdffileobj)\n",
        "  num_pages= len(pdfreader.pages)\n",
        "  count = 0\n",
        "  text= \" \"\n",
        "  while count < num_pages:\n",
        "    pageObj = pdfreader.pages[count]\n",
        "    count +=1\n",
        "    text += pageObj.extract_text()\n",
        "  return text\n",
        "\n",
        "def generate_sentences(file_1):\n",
        "  file = read_file(file_1)\n",
        "  nlp = spacy.load(\"en_core_web_sm\")\n",
        "  sentence_file = []\n",
        "  doc = nlp(file)\n",
        "  for sent in doc.sents:\n",
        "    sentence_file.append(sent)\n",
        "  for i in sentence_file: \n",
        "    if len(i) < 20: \n",
        "      sentence_file.remove(i)\n",
        "  return sentence_file\n"
      ],
      "metadata": {
        "id": "vgtEVWeUTT69"
      },
      "execution_count": 2,
      "outputs": []
    },
    {
      "cell_type": "code",
      "source": [
        "pip install pysbd"
      ],
      "metadata": {
        "colab": {
          "base_uri": "https://localhost:8080/"
        },
        "id": "M2OrhBzN-EU_",
        "outputId": "e9ebaa7d-4615-4882-9c38-035f2bf8a44e"
      },
      "execution_count": 3,
      "outputs": [
        {
          "output_type": "stream",
          "name": "stdout",
          "text": [
            "Looking in indexes: https://pypi.org/simple, https://us-python.pkg.dev/colab-wheels/public/simple/\n",
            "Collecting pysbd\n",
            "  Downloading pysbd-0.3.4-py3-none-any.whl (71 kB)\n",
            "\u001b[2K     \u001b[90m━━━━━━━━━━━━━━━━━━━━━━━━━━━━━━━━━━━━━━━━\u001b[0m \u001b[32m71.1/71.1 KB\u001b[0m \u001b[31m2.9 MB/s\u001b[0m eta \u001b[36m0:00:00\u001b[0m\n",
            "\u001b[?25hInstalling collected packages: pysbd\n",
            "Successfully installed pysbd-0.3.4\n"
          ]
        }
      ]
    },
    {
      "cell_type": "code",
      "source": [
        "from pysbd.utils import PySBDFactory"
      ],
      "metadata": {
        "id": "GC32CZAw-CjB"
      },
      "execution_count": 4,
      "outputs": []
    },
    {
      "cell_type": "code",
      "source": [
        "pip install sklearn"
      ],
      "metadata": {
        "colab": {
          "base_uri": "https://localhost:8080/"
        },
        "id": "0YAv0VsAqX3l",
        "outputId": "130a4064-a28e-4ed2-feb0-e2727bcc717d"
      },
      "execution_count": 5,
      "outputs": [
        {
          "output_type": "stream",
          "name": "stdout",
          "text": [
            "Looking in indexes: https://pypi.org/simple, https://us-python.pkg.dev/colab-wheels/public/simple/\n",
            "Collecting sklearn\n",
            "  Downloading sklearn-0.0.post1.tar.gz (3.6 kB)\n",
            "  Preparing metadata (setup.py) ... \u001b[?25l\u001b[?25hdone\n",
            "Building wheels for collected packages: sklearn\n",
            "  Building wheel for sklearn (setup.py) ... \u001b[?25l\u001b[?25hdone\n",
            "  Created wheel for sklearn: filename=sklearn-0.0.post1-py3-none-any.whl size=2955 sha256=7617d8fa8df3b5493835cf04737495c658393d760410ff69fd1c05434de8e01e\n",
            "  Stored in directory: /root/.cache/pip/wheels/f8/e0/3d/9d0c2020c44a519b9f02ab4fa6d2a4a996c98d79ab2f569fa1\n",
            "Successfully built sklearn\n",
            "Installing collected packages: sklearn\n",
            "Successfully installed sklearn-0.0.post1\n"
          ]
        }
      ]
    },
    {
      "cell_type": "code",
      "source": [
        "pip install spacy-universal-sentence-encoder"
      ],
      "metadata": {
        "colab": {
          "base_uri": "https://localhost:8080/"
        },
        "id": "EDEnlPFWxIj1",
        "outputId": "1e6238c8-fd6c-4636-b375-6f4f17a7c4b9"
      },
      "execution_count": 6,
      "outputs": [
        {
          "output_type": "stream",
          "name": "stdout",
          "text": [
            "Looking in indexes: https://pypi.org/simple, https://us-python.pkg.dev/colab-wheels/public/simple/\n",
            "Collecting spacy-universal-sentence-encoder\n",
            "  Downloading spacy_universal_sentence_encoder-0.4.6.tar.gz (15 kB)\n",
            "  Preparing metadata (setup.py) ... \u001b[?25l\u001b[?25hdone\n",
            "Requirement already satisfied: tensorflow<3.0.0,>=2.4.0 in /usr/local/lib/python3.9/dist-packages (from spacy-universal-sentence-encoder) (2.12.0)\n",
            "Requirement already satisfied: spacy<4.0.0,>=3.0.0 in /usr/local/lib/python3.9/dist-packages (from spacy-universal-sentence-encoder) (3.5.1)\n",
            "Requirement already satisfied: tensorflow-hub in /usr/local/lib/python3.9/dist-packages (from spacy-universal-sentence-encoder) (0.13.0)\n",
            "Requirement already satisfied: catalogue<2.1.0,>=2.0.6 in /usr/local/lib/python3.9/dist-packages (from spacy<4.0.0,>=3.0.0->spacy-universal-sentence-encoder) (2.0.8)\n",
            "Requirement already satisfied: smart-open<7.0.0,>=5.2.1 in /usr/local/lib/python3.9/dist-packages (from spacy<4.0.0,>=3.0.0->spacy-universal-sentence-encoder) (6.3.0)\n",
            "Requirement already satisfied: pathy>=0.10.0 in /usr/local/lib/python3.9/dist-packages (from spacy<4.0.0,>=3.0.0->spacy-universal-sentence-encoder) (0.10.1)\n",
            "Requirement already satisfied: jinja2 in /usr/local/lib/python3.9/dist-packages (from spacy<4.0.0,>=3.0.0->spacy-universal-sentence-encoder) (3.1.2)\n",
            "Requirement already satisfied: cymem<2.1.0,>=2.0.2 in /usr/local/lib/python3.9/dist-packages (from spacy<4.0.0,>=3.0.0->spacy-universal-sentence-encoder) (2.0.7)\n",
            "Requirement already satisfied: wasabi<1.2.0,>=0.9.1 in /usr/local/lib/python3.9/dist-packages (from spacy<4.0.0,>=3.0.0->spacy-universal-sentence-encoder) (1.1.1)\n",
            "Requirement already satisfied: packaging>=20.0 in /usr/local/lib/python3.9/dist-packages (from spacy<4.0.0,>=3.0.0->spacy-universal-sentence-encoder) (23.0)\n",
            "Requirement already satisfied: requests<3.0.0,>=2.13.0 in /usr/local/lib/python3.9/dist-packages (from spacy<4.0.0,>=3.0.0->spacy-universal-sentence-encoder) (2.27.1)\n",
            "Requirement already satisfied: pydantic!=1.8,!=1.8.1,<1.11.0,>=1.7.4 in /usr/local/lib/python3.9/dist-packages (from spacy<4.0.0,>=3.0.0->spacy-universal-sentence-encoder) (1.10.7)\n",
            "Requirement already satisfied: thinc<8.2.0,>=8.1.8 in /usr/local/lib/python3.9/dist-packages (from spacy<4.0.0,>=3.0.0->spacy-universal-sentence-encoder) (8.1.9)\n",
            "Requirement already satisfied: tqdm<5.0.0,>=4.38.0 in /usr/local/lib/python3.9/dist-packages (from spacy<4.0.0,>=3.0.0->spacy-universal-sentence-encoder) (4.65.0)\n",
            "Requirement already satisfied: typer<0.8.0,>=0.3.0 in /usr/local/lib/python3.9/dist-packages (from spacy<4.0.0,>=3.0.0->spacy-universal-sentence-encoder) (0.7.0)\n",
            "Requirement already satisfied: spacy-legacy<3.1.0,>=3.0.11 in /usr/local/lib/python3.9/dist-packages (from spacy<4.0.0,>=3.0.0->spacy-universal-sentence-encoder) (3.0.12)\n",
            "Requirement already satisfied: spacy-loggers<2.0.0,>=1.0.0 in /usr/local/lib/python3.9/dist-packages (from spacy<4.0.0,>=3.0.0->spacy-universal-sentence-encoder) (1.0.4)\n",
            "Requirement already satisfied: srsly<3.0.0,>=2.4.3 in /usr/local/lib/python3.9/dist-packages (from spacy<4.0.0,>=3.0.0->spacy-universal-sentence-encoder) (2.4.6)\n",
            "Requirement already satisfied: murmurhash<1.1.0,>=0.28.0 in /usr/local/lib/python3.9/dist-packages (from spacy<4.0.0,>=3.0.0->spacy-universal-sentence-encoder) (1.0.9)\n",
            "Requirement already satisfied: preshed<3.1.0,>=3.0.2 in /usr/local/lib/python3.9/dist-packages (from spacy<4.0.0,>=3.0.0->spacy-universal-sentence-encoder) (3.0.8)\n",
            "Requirement already satisfied: langcodes<4.0.0,>=3.2.0 in /usr/local/lib/python3.9/dist-packages (from spacy<4.0.0,>=3.0.0->spacy-universal-sentence-encoder) (3.3.0)\n",
            "Requirement already satisfied: setuptools in /usr/local/lib/python3.9/dist-packages (from spacy<4.0.0,>=3.0.0->spacy-universal-sentence-encoder) (67.6.1)\n",
            "Requirement already satisfied: numpy>=1.15.0 in /usr/local/lib/python3.9/dist-packages (from spacy<4.0.0,>=3.0.0->spacy-universal-sentence-encoder) (1.22.4)\n",
            "Requirement already satisfied: h5py>=2.9.0 in /usr/local/lib/python3.9/dist-packages (from tensorflow<3.0.0,>=2.4.0->spacy-universal-sentence-encoder) (3.8.0)\n",
            "Requirement already satisfied: keras<2.13,>=2.12.0 in /usr/local/lib/python3.9/dist-packages (from tensorflow<3.0.0,>=2.4.0->spacy-universal-sentence-encoder) (2.12.0)\n",
            "Requirement already satisfied: opt-einsum>=2.3.2 in /usr/local/lib/python3.9/dist-packages (from tensorflow<3.0.0,>=2.4.0->spacy-universal-sentence-encoder) (3.3.0)\n",
            "Requirement already satisfied: libclang>=13.0.0 in /usr/local/lib/python3.9/dist-packages (from tensorflow<3.0.0,>=2.4.0->spacy-universal-sentence-encoder) (16.0.0)\n",
            "Requirement already satisfied: six>=1.12.0 in /usr/local/lib/python3.9/dist-packages (from tensorflow<3.0.0,>=2.4.0->spacy-universal-sentence-encoder) (1.16.0)\n",
            "Requirement already satisfied: grpcio<2.0,>=1.24.3 in /usr/local/lib/python3.9/dist-packages (from tensorflow<3.0.0,>=2.4.0->spacy-universal-sentence-encoder) (1.53.0)\n",
            "Requirement already satisfied: tensorflow-io-gcs-filesystem>=0.23.1 in /usr/local/lib/python3.9/dist-packages (from tensorflow<3.0.0,>=2.4.0->spacy-universal-sentence-encoder) (0.32.0)\n",
            "Requirement already satisfied: google-pasta>=0.1.1 in /usr/local/lib/python3.9/dist-packages (from tensorflow<3.0.0,>=2.4.0->spacy-universal-sentence-encoder) (0.2.0)\n",
            "Requirement already satisfied: termcolor>=1.1.0 in /usr/local/lib/python3.9/dist-packages (from tensorflow<3.0.0,>=2.4.0->spacy-universal-sentence-encoder) (2.2.0)\n",
            "Requirement already satisfied: tensorflow-estimator<2.13,>=2.12.0 in /usr/local/lib/python3.9/dist-packages (from tensorflow<3.0.0,>=2.4.0->spacy-universal-sentence-encoder) (2.12.0)\n",
            "Requirement already satisfied: typing-extensions>=3.6.6 in /usr/local/lib/python3.9/dist-packages (from tensorflow<3.0.0,>=2.4.0->spacy-universal-sentence-encoder) (4.5.0)\n",
            "Requirement already satisfied: absl-py>=1.0.0 in /usr/local/lib/python3.9/dist-packages (from tensorflow<3.0.0,>=2.4.0->spacy-universal-sentence-encoder) (1.4.0)\n",
            "Requirement already satisfied: flatbuffers>=2.0 in /usr/local/lib/python3.9/dist-packages (from tensorflow<3.0.0,>=2.4.0->spacy-universal-sentence-encoder) (23.3.3)\n",
            "Requirement already satisfied: jax>=0.3.15 in /usr/local/lib/python3.9/dist-packages (from tensorflow<3.0.0,>=2.4.0->spacy-universal-sentence-encoder) (0.4.7)\n",
            "Requirement already satisfied: wrapt<1.15,>=1.11.0 in /usr/local/lib/python3.9/dist-packages (from tensorflow<3.0.0,>=2.4.0->spacy-universal-sentence-encoder) (1.14.1)\n",
            "Requirement already satisfied: astunparse>=1.6.0 in /usr/local/lib/python3.9/dist-packages (from tensorflow<3.0.0,>=2.4.0->spacy-universal-sentence-encoder) (1.6.3)\n",
            "Requirement already satisfied: tensorboard<2.13,>=2.12 in /usr/local/lib/python3.9/dist-packages (from tensorflow<3.0.0,>=2.4.0->spacy-universal-sentence-encoder) (2.12.1)\n",
            "Requirement already satisfied: gast<=0.4.0,>=0.2.1 in /usr/local/lib/python3.9/dist-packages (from tensorflow<3.0.0,>=2.4.0->spacy-universal-sentence-encoder) (0.4.0)\n",
            "Requirement already satisfied: protobuf!=4.21.0,!=4.21.1,!=4.21.2,!=4.21.3,!=4.21.4,!=4.21.5,<5.0.0dev,>=3.20.3 in /usr/local/lib/python3.9/dist-packages (from tensorflow<3.0.0,>=2.4.0->spacy-universal-sentence-encoder) (3.20.3)\n",
            "Requirement already satisfied: wheel<1.0,>=0.23.0 in /usr/local/lib/python3.9/dist-packages (from astunparse>=1.6.0->tensorflow<3.0.0,>=2.4.0->spacy-universal-sentence-encoder) (0.40.0)\n",
            "Requirement already satisfied: ml-dtypes>=0.0.3 in /usr/local/lib/python3.9/dist-packages (from jax>=0.3.15->tensorflow<3.0.0,>=2.4.0->spacy-universal-sentence-encoder) (0.0.4)\n",
            "Requirement already satisfied: scipy>=1.7 in /usr/local/lib/python3.9/dist-packages (from jax>=0.3.15->tensorflow<3.0.0,>=2.4.0->spacy-universal-sentence-encoder) (1.10.1)\n",
            "Requirement already satisfied: idna<4,>=2.5 in /usr/local/lib/python3.9/dist-packages (from requests<3.0.0,>=2.13.0->spacy<4.0.0,>=3.0.0->spacy-universal-sentence-encoder) (3.4)\n",
            "Requirement already satisfied: certifi>=2017.4.17 in /usr/local/lib/python3.9/dist-packages (from requests<3.0.0,>=2.13.0->spacy<4.0.0,>=3.0.0->spacy-universal-sentence-encoder) (2022.12.7)\n",
            "Requirement already satisfied: urllib3<1.27,>=1.21.1 in /usr/local/lib/python3.9/dist-packages (from requests<3.0.0,>=2.13.0->spacy<4.0.0,>=3.0.0->spacy-universal-sentence-encoder) (1.26.15)\n",
            "Requirement already satisfied: charset-normalizer~=2.0.0 in /usr/local/lib/python3.9/dist-packages (from requests<3.0.0,>=2.13.0->spacy<4.0.0,>=3.0.0->spacy-universal-sentence-encoder) (2.0.12)\n",
            "Requirement already satisfied: google-auth-oauthlib<1.1,>=0.5 in /usr/local/lib/python3.9/dist-packages (from tensorboard<2.13,>=2.12->tensorflow<3.0.0,>=2.4.0->spacy-universal-sentence-encoder) (1.0.0)\n",
            "Requirement already satisfied: tensorboard-plugin-wit>=1.6.0 in /usr/local/lib/python3.9/dist-packages (from tensorboard<2.13,>=2.12->tensorflow<3.0.0,>=2.4.0->spacy-universal-sentence-encoder) (1.8.1)\n",
            "Requirement already satisfied: google-auth<3,>=1.6.3 in /usr/local/lib/python3.9/dist-packages (from tensorboard<2.13,>=2.12->tensorflow<3.0.0,>=2.4.0->spacy-universal-sentence-encoder) (2.17.1)\n",
            "Requirement already satisfied: markdown>=2.6.8 in /usr/local/lib/python3.9/dist-packages (from tensorboard<2.13,>=2.12->tensorflow<3.0.0,>=2.4.0->spacy-universal-sentence-encoder) (3.4.3)\n",
            "Requirement already satisfied: tensorboard-data-server<0.8.0,>=0.7.0 in /usr/local/lib/python3.9/dist-packages (from tensorboard<2.13,>=2.12->tensorflow<3.0.0,>=2.4.0->spacy-universal-sentence-encoder) (0.7.0)\n",
            "Requirement already satisfied: werkzeug>=1.0.1 in /usr/local/lib/python3.9/dist-packages (from tensorboard<2.13,>=2.12->tensorflow<3.0.0,>=2.4.0->spacy-universal-sentence-encoder) (2.2.3)\n",
            "Requirement already satisfied: blis<0.8.0,>=0.7.8 in /usr/local/lib/python3.9/dist-packages (from thinc<8.2.0,>=8.1.8->spacy<4.0.0,>=3.0.0->spacy-universal-sentence-encoder) (0.7.9)\n",
            "Requirement already satisfied: confection<1.0.0,>=0.0.1 in /usr/local/lib/python3.9/dist-packages (from thinc<8.2.0,>=8.1.8->spacy<4.0.0,>=3.0.0->spacy-universal-sentence-encoder) (0.0.4)\n",
            "Requirement already satisfied: click<9.0.0,>=7.1.1 in /usr/local/lib/python3.9/dist-packages (from typer<0.8.0,>=0.3.0->spacy<4.0.0,>=3.0.0->spacy-universal-sentence-encoder) (8.1.3)\n",
            "Requirement already satisfied: MarkupSafe>=2.0 in /usr/local/lib/python3.9/dist-packages (from jinja2->spacy<4.0.0,>=3.0.0->spacy-universal-sentence-encoder) (2.1.2)\n",
            "Requirement already satisfied: rsa<5,>=3.1.4 in /usr/local/lib/python3.9/dist-packages (from google-auth<3,>=1.6.3->tensorboard<2.13,>=2.12->tensorflow<3.0.0,>=2.4.0->spacy-universal-sentence-encoder) (4.9)\n",
            "Requirement already satisfied: pyasn1-modules>=0.2.1 in /usr/local/lib/python3.9/dist-packages (from google-auth<3,>=1.6.3->tensorboard<2.13,>=2.12->tensorflow<3.0.0,>=2.4.0->spacy-universal-sentence-encoder) (0.2.8)\n",
            "Requirement already satisfied: cachetools<6.0,>=2.0.0 in /usr/local/lib/python3.9/dist-packages (from google-auth<3,>=1.6.3->tensorboard<2.13,>=2.12->tensorflow<3.0.0,>=2.4.0->spacy-universal-sentence-encoder) (5.3.0)\n",
            "Requirement already satisfied: requests-oauthlib>=0.7.0 in /usr/local/lib/python3.9/dist-packages (from google-auth-oauthlib<1.1,>=0.5->tensorboard<2.13,>=2.12->tensorflow<3.0.0,>=2.4.0->spacy-universal-sentence-encoder) (1.3.1)\n",
            "Requirement already satisfied: importlib-metadata>=4.4 in /usr/local/lib/python3.9/dist-packages (from markdown>=2.6.8->tensorboard<2.13,>=2.12->tensorflow<3.0.0,>=2.4.0->spacy-universal-sentence-encoder) (6.1.0)\n",
            "Requirement already satisfied: zipp>=0.5 in /usr/local/lib/python3.9/dist-packages (from importlib-metadata>=4.4->markdown>=2.6.8->tensorboard<2.13,>=2.12->tensorflow<3.0.0,>=2.4.0->spacy-universal-sentence-encoder) (3.15.0)\n",
            "Requirement already satisfied: pyasn1<0.5.0,>=0.4.6 in /usr/local/lib/python3.9/dist-packages (from pyasn1-modules>=0.2.1->google-auth<3,>=1.6.3->tensorboard<2.13,>=2.12->tensorflow<3.0.0,>=2.4.0->spacy-universal-sentence-encoder) (0.4.8)\n",
            "Requirement already satisfied: oauthlib>=3.0.0 in /usr/local/lib/python3.9/dist-packages (from requests-oauthlib>=0.7.0->google-auth-oauthlib<1.1,>=0.5->tensorboard<2.13,>=2.12->tensorflow<3.0.0,>=2.4.0->spacy-universal-sentence-encoder) (3.2.2)\n",
            "Building wheels for collected packages: spacy-universal-sentence-encoder\n",
            "  Building wheel for spacy-universal-sentence-encoder (setup.py) ... \u001b[?25l\u001b[?25hdone\n",
            "  Created wheel for spacy-universal-sentence-encoder: filename=spacy_universal_sentence_encoder-0.4.6-py3-none-any.whl size=16562 sha256=28a2ee9be13c7228be26d5d2fd1c0cef17fdbe86027448d8ef8899a9787f6171\n",
            "  Stored in directory: /root/.cache/pip/wheels/23/cf/0b/162118b8e7dac277d8bd91f17dec299c6210e25bdff1a53264\n",
            "Successfully built spacy-universal-sentence-encoder\n",
            "Installing collected packages: spacy-universal-sentence-encoder\n",
            "Successfully installed spacy-universal-sentence-encoder-0.4.6\n"
          ]
        }
      ]
    },
    {
      "cell_type": "code",
      "source": [
        "import spacy_universal_sentence_encoder\n",
        "# load one of the models: ['en_use_md', 'en_use_lg', 'xx_use_md', 'xx_use_lg']\n",
        "nlp = spacy_universal_sentence_encoder.load_model('en_use_lg')\n",
        "# get two documents"
      ],
      "metadata": {
        "colab": {
          "base_uri": "https://localhost:8080/"
        },
        "id": "V_xqGsVapq7w",
        "outputId": "ed1c8dcb-15c2-4711-e180-d28e8a4a9a98"
      },
      "execution_count": 7,
      "outputs": [
        {
          "output_type": "stream",
          "name": "stdout",
          "text": [
            "Downloaded https://tfhub.dev/google/universal-sentence-encoder-large/5, Total size: 577.10MB\n",
            "\n"
          ]
        }
      ]
    },
    {
      "cell_type": "code",
      "source": [
        "pip install textract"
      ],
      "metadata": {
        "colab": {
          "base_uri": "https://localhost:8080/"
        },
        "id": "loK-2Ydg54J9",
        "outputId": "dba7e926-99bc-4952-f216-0a40574dd757"
      },
      "execution_count": 8,
      "outputs": [
        {
          "output_type": "stream",
          "name": "stdout",
          "text": [
            "Looking in indexes: https://pypi.org/simple, https://us-python.pkg.dev/colab-wheels/public/simple/\n",
            "Collecting textract\n",
            "  Downloading textract-1.6.5-py3-none-any.whl (23 kB)\n",
            "Collecting six~=1.12.0\n",
            "  Downloading six-1.12.0-py2.py3-none-any.whl (10 kB)\n",
            "Collecting beautifulsoup4~=4.8.0\n",
            "  Downloading beautifulsoup4-4.8.2-py3-none-any.whl (106 kB)\n",
            "\u001b[2K     \u001b[90m━━━━━━━━━━━━━━━━━━━━━━━━━━━━━━━━━━━━━━━\u001b[0m \u001b[32m106.9/106.9 KB\u001b[0m \u001b[31m5.2 MB/s\u001b[0m eta \u001b[36m0:00:00\u001b[0m\n",
            "\u001b[?25hCollecting pdfminer.six==20191110\n",
            "  Downloading pdfminer.six-20191110-py2.py3-none-any.whl (5.6 MB)\n",
            "\u001b[2K     \u001b[90m━━━━━━━━━━━━━━━━━━━━━━━━━━━━━━━━━━━━━━━━\u001b[0m \u001b[32m5.6/5.6 MB\u001b[0m \u001b[31m45.3 MB/s\u001b[0m eta \u001b[36m0:00:00\u001b[0m\n",
            "\u001b[?25hCollecting python-pptx~=0.6.18\n",
            "  Downloading python-pptx-0.6.21.tar.gz (10.1 MB)\n",
            "\u001b[2K     \u001b[90m━━━━━━━━━━━━━━━━━━━━━━━━━━━━━━━━━━━━━━━━\u001b[0m \u001b[32m10.1/10.1 MB\u001b[0m \u001b[31m64.9 MB/s\u001b[0m eta \u001b[36m0:00:00\u001b[0m\n",
            "\u001b[?25h  Preparing metadata (setup.py) ... \u001b[?25l\u001b[?25hdone\n",
            "Collecting docx2txt~=0.8\n",
            "  Downloading docx2txt-0.8.tar.gz (2.8 kB)\n",
            "  Preparing metadata (setup.py) ... \u001b[?25l\u001b[?25hdone\n",
            "Collecting SpeechRecognition~=3.8.1\n",
            "  Downloading SpeechRecognition-3.8.1-py2.py3-none-any.whl (32.8 MB)\n",
            "\u001b[2K     \u001b[90m━━━━━━━━━━━━━━━━━━━━━━━━━━━━━━━━━━━━━━━━\u001b[0m \u001b[32m32.8/32.8 MB\u001b[0m \u001b[31m19.0 MB/s\u001b[0m eta \u001b[36m0:00:00\u001b[0m\n",
            "\u001b[?25hCollecting argcomplete~=1.10.0\n",
            "  Downloading argcomplete-1.10.3-py2.py3-none-any.whl (36 kB)\n",
            "Collecting extract-msg<=0.29.*\n",
            "  Downloading extract_msg-0.28.7-py2.py3-none-any.whl (69 kB)\n",
            "\u001b[2K     \u001b[90m━━━━━━━━━━━━━━━━━━━━━━━━━━━━━━━━━━━━━━━━\u001b[0m \u001b[32m69.0/69.0 KB\u001b[0m \u001b[31m7.7 MB/s\u001b[0m eta \u001b[36m0:00:00\u001b[0m\n",
            "\u001b[?25hCollecting xlrd~=1.2.0\n",
            "  Downloading xlrd-1.2.0-py2.py3-none-any.whl (103 kB)\n",
            "\u001b[2K     \u001b[90m━━━━━━━━━━━━━━━━━━━━━━━━━━━━━━━━━━━━━━\u001b[0m \u001b[32m103.3/103.3 KB\u001b[0m \u001b[31m11.1 MB/s\u001b[0m eta \u001b[36m0:00:00\u001b[0m\n",
            "\u001b[?25hCollecting chardet==3.*\n",
            "  Downloading chardet-3.0.4-py2.py3-none-any.whl (133 kB)\n",
            "\u001b[2K     \u001b[90m━━━━━━━━━━━━━━━━━━━━━━━━━━━━━━━━━━━━━━\u001b[0m \u001b[32m133.4/133.4 KB\u001b[0m \u001b[31m14.9 MB/s\u001b[0m eta \u001b[36m0:00:00\u001b[0m\n",
            "\u001b[?25hCollecting pycryptodome\n",
            "  Downloading pycryptodome-3.17-cp35-abi3-manylinux_2_17_x86_64.manylinux2014_x86_64.whl (2.1 MB)\n",
            "\u001b[2K     \u001b[90m━━━━━━━━━━━━━━━━━━━━━━━━━━━━━━━━━━━━━━━━\u001b[0m \u001b[32m2.1/2.1 MB\u001b[0m \u001b[31m77.0 MB/s\u001b[0m eta \u001b[36m0:00:00\u001b[0m\n",
            "\u001b[?25hRequirement already satisfied: sortedcontainers in /usr/local/lib/python3.9/dist-packages (from pdfminer.six==20191110->textract) (2.4.0)\n",
            "Requirement already satisfied: soupsieve>=1.2 in /usr/local/lib/python3.9/dist-packages (from beautifulsoup4~=4.8.0->textract) (2.4)\n",
            "Collecting olefile>=0.46\n",
            "  Downloading olefile-0.46.zip (112 kB)\n",
            "\u001b[2K     \u001b[90m━━━━━━━━━━━━━━━━━━━━━━━━━━━━━━━━━━━━━━\u001b[0m \u001b[32m112.2/112.2 KB\u001b[0m \u001b[31m13.6 MB/s\u001b[0m eta \u001b[36m0:00:00\u001b[0m\n",
            "\u001b[?25h  Preparing metadata (setup.py) ... \u001b[?25l\u001b[?25hdone\n",
            "Collecting imapclient==2.1.0\n",
            "  Downloading IMAPClient-2.1.0-py2.py3-none-any.whl (73 kB)\n",
            "\u001b[2K     \u001b[90m━━━━━━━━━━━━━━━━━━━━━━━━━━━━━━━━━━━━━━━━\u001b[0m \u001b[32m74.0/74.0 KB\u001b[0m \u001b[31m9.2 MB/s\u001b[0m eta \u001b[36m0:00:00\u001b[0m\n",
            "\u001b[?25hRequirement already satisfied: tzlocal>=2.1 in /usr/local/lib/python3.9/dist-packages (from extract-msg<=0.29.*->textract) (4.3)\n",
            "Collecting ebcdic>=1.1.1\n",
            "  Downloading ebcdic-1.1.1-py2.py3-none-any.whl (128 kB)\n",
            "\u001b[2K     \u001b[90m━━━━━━━━━━━━━━━━━━━━━━━━━━━━━━━━━━━━━━\u001b[0m \u001b[32m128.5/128.5 KB\u001b[0m \u001b[31m13.2 MB/s\u001b[0m eta \u001b[36m0:00:00\u001b[0m\n",
            "\u001b[?25hCollecting compressed-rtf>=1.0.6\n",
            "  Downloading compressed_rtf-1.0.6.tar.gz (5.8 kB)\n",
            "  Preparing metadata (setup.py) ... \u001b[?25l\u001b[?25hdone\n",
            "Requirement already satisfied: lxml>=3.1.0 in /usr/local/lib/python3.9/dist-packages (from python-pptx~=0.6.18->textract) (4.9.2)\n",
            "Requirement already satisfied: Pillow>=3.3.2 in /usr/local/lib/python3.9/dist-packages (from python-pptx~=0.6.18->textract) (8.4.0)\n",
            "Collecting XlsxWriter>=0.5.7\n",
            "  Downloading XlsxWriter-3.0.9-py3-none-any.whl (152 kB)\n",
            "\u001b[2K     \u001b[90m━━━━━━━━━━━━━━━━━━━━━━━━━━━━━━━━━━━━━━\u001b[0m \u001b[32m152.8/152.8 KB\u001b[0m \u001b[31m18.6 MB/s\u001b[0m eta \u001b[36m0:00:00\u001b[0m\n",
            "\u001b[?25hRequirement already satisfied: pytz-deprecation-shim in /usr/local/lib/python3.9/dist-packages (from tzlocal>=2.1->extract-msg<=0.29.*->textract) (0.1.0.post0)\n",
            "Requirement already satisfied: tzdata in /usr/local/lib/python3.9/dist-packages (from pytz-deprecation-shim->tzlocal>=2.1->extract-msg<=0.29.*->textract) (2023.3)\n",
            "Building wheels for collected packages: docx2txt, python-pptx, compressed-rtf, olefile\n",
            "  Building wheel for docx2txt (setup.py) ... \u001b[?25l\u001b[?25hdone\n",
            "  Created wheel for docx2txt: filename=docx2txt-0.8-py3-none-any.whl size=3977 sha256=8a28e05437be1e6e9198b0a73d7e64155e207e869f637aa38d1882dd0f213ca2\n",
            "  Stored in directory: /root/.cache/pip/wheels/40/75/01/e6c444034338bde9c7947d3467807f889123465c2371e77418\n",
            "  Building wheel for python-pptx (setup.py) ... \u001b[?25l\u001b[?25hdone\n",
            "  Created wheel for python-pptx: filename=python_pptx-0.6.21-py3-none-any.whl size=470949 sha256=3c5da45fd64d9eef1ce12ccc9a4a2ca3bc4e845ae3a405d9fc1017abef1033d9\n",
            "  Stored in directory: /root/.cache/pip/wheels/0e/4a/ed/9653bc799915f52dce3f04d14946fbd85cce9c3cdedc9cfa71\n",
            "  Building wheel for compressed-rtf (setup.py) ... \u001b[?25l\u001b[?25hdone\n",
            "  Created wheel for compressed-rtf: filename=compressed_rtf-1.0.6-py3-none-any.whl size=6201 sha256=fc041d0a7576fd336d4062fa192207d5b972ee7587cb06f7cb6b685aff7dd8a7\n",
            "  Stored in directory: /root/.cache/pip/wheels/e4/67/e4/ba2159853bdd0fe99330aa1e384915108143a5370686ea446f\n",
            "  Building wheel for olefile (setup.py) ... \u001b[?25l\u001b[?25hdone\n",
            "  Created wheel for olefile: filename=olefile-0.46-py2.py3-none-any.whl size=35432 sha256=6f56997d9aceac3d24a0774bcb65dfbc3043e09093a4dc0e558bb62d8182e5c5\n",
            "  Stored in directory: /root/.cache/pip/wheels/64/b8/ba/ebba30390fbd997074f35e42a842ce3fd933213cac8753414e\n",
            "Successfully built docx2txt python-pptx compressed-rtf olefile\n",
            "Installing collected packages: SpeechRecognition, ebcdic, docx2txt, compressed-rtf, chardet, argcomplete, XlsxWriter, xlrd, six, pycryptodome, olefile, beautifulsoup4, python-pptx, pdfminer.six, imapclient, extract-msg, textract\n",
            "  Attempting uninstall: chardet\n",
            "    Found existing installation: chardet 4.0.0\n",
            "    Uninstalling chardet-4.0.0:\n",
            "      Successfully uninstalled chardet-4.0.0\n",
            "  Attempting uninstall: xlrd\n",
            "    Found existing installation: xlrd 2.0.1\n",
            "    Uninstalling xlrd-2.0.1:\n",
            "      Successfully uninstalled xlrd-2.0.1\n",
            "  Attempting uninstall: six\n",
            "    Found existing installation: six 1.16.0\n",
            "    Uninstalling six-1.16.0:\n",
            "      Successfully uninstalled six-1.16.0\n",
            "  Attempting uninstall: beautifulsoup4\n",
            "    Found existing installation: beautifulsoup4 4.11.2\n",
            "    Uninstalling beautifulsoup4-4.11.2:\n",
            "      Successfully uninstalled beautifulsoup4-4.11.2\n",
            "\u001b[31mERROR: pip's dependency resolver does not currently take into account all the packages that are installed. This behaviour is the source of the following dependency conflicts.\n",
            "yfinance 0.2.14 requires beautifulsoup4>=4.11.1, but you have beautifulsoup4 4.8.2 which is incompatible.\u001b[0m\u001b[31m\n",
            "\u001b[0mSuccessfully installed SpeechRecognition-3.8.1 XlsxWriter-3.0.9 argcomplete-1.10.3 beautifulsoup4-4.8.2 chardet-3.0.4 compressed-rtf-1.0.6 docx2txt-0.8 ebcdic-1.1.1 extract-msg-0.28.7 imapclient-2.1.0 olefile-0.46 pdfminer.six-20191110 pycryptodome-3.17 python-pptx-0.6.21 six-1.12.0 textract-1.6.5 xlrd-1.2.0\n"
          ]
        }
      ]
    },
    {
      "cell_type": "code",
      "source": [
        "import pandas as pd\n",
        "import textract\n",
        "from nltk.tokenize import word_tokenize\n",
        "from nltk.corpus import stopwords\n",
        "from collections import Counter\n",
        "import nltk\n",
        "import PyPDF2\n",
        "\n",
        "nltk.download('stopwords')\n",
        "nltk.download('punkt')\n",
        "\n",
        "def frequency_words(file_1): \n",
        "  text = read_file(file_1)\n",
        "  tokens=word_tokenize(text)\n",
        "  punctuations = ['(',')',';',':','[',']',',','!','=','==','<','>','@','#','$','%','^','&','*','.','//','{','}','...','``','+',\"''\", '’', '?', '”', '”', '‘', '–', '“', '|', '•', '—']\n",
        "  stop_words = stopwords.words('english')\n",
        "  stop_words.extend(['The', 'RI', 'without', 'with', 'first', 'Prelim', \"'s\", 'still', 'SECTION', 'In', 'one', 'How', 'This', 'That', 'But', 'I', 'you', 'Y6', '\\uf0b7', 'also', 'could', 'It', 'us', 'What', 'For', 'could', 'make', 'far', 'A', 'To', 'would', 'like', 'many', 'even', 'need', 'may', 'We', 'Y5', 'And', 'much', 'If', 'might', 'Is', 'often', 'CT1', 'well', 'AND', 'better', 'There', 'must', 'every', 'Promo', 'As', 'two', 'GP', 'INTERNAL', 'CIRCULATION', 'ONLY'])\n",
        "  keywords = [word for word in tokens if not word in stop_words and not word in punctuations and word.isdigit() == False]\n",
        "  vocabulary = set(keywords)\n",
        "  \n",
        "  counts = Counter(keywords)\n",
        "  top_word_list = counts.most_common(100)\n",
        "  top_word_list_100 = []\n",
        "  for i in top_word_list: \n",
        "    top_word_list_100.append(i[0])\n",
        "  return top_word_list_100"
      ],
      "metadata": {
        "colab": {
          "base_uri": "https://localhost:8080/"
        },
        "id": "KbabLglrzioc",
        "outputId": "c5370c91-037a-4b24-e892-d2a6f23b2f25"
      },
      "execution_count": 9,
      "outputs": [
        {
          "output_type": "stream",
          "name": "stderr",
          "text": [
            "[nltk_data] Downloading package stopwords to /root/nltk_data...\n",
            "[nltk_data]   Unzipping corpora/stopwords.zip.\n",
            "[nltk_data] Downloading package punkt to /root/nltk_data...\n",
            "[nltk_data]   Unzipping tokenizers/punkt.zip.\n"
          ]
        }
      ]
    },
    {
      "cell_type": "code",
      "source": [
        "def generate_sentence_collection(file_): \n",
        "  sentence_index = []\n",
        "  sentence_collection = []\n",
        "  keywords = nlp(' '.join(frequency_words(file_)))\n",
        "\n",
        "  doc_sentence = generate_sentences(file_)\n",
        "  for i in doc_sentence: \n",
        "    doc_1 = nlp(i.text)\n",
        "    sentence_index.append((doc_1.similarity(keywords), len(doc_1), doc_1))\n",
        "  sentence_index.sort(key=lambda x: x[1], reverse = True)\n",
        "# use the similarity method that is based on the vectors, on Doc, Span or Token\n",
        "  for i in sentence_index[0: 20]: \n",
        "    sentence_collection.append(i[2])\n",
        "  return sentence_collection"
      ],
      "metadata": {
        "id": "vz-rH8ONxs0p"
      },
      "execution_count": 10,
      "outputs": []
    },
    {
      "cell_type": "code",
      "source": [
        "tech_sentence = generate_sentence_collection('2022 Y5 GP Infopack -  Science and Tech.pdf')\n",
        "media_sentence = generate_sentence_collection('2022 GPY5 Infopack - Media Issues.pdf')\n",
        "social_sentence = generate_sentence_collection('2022 Y5 GP Infopack - Social Issues.pdf')\n",
        "arts_sentence = generate_sentence_collection('2023 Y6 GP Infopack - Arts&Culture.pdf')\n",
        "politics_sentence = generate_sentence_collection('2023 Y6 GP Infopack Politics I Infopack.pdf')"
      ],
      "metadata": {
        "id": "YuTIJ728kyX-"
      },
      "execution_count": 13,
      "outputs": []
    },
    {
      "cell_type": "markdown",
      "source": [
        "Get the Keywords from the Documents"
      ],
      "metadata": {
        "id": "0Cyhrv-1Vsxk"
      }
    },
    {
      "cell_type": "code",
      "source": [
        "pip install transformers"
      ],
      "metadata": {
        "colab": {
          "base_uri": "https://localhost:8080/"
        },
        "id": "RMKw-4B6OO-W",
        "outputId": "4d00b8d1-6a25-4c3f-bcf8-4560d1bcb705"
      },
      "execution_count": 15,
      "outputs": [
        {
          "output_type": "stream",
          "name": "stdout",
          "text": [
            "Looking in indexes: https://pypi.org/simple, https://us-python.pkg.dev/colab-wheels/public/simple/\n",
            "Collecting transformers\n",
            "  Downloading transformers-4.27.4-py3-none-any.whl (6.8 MB)\n",
            "\u001b[2K     \u001b[90m━━━━━━━━━━━━━━━━━━━━━━━━━━━━━━━━━━━━━━━━\u001b[0m \u001b[32m6.8/6.8 MB\u001b[0m \u001b[31m36.4 MB/s\u001b[0m eta \u001b[36m0:00:00\u001b[0m\n",
            "\u001b[?25hCollecting tokenizers!=0.11.3,<0.14,>=0.11.1\n",
            "  Downloading tokenizers-0.13.3-cp39-cp39-manylinux_2_17_x86_64.manylinux2014_x86_64.whl (7.8 MB)\n",
            "\u001b[2K     \u001b[90m━━━━━━━━━━━━━━━━━━━━━━━━━━━━━━━━━━━━━━━━\u001b[0m \u001b[32m7.8/7.8 MB\u001b[0m \u001b[31m55.2 MB/s\u001b[0m eta \u001b[36m0:00:00\u001b[0m\n",
            "\u001b[?25hRequirement already satisfied: filelock in /usr/local/lib/python3.9/dist-packages (from transformers) (3.10.7)\n",
            "Requirement already satisfied: packaging>=20.0 in /usr/local/lib/python3.9/dist-packages (from transformers) (23.0)\n",
            "Requirement already satisfied: requests in /usr/local/lib/python3.9/dist-packages (from transformers) (2.27.1)\n",
            "Requirement already satisfied: tqdm>=4.27 in /usr/local/lib/python3.9/dist-packages (from transformers) (4.65.0)\n",
            "Requirement already satisfied: regex!=2019.12.17 in /usr/local/lib/python3.9/dist-packages (from transformers) (2022.10.31)\n",
            "Requirement already satisfied: numpy>=1.17 in /usr/local/lib/python3.9/dist-packages (from transformers) (1.22.4)\n",
            "Requirement already satisfied: pyyaml>=5.1 in /usr/local/lib/python3.9/dist-packages (from transformers) (6.0)\n",
            "Collecting huggingface-hub<1.0,>=0.11.0\n",
            "  Downloading huggingface_hub-0.13.4-py3-none-any.whl (200 kB)\n",
            "\u001b[2K     \u001b[90m━━━━━━━━━━━━━━━━━━━━━━━━━━━━━━━━━━━━━━\u001b[0m \u001b[32m200.1/200.1 KB\u001b[0m \u001b[31m20.0 MB/s\u001b[0m eta \u001b[36m0:00:00\u001b[0m\n",
            "\u001b[?25hRequirement already satisfied: typing-extensions>=3.7.4.3 in /usr/local/lib/python3.9/dist-packages (from huggingface-hub<1.0,>=0.11.0->transformers) (4.5.0)\n",
            "Requirement already satisfied: urllib3<1.27,>=1.21.1 in /usr/local/lib/python3.9/dist-packages (from requests->transformers) (1.26.15)\n",
            "Requirement already satisfied: charset-normalizer~=2.0.0 in /usr/local/lib/python3.9/dist-packages (from requests->transformers) (2.0.12)\n",
            "Requirement already satisfied: certifi>=2017.4.17 in /usr/local/lib/python3.9/dist-packages (from requests->transformers) (2022.12.7)\n",
            "Requirement already satisfied: idna<4,>=2.5 in /usr/local/lib/python3.9/dist-packages (from requests->transformers) (3.4)\n",
            "Installing collected packages: tokenizers, huggingface-hub, transformers\n",
            "Successfully installed huggingface-hub-0.13.4 tokenizers-0.13.3 transformers-4.27.4\n"
          ]
        }
      ]
    },
    {
      "cell_type": "code",
      "source": [
        "import transformers"
      ],
      "metadata": {
        "id": "7nja7Dx1fgnV"
      },
      "execution_count": 16,
      "outputs": []
    },
    {
      "cell_type": "code",
      "source": [
        "from transformers import AutoTokenizer, AutoModelForSeq2SeqLM\n",
        "def get_topic(file):\n",
        "  mname = \"cristian-popa/bart-tl-ng\"\n",
        "  tokenizer = AutoTokenizer.from_pretrained(mname)\n",
        "  model = AutoModelForSeq2SeqLM.from_pretrained(mname)\n",
        "\n",
        "  input = ' '.join(str(item) for item in file)\n",
        "  enc = tokenizer(input, return_tensors=\"pt\", truncation=True, padding=\"max_length\", max_length=128)\n",
        "  outputs = model.generate(\n",
        "      input_ids=enc.input_ids,\n",
        "      max_length=25,\n",
        "      min_length=1,\n",
        "      do_sample=False,\n",
        "      num_beams=25,\n",
        "      length_penalty=1.0,\n",
        "      repetition_penalty=1.5\n",
        "  )\n",
        "\n",
        "  decoded = tokenizer.decode(outputs[0], skip_special_tokens=True) # windows live messenger\n",
        "def get_topic_sentence(input): \n",
        "  mname = \"cristian-popa/bart-tl-ng\"\n",
        "  tokenizer = AutoTokenizer.from_pretrained(mname)\n",
        "  model = AutoModelForSeq2SeqLM.from_pretrained(mname) \n",
        "  enc = tokenizer(str(input), return_tensors=\"pt\", truncation=True, padding=\"max_length\", max_length=128)\n",
        "  outputs = model.generate(\n",
        "      input_ids=enc.input_ids,\n",
        "      max_length=25,\n",
        "      min_length=1,\n",
        "      do_sample=False,\n",
        "      num_beams=25,\n",
        "      length_penalty=1.0,\n",
        "      repetition_penalty=1.5\n",
        "  )\n",
        "\n",
        "  decoded = tokenizer.decode(outputs[0], skip_special_tokens=True)"
      ],
      "metadata": {
        "colab": {
          "base_uri": "https://localhost:8080/"
        },
        "id": "OLCyRPxKfjxM",
        "outputId": "ff5b8b0b-8956-43c2-e260-27f7c99a2320"
      },
      "execution_count": 41,
      "outputs": [
        {
          "output_type": "stream",
          "name": "stdout",
          "text": [
            "on the other hand\n",
            "human\n"
          ]
        }
      ]
    },
    {
      "cell_type": "code",
      "source": [
        "topic_sentence = []\n",
        "for i in range(20): \n",
        "  topic_sentence.append(get_topic_sentence(tech_sentence[i]))"
      ],
      "metadata": {
        "colab": {
          "base_uri": "https://localhost:8080/"
        },
        "id": "GMr2Vd98WKgL",
        "outputId": "986cdc53-b4cd-40ac-9ec3-ae0164e4701a"
      },
      "execution_count": 43,
      "outputs": [
        {
          "output_type": "stream",
          "name": "stdout",
          "text": [
            "human\n",
            "software\n",
            "relevant\n",
            "skeletal muscle\n",
            "determinant\n",
            "the concept\n",
            "data analysis\n",
            "the concept\n",
            "energy\n",
            "punctuation\n",
            "possibility\n",
            "theory\n",
            "theory\n",
            "possibility\n",
            "the concept\n",
            "addition\n",
            "investment\n",
            "theory\n",
            "the concept\n",
            "the concept\n"
          ]
        }
      ]
    },
    {
      "cell_type": "markdown",
      "source": [
        "Print a correlation matrix of the separate sentences for the technology file"
      ],
      "metadata": {
        "id": "7rSsTrBmGbP3"
      }
    },
    {
      "cell_type": "code",
      "source": [
        "print(tech_sentence)"
      ],
      "metadata": {
        "colab": {
          "base_uri": "https://localhost:8080/"
        },
        "id": "7I_bVEeUO6AX",
        "outputId": "98b0631e-fd14-4cef-8022-eca09f42f556"
      },
      "execution_count": 19,
      "outputs": [
        {
          "output_type": "stream",
          "name": "stdout",
          "text": [
            "[4, 5-7 \n",
            "4 and 5 \n",
            "7 and 8 72 \n",
            "76 \n",
            "80 \n",
            "Section F: Technology and Inequality    \n",
            "25 \n",
            "26 \n",
            "27 \n",
            "28 Booster vaccine  roll out a sure recipe for boosting inequality  \n",
            "How to close the digital gap for the elderly \n",
            "Papering over old people’s needs \n",
            "Technology’s role in educational inequality  5 and 8 \n",
            "4 and 5 \n",
            "4 and 5 \n",
            "5, 6, 8 84 \n",
            "86 \n",
            "88 \n",
            "91 \n",
            "29 Technology can help equality of people with disabilities  5, 6, 8 94 Page 2 of 96 \n",
            " Science & Technology \n",
            "Enduring Understanding(s): \n",
            "What will students understand as a result of this unit? \n",
            " \n",
            ", Algorithmic intelligence has gotten so smart, it's easy to forget it's \n",
            "artificial \n",
            "The attack of zombie science \n",
            "Why we must rebuild out trust in science \n",
            "How Covid-19 is driving the evolution of Industry 5.0 5 and 8 \n",
            "5 and 8 \n",
            " \n",
            "1, 4, 7, 9 \n",
            "4-6, 9 \n",
            "5 42 \n",
            "45 \n",
            " \n",
            "47 \n",
            "51 \n",
            "55 \n",
            "18 How to address digital safety in the metaverse  4, 5, 8 57 \n",
            "19 As tech disrupts our jobs, it is not too late to turn pain into gain  4 and 5 61 \n",
            "20 \n",
            "21, There is an additional risk from the tracking and retention of biometric data, providing platforms with \n",
            "“a new quality of information that is comprised of your real identity combined with stimuli – indicating \n",
            "what you uniquely may think and like and want.”, according to technology and human rights expert \n",
            "Brittan Heller; in her paper Reimagining Reality: Human Rights and Immersive Technology, she coins \n",
            "the term “biometric psychography” and discusses the potential implications of new data collection 95 \n",
            "with immersive technologies for human rights, privacy, and self- censorship. \n",
            ", Animal models have allowed scientists the \n",
            "study all manner of medical conditions: experiments using mice have provided crucial insights into \n",
            "how Alzheimer’s disease actually progresses in the human brain; Zika-infected monkeys have 30 \n",
            "allowed scientists to slowly decipher how the virus works in order to develop a cure; and surgeries \n",
            "on dogs and cats have allowed researchers to develop and perfect life-saving procedures, like open-\n",
            "heart surgery and organ transplants., In the 1960s, scientists first noticed what has become known as \n",
            "the “fine-tuning problem”: The numerical value of many of the fundamental constants of nature, such \n",
            "as the speed of light or the strength of the forces in the nuclei of atoms, must lie within a narrow range 105 \n",
            "for life to arise in our universe—not merely life similar to life on Earth, but any kind of life., The President and his sons were the first to promote the “game-changer” PDF, and there \n",
            "are leaked videos of scientists and medical doctors working together with Prevent Senior and \n",
            "President Bolsonaro to promote the COVID kit, in an attempt to convey to the populace the notion \n",
            "that the pandemic was under control and there was no need for mitigation and preventive measures 105 \n",
            "that would “hurt the economy.” \n",
            ", While there \n",
            "are dozens of American tech companies selling this type of software to law enforcement agencies, one 30 \n",
            "particular startup, Voyager Labs, is collecting social media information—including Facebook posts, \n",
            "emojis, friends–and analyzing them to make connections, even cross-referencing this information with \n",
            "private data, to create a “holistic” profile that can be used to find people who pose “risks.”, A new project by Columbia University, in tandem with the AI Now Institute and the New York \n",
            "University School of Law’s Center on Race, Inequality, and the Law, and the Electronic Frontier 55 \n",
            "Foundation, was recently begun “to conduct an examination of current United States courtroom \n",
            "litigation where the use of algorithms by government was central to the rights and liberties at issue in \n",
            "the case.”, “A rich stew of new technologies, materials, design methods, financial techniques, business models, \n",
            "smart policies, and aggressive investments could in this decade revitalise, relocate, or displace some \n",
            "of the world’s most powerful industries,” declares Amory Levins, co-founder of the Rocky Mountain 15 \n",
            "Institute, an organisation dedicated to enabling the transition to clean energy, in a recent report. \n",
            ", We trained an algorithm \n",
            "on a set of texts that were tagged as news articles, editorials, fiction, and so on, and it masticated their \n",
            "words and punctuation until it was pretty good at telling them apart — for instance, it figured out for \n",
            "itself that when a text contained an exclamation point or a question mark, it was more likely to be an \n",
            "editorial than news story., The funding agency’s magazine, Revista \n",
            "Fapesp, published an article on how Brazilian scientists had proposed the use of nasal sprays with \n",
            "saline to prevent COVID-19, stressing just how important this discovery could be to help control the \n",
            "pandemic ⁠. Another Brazilian magazine also picked up the bait and highlighted the good news, being \n",
            "careful to stress that this was not a cure for COVID-19., If there are lots of universes with different properties—some with 17 \n",
            "dimensions or some with 12 dimensions, some with values of dark energy much larger or much smaller 130 \n",
            "than in our universe, some with nuclear forces much stronger or weaker, and so on—then some of \n",
            "those universes would, by chance, have the right properties to make stars and life., Notwithstanding The Big 35 \n",
            "Bang, quantum theories of spontaneous creation of matter and energy, String Theory and concepts \n",
            "of a Multi-Verse, our vast scientific database still struggles to answer the most fundamental of all \n",
            "questions first posed by the Greek philosopher Parmenides in the fifth century B.C.E. and repeated \n",
            "by others through the ages: “Why is there not nothing?”, The work, as presented, had shabby \n",
            "methodology and the rosy conclusions were obviously unwarranted, Later, a group of medical doctors \n",
            "fired by the study sponsor came forward and declared the study was rife with fraud, ethical \n",
            "misconduct, and withheld information ⁠. It turned out that there had been deaths in the treatment \n",
            "group, but they were removed from the record., Why concerns about the funding of science by private industry are primarily due to differences in \n",
            "terms of how rigorous the process of securing funding is between investors and government \n",
            "agencies, and how findings may be used  \n",
            " \n",
            "Leigh Stearns thought she’d hit the jackpot when the Heising-Simons Foundation awarded her \n",
            "research team $6 million to study a collapsing glacier in Greenland., As a EU 1, 4, 7, 9  Page 48 of 96  “designated Pain the Rear,” he wrote, addressing his own field of drug discovery, “I have to ask if we 35 \n",
            "needed over ninety different papers screening what in many cases is more or less the same set of \n",
            "compounds, over and over and over.”, An analysis of the budgets for six federal agencies that 35 \n",
            "fund scientific research — NASA, the National Oceanic and Atmospheric Administration, the National \n",
            "Science Foundation, the Energy Department, the U.S. Geological Survey and the Agriculture \n",
            "Department — found that $9.4 billion was dedicated to Earth and atmospheric research, \n",
            "environmental monitoring and clean energy projects for fiscal 2020. \n",
            " \n",
            ", 1 and 2 8 \n",
            "2 \n",
            "3 Religion and science in conflict   \n",
            "Where science and miracles meet in the contemporary world 1-3, 5 \n",
            "2 and 3 11 \n",
            "13 \n",
            "4 Science and religion together benefit humanity   1-3, 5 17 \n",
            "Section B: Science and Business    \n",
            "5 Bezos is pumping $10 billion into climate science., For \n",
            "example, Watson envisions stunning urban uses for the living root bridges of the Khasi hill tribe: “They 90 \n",
            "could be grown to reduce the urban heat island effect by increasing canopy cover along streets, with \n",
            "roots trained into trusses that integrate with the architecture of the street – in essence, removing the \n",
            "distinction between tree and building.”,  Examine how access to vaccines is driven not only by technological advancement but also \n",
            "political and economic factors \n",
            " \n",
            "In the run-up to the National Games (PON) in October, the government worked hard to make sure \n",
            "that as many people as possible in Papua and West Papua provinces, hosts of the biennale event, get \n",
            "their Covid-19 vaccines.]\n"
          ]
        }
      ]
    },
    {
      "cell_type": "code",
      "source": [
        "import numpy as np\n",
        "array = np.zeros((20, 20))\n",
        "for i in range(20): \n",
        "  for j in range(20): \n",
        "    doc_1 = nlp(tech_sentence[i].text)\n",
        "    doc_2 = nlp(tech_sentence[j].text)\n",
        "    if i == j: \n",
        "      array[i][j] = 0\n",
        "    elif i != j: \n",
        "      array[i][j] += doc_1.similarity(doc_2)\n",
        "print(array)"
      ],
      "metadata": {
        "colab": {
          "base_uri": "https://localhost:8080/"
        },
        "id": "Tpw1_6X-E_pG",
        "outputId": "b7de220e-a14f-4f61-fdbb-e3327747c86c"
      },
      "execution_count": 14,
      "outputs": [
        {
          "output_type": "stream",
          "name": "stdout",
          "text": [
            "[[ 0.          0.30105128  0.11103639  0.10606358  0.16508652  0.19599152\n",
            "   0.1042195   0.33173311  0.15337078  0.16794183  0.03208484  0.11028192\n",
            "   0.15403115  0.10571947  0.15526335  0.22392142  0.17893576  0.36510755\n",
            "   0.08797761  0.30866172]\n",
            " [ 0.30105128  0.          0.26529552  0.24027253  0.15052621  0.22774741\n",
            "   0.2686919   0.37046912  0.20905287  0.28844808  0.19644836  0.1075353\n",
            "   0.19509054  0.13336868  0.18124745  0.08920056  0.16520603  0.37829892\n",
            "   0.18393696  0.22590478]\n",
            " [ 0.11103639  0.26529552  0.          0.10245024  0.06282453  0.07359695\n",
            "   0.35177645  0.25868407  0.15977128  0.16018523  0.11269072  0.07788115\n",
            "   0.11522789  0.12842764  0.0918774   0.18327581  0.08209258  0.07873536\n",
            "   0.05755085  0.16608552]\n",
            " [ 0.10606358  0.24027253  0.10245024  0.          0.16347661  0.20051195\n",
            "   0.20252448  0.11553677  0.11450119  0.12361447  0.21767396  0.09287036\n",
            "   0.09436667  0.14760538  0.17902085  0.04095914  0.18701956  0.14932851\n",
            "   0.15928492  0.20022805]\n",
            " [ 0.16508652  0.15052621  0.06282453  0.16347661  0.          0.12798203\n",
            "   0.04371476  0.15905509  0.14087917  0.15349929  0.14239248  0.40931441\n",
            "   0.32905062  0.01507913  0.15629466  0.18069927  0.22373443  0.18254856\n",
            "   0.07517852  0.05945955]\n",
            " [ 0.19599152  0.22774741  0.07359695  0.20051195  0.12798203  0.\n",
            "   0.13764204  0.11436594  0.2042451   0.11456595  0.35428199  0.11301438\n",
            "   0.09081104  0.15149952  0.24003431  0.10368638  0.12733858  0.17725927\n",
            "   0.11964343  0.41715177]\n",
            " [ 0.1042195   0.2686919   0.35177645  0.20252448  0.04371476  0.13764204\n",
            "   0.          0.31031584  0.18131413  0.20881463  0.17183107  0.08378443\n",
            "   0.01830793  0.12530879  0.13189115  0.14096834  0.17281481  0.12968715\n",
            "   0.19189811  0.11718211]\n",
            " [ 0.33173311  0.37046912  0.25868407  0.11553677  0.15905509  0.11436594\n",
            "   0.31031584  0.          0.23629685  0.28160701  0.16275689  0.06105162\n",
            "   0.17140272  0.1954961   0.18864516  0.15568805  0.22679318  0.22833201\n",
            "   0.18485385  0.10110053]\n",
            " [ 0.15337078  0.20905287  0.15977128  0.11450119  0.14087917  0.2042451\n",
            "   0.18131413  0.23629685  0.          0.09536456  0.16045781  0.14046247\n",
            "   0.12889314  0.16358324  0.21690754  0.05263461  0.33828079  0.2785331\n",
            "   0.2280699   0.22410778]\n",
            " [ 0.16794183  0.28844808  0.16018523  0.12361447  0.15349929  0.11456595\n",
            "   0.20881463  0.28160701  0.09536456  0.          0.22170021  0.05661808\n",
            "   0.06324683  0.09535003  0.05284726  0.16173822  0.11226716  0.15882535\n",
            "   0.06804984  0.05801646]\n",
            " [ 0.03208484  0.19644836  0.11269072  0.21767396  0.14239248  0.35428199\n",
            "   0.17183107  0.16275689  0.16045781  0.22170021  0.          0.086978\n",
            "   0.11202955  0.1952822   0.21797836  0.12427323  0.14627764  0.10765465\n",
            "   0.12490817  0.26474581]\n",
            " [ 0.11028192  0.1075353   0.07788115  0.09287036  0.40931441  0.11301438\n",
            "   0.08378443  0.06105162  0.14046247  0.05661808  0.086978    0.\n",
            "   0.40002239 -0.0390932   0.13906261  0.20615716  0.16869117  0.16642796\n",
            "   0.07147719  0.07301834]\n",
            " [ 0.15403115  0.19509054  0.11522789  0.09436667  0.32905062  0.09081104\n",
            "   0.01830793  0.17140272  0.12889314  0.06324683  0.11202955  0.40002239\n",
            "   0.          0.02249957  0.33440219  0.12247547  0.14936433  0.24176301\n",
            "   0.05855905  0.03070838]\n",
            " [ 0.10571947  0.13336868  0.12842764  0.14760538  0.01507913  0.15149952\n",
            "   0.12530879  0.1954961   0.16358324  0.09535003  0.1952822  -0.0390932\n",
            "   0.02249957  0.          0.17277439  0.10095189  0.12117616  0.15197973\n",
            "   0.03205674  0.14883306]\n",
            " [ 0.15526335  0.18124745  0.0918774   0.17902085  0.15629466  0.24003431\n",
            "   0.13189115  0.18864516  0.21690754  0.05284726  0.21797836  0.13906261\n",
            "   0.33440219  0.17277439  0.          0.14338791  0.37360362  0.29096666\n",
            "   0.13450914  0.26794374]\n",
            " [ 0.22392142  0.08920056  0.18327581  0.04095914  0.18069927  0.10368638\n",
            "   0.14096834  0.15568805  0.05263461  0.16173822  0.12427323  0.20615716\n",
            "   0.12247547  0.10095189  0.14338791  0.          0.09125508  0.05689264\n",
            "   0.07692562  0.0995487 ]\n",
            " [ 0.17893576  0.16520603  0.08209258  0.18701956  0.22373443  0.12733858\n",
            "   0.17281481  0.22679318  0.33828079  0.11226716  0.14627764  0.16869117\n",
            "   0.14936433  0.12117616  0.37360362  0.09125508  0.          0.33286996\n",
            "   0.1441626   0.23022763]\n",
            " [ 0.36510755  0.37829892  0.07873536  0.14932851  0.18254856  0.17725927\n",
            "   0.12968715  0.22833201  0.2785331   0.15882535  0.10765465  0.16642796\n",
            "   0.24176301  0.15197973  0.29096666  0.05689264  0.33286996  0.\n",
            "   0.16487271  0.1925624 ]\n",
            " [ 0.08797761  0.18393696  0.05755085  0.15928492  0.07517852  0.11964343\n",
            "   0.19189811  0.18485385  0.2280699   0.06804984  0.12490817  0.07147719\n",
            "   0.05855905  0.03205674  0.13450914  0.07692562  0.1441626   0.16487271\n",
            "   0.          0.09996992]\n",
            " [ 0.30866172  0.22590478  0.16608552  0.20022805  0.05945955  0.41715177\n",
            "   0.11718211  0.10110053  0.22410778  0.05801646  0.26474581  0.07301834\n",
            "   0.03070838  0.14883306  0.26794374  0.0995487   0.23022763  0.1925624\n",
            "   0.09996992  0.        ]]\n"
          ]
        }
      ]
    },
    {
      "cell_type": "code",
      "source": [
        "pip install networkx"
      ],
      "metadata": {
        "colab": {
          "base_uri": "https://localhost:8080/"
        },
        "id": "KATEgHVRTr6Y",
        "outputId": "7e996b2f-18b5-4c42-bd06-67be882f2f82"
      },
      "execution_count": 33,
      "outputs": [
        {
          "output_type": "stream",
          "name": "stdout",
          "text": [
            "Looking in indexes: https://pypi.org/simple, https://us-python.pkg.dev/colab-wheels/public/simple/\n",
            "Requirement already satisfied: networkx in /usr/local/lib/python3.9/dist-packages (3.0)\n"
          ]
        }
      ]
    },
    {
      "cell_type": "code",
      "source": [
        "import networkx as nx\n",
        "max_score = 0\n",
        "def max_1_2(index): \n",
        "  index_array = []\n",
        "  for i in range(20): \n",
        "    index_array.append((array[index][i], i))\n",
        "  index_array.sort(reverse = True)\n",
        "  output = [index_array[0][1], index_array[1][1]]\n",
        "  return output\n",
        "\n",
        "Dictionary = {i: str(topic_sentence[i]) for i in range(20)}\n",
        "\n",
        "def createAdjacencyMatrix(vertices,edges):\n",
        "  noofvertices=len(vertices)\n",
        "  adjM=[]\n",
        "  while(len(adjM)<noofvertices):\n",
        "    temp=[]\n",
        "    for i in range(noofvertices):\n",
        "      temp.append(0)\n",
        "    adjM.append(temp)\n",
        "  for edge in edges:\n",
        "    i=edge[0]\n",
        "    j=edge[1]\n",
        "    if i>=noofvertices or j>=noofvertices or i<0 or j<0:\n",
        "      print(f\"Not a Proper Input in Edge {i},{j}\")\n",
        "    else:\n",
        "      adjM[i][j]=1\n",
        "      adjM[j][i]=1\n",
        "  G=nx.Graph()\n",
        "  G.add_edges_from(edges)\n",
        "  nx.draw_networkx(G)\n",
        "  return adjM\n",
        "\n",
        "createAdjacencyMatrix([i for i in range(20)], [max_1_2(i) for i in range(20)])\n",
        "\n",
        "\n",
        "\n",
        "  "
      ],
      "metadata": {
        "colab": {
          "base_uri": "https://localhost:8080/",
          "height": 753
        },
        "id": "YGu5IQB6NKDO",
        "outputId": "7447c30b-7cc9-4ce8-a77c-61a4a20a71bc"
      },
      "execution_count": 60,
      "outputs": [
        {
          "output_type": "execute_result",
          "data": {
            "text/plain": [
              "[[0, 1, 0, 0, 0, 1, 0, 0, 0, 0, 0, 1, 0, 0, 0, 0, 0, 0, 0, 0],\n",
              " [1, 0, 0, 0, 0, 0, 1, 1, 0, 0, 1, 0, 0, 0, 0, 0, 0, 0, 0, 0],\n",
              " [0, 0, 0, 0, 0, 0, 0, 1, 0, 0, 0, 0, 0, 0, 0, 0, 0, 0, 0, 0],\n",
              " [0, 0, 0, 0, 0, 0, 0, 0, 0, 0, 0, 0, 0, 0, 0, 0, 0, 0, 0, 0],\n",
              " [0, 0, 0, 0, 0, 0, 0, 0, 0, 0, 0, 0, 1, 0, 0, 0, 0, 0, 0, 0],\n",
              " [1, 0, 0, 0, 0, 0, 0, 0, 0, 0, 0, 0, 0, 0, 0, 0, 0, 0, 0, 1],\n",
              " [0, 1, 0, 0, 0, 0, 0, 0, 1, 0, 0, 0, 0, 0, 0, 0, 0, 0, 0, 0],\n",
              " [0, 1, 1, 0, 0, 0, 0, 0, 0, 0, 1, 0, 0, 0, 0, 0, 0, 1, 0, 0],\n",
              " [0, 0, 0, 0, 0, 0, 1, 0, 0, 0, 0, 0, 0, 0, 1, 0, 0, 0, 0, 0],\n",
              " [0, 0, 0, 0, 0, 0, 0, 0, 0, 0, 0, 0, 0, 0, 0, 0, 0, 0, 0, 0],\n",
              " [0, 1, 0, 0, 0, 0, 0, 1, 0, 0, 0, 0, 0, 0, 0, 0, 0, 0, 0, 1],\n",
              " [1, 0, 0, 0, 0, 0, 0, 0, 0, 0, 0, 0, 1, 0, 1, 0, 0, 0, 0, 0],\n",
              " [0, 0, 0, 0, 1, 0, 0, 0, 0, 0, 0, 1, 0, 0, 0, 0, 1, 0, 0, 0],\n",
              " [0, 0, 0, 0, 0, 0, 0, 0, 0, 0, 0, 0, 0, 0, 0, 0, 0, 0, 0, 0],\n",
              " [0, 0, 0, 0, 0, 0, 0, 0, 1, 0, 0, 1, 0, 0, 0, 0, 0, 0, 0, 0],\n",
              " [0, 0, 0, 0, 0, 0, 0, 0, 0, 0, 0, 0, 0, 0, 0, 0, 0, 0, 0, 0],\n",
              " [0, 0, 0, 0, 0, 0, 0, 0, 0, 0, 0, 0, 1, 0, 0, 0, 0, 1, 0, 0],\n",
              " [0, 0, 0, 0, 0, 0, 0, 1, 0, 0, 0, 0, 0, 0, 0, 0, 1, 0, 0, 0],\n",
              " [0, 0, 0, 0, 0, 0, 0, 0, 0, 0, 0, 0, 0, 0, 0, 0, 0, 0, 0, 0],\n",
              " [0, 0, 0, 0, 0, 1, 0, 0, 0, 0, 1, 0, 0, 0, 0, 0, 0, 0, 0, 0]]"
            ]
          },
          "metadata": {},
          "execution_count": 60
        },
        {
          "output_type": "display_data",
          "data": {
            "text/plain": [
              "<Figure size 640x480 with 1 Axes>"
            ],
            "image/png": "[encoded data removed]"
          },
          "metadata": {}
        }
      ]
    }
  ]
}
{
  "nbformat": 4,
  "nbformat_minor": 0,
  "metadata": {
    "colab": {
      "provenance": [],
      "include_colab_link": true
    },
    "kernelspec": {
      "name": "python3",
      "display_name": "Python 3"
    },
    "accelerator": "GPU",
    "widgets": {
      "application/vnd.jupyter.widget-state+json": {
        "20043d61b6a7474db465e5a814a71a81": {
          "model_module": "@jupyter-widgets/controls",
          "model_name": "HBoxModel",
          "model_module_version": "1.5.0",
          "state": {
            "_dom_classes": [],
            "_model_module": "@jupyter-widgets/controls",
            "_model_module_version": "1.5.0",
            "_model_name": "HBoxModel",
            "_view_count": null,
            "_view_module": "@jupyter-widgets/controls",
            "_view_module_version": "1.5.0",
            "_view_name": "HBoxView",
            "box_style": "",
            "children": [
              "IPY_MODEL_4d2d3959fcb14db88cb002a7ee8806b9",
              "IPY_MODEL_8d9154964f9646febaa3b7cbf36f7a04",
              "IPY_MODEL_2f36247674844426b1b4623c736dfaa5"
            ],
            "layout": "IPY_MODEL_ca009f9591be40a885d4a34597cbe0e9"
          }
        },
        "4d2d3959fcb14db88cb002a7ee8806b9": {
          "model_module": "@jupyter-widgets/controls",
          "model_name": "HTMLModel",
          "model_module_version": "1.5.0",
          "state": {
            "_dom_classes": [],
            "_model_module": "@jupyter-widgets/controls",
            "_model_module_version": "1.5.0",
            "_model_name": "HTMLModel",
            "_view_count": null,
            "_view_module": "@jupyter-widgets/controls",
            "_view_module_version": "1.5.0",
            "_view_name": "HTMLView",
            "description": "",
            "description_tooltip": null,
            "layout": "IPY_MODEL_136654eb4b3f496cae428e3eeb455170",
            "placeholder": "​",
            "style": "IPY_MODEL_ad0f47b694ee4475a48acbb4897e98b9",
            "value": "Downloading (…)okenizer_config.json: 100%"
          }
        },
        "8d9154964f9646febaa3b7cbf36f7a04": {
          "model_module": "@jupyter-widgets/controls",
          "model_name": "FloatProgressModel",
          "model_module_version": "1.5.0",
          "state": {
            "_dom_classes": [],
            "_model_module": "@jupyter-widgets/controls",
            "_model_module_version": "1.5.0",
            "_model_name": "FloatProgressModel",
            "_view_count": null,
            "_view_module": "@jupyter-widgets/controls",
            "_view_module_version": "1.5.0",
            "_view_name": "ProgressView",
            "bar_style": "success",
            "description": "",
            "description_tooltip": null,
            "layout": "IPY_MODEL_6a9ef8f1d7da42b2b1f456c3eddf30fd",
            "max": 25,
            "min": 0,
            "orientation": "horizontal",
            "style": "IPY_MODEL_02136b568c4a44db8356b7645994b941",
            "value": 25
          }
        },
        "2f36247674844426b1b4623c736dfaa5": {
          "model_module": "@jupyter-widgets/controls",
          "model_name": "HTMLModel",
          "model_module_version": "1.5.0",
          "state": {
            "_dom_classes": [],
            "_model_module": "@jupyter-widgets/controls",
            "_model_module_version": "1.5.0",
            "_model_name": "HTMLModel",
            "_view_count": null,
            "_view_module": "@jupyter-widgets/controls",
            "_view_module_version": "1.5.0",
            "_view_name": "HTMLView",
            "description": "",
            "description_tooltip": null,
            "layout": "IPY_MODEL_54d9935aa91b4ceda72f4841ac141361",
            "placeholder": "​",
            "style": "IPY_MODEL_fc61e17616654c4cab7232a2103bf5a8",
            "value": " 25.0/25.0 [00:00&lt;00:00, 275B/s]"
          }
        },
        "ca009f9591be40a885d4a34597cbe0e9": {
          "model_module": "@jupyter-widgets/base",
          "model_name": "LayoutModel",
          "model_module_version": "1.2.0",
          "state": {
            "_model_module": "@jupyter-widgets/base",
            "_model_module_version": "1.2.0",
            "_model_name": "LayoutModel",
            "_view_count": null,
            "_view_module": "@jupyter-widgets/base",
            "_view_module_version": "1.2.0",
            "_view_name": "LayoutView",
            "align_content": null,
            "align_items": null,
            "align_self": null,
            "border": null,
            "bottom": null,
            "display": null,
            "flex": null,
            "flex_flow": null,
            "grid_area": null,
            "grid_auto_columns": null,
            "grid_auto_flow": null,
            "grid_auto_rows": null,
            "grid_column": null,
            "grid_gap": null,
            "grid_row": null,
            "grid_template_areas": null,
            "grid_template_columns": null,
            "grid_template_rows": null,
            "height": null,
            "justify_content": null,
            "justify_items": null,
            "left": null,
            "margin": null,
            "max_height": null,
            "max_width": null,
            "min_height": null,
            "min_width": null,
            "object_fit": null,
            "object_position": null,
            "order": null,
            "overflow": null,
            "overflow_x": null,
            "overflow_y": null,
            "padding": null,
            "right": null,
            "top": null,
            "visibility": null,
            "width": null
          }
        },
        "136654eb4b3f496cae428e3eeb455170": {
          "model_module": "@jupyter-widgets/base",
          "model_name": "LayoutModel",
          "model_module_version": "1.2.0",
          "state": {
            "_model_module": "@jupyter-widgets/base",
            "_model_module_version": "1.2.0",
            "_model_name": "LayoutModel",
            "_view_count": null,
            "_view_module": "@jupyter-widgets/base",
            "_view_module_version": "1.2.0",
            "_view_name": "LayoutView",
            "align_content": null,
            "align_items": null,
            "align_self": null,
            "border": null,
            "bottom": null,
            "display": null,
            "flex": null,
            "flex_flow": null,
            "grid_area": null,
            "grid_auto_columns": null,
            "grid_auto_flow": null,
            "grid_auto_rows": null,
            "grid_column": null,
            "grid_gap": null,
            "grid_row": null,
            "grid_template_areas": null,
            "grid_template_columns": null,
            "grid_template_rows": null,
            "height": null,
            "justify_content": null,
            "justify_items": null,
            "left": null,
            "margin": null,
            "max_height": null,
            "max_width": null,
            "min_height": null,
            "min_width": null,
            "object_fit": null,
            "object_position": null,
            "order": null,
            "overflow": null,
            "overflow_x": null,
            "overflow_y": null,
            "padding": null,
            "right": null,
            "top": null,
            "visibility": null,
            "width": null
          }
        },
        "ad0f47b694ee4475a48acbb4897e98b9": {
          "model_module": "@jupyter-widgets/controls",
          "model_name": "DescriptionStyleModel",
          "model_module_version": "1.5.0",
          "state": {
            "_model_module": "@jupyter-widgets/controls",
            "_model_module_version": "1.5.0",
            "_model_name": "DescriptionStyleModel",
            "_view_count": null,
            "_view_module": "@jupyter-widgets/base",
            "_view_module_version": "1.2.0",
            "_view_name": "StyleView",
            "description_width": ""
          }
        },
        "6a9ef8f1d7da42b2b1f456c3eddf30fd": {
          "model_module": "@jupyter-widgets/base",
          "model_name": "LayoutModel",
          "model_module_version": "1.2.0",
          "state": {
            "_model_module": "@jupyter-widgets/base",
            "_model_module_version": "1.2.0",
            "_model_name": "LayoutModel",
            "_view_count": null,
            "_view_module": "@jupyter-widgets/base",
            "_view_module_version": "1.2.0",
            "_view_name": "LayoutView",
            "align_content": null,
            "align_items": null,
            "align_self": null,
            "border": null,
            "bottom": null,
            "display": null,
            "flex": null,
            "flex_flow": null,
            "grid_area": null,
            "grid_auto_columns": null,
            "grid_auto_flow": null,
            "grid_auto_rows": null,
            "grid_column": null,
            "grid_gap": null,
            "grid_row": null,
            "grid_template_areas": null,
            "grid_template_columns": null,
            "grid_template_rows": null,
            "height": null,
            "justify_content": null,
            "justify_items": null,
            "left": null,
            "margin": null,
            "max_height": null,
            "max_width": null,
            "min_height": null,
            "min_width": null,
            "object_fit": null,
            "object_position": null,
            "order": null,
            "overflow": null,
            "overflow_x": null,
            "overflow_y": null,
            "padding": null,
            "right": null,
            "top": null,
            "visibility": null,
            "width": null
          }
        },
        "02136b568c4a44db8356b7645994b941": {
          "model_module": "@jupyter-widgets/controls",
          "model_name": "ProgressStyleModel",
          "model_module_version": "1.5.0",
          "state": {
            "_model_module": "@jupyter-widgets/controls",
            "_model_module_version": "1.5.0",
            "_model_name": "ProgressStyleModel",
            "_view_count": null,
            "_view_module": "@jupyter-widgets/base",
            "_view_module_version": "1.2.0",
            "_view_name": "StyleView",
            "bar_color": null,
            "description_width": ""
          }
        },
        "54d9935aa91b4ceda72f4841ac141361": {
          "model_module": "@jupyter-widgets/base",
          "model_name": "LayoutModel",
          "model_module_version": "1.2.0",
          "state": {
            "_model_module": "@jupyter-widgets/base",
            "_model_module_version": "1.2.0",
            "_model_name": "LayoutModel",
            "_view_count": null,
            "_view_module": "@jupyter-widgets/base",
            "_view_module_version": "1.2.0",
            "_view_name": "LayoutView",
            "align_content": null,
            "align_items": null,
            "align_self": null,
            "border": null,
            "bottom": null,
            "display": null,
            "flex": null,
            "flex_flow": null,
            "grid_area": null,
            "grid_auto_columns": null,
            "grid_auto_flow": null,
            "grid_auto_rows": null,
            "grid_column": null,
            "grid_gap": null,
            "grid_row": null,
            "grid_template_areas": null,
            "grid_template_columns": null,
            "grid_template_rows": null,
            "height": null,
            "justify_content": null,
            "justify_items": null,
            "left": null,
            "margin": null,
            "max_height": null,
            "max_width": null,
            "min_height": null,
            "min_width": null,
            "object_fit": null,
            "object_position": null,
            "order": null,
            "overflow": null,
            "overflow_x": null,
            "overflow_y": null,
            "padding": null,
            "right": null,
            "top": null,
            "visibility": null,
            "width": null
          }
        },
        "fc61e17616654c4cab7232a2103bf5a8": {
          "model_module": "@jupyter-widgets/controls",
          "model_name": "DescriptionStyleModel",
          "model_module_version": "1.5.0",
          "state": {
            "_model_module": "@jupyter-widgets/controls",
            "_model_module_version": "1.5.0",
            "_model_name": "DescriptionStyleModel",
            "_view_count": null,
            "_view_module": "@jupyter-widgets/base",
            "_view_module_version": "1.2.0",
            "_view_name": "StyleView",
            "description_width": ""
          }
        },
        "3f69da8aaba041e28b435f019470c208": {
          "model_module": "@jupyter-widgets/controls",
          "model_name": "HBoxModel",
          "model_module_version": "1.5.0",
          "state": {
            "_dom_classes": [],
            "_model_module": "@jupyter-widgets/controls",
            "_model_module_version": "1.5.0",
            "_model_name": "HBoxModel",
            "_view_count": null,
            "_view_module": "@jupyter-widgets/controls",
            "_view_module_version": "1.5.0",
            "_view_name": "HBoxView",
            "box_style": "",
            "children": [
              "IPY_MODEL_e6ff0a455fc84fd5917e9f9f958125c1",
              "IPY_MODEL_ca3891ca355c4834be220fc014c2121b",
              "IPY_MODEL_68fff0be0f8d42658bb2d58b3780df85"
            ],
            "layout": "IPY_MODEL_1feb0e7f72b64cc09d89d1dbcf2096ce"
          }
        },
        "e6ff0a455fc84fd5917e9f9f958125c1": {
          "model_module": "@jupyter-widgets/controls",
          "model_name": "HTMLModel",
          "model_module_version": "1.5.0",
          "state": {
            "_dom_classes": [],
            "_model_module": "@jupyter-widgets/controls",
            "_model_module_version": "1.5.0",
            "_model_name": "HTMLModel",
            "_view_count": null,
            "_view_module": "@jupyter-widgets/controls",
            "_view_module_version": "1.5.0",
            "_view_name": "HTMLView",
            "description": "",
            "description_tooltip": null,
            "layout": "IPY_MODEL_51150b8dfc6544088445bb82f9d30d94",
            "placeholder": "​",
            "style": "IPY_MODEL_71bca8729f774132b8c64ae9d2fdb6ea",
            "value": "Downloading (…)lve/main/config.json: 100%"
          }
        },
        "ca3891ca355c4834be220fc014c2121b": {
          "model_module": "@jupyter-widgets/controls",
          "model_name": "FloatProgressModel",
          "model_module_version": "1.5.0",
          "state": {
            "_dom_classes": [],
            "_model_module": "@jupyter-widgets/controls",
            "_model_module_version": "1.5.0",
            "_model_name": "FloatProgressModel",
            "_view_count": null,
            "_view_module": "@jupyter-widgets/controls",
            "_view_module_version": "1.5.0",
            "_view_name": "ProgressView",
            "bar_style": "success",
            "description": "",
            "description_tooltip": null,
            "layout": "IPY_MODEL_0be538c73f194693ab5a03e08d319a01",
            "max": 1233,
            "min": 0,
            "orientation": "horizontal",
            "style": "IPY_MODEL_f17c86b5e0c041b6a24468009a24eda2",
            "value": 1233
          }
        },
        "68fff0be0f8d42658bb2d58b3780df85": {
          "model_module": "@jupyter-widgets/controls",
          "model_name": "HTMLModel",
          "model_module_version": "1.5.0",
          "state": {
            "_dom_classes": [],
            "_model_module": "@jupyter-widgets/controls",
            "_model_module_version": "1.5.0",
            "_model_name": "HTMLModel",
            "_view_count": null,
            "_view_module": "@jupyter-widgets/controls",
            "_view_module_version": "1.5.0",
            "_view_name": "HTMLView",
            "description": "",
            "description_tooltip": null,
            "layout": "IPY_MODEL_d13b10dd3c8341acbbd2405996cf97b2",
            "placeholder": "​",
            "style": "IPY_MODEL_3a3856c09e214f43b8b5bdeb875fde8a",
            "value": " 1.23k/1.23k [00:00&lt;00:00, 15.1kB/s]"
          }
        },
        "1feb0e7f72b64cc09d89d1dbcf2096ce": {
          "model_module": "@jupyter-widgets/base",
          "model_name": "LayoutModel",
          "model_module_version": "1.2.0",
          "state": {
            "_model_module": "@jupyter-widgets/base",
            "_model_module_version": "1.2.0",
            "_model_name": "LayoutModel",
            "_view_count": null,
            "_view_module": "@jupyter-widgets/base",
            "_view_module_version": "1.2.0",
            "_view_name": "LayoutView",
            "align_content": null,
            "align_items": null,
            "align_self": null,
            "border": null,
            "bottom": null,
            "display": null,
            "flex": null,
            "flex_flow": null,
            "grid_area": null,
            "grid_auto_columns": null,
            "grid_auto_flow": null,
            "grid_auto_rows": null,
            "grid_column": null,
            "grid_gap": null,
            "grid_row": null,
            "grid_template_areas": null,
            "grid_template_columns": null,
            "grid_template_rows": null,
            "height": null,
            "justify_content": null,
            "justify_items": null,
            "left": null,
            "margin": null,
            "max_height": null,
            "max_width": null,
            "min_height": null,
            "min_width": null,
            "object_fit": null,
            "object_position": null,
            "order": null,
            "overflow": null,
            "overflow_x": null,
            "overflow_y": null,
            "padding": null,
            "right": null,
            "top": null,
            "visibility": null,
            "width": null
          }
        },
        "51150b8dfc6544088445bb82f9d30d94": {
          "model_module": "@jupyter-widgets/base",
          "model_name": "LayoutModel",
          "model_module_version": "1.2.0",
          "state": {
            "_model_module": "@jupyter-widgets/base",
            "_model_module_version": "1.2.0",
            "_model_name": "LayoutModel",
            "_view_count": null,
            "_view_module": "@jupyter-widgets/base",
            "_view_module_version": "1.2.0",
            "_view_name": "LayoutView",
            "align_content": null,
            "align_items": null,
            "align_self": null,
            "border": null,
            "bottom": null,
            "display": null,
            "flex": null,
            "flex_flow": null,
            "grid_area": null,
            "grid_auto_columns": null,
            "grid_auto_flow": null,
            "grid_auto_rows": null,
            "grid_column": null,
            "grid_gap": null,
            "grid_row": null,
            "grid_template_areas": null,
            "grid_template_columns": null,
            "grid_template_rows": null,
            "height": null,
            "justify_content": null,
            "justify_items": null,
            "left": null,
            "margin": null,
            "max_height": null,
            "max_width": null,
            "min_height": null,
            "min_width": null,
            "object_fit": null,
            "object_position": null,
            "order": null,
            "overflow": null,
            "overflow_x": null,
            "overflow_y": null,
            "padding": null,
            "right": null,
            "top": null,
            "visibility": null,
            "width": null
          }
        },
        "71bca8729f774132b8c64ae9d2fdb6ea": {
          "model_module": "@jupyter-widgets/controls",
          "model_name": "DescriptionStyleModel",
          "model_module_version": "1.5.0",
          "state": {
            "_model_module": "@jupyter-widgets/controls",
            "_model_module_version": "1.5.0",
            "_model_name": "DescriptionStyleModel",
            "_view_count": null,
            "_view_module": "@jupyter-widgets/base",
            "_view_module_version": "1.2.0",
            "_view_name": "StyleView",
            "description_width": ""
          }
        },
        "0be538c73f194693ab5a03e08d319a01": {
          "model_module": "@jupyter-widgets/base",
          "model_name": "LayoutModel",
          "model_module_version": "1.2.0",
          "state": {
            "_model_module": "@jupyter-widgets/base",
            "_model_module_version": "1.2.0",
            "_model_name": "LayoutModel",
            "_view_count": null,
            "_view_module": "@jupyter-widgets/base",
            "_view_module_version": "1.2.0",
            "_view_name": "LayoutView",
            "align_content": null,
            "align_items": null,
            "align_self": null,
            "border": null,
            "bottom": null,
            "display": null,
            "flex": null,
            "flex_flow": null,
            "grid_area": null,
            "grid_auto_columns": null,
            "grid_auto_flow": null,
            "grid_auto_rows": null,
            "grid_column": null,
            "grid_gap": null,
            "grid_row": null,
            "grid_template_areas": null,
            "grid_template_columns": null,
            "grid_template_rows": null,
            "height": null,
            "justify_content": null,
            "justify_items": null,
            "left": null,
            "margin": null,
            "max_height": null,
            "max_width": null,
            "min_height": null,
            "min_width": null,
            "object_fit": null,
            "object_position": null,
            "order": null,
            "overflow": null,
            "overflow_x": null,
            "overflow_y": null,
            "padding": null,
            "right": null,
            "top": null,
            "visibility": null,
            "width": null
          }
        },
        "f17c86b5e0c041b6a24468009a24eda2": {
          "model_module": "@jupyter-widgets/controls",
          "model_name": "ProgressStyleModel",
          "model_module_version": "1.5.0",
          "state": {
            "_model_module": "@jupyter-widgets/controls",
            "_model_module_version": "1.5.0",
            "_model_name": "ProgressStyleModel",
            "_view_count": null,
            "_view_module": "@jupyter-widgets/base",
            "_view_module_version": "1.2.0",
            "_view_name": "StyleView",
            "bar_color": null,
            "description_width": ""
          }
        },
        "d13b10dd3c8341acbbd2405996cf97b2": {
          "model_module": "@jupyter-widgets/base",
          "model_name": "LayoutModel",
          "model_module_version": "1.2.0",
          "state": {
            "_model_module": "@jupyter-widgets/base",
            "_model_module_version": "1.2.0",
            "_model_name": "LayoutModel",
            "_view_count": null,
            "_view_module": "@jupyter-widgets/base",
            "_view_module_version": "1.2.0",
            "_view_name": "LayoutView",
            "align_content": null,
            "align_items": null,
            "align_self": null,
            "border": null,
            "bottom": null,
            "display": null,
            "flex": null,
            "flex_flow": null,
            "grid_area": null,
            "grid_auto_columns": null,
            "grid_auto_flow": null,
            "grid_auto_rows": null,
            "grid_column": null,
            "grid_gap": null,
            "grid_row": null,
            "grid_template_areas": null,
            "grid_template_columns": null,
            "grid_template_rows": null,
            "height": null,
            "justify_content": null,
            "justify_items": null,
            "left": null,
            "margin": null,
            "max_height": null,
            "max_width": null,
            "min_height": null,
            "min_width": null,
            "object_fit": null,
            "object_position": null,
            "order": null,
            "overflow": null,
            "overflow_x": null,
            "overflow_y": null,
            "padding": null,
            "right": null,
            "top": null,
            "visibility": null,
            "width": null
          }
        },
        "3a3856c09e214f43b8b5bdeb875fde8a": {
          "model_module": "@jupyter-widgets/controls",
          "model_name": "DescriptionStyleModel",
          "model_module_version": "1.5.0",
          "state": {
            "_model_module": "@jupyter-widgets/controls",
            "_model_module_version": "1.5.0",
            "_model_name": "DescriptionStyleModel",
            "_view_count": null,
            "_view_module": "@jupyter-widgets/base",
            "_view_module_version": "1.2.0",
            "_view_name": "StyleView",
            "description_width": ""
          }
        },
        "c8ad3d1b7b6d49ffb243161c2018f1cf": {
          "model_module": "@jupyter-widgets/controls",
          "model_name": "HBoxModel",
          "model_module_version": "1.5.0",
          "state": {
            "_dom_classes": [],
            "_model_module": "@jupyter-widgets/controls",
            "_model_module_version": "1.5.0",
            "_model_name": "HBoxModel",
            "_view_count": null,
            "_view_module": "@jupyter-widgets/controls",
            "_view_module_version": "1.5.0",
            "_view_name": "HBoxView",
            "box_style": "",
            "children": [
              "IPY_MODEL_8e99a02acfae424f912b43ff97b1bcce",
              "IPY_MODEL_51208623fe424164a741f1da51da7a7d",
              "IPY_MODEL_2fd1daa083f4447d9d4dc94562022408"
            ],
            "layout": "IPY_MODEL_3ed7d833f4de4ec299c235c515b1907b"
          }
        },
        "8e99a02acfae424f912b43ff97b1bcce": {
          "model_module": "@jupyter-widgets/controls",
          "model_name": "HTMLModel",
          "model_module_version": "1.5.0",
          "state": {
            "_dom_classes": [],
            "_model_module": "@jupyter-widgets/controls",
            "_model_module_version": "1.5.0",
            "_model_name": "HTMLModel",
            "_view_count": null,
            "_view_module": "@jupyter-widgets/controls",
            "_view_module_version": "1.5.0",
            "_view_name": "HTMLView",
            "description": "",
            "description_tooltip": null,
            "layout": "IPY_MODEL_0a35f88dca3d4515bbbe94a69a785882",
            "placeholder": "​",
            "style": "IPY_MODEL_0b36ed7993e54557864e6fac65e1df26",
            "value": "Downloading (…)ve/main/spiece.model: 100%"
          }
        },
        "51208623fe424164a741f1da51da7a7d": {
          "model_module": "@jupyter-widgets/controls",
          "model_name": "FloatProgressModel",
          "model_module_version": "1.5.0",
          "state": {
            "_dom_classes": [],
            "_model_module": "@jupyter-widgets/controls",
            "_model_module_version": "1.5.0",
            "_model_name": "FloatProgressModel",
            "_view_count": null,
            "_view_module": "@jupyter-widgets/controls",
            "_view_module_version": "1.5.0",
            "_view_name": "ProgressView",
            "bar_style": "success",
            "description": "",
            "description_tooltip": null,
            "layout": "IPY_MODEL_755a60e31a194602a95a0cd155384309",
            "max": 791656,
            "min": 0,
            "orientation": "horizontal",
            "style": "IPY_MODEL_ff2307f3efd541aa8ad7a80d6b7772d2",
            "value": 791656
          }
        },
        "2fd1daa083f4447d9d4dc94562022408": {
          "model_module": "@jupyter-widgets/controls",
          "model_name": "HTMLModel",
          "model_module_version": "1.5.0",
          "state": {
            "_dom_classes": [],
            "_model_module": "@jupyter-widgets/controls",
            "_model_module_version": "1.5.0",
            "_model_name": "HTMLModel",
            "_view_count": null,
            "_view_module": "@jupyter-widgets/controls",
            "_view_module_version": "1.5.0",
            "_view_name": "HTMLView",
            "description": "",
            "description_tooltip": null,
            "layout": "IPY_MODEL_aa2cf174176d4785945c950e3c0b9579",
            "placeholder": "​",
            "style": "IPY_MODEL_176f1070fab6452e92eb19fc7a4648e7",
            "value": " 792k/792k [00:00&lt;00:00, 6.66MB/s]"
          }
        },
        "3ed7d833f4de4ec299c235c515b1907b": {
          "model_module": "@jupyter-widgets/base",
          "model_name": "LayoutModel",
          "model_module_version": "1.2.0",
          "state": {
            "_model_module": "@jupyter-widgets/base",
            "_model_module_version": "1.2.0",
            "_model_name": "LayoutModel",
            "_view_count": null,
            "_view_module": "@jupyter-widgets/base",
            "_view_module_version": "1.2.0",
            "_view_name": "LayoutView",
            "align_content": null,
            "align_items": null,
            "align_self": null,
            "border": null,
            "bottom": null,
            "display": null,
            "flex": null,
            "flex_flow": null,
            "grid_area": null,
            "grid_auto_columns": null,
            "grid_auto_flow": null,
            "grid_auto_rows": null,
            "grid_column": null,
            "grid_gap": null,
            "grid_row": null,
            "grid_template_areas": null,
            "grid_template_columns": null,
            "grid_template_rows": null,
            "height": null,
            "justify_content": null,
            "justify_items": null,
            "left": null,
            "margin": null,
            "max_height": null,
            "max_width": null,
            "min_height": null,
            "min_width": null,
            "object_fit": null,
            "object_position": null,
            "order": null,
            "overflow": null,
            "overflow_x": null,
            "overflow_y": null,
            "padding": null,
            "right": null,
            "top": null,
            "visibility": null,
            "width": null
          }
        },
        "0a35f88dca3d4515bbbe94a69a785882": {
          "model_module": "@jupyter-widgets/base",
          "model_name": "LayoutModel",
          "model_module_version": "1.2.0",
          "state": {
            "_model_module": "@jupyter-widgets/base",
            "_model_module_version": "1.2.0",
            "_model_name": "LayoutModel",
            "_view_count": null,
            "_view_module": "@jupyter-widgets/base",
            "_view_module_version": "1.2.0",
            "_view_name": "LayoutView",
            "align_content": null,
            "align_items": null,
            "align_self": null,
            "border": null,
            "bottom": null,
            "display": null,
            "flex": null,
            "flex_flow": null,
            "grid_area": null,
            "grid_auto_columns": null,
            "grid_auto_flow": null,
            "grid_auto_rows": null,
            "grid_column": null,
            "grid_gap": null,
            "grid_row": null,
            "grid_template_areas": null,
            "grid_template_columns": null,
            "grid_template_rows": null,
            "height": null,
            "justify_content": null,
            "justify_items": null,
            "left": null,
            "margin": null,
            "max_height": null,
            "max_width": null,
            "min_height": null,
            "min_width": null,
            "object_fit": null,
            "object_position": null,
            "order": null,
            "overflow": null,
            "overflow_x": null,
            "overflow_y": null,
            "padding": null,
            "right": null,
            "top": null,
            "visibility": null,
            "width": null
          }
        },
        "0b36ed7993e54557864e6fac65e1df26": {
          "model_module": "@jupyter-widgets/controls",
          "model_name": "DescriptionStyleModel",
          "model_module_version": "1.5.0",
          "state": {
            "_model_module": "@jupyter-widgets/controls",
            "_model_module_version": "1.5.0",
            "_model_name": "DescriptionStyleModel",
            "_view_count": null,
            "_view_module": "@jupyter-widgets/base",
            "_view_module_version": "1.2.0",
            "_view_name": "StyleView",
            "description_width": ""
          }
        },
        "755a60e31a194602a95a0cd155384309": {
          "model_module": "@jupyter-widgets/base",
          "model_name": "LayoutModel",
          "model_module_version": "1.2.0",
          "state": {
            "_model_module": "@jupyter-widgets/base",
            "_model_module_version": "1.2.0",
            "_model_name": "LayoutModel",
            "_view_count": null,
            "_view_module": "@jupyter-widgets/base",
            "_view_module_version": "1.2.0",
            "_view_name": "LayoutView",
            "align_content": null,
            "align_items": null,
            "align_self": null,
            "border": null,
            "bottom": null,
            "display": null,
            "flex": null,
            "flex_flow": null,
            "grid_area": null,
            "grid_auto_columns": null,
            "grid_auto_flow": null,
            "grid_auto_rows": null,
            "grid_column": null,
            "grid_gap": null,
            "grid_row": null,
            "grid_template_areas": null,
            "grid_template_columns": null,
            "grid_template_rows": null,
            "height": null,
            "justify_content": null,
            "justify_items": null,
            "left": null,
            "margin": null,
            "max_height": null,
            "max_width": null,
            "min_height": null,
            "min_width": null,
            "object_fit": null,
            "object_position": null,
            "order": null,
            "overflow": null,
            "overflow_x": null,
            "overflow_y": null,
            "padding": null,
            "right": null,
            "top": null,
            "visibility": null,
            "width": null
          }
        },
        "ff2307f3efd541aa8ad7a80d6b7772d2": {
          "model_module": "@jupyter-widgets/controls",
          "model_name": "ProgressStyleModel",
          "model_module_version": "1.5.0",
          "state": {
            "_model_module": "@jupyter-widgets/controls",
            "_model_module_version": "1.5.0",
            "_model_name": "ProgressStyleModel",
            "_view_count": null,
            "_view_module": "@jupyter-widgets/base",
            "_view_module_version": "1.2.0",
            "_view_name": "StyleView",
            "bar_color": null,
            "description_width": ""
          }
        },
        "aa2cf174176d4785945c950e3c0b9579": {
          "model_module": "@jupyter-widgets/base",
          "model_name": "LayoutModel",
          "model_module_version": "1.2.0",
          "state": {
            "_model_module": "@jupyter-widgets/base",
            "_model_module_version": "1.2.0",
            "_model_name": "LayoutModel",
            "_view_count": null,
            "_view_module": "@jupyter-widgets/base",
            "_view_module_version": "1.2.0",
            "_view_name": "LayoutView",
            "align_content": null,
            "align_items": null,
            "align_self": null,
            "border": null,
            "bottom": null,
            "display": null,
            "flex": null,
            "flex_flow": null,
            "grid_area": null,
            "grid_auto_columns": null,
            "grid_auto_flow": null,
            "grid_auto_rows": null,
            "grid_column": null,
            "grid_gap": null,
            "grid_row": null,
            "grid_template_areas": null,
            "grid_template_columns": null,
            "grid_template_rows": null,
            "height": null,
            "justify_content": null,
            "justify_items": null,
            "left": null,
            "margin": null,
            "max_height": null,
            "max_width": null,
            "min_height": null,
            "min_width": null,
            "object_fit": null,
            "object_position": null,
            "order": null,
            "overflow": null,
            "overflow_x": null,
            "overflow_y": null,
            "padding": null,
            "right": null,
            "top": null,
            "visibility": null,
            "width": null
          }
        },
        "176f1070fab6452e92eb19fc7a4648e7": {
          "model_module": "@jupyter-widgets/controls",
          "model_name": "DescriptionStyleModel",
          "model_module_version": "1.5.0",
          "state": {
            "_model_module": "@jupyter-widgets/controls",
            "_model_module_version": "1.5.0",
            "_model_name": "DescriptionStyleModel",
            "_view_count": null,
            "_view_module": "@jupyter-widgets/base",
            "_view_module_version": "1.2.0",
            "_view_name": "StyleView",
            "description_width": ""
          }
        },
        "8578c653f7a24a42a5cc727bb726a1e5": {
          "model_module": "@jupyter-widgets/controls",
          "model_name": "HBoxModel",
          "model_module_version": "1.5.0",
          "state": {
            "_dom_classes": [],
            "_model_module": "@jupyter-widgets/controls",
            "_model_module_version": "1.5.0",
            "_model_name": "HBoxModel",
            "_view_count": null,
            "_view_module": "@jupyter-widgets/controls",
            "_view_module_version": "1.5.0",
            "_view_name": "HBoxView",
            "box_style": "",
            "children": [
              "IPY_MODEL_df3200e244a148ef92046ebaf136a1cb",
              "IPY_MODEL_403d6c83aafd4ea98c66e00a52028265",
              "IPY_MODEL_0afa34c2ecca4315a614de89f41ce811"
            ],
            "layout": "IPY_MODEL_48c9da46fa71455d88c795101a90958c"
          }
        },
        "df3200e244a148ef92046ebaf136a1cb": {
          "model_module": "@jupyter-widgets/controls",
          "model_name": "HTMLModel",
          "model_module_version": "1.5.0",
          "state": {
            "_dom_classes": [],
            "_model_module": "@jupyter-widgets/controls",
            "_model_module_version": "1.5.0",
            "_model_name": "HTMLModel",
            "_view_count": null,
            "_view_module": "@jupyter-widgets/controls",
            "_view_module_version": "1.5.0",
            "_view_name": "HTMLView",
            "description": "",
            "description_tooltip": null,
            "layout": "IPY_MODEL_dbfccaa16cd641909d23b6b3f78fe947",
            "placeholder": "​",
            "style": "IPY_MODEL_9815e70505d84ce4896982f0504d963f",
            "value": "Downloading (…)cial_tokens_map.json: 100%"
          }
        },
        "403d6c83aafd4ea98c66e00a52028265": {
          "model_module": "@jupyter-widgets/controls",
          "model_name": "FloatProgressModel",
          "model_module_version": "1.5.0",
          "state": {
            "_dom_classes": [],
            "_model_module": "@jupyter-widgets/controls",
            "_model_module_version": "1.5.0",
            "_model_name": "FloatProgressModel",
            "_view_count": null,
            "_view_module": "@jupyter-widgets/controls",
            "_view_module_version": "1.5.0",
            "_view_name": "ProgressView",
            "bar_style": "success",
            "description": "",
            "description_tooltip": null,
            "layout": "IPY_MODEL_ca7fe2e22d0d4b29bad730d3d9699138",
            "max": 1786,
            "min": 0,
            "orientation": "horizontal",
            "style": "IPY_MODEL_bce66b370bc04f96b1228abd7b7c80b2",
            "value": 1786
          }
        },
        "0afa34c2ecca4315a614de89f41ce811": {
          "model_module": "@jupyter-widgets/controls",
          "model_name": "HTMLModel",
          "model_module_version": "1.5.0",
          "state": {
            "_dom_classes": [],
            "_model_module": "@jupyter-widgets/controls",
            "_model_module_version": "1.5.0",
            "_model_name": "HTMLModel",
            "_view_count": null,
            "_view_module": "@jupyter-widgets/controls",
            "_view_module_version": "1.5.0",
            "_view_name": "HTMLView",
            "description": "",
            "description_tooltip": null,
            "layout": "IPY_MODEL_fe5c40bcdcac479bbe5442de9a434bbf",
            "placeholder": "​",
            "style": "IPY_MODEL_a75f0825d973427f979fe3148f3766e1",
            "value": " 1.79k/1.79k [00:00&lt;00:00, 51.7kB/s]"
          }
        },
        "48c9da46fa71455d88c795101a90958c": {
          "model_module": "@jupyter-widgets/base",
          "model_name": "LayoutModel",
          "model_module_version": "1.2.0",
          "state": {
            "_model_module": "@jupyter-widgets/base",
            "_model_module_version": "1.2.0",
            "_model_name": "LayoutModel",
            "_view_count": null,
            "_view_module": "@jupyter-widgets/base",
            "_view_module_version": "1.2.0",
            "_view_name": "LayoutView",
            "align_content": null,
            "align_items": null,
            "align_self": null,
            "border": null,
            "bottom": null,
            "display": null,
            "flex": null,
            "flex_flow": null,
            "grid_area": null,
            "grid_auto_columns": null,
            "grid_auto_flow": null,
            "grid_auto_rows": null,
            "grid_column": null,
            "grid_gap": null,
            "grid_row": null,
            "grid_template_areas": null,
            "grid_template_columns": null,
            "grid_template_rows": null,
            "height": null,
            "justify_content": null,
            "justify_items": null,
            "left": null,
            "margin": null,
            "max_height": null,
            "max_width": null,
            "min_height": null,
            "min_width": null,
            "object_fit": null,
            "object_position": null,
            "order": null,
            "overflow": null,
            "overflow_x": null,
            "overflow_y": null,
            "padding": null,
            "right": null,
            "top": null,
            "visibility": null,
            "width": null
          }
        },
        "dbfccaa16cd641909d23b6b3f78fe947": {
          "model_module": "@jupyter-widgets/base",
          "model_name": "LayoutModel",
          "model_module_version": "1.2.0",
          "state": {
            "_model_module": "@jupyter-widgets/base",
            "_model_module_version": "1.2.0",
            "_model_name": "LayoutModel",
            "_view_count": null,
            "_view_module": "@jupyter-widgets/base",
            "_view_module_version": "1.2.0",
            "_view_name": "LayoutView",
            "align_content": null,
            "align_items": null,
            "align_self": null,
            "border": null,
            "bottom": null,
            "display": null,
            "flex": null,
            "flex_flow": null,
            "grid_area": null,
            "grid_auto_columns": null,
            "grid_auto_flow": null,
            "grid_auto_rows": null,
            "grid_column": null,
            "grid_gap": null,
            "grid_row": null,
            "grid_template_areas": null,
            "grid_template_columns": null,
            "grid_template_rows": null,
            "height": null,
            "justify_content": null,
            "justify_items": null,
            "left": null,
            "margin": null,
            "max_height": null,
            "max_width": null,
            "min_height": null,
            "min_width": null,
            "object_fit": null,
            "object_position": null,
            "order": null,
            "overflow": null,
            "overflow_x": null,
            "overflow_y": null,
            "padding": null,
            "right": null,
            "top": null,
            "visibility": null,
            "width": null
          }
        },
        "9815e70505d84ce4896982f0504d963f": {
          "model_module": "@jupyter-widgets/controls",
          "model_name": "DescriptionStyleModel",
          "model_module_version": "1.5.0",
          "state": {
            "_model_module": "@jupyter-widgets/controls",
            "_model_module_version": "1.5.0",
            "_model_name": "DescriptionStyleModel",
            "_view_count": null,
            "_view_module": "@jupyter-widgets/base",
            "_view_module_version": "1.2.0",
            "_view_name": "StyleView",
            "description_width": ""
          }
        },
        "ca7fe2e22d0d4b29bad730d3d9699138": {
          "model_module": "@jupyter-widgets/base",
          "model_name": "LayoutModel",
          "model_module_version": "1.2.0",
          "state": {
            "_model_module": "@jupyter-widgets/base",
            "_model_module_version": "1.2.0",
            "_model_name": "LayoutModel",
            "_view_count": null,
            "_view_module": "@jupyter-widgets/base",
            "_view_module_version": "1.2.0",
            "_view_name": "LayoutView",
            "align_content": null,
            "align_items": null,
            "align_self": null,
            "border": null,
            "bottom": null,
            "display": null,
            "flex": null,
            "flex_flow": null,
            "grid_area": null,
            "grid_auto_columns": null,
            "grid_auto_flow": null,
            "grid_auto_rows": null,
            "grid_column": null,
            "grid_gap": null,
            "grid_row": null,
            "grid_template_areas": null,
            "grid_template_columns": null,
            "grid_template_rows": null,
            "height": null,
            "justify_content": null,
            "justify_items": null,
            "left": null,
            "margin": null,
            "max_height": null,
            "max_width": null,
            "min_height": null,
            "min_width": null,
            "object_fit": null,
            "object_position": null,
            "order": null,
            "overflow": null,
            "overflow_x": null,
            "overflow_y": null,
            "padding": null,
            "right": null,
            "top": null,
            "visibility": null,
            "width": null
          }
        },
        "bce66b370bc04f96b1228abd7b7c80b2": {
          "model_module": "@jupyter-widgets/controls",
          "model_name": "ProgressStyleModel",
          "model_module_version": "1.5.0",
          "state": {
            "_model_module": "@jupyter-widgets/controls",
            "_model_module_version": "1.5.0",
            "_model_name": "ProgressStyleModel",
            "_view_count": null,
            "_view_module": "@jupyter-widgets/base",
            "_view_module_version": "1.2.0",
            "_view_name": "StyleView",
            "bar_color": null,
            "description_width": ""
          }
        },
        "fe5c40bcdcac479bbe5442de9a434bbf": {
          "model_module": "@jupyter-widgets/base",
          "model_name": "LayoutModel",
          "model_module_version": "1.2.0",
          "state": {
            "_model_module": "@jupyter-widgets/base",
            "_model_module_version": "1.2.0",
            "_model_name": "LayoutModel",
            "_view_count": null,
            "_view_module": "@jupyter-widgets/base",
            "_view_module_version": "1.2.0",
            "_view_name": "LayoutView",
            "align_content": null,
            "align_items": null,
            "align_self": null,
            "border": null,
            "bottom": null,
            "display": null,
            "flex": null,
            "flex_flow": null,
            "grid_area": null,
            "grid_auto_columns": null,
            "grid_auto_flow": null,
            "grid_auto_rows": null,
            "grid_column": null,
            "grid_gap": null,
            "grid_row": null,
            "grid_template_areas": null,
            "grid_template_columns": null,
            "grid_template_rows": null,
            "height": null,
            "justify_content": null,
            "justify_items": null,
            "left": null,
            "margin": null,
            "max_height": null,
            "max_width": null,
            "min_height": null,
            "min_width": null,
            "object_fit": null,
            "object_position": null,
            "order": null,
            "overflow": null,
            "overflow_x": null,
            "overflow_y": null,
            "padding": null,
            "right": null,
            "top": null,
            "visibility": null,
            "width": null
          }
        },
        "a75f0825d973427f979fe3148f3766e1": {
          "model_module": "@jupyter-widgets/controls",
          "model_name": "DescriptionStyleModel",
          "model_module_version": "1.5.0",
          "state": {
            "_model_module": "@jupyter-widgets/controls",
            "_model_module_version": "1.5.0",
            "_model_name": "DescriptionStyleModel",
            "_view_count": null,
            "_view_module": "@jupyter-widgets/base",
            "_view_module_version": "1.2.0",
            "_view_name": "StyleView",
            "description_width": ""
          }
        },
        "d98f2f4900a445efb638bd119f982f9f": {
          "model_module": "@jupyter-widgets/controls",
          "model_name": "HBoxModel",
          "model_module_version": "1.5.0",
          "state": {
            "_dom_classes": [],
            "_model_module": "@jupyter-widgets/controls",
            "_model_module_version": "1.5.0",
            "_model_name": "HBoxModel",
            "_view_count": null,
            "_view_module": "@jupyter-widgets/controls",
            "_view_module_version": "1.5.0",
            "_view_name": "HBoxView",
            "box_style": "",
            "children": [
              "IPY_MODEL_7b3c4d84ee43474283dd98233ca5dc72",
              "IPY_MODEL_cce8895f47ca44a4a933f47e590c0b98",
              "IPY_MODEL_2dc5530af2504008a237fecd4dc606cd"
            ],
            "layout": "IPY_MODEL_c1e6761441634caaaffe4b337bd56617"
          }
        },
        "7b3c4d84ee43474283dd98233ca5dc72": {
          "model_module": "@jupyter-widgets/controls",
          "model_name": "HTMLModel",
          "model_module_version": "1.5.0",
          "state": {
            "_dom_classes": [],
            "_model_module": "@jupyter-widgets/controls",
            "_model_module_version": "1.5.0",
            "_model_name": "HTMLModel",
            "_view_count": null,
            "_view_module": "@jupyter-widgets/controls",
            "_view_module_version": "1.5.0",
            "_view_name": "HTMLView",
            "description": "",
            "description_tooltip": null,
            "layout": "IPY_MODEL_d7f810bc052a4f92baa622eeb7eb0c72",
            "placeholder": "​",
            "style": "IPY_MODEL_9edd72b7637a4bf98b231b7614c4fc1d",
            "value": "Downloading pytorch_model.bin: 100%"
          }
        },
        "cce8895f47ca44a4a933f47e590c0b98": {
          "model_module": "@jupyter-widgets/controls",
          "model_name": "FloatProgressModel",
          "model_module_version": "1.5.0",
          "state": {
            "_dom_classes": [],
            "_model_module": "@jupyter-widgets/controls",
            "_model_module_version": "1.5.0",
            "_model_name": "FloatProgressModel",
            "_view_count": null,
            "_view_module": "@jupyter-widgets/controls",
            "_view_module_version": "1.5.0",
            "_view_name": "ProgressView",
            "bar_style": "success",
            "description": "",
            "description_tooltip": null,
            "layout": "IPY_MODEL_bd6d93071de9439b9d184d96d357827b",
            "max": 242089239,
            "min": 0,
            "orientation": "horizontal",
            "style": "IPY_MODEL_0ce8bddb01264caf94d186b931a22d34",
            "value": 242089239
          }
        },
        "2dc5530af2504008a237fecd4dc606cd": {
          "model_module": "@jupyter-widgets/controls",
          "model_name": "HTMLModel",
          "model_module_version": "1.5.0",
          "state": {
            "_dom_classes": [],
            "_model_module": "@jupyter-widgets/controls",
            "_model_module_version": "1.5.0",
            "_model_name": "HTMLModel",
            "_view_count": null,
            "_view_module": "@jupyter-widgets/controls",
            "_view_module_version": "1.5.0",
            "_view_name": "HTMLView",
            "description": "",
            "description_tooltip": null,
            "layout": "IPY_MODEL_702cff3fa5c44c2dbca1acab4c67946f",
            "placeholder": "​",
            "style": "IPY_MODEL_11d1b4424f264f078955e24e3aa6196b",
            "value": " 242M/242M [00:01&lt;00:00, 235MB/s]"
          }
        },
        "c1e6761441634caaaffe4b337bd56617": {
          "model_module": "@jupyter-widgets/base",
          "model_name": "LayoutModel",
          "model_module_version": "1.2.0",
          "state": {
            "_model_module": "@jupyter-widgets/base",
            "_model_module_version": "1.2.0",
            "_model_name": "LayoutModel",
            "_view_count": null,
            "_view_module": "@jupyter-widgets/base",
            "_view_module_version": "1.2.0",
            "_view_name": "LayoutView",
            "align_content": null,
            "align_items": null,
            "align_self": null,
            "border": null,
            "bottom": null,
            "display": null,
            "flex": null,
            "flex_flow": null,
            "grid_area": null,
            "grid_auto_columns": null,
            "grid_auto_flow": null,
            "grid_auto_rows": null,
            "grid_column": null,
            "grid_gap": null,
            "grid_row": null,
            "grid_template_areas": null,
            "grid_template_columns": null,
            "grid_template_rows": null,
            "height": null,
            "justify_content": null,
            "justify_items": null,
            "left": null,
            "margin": null,
            "max_height": null,
            "max_width": null,
            "min_height": null,
            "min_width": null,
            "object_fit": null,
            "object_position": null,
            "order": null,
            "overflow": null,
            "overflow_x": null,
            "overflow_y": null,
            "padding": null,
            "right": null,
            "top": null,
            "visibility": null,
            "width": null
          }
        },
        "d7f810bc052a4f92baa622eeb7eb0c72": {
          "model_module": "@jupyter-widgets/base",
          "model_name": "LayoutModel",
          "model_module_version": "1.2.0",
          "state": {
            "_model_module": "@jupyter-widgets/base",
            "_model_module_version": "1.2.0",
            "_model_name": "LayoutModel",
            "_view_count": null,
            "_view_module": "@jupyter-widgets/base",
            "_view_module_version": "1.2.0",
            "_view_name": "LayoutView",
            "align_content": null,
            "align_items": null,
            "align_self": null,
            "border": null,
            "bottom": null,
            "display": null,
            "flex": null,
            "flex_flow": null,
            "grid_area": null,
            "grid_auto_columns": null,
            "grid_auto_flow": null,
            "grid_auto_rows": null,
            "grid_column": null,
            "grid_gap": null,
            "grid_row": null,
            "grid_template_areas": null,
            "grid_template_columns": null,
            "grid_template_rows": null,
            "height": null,
            "justify_content": null,
            "justify_items": null,
            "left": null,
            "margin": null,
            "max_height": null,
            "max_width": null,
            "min_height": null,
            "min_width": null,
            "object_fit": null,
            "object_position": null,
            "order": null,
            "overflow": null,
            "overflow_x": null,
            "overflow_y": null,
            "padding": null,
            "right": null,
            "top": null,
            "visibility": null,
            "width": null
          }
        },
        "9edd72b7637a4bf98b231b7614c4fc1d": {
          "model_module": "@jupyter-widgets/controls",
          "model_name": "DescriptionStyleModel",
          "model_module_version": "1.5.0",
          "state": {
            "_model_module": "@jupyter-widgets/controls",
            "_model_module_version": "1.5.0",
            "_model_name": "DescriptionStyleModel",
            "_view_count": null,
            "_view_module": "@jupyter-widgets/base",
            "_view_module_version": "1.2.0",
            "_view_name": "StyleView",
            "description_width": ""
          }
        },
        "bd6d93071de9439b9d184d96d357827b": {
          "model_module": "@jupyter-widgets/base",
          "model_name": "LayoutModel",
          "model_module_version": "1.2.0",
          "state": {
            "_model_module": "@jupyter-widgets/base",
            "_model_module_version": "1.2.0",
            "_model_name": "LayoutModel",
            "_view_count": null,
            "_view_module": "@jupyter-widgets/base",
            "_view_module_version": "1.2.0",
            "_view_name": "LayoutView",
            "align_content": null,
            "align_items": null,
            "align_self": null,
            "border": null,
            "bottom": null,
            "display": null,
            "flex": null,
            "flex_flow": null,
            "grid_area": null,
            "grid_auto_columns": null,
            "grid_auto_flow": null,
            "grid_auto_rows": null,
            "grid_column": null,
            "grid_gap": null,
            "grid_row": null,
            "grid_template_areas": null,
            "grid_template_columns": null,
            "grid_template_rows": null,
            "height": null,
            "justify_content": null,
            "justify_items": null,
            "left": null,
            "margin": null,
            "max_height": null,
            "max_width": null,
            "min_height": null,
            "min_width": null,
            "object_fit": null,
            "object_position": null,
            "order": null,
            "overflow": null,
            "overflow_x": null,
            "overflow_y": null,
            "padding": null,
            "right": null,
            "top": null,
            "visibility": null,
            "width": null
          }
        },
        "0ce8bddb01264caf94d186b931a22d34": {
          "model_module": "@jupyter-widgets/controls",
          "model_name": "ProgressStyleModel",
          "model_module_version": "1.5.0",
          "state": {
            "_model_module": "@jupyter-widgets/controls",
            "_model_module_version": "1.5.0",
            "_model_name": "ProgressStyleModel",
            "_view_count": null,
            "_view_module": "@jupyter-widgets/base",
            "_view_module_version": "1.2.0",
            "_view_name": "StyleView",
            "bar_color": null,
            "description_width": ""
          }
        },
        "702cff3fa5c44c2dbca1acab4c67946f": {
          "model_module": "@jupyter-widgets/base",
          "model_name": "LayoutModel",
          "model_module_version": "1.2.0",
          "state": {
            "_model_module": "@jupyter-widgets/base",
            "_model_module_version": "1.2.0",
            "_model_name": "LayoutModel",
            "_view_count": null,
            "_view_module": "@jupyter-widgets/base",
            "_view_module_version": "1.2.0",
            "_view_name": "LayoutView",
            "align_content": null,
            "align_items": null,
            "align_self": null,
            "border": null,
            "bottom": null,
            "display": null,
            "flex": null,
            "flex_flow": null,
            "grid_area": null,
            "grid_auto_columns": null,
            "grid_auto_flow": null,
            "grid_auto_rows": null,
            "grid_column": null,
            "grid_gap": null,
            "grid_row": null,
            "grid_template_areas": null,
            "grid_template_columns": null,
            "grid_template_rows": null,
            "height": null,
            "justify_content": null,
            "justify_items": null,
            "left": null,
            "margin": null,
            "max_height": null,
            "max_width": null,
            "min_height": null,
            "min_width": null,
            "object_fit": null,
            "object_position": null,
            "order": null,
            "overflow": null,
            "overflow_x": null,
            "overflow_y": null,
            "padding": null,
            "right": null,
            "top": null,
            "visibility": null,
            "width": null
          }
        },
        "11d1b4424f264f078955e24e3aa6196b": {
          "model_module": "@jupyter-widgets/controls",
          "model_name": "DescriptionStyleModel",
          "model_module_version": "1.5.0",
          "state": {
            "_model_module": "@jupyter-widgets/controls",
            "_model_module_version": "1.5.0",
            "_model_name": "DescriptionStyleModel",
            "_view_count": null,
            "_view_module": "@jupyter-widgets/base",
            "_view_module_version": "1.2.0",
            "_view_name": "StyleView",
            "description_width": ""
          }
        },
        "0387d1b6445b46179298b52662ce3c29": {
          "model_module": "@jupyter-widgets/controls",
          "model_name": "HBoxModel",
          "model_module_version": "1.5.0",
          "state": {
            "_dom_classes": [],
            "_model_module": "@jupyter-widgets/controls",
            "_model_module_version": "1.5.0",
            "_model_name": "HBoxModel",
            "_view_count": null,
            "_view_module": "@jupyter-widgets/controls",
            "_view_module_version": "1.5.0",
            "_view_name": "HBoxView",
            "box_style": "",
            "children": [
              "IPY_MODEL_a14c2e48caf34f1ebadd27342c363ebc",
              "IPY_MODEL_a45f97cf72e542918d310f02c8bd1916",
              "IPY_MODEL_9b4d5bcb64c2475eb18ed8b7579a7b22"
            ],
            "layout": "IPY_MODEL_a4e26725d8f5409ca577462f83ff24c5"
          }
        },
        "a14c2e48caf34f1ebadd27342c363ebc": {
          "model_module": "@jupyter-widgets/controls",
          "model_name": "HTMLModel",
          "model_module_version": "1.5.0",
          "state": {
            "_dom_classes": [],
            "_model_module": "@jupyter-widgets/controls",
            "_model_module_version": "1.5.0",
            "_model_name": "HTMLModel",
            "_view_count": null,
            "_view_module": "@jupyter-widgets/controls",
            "_view_module_version": "1.5.0",
            "_view_name": "HTMLView",
            "description": "",
            "description_tooltip": null,
            "layout": "IPY_MODEL_20aa62cb79494a89a76d757f4bb934be",
            "placeholder": "​",
            "style": "IPY_MODEL_c9fcf81814d2462b9df6b7078412e7fb",
            "value": "Downloading (…)neration_config.json: 100%"
          }
        },
        "a45f97cf72e542918d310f02c8bd1916": {
          "model_module": "@jupyter-widgets/controls",
          "model_name": "FloatProgressModel",
          "model_module_version": "1.5.0",
          "state": {
            "_dom_classes": [],
            "_model_module": "@jupyter-widgets/controls",
            "_model_module_version": "1.5.0",
            "_model_name": "FloatProgressModel",
            "_view_count": null,
            "_view_module": "@jupyter-widgets/controls",
            "_view_module_version": "1.5.0",
            "_view_name": "ProgressView",
            "bar_style": "success",
            "description": "",
            "description_tooltip": null,
            "layout": "IPY_MODEL_c1277a3879044a26b521ba937bc6f3a3",
            "max": 147,
            "min": 0,
            "orientation": "horizontal",
            "style": "IPY_MODEL_454f7c13aa0643bab7c13af22ffc2935",
            "value": 147
          }
        },
        "9b4d5bcb64c2475eb18ed8b7579a7b22": {
          "model_module": "@jupyter-widgets/controls",
          "model_name": "HTMLModel",
          "model_module_version": "1.5.0",
          "state": {
            "_dom_classes": [],
            "_model_module": "@jupyter-widgets/controls",
            "_model_module_version": "1.5.0",
            "_model_name": "HTMLModel",
            "_view_count": null,
            "_view_module": "@jupyter-widgets/controls",
            "_view_module_version": "1.5.0",
            "_view_name": "HTMLView",
            "description": "",
            "description_tooltip": null,
            "layout": "IPY_MODEL_99415a1c5e8d4726bceca96f3de72201",
            "placeholder": "​",
            "style": "IPY_MODEL_f49c7e4197e842fc8bd923d274f3d416",
            "value": " 147/147 [00:00&lt;00:00, 4.23kB/s]"
          }
        },
        "a4e26725d8f5409ca577462f83ff24c5": {
          "model_module": "@jupyter-widgets/base",
          "model_name": "LayoutModel",
          "model_module_version": "1.2.0",
          "state": {
            "_model_module": "@jupyter-widgets/base",
            "_model_module_version": "1.2.0",
            "_model_name": "LayoutModel",
            "_view_count": null,
            "_view_module": "@jupyter-widgets/base",
            "_view_module_version": "1.2.0",
            "_view_name": "LayoutView",
            "align_content": null,
            "align_items": null,
            "align_self": null,
            "border": null,
            "bottom": null,
            "display": null,
            "flex": null,
            "flex_flow": null,
            "grid_area": null,
            "grid_auto_columns": null,
            "grid_auto_flow": null,
            "grid_auto_rows": null,
            "grid_column": null,
            "grid_gap": null,
            "grid_row": null,
            "grid_template_areas": null,
            "grid_template_columns": null,
            "grid_template_rows": null,
            "height": null,
            "justify_content": null,
            "justify_items": null,
            "left": null,
            "margin": null,
            "max_height": null,
            "max_width": null,
            "min_height": null,
            "min_width": null,
            "object_fit": null,
            "object_position": null,
            "order": null,
            "overflow": null,
            "overflow_x": null,
            "overflow_y": null,
            "padding": null,
            "right": null,
            "top": null,
            "visibility": null,
            "width": null
          }
        },
        "20aa62cb79494a89a76d757f4bb934be": {
          "model_module": "@jupyter-widgets/base",
          "model_name": "LayoutModel",
          "model_module_version": "1.2.0",
          "state": {
            "_model_module": "@jupyter-widgets/base",
            "_model_module_version": "1.2.0",
            "_model_name": "LayoutModel",
            "_view_count": null,
            "_view_module": "@jupyter-widgets/base",
            "_view_module_version": "1.2.0",
            "_view_name": "LayoutView",
            "align_content": null,
            "align_items": null,
            "align_self": null,
            "border": null,
            "bottom": null,
            "display": null,
            "flex": null,
            "flex_flow": null,
            "grid_area": null,
            "grid_auto_columns": null,
            "grid_auto_flow": null,
            "grid_auto_rows": null,
            "grid_column": null,
            "grid_gap": null,
            "grid_row": null,
            "grid_template_areas": null,
            "grid_template_columns": null,
            "grid_template_rows": null,
            "height": null,
            "justify_content": null,
            "justify_items": null,
            "left": null,
            "margin": null,
            "max_height": null,
            "max_width": null,
            "min_height": null,
            "min_width": null,
            "object_fit": null,
            "object_position": null,
            "order": null,
            "overflow": null,
            "overflow_x": null,
            "overflow_y": null,
            "padding": null,
            "right": null,
            "top": null,
            "visibility": null,
            "width": null
          }
        },
        "c9fcf81814d2462b9df6b7078412e7fb": {
          "model_module": "@jupyter-widgets/controls",
          "model_name": "DescriptionStyleModel",
          "model_module_version": "1.5.0",
          "state": {
            "_model_module": "@jupyter-widgets/controls",
            "_model_module_version": "1.5.0",
            "_model_name": "DescriptionStyleModel",
            "_view_count": null,
            "_view_module": "@jupyter-widgets/base",
            "_view_module_version": "1.2.0",
            "_view_name": "StyleView",
            "description_width": ""
          }
        },
        "c1277a3879044a26b521ba937bc6f3a3": {
          "model_module": "@jupyter-widgets/base",
          "model_name": "LayoutModel",
          "model_module_version": "1.2.0",
          "state": {
            "_model_module": "@jupyter-widgets/base",
            "_model_module_version": "1.2.0",
            "_model_name": "LayoutModel",
            "_view_count": null,
            "_view_module": "@jupyter-widgets/base",
            "_view_module_version": "1.2.0",
            "_view_name": "LayoutView",
            "align_content": null,
            "align_items": null,
            "align_self": null,
            "border": null,
            "bottom": null,
            "display": null,
            "flex": null,
            "flex_flow": null,
            "grid_area": null,
            "grid_auto_columns": null,
            "grid_auto_flow": null,
            "grid_auto_rows": null,
            "grid_column": null,
            "grid_gap": null,
            "grid_row": null,
            "grid_template_areas": null,
            "grid_template_columns": null,
            "grid_template_rows": null,
            "height": null,
            "justify_content": null,
            "justify_items": null,
            "left": null,
            "margin": null,
            "max_height": null,
            "max_width": null,
            "min_height": null,
            "min_width": null,
            "object_fit": null,
            "object_position": null,
            "order": null,
            "overflow": null,
            "overflow_x": null,
            "overflow_y": null,
            "padding": null,
            "right": null,
            "top": null,
            "visibility": null,
            "width": null
          }
        },
        "454f7c13aa0643bab7c13af22ffc2935": {
          "model_module": "@jupyter-widgets/controls",
          "model_name": "ProgressStyleModel",
          "model_module_version": "1.5.0",
          "state": {
            "_model_module": "@jupyter-widgets/controls",
            "_model_module_version": "1.5.0",
            "_model_name": "ProgressStyleModel",
            "_view_count": null,
            "_view_module": "@jupyter-widgets/base",
            "_view_module_version": "1.2.0",
            "_view_name": "StyleView",
            "bar_color": null,
            "description_width": ""
          }
        },
        "99415a1c5e8d4726bceca96f3de72201": {
          "model_module": "@jupyter-widgets/base",
          "model_name": "LayoutModel",
          "model_module_version": "1.2.0",
          "state": {
            "_model_module": "@jupyter-widgets/base",
            "_model_module_version": "1.2.0",
            "_model_name": "LayoutModel",
            "_view_count": null,
            "_view_module": "@jupyter-widgets/base",
            "_view_module_version": "1.2.0",
            "_view_name": "LayoutView",
            "align_content": null,
            "align_items": null,
            "align_self": null,
            "border": null,
            "bottom": null,
            "display": null,
            "flex": null,
            "flex_flow": null,
            "grid_area": null,
            "grid_auto_columns": null,
            "grid_auto_flow": null,
            "grid_auto_rows": null,
            "grid_column": null,
            "grid_gap": null,
            "grid_row": null,
            "grid_template_areas": null,
            "grid_template_columns": null,
            "grid_template_rows": null,
            "height": null,
            "justify_content": null,
            "justify_items": null,
            "left": null,
            "margin": null,
            "max_height": null,
            "max_width": null,
            "min_height": null,
            "min_width": null,
            "object_fit": null,
            "object_position": null,
            "order": null,
            "overflow": null,
            "overflow_x": null,
            "overflow_y": null,
            "padding": null,
            "right": null,
            "top": null,
            "visibility": null,
            "width": null
          }
        },
        "f49c7e4197e842fc8bd923d274f3d416": {
          "model_module": "@jupyter-widgets/controls",
          "model_name": "DescriptionStyleModel",
          "model_module_version": "1.5.0",
          "state": {
            "_model_module": "@jupyter-widgets/controls",
            "_model_module_version": "1.5.0",
            "_model_name": "DescriptionStyleModel",
            "_view_count": null,
            "_view_module": "@jupyter-widgets/base",
            "_view_module_version": "1.2.0",
            "_view_name": "StyleView",
            "description_width": ""
          }
        },
        "1cb46a220c70479fbb3900f030aba1da": {
          "model_module": "@jupyter-widgets/controls",
          "model_name": "HBoxModel",
          "model_module_version": "1.5.0",
          "state": {
            "_dom_classes": [],
            "_model_module": "@jupyter-widgets/controls",
            "_model_module_version": "1.5.0",
            "_model_name": "HBoxModel",
            "_view_count": null,
            "_view_module": "@jupyter-widgets/controls",
            "_view_module_version": "1.5.0",
            "_view_name": "HBoxView",
            "box_style": "",
            "children": [
              "IPY_MODEL_f7c572ee0a5f407f8142cffb428d9982",
              "IPY_MODEL_71d8ad6c400649f4b5be0fc9d59455a7",
              "IPY_MODEL_2a8451ccab234580821714dcffa85b69"
            ],
            "layout": "IPY_MODEL_674a026573b94e8cb8b601bce1655da2"
          }
        },
        "f7c572ee0a5f407f8142cffb428d9982": {
          "model_module": "@jupyter-widgets/controls",
          "model_name": "HTMLModel",
          "model_module_version": "1.5.0",
          "state": {
            "_dom_classes": [],
            "_model_module": "@jupyter-widgets/controls",
            "_model_module_version": "1.5.0",
            "_model_name": "HTMLModel",
            "_view_count": null,
            "_view_module": "@jupyter-widgets/controls",
            "_view_module_version": "1.5.0",
            "_view_name": "HTMLView",
            "description": "",
            "description_tooltip": null,
            "layout": "IPY_MODEL_a52a7876646f4c22b84147a69feb81a0",
            "placeholder": "​",
            "style": "IPY_MODEL_024353dafc7e4432a85b1b4488060156",
            "value": "Downloading (…)okenizer_config.json: 100%"
          }
        },
        "71d8ad6c400649f4b5be0fc9d59455a7": {
          "model_module": "@jupyter-widgets/controls",
          "model_name": "FloatProgressModel",
          "model_module_version": "1.5.0",
          "state": {
            "_dom_classes": [],
            "_model_module": "@jupyter-widgets/controls",
            "_model_module_version": "1.5.0",
            "_model_name": "FloatProgressModel",
            "_view_count": null,
            "_view_module": "@jupyter-widgets/controls",
            "_view_module_version": "1.5.0",
            "_view_name": "ProgressView",
            "bar_style": "success",
            "description": "",
            "description_tooltip": null,
            "layout": "IPY_MODEL_7ef29830788a441bb2bc7f8a40cf6832",
            "max": 90,
            "min": 0,
            "orientation": "horizontal",
            "style": "IPY_MODEL_d0cdf676c1654e2cbc3467b256433a50",
            "value": 90
          }
        },
        "2a8451ccab234580821714dcffa85b69": {
          "model_module": "@jupyter-widgets/controls",
          "model_name": "HTMLModel",
          "model_module_version": "1.5.0",
          "state": {
            "_dom_classes": [],
            "_model_module": "@jupyter-widgets/controls",
            "_model_module_version": "1.5.0",
            "_model_name": "HTMLModel",
            "_view_count": null,
            "_view_module": "@jupyter-widgets/controls",
            "_view_module_version": "1.5.0",
            "_view_name": "HTMLView",
            "description": "",
            "description_tooltip": null,
            "layout": "IPY_MODEL_3772783fa6d34a5c9f496448debfc080",
            "placeholder": "​",
            "style": "IPY_MODEL_ea996434fcc84eb8a2876583fd61b86a",
            "value": " 90.0/90.0 [00:00&lt;00:00, 3.19kB/s]"
          }
        },
        "674a026573b94e8cb8b601bce1655da2": {
          "model_module": "@jupyter-widgets/base",
          "model_name": "LayoutModel",
          "model_module_version": "1.2.0",
          "state": {
            "_model_module": "@jupyter-widgets/base",
            "_model_module_version": "1.2.0",
            "_model_name": "LayoutModel",
            "_view_count": null,
            "_view_module": "@jupyter-widgets/base",
            "_view_module_version": "1.2.0",
            "_view_name": "LayoutView",
            "align_content": null,
            "align_items": null,
            "align_self": null,
            "border": null,
            "bottom": null,
            "display": null,
            "flex": null,
            "flex_flow": null,
            "grid_area": null,
            "grid_auto_columns": null,
            "grid_auto_flow": null,
            "grid_auto_rows": null,
            "grid_column": null,
            "grid_gap": null,
            "grid_row": null,
            "grid_template_areas": null,
            "grid_template_columns": null,
            "grid_template_rows": null,
            "height": null,
            "justify_content": null,
            "justify_items": null,
            "left": null,
            "margin": null,
            "max_height": null,
            "max_width": null,
            "min_height": null,
            "min_width": null,
            "object_fit": null,
            "object_position": null,
            "order": null,
            "overflow": null,
            "overflow_x": null,
            "overflow_y": null,
            "padding": null,
            "right": null,
            "top": null,
            "visibility": null,
            "width": null
          }
        },
        "a52a7876646f4c22b84147a69feb81a0": {
          "model_module": "@jupyter-widgets/base",
          "model_name": "LayoutModel",
          "model_module_version": "1.2.0",
          "state": {
            "_model_module": "@jupyter-widgets/base",
            "_model_module_version": "1.2.0",
            "_model_name": "LayoutModel",
            "_view_count": null,
            "_view_module": "@jupyter-widgets/base",
            "_view_module_version": "1.2.0",
            "_view_name": "LayoutView",
            "align_content": null,
            "align_items": null,
            "align_self": null,
            "border": null,
            "bottom": null,
            "display": null,
            "flex": null,
            "flex_flow": null,
            "grid_area": null,
            "grid_auto_columns": null,
            "grid_auto_flow": null,
            "grid_auto_rows": null,
            "grid_column": null,
            "grid_gap": null,
            "grid_row": null,
            "grid_template_areas": null,
            "grid_template_columns": null,
            "grid_template_rows": null,
            "height": null,
            "justify_content": null,
            "justify_items": null,
            "left": null,
            "margin": null,
            "max_height": null,
            "max_width": null,
            "min_height": null,
            "min_width": null,
            "object_fit": null,
            "object_position": null,
            "order": null,
            "overflow": null,
            "overflow_x": null,
            "overflow_y": null,
            "padding": null,
            "right": null,
            "top": null,
            "visibility": null,
            "width": null
          }
        },
        "024353dafc7e4432a85b1b4488060156": {
          "model_module": "@jupyter-widgets/controls",
          "model_name": "DescriptionStyleModel",
          "model_module_version": "1.5.0",
          "state": {
            "_model_module": "@jupyter-widgets/controls",
            "_model_module_version": "1.5.0",
            "_model_name": "DescriptionStyleModel",
            "_view_count": null,
            "_view_module": "@jupyter-widgets/base",
            "_view_module_version": "1.2.0",
            "_view_name": "StyleView",
            "description_width": ""
          }
        },
        "7ef29830788a441bb2bc7f8a40cf6832": {
          "model_module": "@jupyter-widgets/base",
          "model_name": "LayoutModel",
          "model_module_version": "1.2.0",
          "state": {
            "_model_module": "@jupyter-widgets/base",
            "_model_module_version": "1.2.0",
            "_model_name": "LayoutModel",
            "_view_count": null,
            "_view_module": "@jupyter-widgets/base",
            "_view_module_version": "1.2.0",
            "_view_name": "LayoutView",
            "align_content": null,
            "align_items": null,
            "align_self": null,
            "border": null,
            "bottom": null,
            "display": null,
            "flex": null,
            "flex_flow": null,
            "grid_area": null,
            "grid_auto_columns": null,
            "grid_auto_flow": null,
            "grid_auto_rows": null,
            "grid_column": null,
            "grid_gap": null,
            "grid_row": null,
            "grid_template_areas": null,
            "grid_template_columns": null,
            "grid_template_rows": null,
            "height": null,
            "justify_content": null,
            "justify_items": null,
            "left": null,
            "margin": null,
            "max_height": null,
            "max_width": null,
            "min_height": null,
            "min_width": null,
            "object_fit": null,
            "object_position": null,
            "order": null,
            "overflow": null,
            "overflow_x": null,
            "overflow_y": null,
            "padding": null,
            "right": null,
            "top": null,
            "visibility": null,
            "width": null
          }
        },
        "d0cdf676c1654e2cbc3467b256433a50": {
          "model_module": "@jupyter-widgets/controls",
          "model_name": "ProgressStyleModel",
          "model_module_version": "1.5.0",
          "state": {
            "_model_module": "@jupyter-widgets/controls",
            "_model_module_version": "1.5.0",
            "_model_name": "ProgressStyleModel",
            "_view_count": null,
            "_view_module": "@jupyter-widgets/base",
            "_view_module_version": "1.2.0",
            "_view_name": "StyleView",
            "bar_color": null,
            "description_width": ""
          }
        },
        "3772783fa6d34a5c9f496448debfc080": {
          "model_module": "@jupyter-widgets/base",
          "model_name": "LayoutModel",
          "model_module_version": "1.2.0",
          "state": {
            "_model_module": "@jupyter-widgets/base",
            "_model_module_version": "1.2.0",
            "_model_name": "LayoutModel",
            "_view_count": null,
            "_view_module": "@jupyter-widgets/base",
            "_view_module_version": "1.2.0",
            "_view_name": "LayoutView",
            "align_content": null,
            "align_items": null,
            "align_self": null,
            "border": null,
            "bottom": null,
            "display": null,
            "flex": null,
            "flex_flow": null,
            "grid_area": null,
            "grid_auto_columns": null,
            "grid_auto_flow": null,
            "grid_auto_rows": null,
            "grid_column": null,
            "grid_gap": null,
            "grid_row": null,
            "grid_template_areas": null,
            "grid_template_columns": null,
            "grid_template_rows": null,
            "height": null,
            "justify_content": null,
            "justify_items": null,
            "left": null,
            "margin": null,
            "max_height": null,
            "max_width": null,
            "min_height": null,
            "min_width": null,
            "object_fit": null,
            "object_position": null,
            "order": null,
            "overflow": null,
            "overflow_x": null,
            "overflow_y": null,
            "padding": null,
            "right": null,
            "top": null,
            "visibility": null,
            "width": null
          }
        },
        "ea996434fcc84eb8a2876583fd61b86a": {
          "model_module": "@jupyter-widgets/controls",
          "model_name": "DescriptionStyleModel",
          "model_module_version": "1.5.0",
          "state": {
            "_model_module": "@jupyter-widgets/controls",
            "_model_module_version": "1.5.0",
            "_model_name": "DescriptionStyleModel",
            "_view_count": null,
            "_view_module": "@jupyter-widgets/base",
            "_view_module_version": "1.2.0",
            "_view_name": "StyleView",
            "description_width": ""
          }
        },
        "a9cbc86f3611442fb3e40a5f497b0593": {
          "model_module": "@jupyter-widgets/controls",
          "model_name": "HBoxModel",
          "model_module_version": "1.5.0",
          "state": {
            "_dom_classes": [],
            "_model_module": "@jupyter-widgets/controls",
            "_model_module_version": "1.5.0",
            "_model_name": "HBoxModel",
            "_view_count": null,
            "_view_module": "@jupyter-widgets/controls",
            "_view_module_version": "1.5.0",
            "_view_name": "HBoxView",
            "box_style": "",
            "children": [
              "IPY_MODEL_8a669183e1d84f46bc704c3e66ef35f2",
              "IPY_MODEL_c1fdf2c87e924b76aa37ade995d1ac79",
              "IPY_MODEL_bb4e31833aa544d6aafd2de60bdb6f76"
            ],
            "layout": "IPY_MODEL_8eb2dbfbf6514ee6a72f4f7acc6f03ff"
          }
        },
        "8a669183e1d84f46bc704c3e66ef35f2": {
          "model_module": "@jupyter-widgets/controls",
          "model_name": "HTMLModel",
          "model_module_version": "1.5.0",
          "state": {
            "_dom_classes": [],
            "_model_module": "@jupyter-widgets/controls",
            "_model_module_version": "1.5.0",
            "_model_name": "HTMLModel",
            "_view_count": null,
            "_view_module": "@jupyter-widgets/controls",
            "_view_module_version": "1.5.0",
            "_view_name": "HTMLView",
            "description": "",
            "description_tooltip": null,
            "layout": "IPY_MODEL_b07a3869ca0545c58d723b71cfc90734",
            "placeholder": "​",
            "style": "IPY_MODEL_37b30a0c17cd48d69faa202a4cb8e0e3",
            "value": "Downloading (…)lve/main/config.json: 100%"
          }
        },
        "c1fdf2c87e924b76aa37ade995d1ac79": {
          "model_module": "@jupyter-widgets/controls",
          "model_name": "FloatProgressModel",
          "model_module_version": "1.5.0",
          "state": {
            "_dom_classes": [],
            "_model_module": "@jupyter-widgets/controls",
            "_model_module_version": "1.5.0",
            "_model_name": "FloatProgressModel",
            "_view_count": null,
            "_view_module": "@jupyter-widgets/controls",
            "_view_module_version": "1.5.0",
            "_view_name": "ProgressView",
            "bar_style": "success",
            "description": "",
            "description_tooltip": null,
            "layout": "IPY_MODEL_7f2bbbbf3642413ea005f49c5ff527db",
            "max": 1016,
            "min": 0,
            "orientation": "horizontal",
            "style": "IPY_MODEL_2ae8381438dc493cb263e0687c5e2cfd",
            "value": 1016
          }
        },
        "bb4e31833aa544d6aafd2de60bdb6f76": {
          "model_module": "@jupyter-widgets/controls",
          "model_name": "HTMLModel",
          "model_module_version": "1.5.0",
          "state": {
            "_dom_classes": [],
            "_model_module": "@jupyter-widgets/controls",
            "_model_module_version": "1.5.0",
            "_model_name": "HTMLModel",
            "_view_count": null,
            "_view_module": "@jupyter-widgets/controls",
            "_view_module_version": "1.5.0",
            "_view_name": "HTMLView",
            "description": "",
            "description_tooltip": null,
            "layout": "IPY_MODEL_33ab9f63780041a4a92e586ba9d7155d",
            "placeholder": "​",
            "style": "IPY_MODEL_ba001c9dc88345b788f271b6cc173b87",
            "value": " 1.02k/1.02k [00:00&lt;00:00, 27.5kB/s]"
          }
        },
        "8eb2dbfbf6514ee6a72f4f7acc6f03ff": {
          "model_module": "@jupyter-widgets/base",
          "model_name": "LayoutModel",
          "model_module_version": "1.2.0",
          "state": {
            "_model_module": "@jupyter-widgets/base",
            "_model_module_version": "1.2.0",
            "_model_name": "LayoutModel",
            "_view_count": null,
            "_view_module": "@jupyter-widgets/base",
            "_view_module_version": "1.2.0",
            "_view_name": "LayoutView",
            "align_content": null,
            "align_items": null,
            "align_self": null,
            "border": null,
            "bottom": null,
            "display": null,
            "flex": null,
            "flex_flow": null,
            "grid_area": null,
            "grid_auto_columns": null,
            "grid_auto_flow": null,
            "grid_auto_rows": null,
            "grid_column": null,
            "grid_gap": null,
            "grid_row": null,
            "grid_template_areas": null,
            "grid_template_columns": null,
            "grid_template_rows": null,
            "height": null,
            "justify_content": null,
            "justify_items": null,
            "left": null,
            "margin": null,
            "max_height": null,
            "max_width": null,
            "min_height": null,
            "min_width": null,
            "object_fit": null,
            "object_position": null,
            "order": null,
            "overflow": null,
            "overflow_x": null,
            "overflow_y": null,
            "padding": null,
            "right": null,
            "top": null,
            "visibility": null,
            "width": null
          }
        },
        "b07a3869ca0545c58d723b71cfc90734": {
          "model_module": "@jupyter-widgets/base",
          "model_name": "LayoutModel",
          "model_module_version": "1.2.0",
          "state": {
            "_model_module": "@jupyter-widgets/base",
            "_model_module_version": "1.2.0",
            "_model_name": "LayoutModel",
            "_view_count": null,
            "_view_module": "@jupyter-widgets/base",
            "_view_module_version": "1.2.0",
            "_view_name": "LayoutView",
            "align_content": null,
            "align_items": null,
            "align_self": null,
            "border": null,
            "bottom": null,
            "display": null,
            "flex": null,
            "flex_flow": null,
            "grid_area": null,
            "grid_auto_columns": null,
            "grid_auto_flow": null,
            "grid_auto_rows": null,
            "grid_column": null,
            "grid_gap": null,
            "grid_row": null,
            "grid_template_areas": null,
            "grid_template_columns": null,
            "grid_template_rows": null,
            "height": null,
            "justify_content": null,
            "justify_items": null,
            "left": null,
            "margin": null,
            "max_height": null,
            "max_width": null,
            "min_height": null,
            "min_width": null,
            "object_fit": null,
            "object_position": null,
            "order": null,
            "overflow": null,
            "overflow_x": null,
            "overflow_y": null,
            "padding": null,
            "right": null,
            "top": null,
            "visibility": null,
            "width": null
          }
        },
        "37b30a0c17cd48d69faa202a4cb8e0e3": {
          "model_module": "@jupyter-widgets/controls",
          "model_name": "DescriptionStyleModel",
          "model_module_version": "1.5.0",
          "state": {
            "_model_module": "@jupyter-widgets/controls",
            "_model_module_version": "1.5.0",
            "_model_name": "DescriptionStyleModel",
            "_view_count": null,
            "_view_module": "@jupyter-widgets/base",
            "_view_module_version": "1.2.0",
            "_view_name": "StyleView",
            "description_width": ""
          }
        },
        "7f2bbbbf3642413ea005f49c5ff527db": {
          "model_module": "@jupyter-widgets/base",
          "model_name": "LayoutModel",
          "model_module_version": "1.2.0",
          "state": {
            "_model_module": "@jupyter-widgets/base",
            "_model_module_version": "1.2.0",
            "_model_name": "LayoutModel",
            "_view_count": null,
            "_view_module": "@jupyter-widgets/base",
            "_view_module_version": "1.2.0",
            "_view_name": "LayoutView",
            "align_content": null,
            "align_items": null,
            "align_self": null,
            "border": null,
            "bottom": null,
            "display": null,
            "flex": null,
            "flex_flow": null,
            "grid_area": null,
            "grid_auto_columns": null,
            "grid_auto_flow": null,
            "grid_auto_rows": null,
            "grid_column": null,
            "grid_gap": null,
            "grid_row": null,
            "grid_template_areas": null,
            "grid_template_columns": null,
            "grid_template_rows": null,
            "height": null,
            "justify_content": null,
            "justify_items": null,
            "left": null,
            "margin": null,
            "max_height": null,
            "max_width": null,
            "min_height": null,
            "min_width": null,
            "object_fit": null,
            "object_position": null,
            "order": null,
            "overflow": null,
            "overflow_x": null,
            "overflow_y": null,
            "padding": null,
            "right": null,
            "top": null,
            "visibility": null,
            "width": null
          }
        },
        "2ae8381438dc493cb263e0687c5e2cfd": {
          "model_module": "@jupyter-widgets/controls",
          "model_name": "ProgressStyleModel",
          "model_module_version": "1.5.0",
          "state": {
            "_model_module": "@jupyter-widgets/controls",
            "_model_module_version": "1.5.0",
            "_model_name": "ProgressStyleModel",
            "_view_count": null,
            "_view_module": "@jupyter-widgets/base",
            "_view_module_version": "1.2.0",
            "_view_name": "StyleView",
            "bar_color": null,
            "description_width": ""
          }
        },
        "33ab9f63780041a4a92e586ba9d7155d": {
          "model_module": "@jupyter-widgets/base",
          "model_name": "LayoutModel",
          "model_module_version": "1.2.0",
          "state": {
            "_model_module": "@jupyter-widgets/base",
            "_model_module_version": "1.2.0",
            "_model_name": "LayoutModel",
            "_view_count": null,
            "_view_module": "@jupyter-widgets/base",
            "_view_module_version": "1.2.0",
            "_view_name": "LayoutView",
            "align_content": null,
            "align_items": null,
            "align_self": null,
            "border": null,
            "bottom": null,
            "display": null,
            "flex": null,
            "flex_flow": null,
            "grid_area": null,
            "grid_auto_columns": null,
            "grid_auto_flow": null,
            "grid_auto_rows": null,
            "grid_column": null,
            "grid_gap": null,
            "grid_row": null,
            "grid_template_areas": null,
            "grid_template_columns": null,
            "grid_template_rows": null,
            "height": null,
            "justify_content": null,
            "justify_items": null,
            "left": null,
            "margin": null,
            "max_height": null,
            "max_width": null,
            "min_height": null,
            "min_width": null,
            "object_fit": null,
            "object_position": null,
            "order": null,
            "overflow": null,
            "overflow_x": null,
            "overflow_y": null,
            "padding": null,
            "right": null,
            "top": null,
            "visibility": null,
            "width": null
          }
        },
        "ba001c9dc88345b788f271b6cc173b87": {
          "model_module": "@jupyter-widgets/controls",
          "model_name": "DescriptionStyleModel",
          "model_module_version": "1.5.0",
          "state": {
            "_model_module": "@jupyter-widgets/controls",
            "_model_module_version": "1.5.0",
            "_model_name": "DescriptionStyleModel",
            "_view_count": null,
            "_view_module": "@jupyter-widgets/base",
            "_view_module_version": "1.2.0",
            "_view_name": "StyleView",
            "description_width": ""
          }
        },
        "ce4a33010c614317a55f3e6a79cf2b57": {
          "model_module": "@jupyter-widgets/controls",
          "model_name": "HBoxModel",
          "model_module_version": "1.5.0",
          "state": {
            "_dom_classes": [],
            "_model_module": "@jupyter-widgets/controls",
            "_model_module_version": "1.5.0",
            "_model_name": "HBoxModel",
            "_view_count": null,
            "_view_module": "@jupyter-widgets/controls",
            "_view_module_version": "1.5.0",
            "_view_name": "HBoxView",
            "box_style": "",
            "children": [
              "IPY_MODEL_facc751a790f4b1dae8752e6e8d29205",
              "IPY_MODEL_0cf9ba3c7e704ffab6a90efecd960e46",
              "IPY_MODEL_dd22d8559f3f4f01b7bef929de0acd73"
            ],
            "layout": "IPY_MODEL_85eaf403de5f4c7682f143912c0d7a72"
          }
        },
        "facc751a790f4b1dae8752e6e8d29205": {
          "model_module": "@jupyter-widgets/controls",
          "model_name": "HTMLModel",
          "model_module_version": "1.5.0",
          "state": {
            "_dom_classes": [],
            "_model_module": "@jupyter-widgets/controls",
            "_model_module_version": "1.5.0",
            "_model_name": "HTMLModel",
            "_view_count": null,
            "_view_module": "@jupyter-widgets/controls",
            "_view_module_version": "1.5.0",
            "_view_name": "HTMLView",
            "description": "",
            "description_tooltip": null,
            "layout": "IPY_MODEL_9c6b3ad49c024b27a7d52011aecc8262",
            "placeholder": "​",
            "style": "IPY_MODEL_4a54a192247a4920abc11bc34e015408",
            "value": "Downloading (…)ve/main/spiece.model: 100%"
          }
        },
        "0cf9ba3c7e704ffab6a90efecd960e46": {
          "model_module": "@jupyter-widgets/controls",
          "model_name": "FloatProgressModel",
          "model_module_version": "1.5.0",
          "state": {
            "_dom_classes": [],
            "_model_module": "@jupyter-widgets/controls",
            "_model_module_version": "1.5.0",
            "_model_name": "FloatProgressModel",
            "_view_count": null,
            "_view_module": "@jupyter-widgets/controls",
            "_view_module_version": "1.5.0",
            "_view_name": "ProgressView",
            "bar_style": "success",
            "description": "",
            "description_tooltip": null,
            "layout": "IPY_MODEL_56c817c5f8ea42349104aa3557ac719b",
            "max": 791656,
            "min": 0,
            "orientation": "horizontal",
            "style": "IPY_MODEL_7bfd6b3ff8ac4d90927ad7aed89ad033",
            "value": 791656
          }
        },
        "dd22d8559f3f4f01b7bef929de0acd73": {
          "model_module": "@jupyter-widgets/controls",
          "model_name": "HTMLModel",
          "model_module_version": "1.5.0",
          "state": {
            "_dom_classes": [],
            "_model_module": "@jupyter-widgets/controls",
            "_model_module_version": "1.5.0",
            "_model_name": "HTMLModel",
            "_view_count": null,
            "_view_module": "@jupyter-widgets/controls",
            "_view_module_version": "1.5.0",
            "_view_name": "HTMLView",
            "description": "",
            "description_tooltip": null,
            "layout": "IPY_MODEL_726fb8b81b2a4de584228e84dbf36117",
            "placeholder": "​",
            "style": "IPY_MODEL_29a5285c4b16491c98d3512d8a84bb09",
            "value": " 792k/792k [00:00&lt;00:00, 11.6MB/s]"
          }
        },
        "85eaf403de5f4c7682f143912c0d7a72": {
          "model_module": "@jupyter-widgets/base",
          "model_name": "LayoutModel",
          "model_module_version": "1.2.0",
          "state": {
            "_model_module": "@jupyter-widgets/base",
            "_model_module_version": "1.2.0",
            "_model_name": "LayoutModel",
            "_view_count": null,
            "_view_module": "@jupyter-widgets/base",
            "_view_module_version": "1.2.0",
            "_view_name": "LayoutView",
            "align_content": null,
            "align_items": null,
            "align_self": null,
            "border": null,
            "bottom": null,
            "display": null,
            "flex": null,
            "flex_flow": null,
            "grid_area": null,
            "grid_auto_columns": null,
            "grid_auto_flow": null,
            "grid_auto_rows": null,
            "grid_column": null,
            "grid_gap": null,
            "grid_row": null,
            "grid_template_areas": null,
            "grid_template_columns": null,
            "grid_template_rows": null,
            "height": null,
            "justify_content": null,
            "justify_items": null,
            "left": null,
            "margin": null,
            "max_height": null,
            "max_width": null,
            "min_height": null,
            "min_width": null,
            "object_fit": null,
            "object_position": null,
            "order": null,
            "overflow": null,
            "overflow_x": null,
            "overflow_y": null,
            "padding": null,
            "right": null,
            "top": null,
            "visibility": null,
            "width": null
          }
        },
        "9c6b3ad49c024b27a7d52011aecc8262": {
          "model_module": "@jupyter-widgets/base",
          "model_name": "LayoutModel",
          "model_module_version": "1.2.0",
          "state": {
            "_model_module": "@jupyter-widgets/base",
            "_model_module_version": "1.2.0",
            "_model_name": "LayoutModel",
            "_view_count": null,
            "_view_module": "@jupyter-widgets/base",
            "_view_module_version": "1.2.0",
            "_view_name": "LayoutView",
            "align_content": null,
            "align_items": null,
            "align_self": null,
            "border": null,
            "bottom": null,
            "display": null,
            "flex": null,
            "flex_flow": null,
            "grid_area": null,
            "grid_auto_columns": null,
            "grid_auto_flow": null,
            "grid_auto_rows": null,
            "grid_column": null,
            "grid_gap": null,
            "grid_row": null,
            "grid_template_areas": null,
            "grid_template_columns": null,
            "grid_template_rows": null,
            "height": null,
            "justify_content": null,
            "justify_items": null,
            "left": null,
            "margin": null,
            "max_height": null,
            "max_width": null,
            "min_height": null,
            "min_width": null,
            "object_fit": null,
            "object_position": null,
            "order": null,
            "overflow": null,
            "overflow_x": null,
            "overflow_y": null,
            "padding": null,
            "right": null,
            "top": null,
            "visibility": null,
            "width": null
          }
        },
        "4a54a192247a4920abc11bc34e015408": {
          "model_module": "@jupyter-widgets/controls",
          "model_name": "DescriptionStyleModel",
          "model_module_version": "1.5.0",
          "state": {
            "_model_module": "@jupyter-widgets/controls",
            "_model_module_version": "1.5.0",
            "_model_name": "DescriptionStyleModel",
            "_view_count": null,
            "_view_module": "@jupyter-widgets/base",
            "_view_module_version": "1.2.0",
            "_view_name": "StyleView",
            "description_width": ""
          }
        },
        "56c817c5f8ea42349104aa3557ac719b": {
          "model_module": "@jupyter-widgets/base",
          "model_name": "LayoutModel",
          "model_module_version": "1.2.0",
          "state": {
            "_model_module": "@jupyter-widgets/base",
            "_model_module_version": "1.2.0",
            "_model_name": "LayoutModel",
            "_view_count": null,
            "_view_module": "@jupyter-widgets/base",
            "_view_module_version": "1.2.0",
            "_view_name": "LayoutView",
            "align_content": null,
            "align_items": null,
            "align_self": null,
            "border": null,
            "bottom": null,
            "display": null,
            "flex": null,
            "flex_flow": null,
            "grid_area": null,
            "grid_auto_columns": null,
            "grid_auto_flow": null,
            "grid_auto_rows": null,
            "grid_column": null,
            "grid_gap": null,
            "grid_row": null,
            "grid_template_areas": null,
            "grid_template_columns": null,
            "grid_template_rows": null,
            "height": null,
            "justify_content": null,
            "justify_items": null,
            "left": null,
            "margin": null,
            "max_height": null,
            "max_width": null,
            "min_height": null,
            "min_width": null,
            "object_fit": null,
            "object_position": null,
            "order": null,
            "overflow": null,
            "overflow_x": null,
            "overflow_y": null,
            "padding": null,
            "right": null,
            "top": null,
            "visibility": null,
            "width": null
          }
        },
        "7bfd6b3ff8ac4d90927ad7aed89ad033": {
          "model_module": "@jupyter-widgets/controls",
          "model_name": "ProgressStyleModel",
          "model_module_version": "1.5.0",
          "state": {
            "_model_module": "@jupyter-widgets/controls",
            "_model_module_version": "1.5.0",
            "_model_name": "ProgressStyleModel",
            "_view_count": null,
            "_view_module": "@jupyter-widgets/base",
            "_view_module_version": "1.2.0",
            "_view_name": "StyleView",
            "bar_color": null,
            "description_width": ""
          }
        },
        "726fb8b81b2a4de584228e84dbf36117": {
          "model_module": "@jupyter-widgets/base",
          "model_name": "LayoutModel",
          "model_module_version": "1.2.0",
          "state": {
            "_model_module": "@jupyter-widgets/base",
            "_model_module_version": "1.2.0",
            "_model_name": "LayoutModel",
            "_view_count": null,
            "_view_module": "@jupyter-widgets/base",
            "_view_module_version": "1.2.0",
            "_view_name": "LayoutView",
            "align_content": null,
            "align_items": null,
            "align_self": null,
            "border": null,
            "bottom": null,
            "display": null,
            "flex": null,
            "flex_flow": null,
            "grid_area": null,
            "grid_auto_columns": null,
            "grid_auto_flow": null,
            "grid_auto_rows": null,
            "grid_column": null,
            "grid_gap": null,
            "grid_row": null,
            "grid_template_areas": null,
            "grid_template_columns": null,
            "grid_template_rows": null,
            "height": null,
            "justify_content": null,
            "justify_items": null,
            "left": null,
            "margin": null,
            "max_height": null,
            "max_width": null,
            "min_height": null,
            "min_width": null,
            "object_fit": null,
            "object_position": null,
            "order": null,
            "overflow": null,
            "overflow_x": null,
            "overflow_y": null,
            "padding": null,
            "right": null,
            "top": null,
            "visibility": null,
            "width": null
          }
        },
        "29a5285c4b16491c98d3512d8a84bb09": {
          "model_module": "@jupyter-widgets/controls",
          "model_name": "DescriptionStyleModel",
          "model_module_version": "1.5.0",
          "state": {
            "_model_module": "@jupyter-widgets/controls",
            "_model_module_version": "1.5.0",
            "_model_name": "DescriptionStyleModel",
            "_view_count": null,
            "_view_module": "@jupyter-widgets/base",
            "_view_module_version": "1.2.0",
            "_view_name": "StyleView",
            "description_width": ""
          }
        },
        "7226ab77a7b34eb9a16cb6f39c3505a6": {
          "model_module": "@jupyter-widgets/controls",
          "model_name": "HBoxModel",
          "model_module_version": "1.5.0",
          "state": {
            "_dom_classes": [],
            "_model_module": "@jupyter-widgets/controls",
            "_model_module_version": "1.5.0",
            "_model_name": "HBoxModel",
            "_view_count": null,
            "_view_module": "@jupyter-widgets/controls",
            "_view_module_version": "1.5.0",
            "_view_name": "HBoxView",
            "box_style": "",
            "children": [
              "IPY_MODEL_48de6860d3dc42cc8ad97598c0d7580f",
              "IPY_MODEL_c04674b10cdc44bcb2acd193f27fd981",
              "IPY_MODEL_467d3fe0a2dd46c69999599e2c6244d5"
            ],
            "layout": "IPY_MODEL_8a77ac4cceea4c7b92a665c3348a2c28"
          }
        },
        "48de6860d3dc42cc8ad97598c0d7580f": {
          "model_module": "@jupyter-widgets/controls",
          "model_name": "HTMLModel",
          "model_module_version": "1.5.0",
          "state": {
            "_dom_classes": [],
            "_model_module": "@jupyter-widgets/controls",
            "_model_module_version": "1.5.0",
            "_model_name": "HTMLModel",
            "_view_count": null,
            "_view_module": "@jupyter-widgets/controls",
            "_view_module_version": "1.5.0",
            "_view_name": "HTMLView",
            "description": "",
            "description_tooltip": null,
            "layout": "IPY_MODEL_714ed97f8d66450ab94e5af8c0f288c1",
            "placeholder": "​",
            "style": "IPY_MODEL_967b82a2e6fd4f73a52946702c631a63",
            "value": "Downloading (…)in/added_tokens.json: 100%"
          }
        },
        "c04674b10cdc44bcb2acd193f27fd981": {
          "model_module": "@jupyter-widgets/controls",
          "model_name": "FloatProgressModel",
          "model_module_version": "1.5.0",
          "state": {
            "_dom_classes": [],
            "_model_module": "@jupyter-widgets/controls",
            "_model_module_version": "1.5.0",
            "_model_name": "FloatProgressModel",
            "_view_count": null,
            "_view_module": "@jupyter-widgets/controls",
            "_view_module_version": "1.5.0",
            "_view_name": "ProgressView",
            "bar_style": "success",
            "description": "",
            "description_tooltip": null,
            "layout": "IPY_MODEL_9526985f22a243c8b7d6e4c74ffc9fe1",
            "max": 31,
            "min": 0,
            "orientation": "horizontal",
            "style": "IPY_MODEL_bd78ff7e2a4f4756887e88e46465675e",
            "value": 31
          }
        },
        "467d3fe0a2dd46c69999599e2c6244d5": {
          "model_module": "@jupyter-widgets/controls",
          "model_name": "HTMLModel",
          "model_module_version": "1.5.0",
          "state": {
            "_dom_classes": [],
            "_model_module": "@jupyter-widgets/controls",
            "_model_module_version": "1.5.0",
            "_model_name": "HTMLModel",
            "_view_count": null,
            "_view_module": "@jupyter-widgets/controls",
            "_view_module_version": "1.5.0",
            "_view_name": "HTMLView",
            "description": "",
            "description_tooltip": null,
            "layout": "IPY_MODEL_68dc0afbffb04849abbbd17995ae3d0c",
            "placeholder": "​",
            "style": "IPY_MODEL_7b39f264871b4525a32dbdee54d20521",
            "value": " 31.0/31.0 [00:00&lt;00:00, 1.06kB/s]"
          }
        },
        "8a77ac4cceea4c7b92a665c3348a2c28": {
          "model_module": "@jupyter-widgets/base",
          "model_name": "LayoutModel",
          "model_module_version": "1.2.0",
          "state": {
            "_model_module": "@jupyter-widgets/base",
            "_model_module_version": "1.2.0",
            "_model_name": "LayoutModel",
            "_view_count": null,
            "_view_module": "@jupyter-widgets/base",
            "_view_module_version": "1.2.0",
            "_view_name": "LayoutView",
            "align_content": null,
            "align_items": null,
            "align_self": null,
            "border": null,
            "bottom": null,
            "display": null,
            "flex": null,
            "flex_flow": null,
            "grid_area": null,
            "grid_auto_columns": null,
            "grid_auto_flow": null,
            "grid_auto_rows": null,
            "grid_column": null,
            "grid_gap": null,
            "grid_row": null,
            "grid_template_areas": null,
            "grid_template_columns": null,
            "grid_template_rows": null,
            "height": null,
            "justify_content": null,
            "justify_items": null,
            "left": null,
            "margin": null,
            "max_height": null,
            "max_width": null,
            "min_height": null,
            "min_width": null,
            "object_fit": null,
            "object_position": null,
            "order": null,
            "overflow": null,
            "overflow_x": null,
            "overflow_y": null,
            "padding": null,
            "right": null,
            "top": null,
            "visibility": null,
            "width": null
          }
        },
        "714ed97f8d66450ab94e5af8c0f288c1": {
          "model_module": "@jupyter-widgets/base",
          "model_name": "LayoutModel",
          "model_module_version": "1.2.0",
          "state": {
            "_model_module": "@jupyter-widgets/base",
            "_model_module_version": "1.2.0",
            "_model_name": "LayoutModel",
            "_view_count": null,
            "_view_module": "@jupyter-widgets/base",
            "_view_module_version": "1.2.0",
            "_view_name": "LayoutView",
            "align_content": null,
            "align_items": null,
            "align_self": null,
            "border": null,
            "bottom": null,
            "display": null,
            "flex": null,
            "flex_flow": null,
            "grid_area": null,
            "grid_auto_columns": null,
            "grid_auto_flow": null,
            "grid_auto_rows": null,
            "grid_column": null,
            "grid_gap": null,
            "grid_row": null,
            "grid_template_areas": null,
            "grid_template_columns": null,
            "grid_template_rows": null,
            "height": null,
            "justify_content": null,
            "justify_items": null,
            "left": null,
            "margin": null,
            "max_height": null,
            "max_width": null,
            "min_height": null,
            "min_width": null,
            "object_fit": null,
            "object_position": null,
            "order": null,
            "overflow": null,
            "overflow_x": null,
            "overflow_y": null,
            "padding": null,
            "right": null,
            "top": null,
            "visibility": null,
            "width": null
          }
        },
        "967b82a2e6fd4f73a52946702c631a63": {
          "model_module": "@jupyter-widgets/controls",
          "model_name": "DescriptionStyleModel",
          "model_module_version": "1.5.0",
          "state": {
            "_model_module": "@jupyter-widgets/controls",
            "_model_module_version": "1.5.0",
            "_model_name": "DescriptionStyleModel",
            "_view_count": null,
            "_view_module": "@jupyter-widgets/base",
            "_view_module_version": "1.2.0",
            "_view_name": "StyleView",
            "description_width": ""
          }
        },
        "9526985f22a243c8b7d6e4c74ffc9fe1": {
          "model_module": "@jupyter-widgets/base",
          "model_name": "LayoutModel",
          "model_module_version": "1.2.0",
          "state": {
            "_model_module": "@jupyter-widgets/base",
            "_model_module_version": "1.2.0",
            "_model_name": "LayoutModel",
            "_view_count": null,
            "_view_module": "@jupyter-widgets/base",
            "_view_module_version": "1.2.0",
            "_view_name": "LayoutView",
            "align_content": null,
            "align_items": null,
            "align_self": null,
            "border": null,
            "bottom": null,
            "display": null,
            "flex": null,
            "flex_flow": null,
            "grid_area": null,
            "grid_auto_columns": null,
            "grid_auto_flow": null,
            "grid_auto_rows": null,
            "grid_column": null,
            "grid_gap": null,
            "grid_row": null,
            "grid_template_areas": null,
            "grid_template_columns": null,
            "grid_template_rows": null,
            "height": null,
            "justify_content": null,
            "justify_items": null,
            "left": null,
            "margin": null,
            "max_height": null,
            "max_width": null,
            "min_height": null,
            "min_width": null,
            "object_fit": null,
            "object_position": null,
            "order": null,
            "overflow": null,
            "overflow_x": null,
            "overflow_y": null,
            "padding": null,
            "right": null,
            "top": null,
            "visibility": null,
            "width": null
          }
        },
        "bd78ff7e2a4f4756887e88e46465675e": {
          "model_module": "@jupyter-widgets/controls",
          "model_name": "ProgressStyleModel",
          "model_module_version": "1.5.0",
          "state": {
            "_model_module": "@jupyter-widgets/controls",
            "_model_module_version": "1.5.0",
            "_model_name": "ProgressStyleModel",
            "_view_count": null,
            "_view_module": "@jupyter-widgets/base",
            "_view_module_version": "1.2.0",
            "_view_name": "StyleView",
            "bar_color": null,
            "description_width": ""
          }
        },
        "68dc0afbffb04849abbbd17995ae3d0c": {
          "model_module": "@jupyter-widgets/base",
          "model_name": "LayoutModel",
          "model_module_version": "1.2.0",
          "state": {
            "_model_module": "@jupyter-widgets/base",
            "_model_module_version": "1.2.0",
            "_model_name": "LayoutModel",
            "_view_count": null,
            "_view_module": "@jupyter-widgets/base",
            "_view_module_version": "1.2.0",
            "_view_name": "LayoutView",
            "align_content": null,
            "align_items": null,
            "align_self": null,
            "border": null,
            "bottom": null,
            "display": null,
            "flex": null,
            "flex_flow": null,
            "grid_area": null,
            "grid_auto_columns": null,
            "grid_auto_flow": null,
            "grid_auto_rows": null,
            "grid_column": null,
            "grid_gap": null,
            "grid_row": null,
            "grid_template_areas": null,
            "grid_template_columns": null,
            "grid_template_rows": null,
            "height": null,
            "justify_content": null,
            "justify_items": null,
            "left": null,
            "margin": null,
            "max_height": null,
            "max_width": null,
            "min_height": null,
            "min_width": null,
            "object_fit": null,
            "object_position": null,
            "order": null,
            "overflow": null,
            "overflow_x": null,
            "overflow_y": null,
            "padding": null,
            "right": null,
            "top": null,
            "visibility": null,
            "width": null
          }
        },
        "7b39f264871b4525a32dbdee54d20521": {
          "model_module": "@jupyter-widgets/controls",
          "model_name": "DescriptionStyleModel",
          "model_module_version": "1.5.0",
          "state": {
            "_model_module": "@jupyter-widgets/controls",
            "_model_module_version": "1.5.0",
            "_model_name": "DescriptionStyleModel",
            "_view_count": null,
            "_view_module": "@jupyter-widgets/base",
            "_view_module_version": "1.2.0",
            "_view_name": "StyleView",
            "description_width": ""
          }
        },
        "2674266126124c3bbc22937e62f85f09": {
          "model_module": "@jupyter-widgets/controls",
          "model_name": "HBoxModel",
          "model_module_version": "1.5.0",
          "state": {
            "_dom_classes": [],
            "_model_module": "@jupyter-widgets/controls",
            "_model_module_version": "1.5.0",
            "_model_name": "HBoxModel",
            "_view_count": null,
            "_view_module": "@jupyter-widgets/controls",
            "_view_module_version": "1.5.0",
            "_view_name": "HBoxView",
            "box_style": "",
            "children": [
              "IPY_MODEL_f623b3143f25434a9421a1e177476065",
              "IPY_MODEL_6920c6bbd51d4d5c8b66047e92ed462c",
              "IPY_MODEL_cd834932ebe3415d891005045c0a59b2"
            ],
            "layout": "IPY_MODEL_5bca6f77ea864656b71dd3cbd54bd81d"
          }
        },
        "f623b3143f25434a9421a1e177476065": {
          "model_module": "@jupyter-widgets/controls",
          "model_name": "HTMLModel",
          "model_module_version": "1.5.0",
          "state": {
            "_dom_classes": [],
            "_model_module": "@jupyter-widgets/controls",
            "_model_module_version": "1.5.0",
            "_model_name": "HTMLModel",
            "_view_count": null,
            "_view_module": "@jupyter-widgets/controls",
            "_view_module_version": "1.5.0",
            "_view_name": "HTMLView",
            "description": "",
            "description_tooltip": null,
            "layout": "IPY_MODEL_7c4a1ba805d64d2bb31cadb6dff6ace8",
            "placeholder": "​",
            "style": "IPY_MODEL_cb90f184bec44ead9d5b1e64d74da528",
            "value": "Downloading (…)cial_tokens_map.json: 100%"
          }
        },
        "6920c6bbd51d4d5c8b66047e92ed462c": {
          "model_module": "@jupyter-widgets/controls",
          "model_name": "FloatProgressModel",
          "model_module_version": "1.5.0",
          "state": {
            "_dom_classes": [],
            "_model_module": "@jupyter-widgets/controls",
            "_model_module_version": "1.5.0",
            "_model_name": "FloatProgressModel",
            "_view_count": null,
            "_view_module": "@jupyter-widgets/controls",
            "_view_module_version": "1.5.0",
            "_view_name": "ProgressView",
            "bar_style": "success",
            "description": "",
            "description_tooltip": null,
            "layout": "IPY_MODEL_98f72ca5db824dc690c0fcd0924edcae",
            "max": 65,
            "min": 0,
            "orientation": "horizontal",
            "style": "IPY_MODEL_8da08fb18a2f4378a8eca632fbb2923d",
            "value": 65
          }
        },
        "cd834932ebe3415d891005045c0a59b2": {
          "model_module": "@jupyter-widgets/controls",
          "model_name": "HTMLModel",
          "model_module_version": "1.5.0",
          "state": {
            "_dom_classes": [],
            "_model_module": "@jupyter-widgets/controls",
            "_model_module_version": "1.5.0",
            "_model_name": "HTMLModel",
            "_view_count": null,
            "_view_module": "@jupyter-widgets/controls",
            "_view_module_version": "1.5.0",
            "_view_name": "HTMLView",
            "description": "",
            "description_tooltip": null,
            "layout": "IPY_MODEL_b398284a82c84b489f70adc4f2de2b5e",
            "placeholder": "​",
            "style": "IPY_MODEL_1c8be67e16644f6d91ba3eeca57798d6",
            "value": " 65.0/65.0 [00:00&lt;00:00, 2.91kB/s]"
          }
        },
        "5bca6f77ea864656b71dd3cbd54bd81d": {
          "model_module": "@jupyter-widgets/base",
          "model_name": "LayoutModel",
          "model_module_version": "1.2.0",
          "state": {
            "_model_module": "@jupyter-widgets/base",
            "_model_module_version": "1.2.0",
            "_model_name": "LayoutModel",
            "_view_count": null,
            "_view_module": "@jupyter-widgets/base",
            "_view_module_version": "1.2.0",
            "_view_name": "LayoutView",
            "align_content": null,
            "align_items": null,
            "align_self": null,
            "border": null,
            "bottom": null,
            "display": null,
            "flex": null,
            "flex_flow": null,
            "grid_area": null,
            "grid_auto_columns": null,
            "grid_auto_flow": null,
            "grid_auto_rows": null,
            "grid_column": null,
            "grid_gap": null,
            "grid_row": null,
            "grid_template_areas": null,
            "grid_template_columns": null,
            "grid_template_rows": null,
            "height": null,
            "justify_content": null,
            "justify_items": null,
            "left": null,
            "margin": null,
            "max_height": null,
            "max_width": null,
            "min_height": null,
            "min_width": null,
            "object_fit": null,
            "object_position": null,
            "order": null,
            "overflow": null,
            "overflow_x": null,
            "overflow_y": null,
            "padding": null,
            "right": null,
            "top": null,
            "visibility": null,
            "width": null
          }
        },
        "7c4a1ba805d64d2bb31cadb6dff6ace8": {
          "model_module": "@jupyter-widgets/base",
          "model_name": "LayoutModel",
          "model_module_version": "1.2.0",
          "state": {
            "_model_module": "@jupyter-widgets/base",
            "_model_module_version": "1.2.0",
            "_model_name": "LayoutModel",
            "_view_count": null,
            "_view_module": "@jupyter-widgets/base",
            "_view_module_version": "1.2.0",
            "_view_name": "LayoutView",
            "align_content": null,
            "align_items": null,
            "align_self": null,
            "border": null,
            "bottom": null,
            "display": null,
            "flex": null,
            "flex_flow": null,
            "grid_area": null,
            "grid_auto_columns": null,
            "grid_auto_flow": null,
            "grid_auto_rows": null,
            "grid_column": null,
            "grid_gap": null,
            "grid_row": null,
            "grid_template_areas": null,
            "grid_template_columns": null,
            "grid_template_rows": null,
            "height": null,
            "justify_content": null,
            "justify_items": null,
            "left": null,
            "margin": null,
            "max_height": null,
            "max_width": null,
            "min_height": null,
            "min_width": null,
            "object_fit": null,
            "object_position": null,
            "order": null,
            "overflow": null,
            "overflow_x": null,
            "overflow_y": null,
            "padding": null,
            "right": null,
            "top": null,
            "visibility": null,
            "width": null
          }
        },
        "cb90f184bec44ead9d5b1e64d74da528": {
          "model_module": "@jupyter-widgets/controls",
          "model_name": "DescriptionStyleModel",
          "model_module_version": "1.5.0",
          "state": {
            "_model_module": "@jupyter-widgets/controls",
            "_model_module_version": "1.5.0",
            "_model_name": "DescriptionStyleModel",
            "_view_count": null,
            "_view_module": "@jupyter-widgets/base",
            "_view_module_version": "1.2.0",
            "_view_name": "StyleView",
            "description_width": ""
          }
        },
        "98f72ca5db824dc690c0fcd0924edcae": {
          "model_module": "@jupyter-widgets/base",
          "model_name": "LayoutModel",
          "model_module_version": "1.2.0",
          "state": {
            "_model_module": "@jupyter-widgets/base",
            "_model_module_version": "1.2.0",
            "_model_name": "LayoutModel",
            "_view_count": null,
            "_view_module": "@jupyter-widgets/base",
            "_view_module_version": "1.2.0",
            "_view_name": "LayoutView",
            "align_content": null,
            "align_items": null,
            "align_self": null,
            "border": null,
            "bottom": null,
            "display": null,
            "flex": null,
            "flex_flow": null,
            "grid_area": null,
            "grid_auto_columns": null,
            "grid_auto_flow": null,
            "grid_auto_rows": null,
            "grid_column": null,
            "grid_gap": null,
            "grid_row": null,
            "grid_template_areas": null,
            "grid_template_columns": null,
            "grid_template_rows": null,
            "height": null,
            "justify_content": null,
            "justify_items": null,
            "left": null,
            "margin": null,
            "max_height": null,
            "max_width": null,
            "min_height": null,
            "min_width": null,
            "object_fit": null,
            "object_position": null,
            "order": null,
            "overflow": null,
            "overflow_x": null,
            "overflow_y": null,
            "padding": null,
            "right": null,
            "top": null,
            "visibility": null,
            "width": null
          }
        },
        "8da08fb18a2f4378a8eca632fbb2923d": {
          "model_module": "@jupyter-widgets/controls",
          "model_name": "ProgressStyleModel",
          "model_module_version": "1.5.0",
          "state": {
            "_model_module": "@jupyter-widgets/controls",
            "_model_module_version": "1.5.0",
            "_model_name": "ProgressStyleModel",
            "_view_count": null,
            "_view_module": "@jupyter-widgets/base",
            "_view_module_version": "1.2.0",
            "_view_name": "StyleView",
            "bar_color": null,
            "description_width": ""
          }
        },
        "b398284a82c84b489f70adc4f2de2b5e": {
          "model_module": "@jupyter-widgets/base",
          "model_name": "LayoutModel",
          "model_module_version": "1.2.0",
          "state": {
            "_model_module": "@jupyter-widgets/base",
            "_model_module_version": "1.2.0",
            "_model_name": "LayoutModel",
            "_view_count": null,
            "_view_module": "@jupyter-widgets/base",
            "_view_module_version": "1.2.0",
            "_view_name": "LayoutView",
            "align_content": null,
            "align_items": null,
            "align_self": null,
            "border": null,
            "bottom": null,
            "display": null,
            "flex": null,
            "flex_flow": null,
            "grid_area": null,
            "grid_auto_columns": null,
            "grid_auto_flow": null,
            "grid_auto_rows": null,
            "grid_column": null,
            "grid_gap": null,
            "grid_row": null,
            "grid_template_areas": null,
            "grid_template_columns": null,
            "grid_template_rows": null,
            "height": null,
            "justify_content": null,
            "justify_items": null,
            "left": null,
            "margin": null,
            "max_height": null,
            "max_width": null,
            "min_height": null,
            "min_width": null,
            "object_fit": null,
            "object_position": null,
            "order": null,
            "overflow": null,
            "overflow_x": null,
            "overflow_y": null,
            "padding": null,
            "right": null,
            "top": null,
            "visibility": null,
            "width": null
          }
        },
        "1c8be67e16644f6d91ba3eeca57798d6": {
          "model_module": "@jupyter-widgets/controls",
          "model_name": "DescriptionStyleModel",
          "model_module_version": "1.5.0",
          "state": {
            "_model_module": "@jupyter-widgets/controls",
            "_model_module_version": "1.5.0",
            "_model_name": "DescriptionStyleModel",
            "_view_count": null,
            "_view_module": "@jupyter-widgets/base",
            "_view_module_version": "1.2.0",
            "_view_name": "StyleView",
            "description_width": ""
          }
        },
        "d49db9c22f064c9b8082435d190677be": {
          "model_module": "@jupyter-widgets/controls",
          "model_name": "HBoxModel",
          "model_module_version": "1.5.0",
          "state": {
            "_dom_classes": [],
            "_model_module": "@jupyter-widgets/controls",
            "_model_module_version": "1.5.0",
            "_model_name": "HBoxModel",
            "_view_count": null,
            "_view_module": "@jupyter-widgets/controls",
            "_view_module_version": "1.5.0",
            "_view_name": "HBoxView",
            "box_style": "",
            "children": [
              "IPY_MODEL_092d13ece34c4505a6e70fb7f0655614",
              "IPY_MODEL_f178e581a3e641e184d27fe86cbebe4f",
              "IPY_MODEL_13016654155b49f993fe756d5b51f6a4"
            ],
            "layout": "IPY_MODEL_0ae8d670483c46318f24a9532d368c3e"
          }
        },
        "092d13ece34c4505a6e70fb7f0655614": {
          "model_module": "@jupyter-widgets/controls",
          "model_name": "HTMLModel",
          "model_module_version": "1.5.0",
          "state": {
            "_dom_classes": [],
            "_model_module": "@jupyter-widgets/controls",
            "_model_module_version": "1.5.0",
            "_model_name": "HTMLModel",
            "_view_count": null,
            "_view_module": "@jupyter-widgets/controls",
            "_view_module_version": "1.5.0",
            "_view_name": "HTMLView",
            "description": "",
            "description_tooltip": null,
            "layout": "IPY_MODEL_353abf6181344506ac89a6f39b5518bd",
            "placeholder": "​",
            "style": "IPY_MODEL_75fb0e90da22432a965c295c7c7bbe74",
            "value": "Downloading pytorch_model.bin: 100%"
          }
        },
        "f178e581a3e641e184d27fe86cbebe4f": {
          "model_module": "@jupyter-widgets/controls",
          "model_name": "FloatProgressModel",
          "model_module_version": "1.5.0",
          "state": {
            "_dom_classes": [],
            "_model_module": "@jupyter-widgets/controls",
            "_model_module_version": "1.5.0",
            "_model_name": "FloatProgressModel",
            "_view_count": null,
            "_view_module": "@jupyter-widgets/controls",
            "_view_module_version": "1.5.0",
            "_view_name": "ProgressView",
            "bar_style": "success",
            "description": "",
            "description_tooltip": null,
            "layout": "IPY_MODEL_deb55237fd1e490e8794ad52f5290476",
            "max": 242013444,
            "min": 0,
            "orientation": "horizontal",
            "style": "IPY_MODEL_c5472645c75748db94e2d053a2c6d5be",
            "value": 242013444
          }
        },
        "13016654155b49f993fe756d5b51f6a4": {
          "model_module": "@jupyter-widgets/controls",
          "model_name": "HTMLModel",
          "model_module_version": "1.5.0",
          "state": {
            "_dom_classes": [],
            "_model_module": "@jupyter-widgets/controls",
            "_model_module_version": "1.5.0",
            "_model_name": "HTMLModel",
            "_view_count": null,
            "_view_module": "@jupyter-widgets/controls",
            "_view_module_version": "1.5.0",
            "_view_name": "HTMLView",
            "description": "",
            "description_tooltip": null,
            "layout": "IPY_MODEL_ac02088a395147f0825013538c2838f8",
            "placeholder": "​",
            "style": "IPY_MODEL_22463a938b3647ccad0c871a7ba6684e",
            "value": " 242M/242M [00:06&lt;00:00, 38.1MB/s]"
          }
        },
        "0ae8d670483c46318f24a9532d368c3e": {
          "model_module": "@jupyter-widgets/base",
          "model_name": "LayoutModel",
          "model_module_version": "1.2.0",
          "state": {
            "_model_module": "@jupyter-widgets/base",
            "_model_module_version": "1.2.0",
            "_model_name": "LayoutModel",
            "_view_count": null,
            "_view_module": "@jupyter-widgets/base",
            "_view_module_version": "1.2.0",
            "_view_name": "LayoutView",
            "align_content": null,
            "align_items": null,
            "align_self": null,
            "border": null,
            "bottom": null,
            "display": null,
            "flex": null,
            "flex_flow": null,
            "grid_area": null,
            "grid_auto_columns": null,
            "grid_auto_flow": null,
            "grid_auto_rows": null,
            "grid_column": null,
            "grid_gap": null,
            "grid_row": null,
            "grid_template_areas": null,
            "grid_template_columns": null,
            "grid_template_rows": null,
            "height": null,
            "justify_content": null,
            "justify_items": null,
            "left": null,
            "margin": null,
            "max_height": null,
            "max_width": null,
            "min_height": null,
            "min_width": null,
            "object_fit": null,
            "object_position": null,
            "order": null,
            "overflow": null,
            "overflow_x": null,
            "overflow_y": null,
            "padding": null,
            "right": null,
            "top": null,
            "visibility": null,
            "width": null
          }
        },
        "353abf6181344506ac89a6f39b5518bd": {
          "model_module": "@jupyter-widgets/base",
          "model_name": "LayoutModel",
          "model_module_version": "1.2.0",
          "state": {
            "_model_module": "@jupyter-widgets/base",
            "_model_module_version": "1.2.0",
            "_model_name": "LayoutModel",
            "_view_count": null,
            "_view_module": "@jupyter-widgets/base",
            "_view_module_version": "1.2.0",
            "_view_name": "LayoutView",
            "align_content": null,
            "align_items": null,
            "align_self": null,
            "border": null,
            "bottom": null,
            "display": null,
            "flex": null,
            "flex_flow": null,
            "grid_area": null,
            "grid_auto_columns": null,
            "grid_auto_flow": null,
            "grid_auto_rows": null,
            "grid_column": null,
            "grid_gap": null,
            "grid_row": null,
            "grid_template_areas": null,
            "grid_template_columns": null,
            "grid_template_rows": null,
            "height": null,
            "justify_content": null,
            "justify_items": null,
            "left": null,
            "margin": null,
            "max_height": null,
            "max_width": null,
            "min_height": null,
            "min_width": null,
            "object_fit": null,
            "object_position": null,
            "order": null,
            "overflow": null,
            "overflow_x": null,
            "overflow_y": null,
            "padding": null,
            "right": null,
            "top": null,
            "visibility": null,
            "width": null
          }
        },
        "75fb0e90da22432a965c295c7c7bbe74": {
          "model_module": "@jupyter-widgets/controls",
          "model_name": "DescriptionStyleModel",
          "model_module_version": "1.5.0",
          "state": {
            "_model_module": "@jupyter-widgets/controls",
            "_model_module_version": "1.5.0",
            "_model_name": "DescriptionStyleModel",
            "_view_count": null,
            "_view_module": "@jupyter-widgets/base",
            "_view_module_version": "1.2.0",
            "_view_name": "StyleView",
            "description_width": ""
          }
        },
        "deb55237fd1e490e8794ad52f5290476": {
          "model_module": "@jupyter-widgets/base",
          "model_name": "LayoutModel",
          "model_module_version": "1.2.0",
          "state": {
            "_model_module": "@jupyter-widgets/base",
            "_model_module_version": "1.2.0",
            "_model_name": "LayoutModel",
            "_view_count": null,
            "_view_module": "@jupyter-widgets/base",
            "_view_module_version": "1.2.0",
            "_view_name": "LayoutView",
            "align_content": null,
            "align_items": null,
            "align_self": null,
            "border": null,
            "bottom": null,
            "display": null,
            "flex": null,
            "flex_flow": null,
            "grid_area": null,
            "grid_auto_columns": null,
            "grid_auto_flow": null,
            "grid_auto_rows": null,
            "grid_column": null,
            "grid_gap": null,
            "grid_row": null,
            "grid_template_areas": null,
            "grid_template_columns": null,
            "grid_template_rows": null,
            "height": null,
            "justify_content": null,
            "justify_items": null,
            "left": null,
            "margin": null,
            "max_height": null,
            "max_width": null,
            "min_height": null,
            "min_width": null,
            "object_fit": null,
            "object_position": null,
            "order": null,
            "overflow": null,
            "overflow_x": null,
            "overflow_y": null,
            "padding": null,
            "right": null,
            "top": null,
            "visibility": null,
            "width": null
          }
        },
        "c5472645c75748db94e2d053a2c6d5be": {
          "model_module": "@jupyter-widgets/controls",
          "model_name": "ProgressStyleModel",
          "model_module_version": "1.5.0",
          "state": {
            "_model_module": "@jupyter-widgets/controls",
            "_model_module_version": "1.5.0",
            "_model_name": "ProgressStyleModel",
            "_view_count": null,
            "_view_module": "@jupyter-widgets/base",
            "_view_module_version": "1.2.0",
            "_view_name": "StyleView",
            "bar_color": null,
            "description_width": ""
          }
        },
        "ac02088a395147f0825013538c2838f8": {
          "model_module": "@jupyter-widgets/base",
          "model_name": "LayoutModel",
          "model_module_version": "1.2.0",
          "state": {
            "_model_module": "@jupyter-widgets/base",
            "_model_module_version": "1.2.0",
            "_model_name": "LayoutModel",
            "_view_count": null,
            "_view_module": "@jupyter-widgets/base",
            "_view_module_version": "1.2.0",
            "_view_name": "LayoutView",
            "align_content": null,
            "align_items": null,
            "align_self": null,
            "border": null,
            "bottom": null,
            "display": null,
            "flex": null,
            "flex_flow": null,
            "grid_area": null,
            "grid_auto_columns": null,
            "grid_auto_flow": null,
            "grid_auto_rows": null,
            "grid_column": null,
            "grid_gap": null,
            "grid_row": null,
            "grid_template_areas": null,
            "grid_template_columns": null,
            "grid_template_rows": null,
            "height": null,
            "justify_content": null,
            "justify_items": null,
            "left": null,
            "margin": null,
            "max_height": null,
            "max_width": null,
            "min_height": null,
            "min_width": null,
            "object_fit": null,
            "object_position": null,
            "order": null,
            "overflow": null,
            "overflow_x": null,
            "overflow_y": null,
            "padding": null,
            "right": null,
            "top": null,
            "visibility": null,
            "width": null
          }
        },
        "22463a938b3647ccad0c871a7ba6684e": {
          "model_module": "@jupyter-widgets/controls",
          "model_name": "DescriptionStyleModel",
          "model_module_version": "1.5.0",
          "state": {
            "_model_module": "@jupyter-widgets/controls",
            "_model_module_version": "1.5.0",
            "_model_name": "DescriptionStyleModel",
            "_view_count": null,
            "_view_module": "@jupyter-widgets/base",
            "_view_module_version": "1.2.0",
            "_view_name": "StyleView",
            "description_width": ""
          }
        },
        "cb8c5c63f1c946b6a07393a3f6ba51c7": {
          "model_module": "@jupyter-widgets/controls",
          "model_name": "HBoxModel",
          "model_module_version": "1.5.0",
          "state": {
            "_dom_classes": [],
            "_model_module": "@jupyter-widgets/controls",
            "_model_module_version": "1.5.0",
            "_model_name": "HBoxModel",
            "_view_count": null,
            "_view_module": "@jupyter-widgets/controls",
            "_view_module_version": "1.5.0",
            "_view_name": "HBoxView",
            "box_style": "",
            "children": [
              "IPY_MODEL_9f2636e5f7254fe29c7220637d22e202",
              "IPY_MODEL_8d716bb4e9e24c04b4e8c46793854b61",
              "IPY_MODEL_817f722ea0ce48698ba408ec2d31094a"
            ],
            "layout": "IPY_MODEL_f6b21cd0f108439e8db87aeb61def0c5"
          }
        },
        "9f2636e5f7254fe29c7220637d22e202": {
          "model_module": "@jupyter-widgets/controls",
          "model_name": "HTMLModel",
          "model_module_version": "1.5.0",
          "state": {
            "_dom_classes": [],
            "_model_module": "@jupyter-widgets/controls",
            "_model_module_version": "1.5.0",
            "_model_name": "HTMLModel",
            "_view_count": null,
            "_view_module": "@jupyter-widgets/controls",
            "_view_module_version": "1.5.0",
            "_view_name": "HTMLView",
            "description": "",
            "description_tooltip": null,
            "layout": "IPY_MODEL_a2ad996a7371405ba2e8a0f3cd993dd0",
            "placeholder": "​",
            "style": "IPY_MODEL_71deb70d02ed4ea4916df17def9b0389",
            "value": "Downloading (…)okenizer_config.json: 100%"
          }
        },
        "8d716bb4e9e24c04b4e8c46793854b61": {
          "model_module": "@jupyter-widgets/controls",
          "model_name": "FloatProgressModel",
          "model_module_version": "1.5.0",
          "state": {
            "_dom_classes": [],
            "_model_module": "@jupyter-widgets/controls",
            "_model_module_version": "1.5.0",
            "_model_name": "FloatProgressModel",
            "_view_count": null,
            "_view_module": "@jupyter-widgets/controls",
            "_view_module_version": "1.5.0",
            "_view_name": "ProgressView",
            "bar_style": "success",
            "description": "",
            "description_tooltip": null,
            "layout": "IPY_MODEL_99416b00480c486fae16f38167f35760",
            "max": 90,
            "min": 0,
            "orientation": "horizontal",
            "style": "IPY_MODEL_96b562d1cf9c436db97a84c853c20b89",
            "value": 90
          }
        },
        "817f722ea0ce48698ba408ec2d31094a": {
          "model_module": "@jupyter-widgets/controls",
          "model_name": "HTMLModel",
          "model_module_version": "1.5.0",
          "state": {
            "_dom_classes": [],
            "_model_module": "@jupyter-widgets/controls",
            "_model_module_version": "1.5.0",
            "_model_name": "HTMLModel",
            "_view_count": null,
            "_view_module": "@jupyter-widgets/controls",
            "_view_module_version": "1.5.0",
            "_view_name": "HTMLView",
            "description": "",
            "description_tooltip": null,
            "layout": "IPY_MODEL_f95208f43147415686034173f3dfe7a0",
            "placeholder": "​",
            "style": "IPY_MODEL_d098fb63f96444b78a14da8c7c309aef",
            "value": " 90.0/90.0 [00:00&lt;00:00, 1.01kB/s]"
          }
        },
        "f6b21cd0f108439e8db87aeb61def0c5": {
          "model_module": "@jupyter-widgets/base",
          "model_name": "LayoutModel",
          "model_module_version": "1.2.0",
          "state": {
            "_model_module": "@jupyter-widgets/base",
            "_model_module_version": "1.2.0",
            "_model_name": "LayoutModel",
            "_view_count": null,
            "_view_module": "@jupyter-widgets/base",
            "_view_module_version": "1.2.0",
            "_view_name": "LayoutView",
            "align_content": null,
            "align_items": null,
            "align_self": null,
            "border": null,
            "bottom": null,
            "display": null,
            "flex": null,
            "flex_flow": null,
            "grid_area": null,
            "grid_auto_columns": null,
            "grid_auto_flow": null,
            "grid_auto_rows": null,
            "grid_column": null,
            "grid_gap": null,
            "grid_row": null,
            "grid_template_areas": null,
            "grid_template_columns": null,
            "grid_template_rows": null,
            "height": null,
            "justify_content": null,
            "justify_items": null,
            "left": null,
            "margin": null,
            "max_height": null,
            "max_width": null,
            "min_height": null,
            "min_width": null,
            "object_fit": null,
            "object_position": null,
            "order": null,
            "overflow": null,
            "overflow_x": null,
            "overflow_y": null,
            "padding": null,
            "right": null,
            "top": null,
            "visibility": null,
            "width": null
          }
        },
        "a2ad996a7371405ba2e8a0f3cd993dd0": {
          "model_module": "@jupyter-widgets/base",
          "model_name": "LayoutModel",
          "model_module_version": "1.2.0",
          "state": {
            "_model_module": "@jupyter-widgets/base",
            "_model_module_version": "1.2.0",
            "_model_name": "LayoutModel",
            "_view_count": null,
            "_view_module": "@jupyter-widgets/base",
            "_view_module_version": "1.2.0",
            "_view_name": "LayoutView",
            "align_content": null,
            "align_items": null,
            "align_self": null,
            "border": null,
            "bottom": null,
            "display": null,
            "flex": null,
            "flex_flow": null,
            "grid_area": null,
            "grid_auto_columns": null,
            "grid_auto_flow": null,
            "grid_auto_rows": null,
            "grid_column": null,
            "grid_gap": null,
            "grid_row": null,
            "grid_template_areas": null,
            "grid_template_columns": null,
            "grid_template_rows": null,
            "height": null,
            "justify_content": null,
            "justify_items": null,
            "left": null,
            "margin": null,
            "max_height": null,
            "max_width": null,
            "min_height": null,
            "min_width": null,
            "object_fit": null,
            "object_position": null,
            "order": null,
            "overflow": null,
            "overflow_x": null,
            "overflow_y": null,
            "padding": null,
            "right": null,
            "top": null,
            "visibility": null,
            "width": null
          }
        },
        "71deb70d02ed4ea4916df17def9b0389": {
          "model_module": "@jupyter-widgets/controls",
          "model_name": "DescriptionStyleModel",
          "model_module_version": "1.5.0",
          "state": {
            "_model_module": "@jupyter-widgets/controls",
            "_model_module_version": "1.5.0",
            "_model_name": "DescriptionStyleModel",
            "_view_count": null,
            "_view_module": "@jupyter-widgets/base",
            "_view_module_version": "1.2.0",
            "_view_name": "StyleView",
            "description_width": ""
          }
        },
        "99416b00480c486fae16f38167f35760": {
          "model_module": "@jupyter-widgets/base",
          "model_name": "LayoutModel",
          "model_module_version": "1.2.0",
          "state": {
            "_model_module": "@jupyter-widgets/base",
            "_model_module_version": "1.2.0",
            "_model_name": "LayoutModel",
            "_view_count": null,
            "_view_module": "@jupyter-widgets/base",
            "_view_module_version": "1.2.0",
            "_view_name": "LayoutView",
            "align_content": null,
            "align_items": null,
            "align_self": null,
            "border": null,
            "bottom": null,
            "display": null,
            "flex": null,
            "flex_flow": null,
            "grid_area": null,
            "grid_auto_columns": null,
            "grid_auto_flow": null,
            "grid_auto_rows": null,
            "grid_column": null,
            "grid_gap": null,
            "grid_row": null,
            "grid_template_areas": null,
            "grid_template_columns": null,
            "grid_template_rows": null,
            "height": null,
            "justify_content": null,
            "justify_items": null,
            "left": null,
            "margin": null,
            "max_height": null,
            "max_width": null,
            "min_height": null,
            "min_width": null,
            "object_fit": null,
            "object_position": null,
            "order": null,
            "overflow": null,
            "overflow_x": null,
            "overflow_y": null,
            "padding": null,
            "right": null,
            "top": null,
            "visibility": null,
            "width": null
          }
        },
        "96b562d1cf9c436db97a84c853c20b89": {
          "model_module": "@jupyter-widgets/controls",
          "model_name": "ProgressStyleModel",
          "model_module_version": "1.5.0",
          "state": {
            "_model_module": "@jupyter-widgets/controls",
            "_model_module_version": "1.5.0",
            "_model_name": "ProgressStyleModel",
            "_view_count": null,
            "_view_module": "@jupyter-widgets/base",
            "_view_module_version": "1.2.0",
            "_view_name": "StyleView",
            "bar_color": null,
            "description_width": ""
          }
        },
        "f95208f43147415686034173f3dfe7a0": {
          "model_module": "@jupyter-widgets/base",
          "model_name": "LayoutModel",
          "model_module_version": "1.2.0",
          "state": {
            "_model_module": "@jupyter-widgets/base",
            "_model_module_version": "1.2.0",
            "_model_name": "LayoutModel",
            "_view_count": null,
            "_view_module": "@jupyter-widgets/base",
            "_view_module_version": "1.2.0",
            "_view_name": "LayoutView",
            "align_content": null,
            "align_items": null,
            "align_self": null,
            "border": null,
            "bottom": null,
            "display": null,
            "flex": null,
            "flex_flow": null,
            "grid_area": null,
            "grid_auto_columns": null,
            "grid_auto_flow": null,
            "grid_auto_rows": null,
            "grid_column": null,
            "grid_gap": null,
            "grid_row": null,
            "grid_template_areas": null,
            "grid_template_columns": null,
            "grid_template_rows": null,
            "height": null,
            "justify_content": null,
            "justify_items": null,
            "left": null,
            "margin": null,
            "max_height": null,
            "max_width": null,
            "min_height": null,
            "min_width": null,
            "object_fit": null,
            "object_position": null,
            "order": null,
            "overflow": null,
            "overflow_x": null,
            "overflow_y": null,
            "padding": null,
            "right": null,
            "top": null,
            "visibility": null,
            "width": null
          }
        },
        "d098fb63f96444b78a14da8c7c309aef": {
          "model_module": "@jupyter-widgets/controls",
          "model_name": "DescriptionStyleModel",
          "model_module_version": "1.5.0",
          "state": {
            "_model_module": "@jupyter-widgets/controls",
            "_model_module_version": "1.5.0",
            "_model_name": "DescriptionStyleModel",
            "_view_count": null,
            "_view_module": "@jupyter-widgets/base",
            "_view_module_version": "1.2.0",
            "_view_name": "StyleView",
            "description_width": ""
          }
        },
        "047705eedb8b4dccb3499e5d3f214604": {
          "model_module": "@jupyter-widgets/controls",
          "model_name": "HBoxModel",
          "model_module_version": "1.5.0",
          "state": {
            "_dom_classes": [],
            "_model_module": "@jupyter-widgets/controls",
            "_model_module_version": "1.5.0",
            "_model_name": "HBoxModel",
            "_view_count": null,
            "_view_module": "@jupyter-widgets/controls",
            "_view_module_version": "1.5.0",
            "_view_name": "HBoxView",
            "box_style": "",
            "children": [
              "IPY_MODEL_f8e943f5e3aa4c5b9bdeedc5af785a70",
              "IPY_MODEL_5bce1783e2e84c6c83c10d6802f7880b",
              "IPY_MODEL_996ca4d1da9e4145aa847f3b6ea8eb2d"
            ],
            "layout": "IPY_MODEL_9023f7b0ea7b41629aee6cc16699fbfa"
          }
        },
        "f8e943f5e3aa4c5b9bdeedc5af785a70": {
          "model_module": "@jupyter-widgets/controls",
          "model_name": "HTMLModel",
          "model_module_version": "1.5.0",
          "state": {
            "_dom_classes": [],
            "_model_module": "@jupyter-widgets/controls",
            "_model_module_version": "1.5.0",
            "_model_name": "HTMLModel",
            "_view_count": null,
            "_view_module": "@jupyter-widgets/controls",
            "_view_module_version": "1.5.0",
            "_view_name": "HTMLView",
            "description": "",
            "description_tooltip": null,
            "layout": "IPY_MODEL_c515efc6c8904200af306c9084c3d9d4",
            "placeholder": "​",
            "style": "IPY_MODEL_2d78a6973c894961ba1c7924c7a4aeb3",
            "value": "Downloading (…)lve/main/config.json: 100%"
          }
        },
        "5bce1783e2e84c6c83c10d6802f7880b": {
          "model_module": "@jupyter-widgets/controls",
          "model_name": "FloatProgressModel",
          "model_module_version": "1.5.0",
          "state": {
            "_dom_classes": [],
            "_model_module": "@jupyter-widgets/controls",
            "_model_module_version": "1.5.0",
            "_model_name": "FloatProgressModel",
            "_view_count": null,
            "_view_module": "@jupyter-widgets/controls",
            "_view_module_version": "1.5.0",
            "_view_name": "ProgressView",
            "bar_style": "success",
            "description": "",
            "description_tooltip": null,
            "layout": "IPY_MODEL_9d1513ff3bfb45f5a4c506edb86152ac",
            "max": 656,
            "min": 0,
            "orientation": "horizontal",
            "style": "IPY_MODEL_49a99c5e683e430eb3da082dfd2e3aa0",
            "value": 656
          }
        },
        "996ca4d1da9e4145aa847f3b6ea8eb2d": {
          "model_module": "@jupyter-widgets/controls",
          "model_name": "HTMLModel",
          "model_module_version": "1.5.0",
          "state": {
            "_dom_classes": [],
            "_model_module": "@jupyter-widgets/controls",
            "_model_module_version": "1.5.0",
            "_model_name": "HTMLModel",
            "_view_count": null,
            "_view_module": "@jupyter-widgets/controls",
            "_view_module_version": "1.5.0",
            "_view_name": "HTMLView",
            "description": "",
            "description_tooltip": null,
            "layout": "IPY_MODEL_61ae16ea04b24e008616c41fd045c42c",
            "placeholder": "​",
            "style": "IPY_MODEL_61b2052129084083908b5a9338e96e7d",
            "value": " 656/656 [00:00&lt;00:00, 4.31kB/s]"
          }
        },
        "9023f7b0ea7b41629aee6cc16699fbfa": {
          "model_module": "@jupyter-widgets/base",
          "model_name": "LayoutModel",
          "model_module_version": "1.2.0",
          "state": {
            "_model_module": "@jupyter-widgets/base",
            "_model_module_version": "1.2.0",
            "_model_name": "LayoutModel",
            "_view_count": null,
            "_view_module": "@jupyter-widgets/base",
            "_view_module_version": "1.2.0",
            "_view_name": "LayoutView",
            "align_content": null,
            "align_items": null,
            "align_self": null,
            "border": null,
            "bottom": null,
            "display": null,
            "flex": null,
            "flex_flow": null,
            "grid_area": null,
            "grid_auto_columns": null,
            "grid_auto_flow": null,
            "grid_auto_rows": null,
            "grid_column": null,
            "grid_gap": null,
            "grid_row": null,
            "grid_template_areas": null,
            "grid_template_columns": null,
            "grid_template_rows": null,
            "height": null,
            "justify_content": null,
            "justify_items": null,
            "left": null,
            "margin": null,
            "max_height": null,
            "max_width": null,
            "min_height": null,
            "min_width": null,
            "object_fit": null,
            "object_position": null,
            "order": null,
            "overflow": null,
            "overflow_x": null,
            "overflow_y": null,
            "padding": null,
            "right": null,
            "top": null,
            "visibility": null,
            "width": null
          }
        },
        "c515efc6c8904200af306c9084c3d9d4": {
          "model_module": "@jupyter-widgets/base",
          "model_name": "LayoutModel",
          "model_module_version": "1.2.0",
          "state": {
            "_model_module": "@jupyter-widgets/base",
            "_model_module_version": "1.2.0",
            "_model_name": "LayoutModel",
            "_view_count": null,
            "_view_module": "@jupyter-widgets/base",
            "_view_module_version": "1.2.0",
            "_view_name": "LayoutView",
            "align_content": null,
            "align_items": null,
            "align_self": null,
            "border": null,
            "bottom": null,
            "display": null,
            "flex": null,
            "flex_flow": null,
            "grid_area": null,
            "grid_auto_columns": null,
            "grid_auto_flow": null,
            "grid_auto_rows": null,
            "grid_column": null,
            "grid_gap": null,
            "grid_row": null,
            "grid_template_areas": null,
            "grid_template_columns": null,
            "grid_template_rows": null,
            "height": null,
            "justify_content": null,
            "justify_items": null,
            "left": null,
            "margin": null,
            "max_height": null,
            "max_width": null,
            "min_height": null,
            "min_width": null,
            "object_fit": null,
            "object_position": null,
            "order": null,
            "overflow": null,
            "overflow_x": null,
            "overflow_y": null,
            "padding": null,
            "right": null,
            "top": null,
            "visibility": null,
            "width": null
          }
        },
        "2d78a6973c894961ba1c7924c7a4aeb3": {
          "model_module": "@jupyter-widgets/controls",
          "model_name": "DescriptionStyleModel",
          "model_module_version": "1.5.0",
          "state": {
            "_model_module": "@jupyter-widgets/controls",
            "_model_module_version": "1.5.0",
            "_model_name": "DescriptionStyleModel",
            "_view_count": null,
            "_view_module": "@jupyter-widgets/base",
            "_view_module_version": "1.2.0",
            "_view_name": "StyleView",
            "description_width": ""
          }
        },
        "9d1513ff3bfb45f5a4c506edb86152ac": {
          "model_module": "@jupyter-widgets/base",
          "model_name": "LayoutModel",
          "model_module_version": "1.2.0",
          "state": {
            "_model_module": "@jupyter-widgets/base",
            "_model_module_version": "1.2.0",
            "_model_name": "LayoutModel",
            "_view_count": null,
            "_view_module": "@jupyter-widgets/base",
            "_view_module_version": "1.2.0",
            "_view_name": "LayoutView",
            "align_content": null,
            "align_items": null,
            "align_self": null,
            "border": null,
            "bottom": null,
            "display": null,
            "flex": null,
            "flex_flow": null,
            "grid_area": null,
            "grid_auto_columns": null,
            "grid_auto_flow": null,
            "grid_auto_rows": null,
            "grid_column": null,
            "grid_gap": null,
            "grid_row": null,
            "grid_template_areas": null,
            "grid_template_columns": null,
            "grid_template_rows": null,
            "height": null,
            "justify_content": null,
            "justify_items": null,
            "left": null,
            "margin": null,
            "max_height": null,
            "max_width": null,
            "min_height": null,
            "min_width": null,
            "object_fit": null,
            "object_position": null,
            "order": null,
            "overflow": null,
            "overflow_x": null,
            "overflow_y": null,
            "padding": null,
            "right": null,
            "top": null,
            "visibility": null,
            "width": null
          }
        },
        "49a99c5e683e430eb3da082dfd2e3aa0": {
          "model_module": "@jupyter-widgets/controls",
          "model_name": "ProgressStyleModel",
          "model_module_version": "1.5.0",
          "state": {
            "_model_module": "@jupyter-widgets/controls",
            "_model_module_version": "1.5.0",
            "_model_name": "ProgressStyleModel",
            "_view_count": null,
            "_view_module": "@jupyter-widgets/base",
            "_view_module_version": "1.2.0",
            "_view_name": "StyleView",
            "bar_color": null,
            "description_width": ""
          }
        },
        "61ae16ea04b24e008616c41fd045c42c": {
          "model_module": "@jupyter-widgets/base",
          "model_name": "LayoutModel",
          "model_module_version": "1.2.0",
          "state": {
            "_model_module": "@jupyter-widgets/base",
            "_model_module_version": "1.2.0",
            "_model_name": "LayoutModel",
            "_view_count": null,
            "_view_module": "@jupyter-widgets/base",
            "_view_module_version": "1.2.0",
            "_view_name": "LayoutView",
            "align_content": null,
            "align_items": null,
            "align_self": null,
            "border": null,
            "bottom": null,
            "display": null,
            "flex": null,
            "flex_flow": null,
            "grid_area": null,
            "grid_auto_columns": null,
            "grid_auto_flow": null,
            "grid_auto_rows": null,
            "grid_column": null,
            "grid_gap": null,
            "grid_row": null,
            "grid_template_areas": null,
            "grid_template_columns": null,
            "grid_template_rows": null,
            "height": null,
            "justify_content": null,
            "justify_items": null,
            "left": null,
            "margin": null,
            "max_height": null,
            "max_width": null,
            "min_height": null,
            "min_width": null,
            "object_fit": null,
            "object_position": null,
            "order": null,
            "overflow": null,
            "overflow_x": null,
            "overflow_y": null,
            "padding": null,
            "right": null,
            "top": null,
            "visibility": null,
            "width": null
          }
        },
        "61b2052129084083908b5a9338e96e7d": {
          "model_module": "@jupyter-widgets/controls",
          "model_name": "DescriptionStyleModel",
          "model_module_version": "1.5.0",
          "state": {
            "_model_module": "@jupyter-widgets/controls",
            "_model_module_version": "1.5.0",
            "_model_name": "DescriptionStyleModel",
            "_view_count": null,
            "_view_module": "@jupyter-widgets/base",
            "_view_module_version": "1.2.0",
            "_view_name": "StyleView",
            "description_width": ""
          }
        },
        "0d8fbfd0a5824cffa48ef96d15030bf4": {
          "model_module": "@jupyter-widgets/controls",
          "model_name": "HBoxModel",
          "model_module_version": "1.5.0",
          "state": {
            "_dom_classes": [],
            "_model_module": "@jupyter-widgets/controls",
            "_model_module_version": "1.5.0",
            "_model_name": "HBoxModel",
            "_view_count": null,
            "_view_module": "@jupyter-widgets/controls",
            "_view_module_version": "1.5.0",
            "_view_name": "HBoxView",
            "box_style": "",
            "children": [
              "IPY_MODEL_f135730c6b474aa6ae4cf41b3093ba6c",
              "IPY_MODEL_19ce80d16be94ddb8cb993b310111a5d",
              "IPY_MODEL_4c875970c6924709b802e40d6b108330"
            ],
            "layout": "IPY_MODEL_e5acc897dc534126b96e29ee202a9702"
          }
        },
        "f135730c6b474aa6ae4cf41b3093ba6c": {
          "model_module": "@jupyter-widgets/controls",
          "model_name": "HTMLModel",
          "model_module_version": "1.5.0",
          "state": {
            "_dom_classes": [],
            "_model_module": "@jupyter-widgets/controls",
            "_model_module_version": "1.5.0",
            "_model_name": "HTMLModel",
            "_view_count": null,
            "_view_module": "@jupyter-widgets/controls",
            "_view_module_version": "1.5.0",
            "_view_name": "HTMLView",
            "description": "",
            "description_tooltip": null,
            "layout": "IPY_MODEL_f4e9d9143ea74222932625577a271906",
            "placeholder": "​",
            "style": "IPY_MODEL_339423dbbd03437da51f6ded89872a9a",
            "value": "Downloading (…)ve/main/spiece.model: 100%"
          }
        },
        "19ce80d16be94ddb8cb993b310111a5d": {
          "model_module": "@jupyter-widgets/controls",
          "model_name": "FloatProgressModel",
          "model_module_version": "1.5.0",
          "state": {
            "_dom_classes": [],
            "_model_module": "@jupyter-widgets/controls",
            "_model_module_version": "1.5.0",
            "_model_name": "FloatProgressModel",
            "_view_count": null,
            "_view_module": "@jupyter-widgets/controls",
            "_view_module_version": "1.5.0",
            "_view_name": "ProgressView",
            "bar_style": "success",
            "description": "",
            "description_tooltip": null,
            "layout": "IPY_MODEL_25f3b5b313614aeb9e69b2d29f6a870c",
            "max": 791656,
            "min": 0,
            "orientation": "horizontal",
            "style": "IPY_MODEL_1a872c508dbe4da7b608508115b34fa3",
            "value": 791656
          }
        },
        "4c875970c6924709b802e40d6b108330": {
          "model_module": "@jupyter-widgets/controls",
          "model_name": "HTMLModel",
          "model_module_version": "1.5.0",
          "state": {
            "_dom_classes": [],
            "_model_module": "@jupyter-widgets/controls",
            "_model_module_version": "1.5.0",
            "_model_name": "HTMLModel",
            "_view_count": null,
            "_view_module": "@jupyter-widgets/controls",
            "_view_module_version": "1.5.0",
            "_view_name": "HTMLView",
            "description": "",
            "description_tooltip": null,
            "layout": "IPY_MODEL_9b1f6bba54d6433183d1a5923af7a20c",
            "placeholder": "​",
            "style": "IPY_MODEL_39e80bf3f740426d9ed8f650b35c8ef4",
            "value": " 792k/792k [00:00&lt;00:00, 6.58MB/s]"
          }
        },
        "e5acc897dc534126b96e29ee202a9702": {
          "model_module": "@jupyter-widgets/base",
          "model_name": "LayoutModel",
          "model_module_version": "1.2.0",
          "state": {
            "_model_module": "@jupyter-widgets/base",
            "_model_module_version": "1.2.0",
            "_model_name": "LayoutModel",
            "_view_count": null,
            "_view_module": "@jupyter-widgets/base",
            "_view_module_version": "1.2.0",
            "_view_name": "LayoutView",
            "align_content": null,
            "align_items": null,
            "align_self": null,
            "border": null,
            "bottom": null,
            "display": null,
            "flex": null,
            "flex_flow": null,
            "grid_area": null,
            "grid_auto_columns": null,
            "grid_auto_flow": null,
            "grid_auto_rows": null,
            "grid_column": null,
            "grid_gap": null,
            "grid_row": null,
            "grid_template_areas": null,
            "grid_template_columns": null,
            "grid_template_rows": null,
            "height": null,
            "justify_content": null,
            "justify_items": null,
            "left": null,
            "margin": null,
            "max_height": null,
            "max_width": null,
            "min_height": null,
            "min_width": null,
            "object_fit": null,
            "object_position": null,
            "order": null,
            "overflow": null,
            "overflow_x": null,
            "overflow_y": null,
            "padding": null,
            "right": null,
            "top": null,
            "visibility": null,
            "width": null
          }
        },
        "f4e9d9143ea74222932625577a271906": {
          "model_module": "@jupyter-widgets/base",
          "model_name": "LayoutModel",
          "model_module_version": "1.2.0",
          "state": {
            "_model_module": "@jupyter-widgets/base",
            "_model_module_version": "1.2.0",
            "_model_name": "LayoutModel",
            "_view_count": null,
            "_view_module": "@jupyter-widgets/base",
            "_view_module_version": "1.2.0",
            "_view_name": "LayoutView",
            "align_content": null,
            "align_items": null,
            "align_self": null,
            "border": null,
            "bottom": null,
            "display": null,
            "flex": null,
            "flex_flow": null,
            "grid_area": null,
            "grid_auto_columns": null,
            "grid_auto_flow": null,
            "grid_auto_rows": null,
            "grid_column": null,
            "grid_gap": null,
            "grid_row": null,
            "grid_template_areas": null,
            "grid_template_columns": null,
            "grid_template_rows": null,
            "height": null,
            "justify_content": null,
            "justify_items": null,
            "left": null,
            "margin": null,
            "max_height": null,
            "max_width": null,
            "min_height": null,
            "min_width": null,
            "object_fit": null,
            "object_position": null,
            "order": null,
            "overflow": null,
            "overflow_x": null,
            "overflow_y": null,
            "padding": null,
            "right": null,
            "top": null,
            "visibility": null,
            "width": null
          }
        },
        "339423dbbd03437da51f6ded89872a9a": {
          "model_module": "@jupyter-widgets/controls",
          "model_name": "DescriptionStyleModel",
          "model_module_version": "1.5.0",
          "state": {
            "_model_module": "@jupyter-widgets/controls",
            "_model_module_version": "1.5.0",
            "_model_name": "DescriptionStyleModel",
            "_view_count": null,
            "_view_module": "@jupyter-widgets/base",
            "_view_module_version": "1.2.0",
            "_view_name": "StyleView",
            "description_width": ""
          }
        },
        "25f3b5b313614aeb9e69b2d29f6a870c": {
          "model_module": "@jupyter-widgets/base",
          "model_name": "LayoutModel",
          "model_module_version": "1.2.0",
          "state": {
            "_model_module": "@jupyter-widgets/base",
            "_model_module_version": "1.2.0",
            "_model_name": "LayoutModel",
            "_view_count": null,
            "_view_module": "@jupyter-widgets/base",
            "_view_module_version": "1.2.0",
            "_view_name": "LayoutView",
            "align_content": null,
            "align_items": null,
            "align_self": null,
            "border": null,
            "bottom": null,
            "display": null,
            "flex": null,
            "flex_flow": null,
            "grid_area": null,
            "grid_auto_columns": null,
            "grid_auto_flow": null,
            "grid_auto_rows": null,
            "grid_column": null,
            "grid_gap": null,
            "grid_row": null,
            "grid_template_areas": null,
            "grid_template_columns": null,
            "grid_template_rows": null,
            "height": null,
            "justify_content": null,
            "justify_items": null,
            "left": null,
            "margin": null,
            "max_height": null,
            "max_width": null,
            "min_height": null,
            "min_width": null,
            "object_fit": null,
            "object_position": null,
            "order": null,
            "overflow": null,
            "overflow_x": null,
            "overflow_y": null,
            "padding": null,
            "right": null,
            "top": null,
            "visibility": null,
            "width": null
          }
        },
        "1a872c508dbe4da7b608508115b34fa3": {
          "model_module": "@jupyter-widgets/controls",
          "model_name": "ProgressStyleModel",
          "model_module_version": "1.5.0",
          "state": {
            "_model_module": "@jupyter-widgets/controls",
            "_model_module_version": "1.5.0",
            "_model_name": "ProgressStyleModel",
            "_view_count": null,
            "_view_module": "@jupyter-widgets/base",
            "_view_module_version": "1.2.0",
            "_view_name": "StyleView",
            "bar_color": null,
            "description_width": ""
          }
        },
        "9b1f6bba54d6433183d1a5923af7a20c": {
          "model_module": "@jupyter-widgets/base",
          "model_name": "LayoutModel",
          "model_module_version": "1.2.0",
          "state": {
            "_model_module": "@jupyter-widgets/base",
            "_model_module_version": "1.2.0",
            "_model_name": "LayoutModel",
            "_view_count": null,
            "_view_module": "@jupyter-widgets/base",
            "_view_module_version": "1.2.0",
            "_view_name": "LayoutView",
            "align_content": null,
            "align_items": null,
            "align_self": null,
            "border": null,
            "bottom": null,
            "display": null,
            "flex": null,
            "flex_flow": null,
            "grid_area": null,
            "grid_auto_columns": null,
            "grid_auto_flow": null,
            "grid_auto_rows": null,
            "grid_column": null,
            "grid_gap": null,
            "grid_row": null,
            "grid_template_areas": null,
            "grid_template_columns": null,
            "grid_template_rows": null,
            "height": null,
            "justify_content": null,
            "justify_items": null,
            "left": null,
            "margin": null,
            "max_height": null,
            "max_width": null,
            "min_height": null,
            "min_width": null,
            "object_fit": null,
            "object_position": null,
            "order": null,
            "overflow": null,
            "overflow_x": null,
            "overflow_y": null,
            "padding": null,
            "right": null,
            "top": null,
            "visibility": null,
            "width": null
          }
        },
        "39e80bf3f740426d9ed8f650b35c8ef4": {
          "model_module": "@jupyter-widgets/controls",
          "model_name": "DescriptionStyleModel",
          "model_module_version": "1.5.0",
          "state": {
            "_model_module": "@jupyter-widgets/controls",
            "_model_module_version": "1.5.0",
            "_model_name": "DescriptionStyleModel",
            "_view_count": null,
            "_view_module": "@jupyter-widgets/base",
            "_view_module_version": "1.2.0",
            "_view_name": "StyleView",
            "description_width": ""
          }
        },
        "cc4d0a96ea3f45fa936b3b2475637072": {
          "model_module": "@jupyter-widgets/controls",
          "model_name": "HBoxModel",
          "model_module_version": "1.5.0",
          "state": {
            "_dom_classes": [],
            "_model_module": "@jupyter-widgets/controls",
            "_model_module_version": "1.5.0",
            "_model_name": "HBoxModel",
            "_view_count": null,
            "_view_module": "@jupyter-widgets/controls",
            "_view_module_version": "1.5.0",
            "_view_name": "HBoxView",
            "box_style": "",
            "children": [
              "IPY_MODEL_2d26e805ad904464832d40daa8e38673",
              "IPY_MODEL_d92b2f3ac804478dad675951c34e3f11",
              "IPY_MODEL_34b39e90bfb3429990326533b7ad6bc7"
            ],
            "layout": "IPY_MODEL_4908416a1d8b4d49bcfc6c1f049d9693"
          }
        },
        "2d26e805ad904464832d40daa8e38673": {
          "model_module": "@jupyter-widgets/controls",
          "model_name": "HTMLModel",
          "model_module_version": "1.5.0",
          "state": {
            "_dom_classes": [],
            "_model_module": "@jupyter-widgets/controls",
            "_model_module_version": "1.5.0",
            "_model_name": "HTMLModel",
            "_view_count": null,
            "_view_module": "@jupyter-widgets/controls",
            "_view_module_version": "1.5.0",
            "_view_name": "HTMLView",
            "description": "",
            "description_tooltip": null,
            "layout": "IPY_MODEL_266242ccebe6438c9679f75a95b317a4",
            "placeholder": "​",
            "style": "IPY_MODEL_26708b79c141484281f107b2a7aa8130",
            "value": "Downloading (…)in/added_tokens.json: 100%"
          }
        },
        "d92b2f3ac804478dad675951c34e3f11": {
          "model_module": "@jupyter-widgets/controls",
          "model_name": "FloatProgressModel",
          "model_module_version": "1.5.0",
          "state": {
            "_dom_classes": [],
            "_model_module": "@jupyter-widgets/controls",
            "_model_module_version": "1.5.0",
            "_model_name": "FloatProgressModel",
            "_view_count": null,
            "_view_module": "@jupyter-widgets/controls",
            "_view_module_version": "1.5.0",
            "_view_name": "ProgressView",
            "bar_style": "success",
            "description": "",
            "description_tooltip": null,
            "layout": "IPY_MODEL_5671777a24e54eaca3d819056839a051",
            "max": 31,
            "min": 0,
            "orientation": "horizontal",
            "style": "IPY_MODEL_d6c59793c1a54a8eb4db77a9f32d48e2",
            "value": 31
          }
        },
        "34b39e90bfb3429990326533b7ad6bc7": {
          "model_module": "@jupyter-widgets/controls",
          "model_name": "HTMLModel",
          "model_module_version": "1.5.0",
          "state": {
            "_dom_classes": [],
            "_model_module": "@jupyter-widgets/controls",
            "_model_module_version": "1.5.0",
            "_model_name": "HTMLModel",
            "_view_count": null,
            "_view_module": "@jupyter-widgets/controls",
            "_view_module_version": "1.5.0",
            "_view_name": "HTMLView",
            "description": "",
            "description_tooltip": null,
            "layout": "IPY_MODEL_753092fe73214c1993cd8932d0f429d9",
            "placeholder": "​",
            "style": "IPY_MODEL_a11de0abaa0e4b9b98f4f36e50c6cee7",
            "value": " 31.0/31.0 [00:00&lt;00:00, 229B/s]"
          }
        },
        "4908416a1d8b4d49bcfc6c1f049d9693": {
          "model_module": "@jupyter-widgets/base",
          "model_name": "LayoutModel",
          "model_module_version": "1.2.0",
          "state": {
            "_model_module": "@jupyter-widgets/base",
            "_model_module_version": "1.2.0",
            "_model_name": "LayoutModel",
            "_view_count": null,
            "_view_module": "@jupyter-widgets/base",
            "_view_module_version": "1.2.0",
            "_view_name": "LayoutView",
            "align_content": null,
            "align_items": null,
            "align_self": null,
            "border": null,
            "bottom": null,
            "display": null,
            "flex": null,
            "flex_flow": null,
            "grid_area": null,
            "grid_auto_columns": null,
            "grid_auto_flow": null,
            "grid_auto_rows": null,
            "grid_column": null,
            "grid_gap": null,
            "grid_row": null,
            "grid_template_areas": null,
            "grid_template_columns": null,
            "grid_template_rows": null,
            "height": null,
            "justify_content": null,
            "justify_items": null,
            "left": null,
            "margin": null,
            "max_height": null,
            "max_width": null,
            "min_height": null,
            "min_width": null,
            "object_fit": null,
            "object_position": null,
            "order": null,
            "overflow": null,
            "overflow_x": null,
            "overflow_y": null,
            "padding": null,
            "right": null,
            "top": null,
            "visibility": null,
            "width": null
          }
        },
        "266242ccebe6438c9679f75a95b317a4": {
          "model_module": "@jupyter-widgets/base",
          "model_name": "LayoutModel",
          "model_module_version": "1.2.0",
          "state": {
            "_model_module": "@jupyter-widgets/base",
            "_model_module_version": "1.2.0",
            "_model_name": "LayoutModel",
            "_view_count": null,
            "_view_module": "@jupyter-widgets/base",
            "_view_module_version": "1.2.0",
            "_view_name": "LayoutView",
            "align_content": null,
            "align_items": null,
            "align_self": null,
            "border": null,
            "bottom": null,
            "display": null,
            "flex": null,
            "flex_flow": null,
            "grid_area": null,
            "grid_auto_columns": null,
            "grid_auto_flow": null,
            "grid_auto_rows": null,
            "grid_column": null,
            "grid_gap": null,
            "grid_row": null,
            "grid_template_areas": null,
            "grid_template_columns": null,
            "grid_template_rows": null,
            "height": null,
            "justify_content": null,
            "justify_items": null,
            "left": null,
            "margin": null,
            "max_height": null,
            "max_width": null,
            "min_height": null,
            "min_width": null,
            "object_fit": null,
            "object_position": null,
            "order": null,
            "overflow": null,
            "overflow_x": null,
            "overflow_y": null,
            "padding": null,
            "right": null,
            "top": null,
            "visibility": null,
            "width": null
          }
        },
        "26708b79c141484281f107b2a7aa8130": {
          "model_module": "@jupyter-widgets/controls",
          "model_name": "DescriptionStyleModel",
          "model_module_version": "1.5.0",
          "state": {
            "_model_module": "@jupyter-widgets/controls",
            "_model_module_version": "1.5.0",
            "_model_name": "DescriptionStyleModel",
            "_view_count": null,
            "_view_module": "@jupyter-widgets/base",
            "_view_module_version": "1.2.0",
            "_view_name": "StyleView",
            "description_width": ""
          }
        },
        "5671777a24e54eaca3d819056839a051": {
          "model_module": "@jupyter-widgets/base",
          "model_name": "LayoutModel",
          "model_module_version": "1.2.0",
          "state": {
            "_model_module": "@jupyter-widgets/base",
            "_model_module_version": "1.2.0",
            "_model_name": "LayoutModel",
            "_view_count": null,
            "_view_module": "@jupyter-widgets/base",
            "_view_module_version": "1.2.0",
            "_view_name": "LayoutView",
            "align_content": null,
            "align_items": null,
            "align_self": null,
            "border": null,
            "bottom": null,
            "display": null,
            "flex": null,
            "flex_flow": null,
            "grid_area": null,
            "grid_auto_columns": null,
            "grid_auto_flow": null,
            "grid_auto_rows": null,
            "grid_column": null,
            "grid_gap": null,
            "grid_row": null,
            "grid_template_areas": null,
            "grid_template_columns": null,
            "grid_template_rows": null,
            "height": null,
            "justify_content": null,
            "justify_items": null,
            "left": null,
            "margin": null,
            "max_height": null,
            "max_width": null,
            "min_height": null,
            "min_width": null,
            "object_fit": null,
            "object_position": null,
            "order": null,
            "overflow": null,
            "overflow_x": null,
            "overflow_y": null,
            "padding": null,
            "right": null,
            "top": null,
            "visibility": null,
            "width": null
          }
        },
        "d6c59793c1a54a8eb4db77a9f32d48e2": {
          "model_module": "@jupyter-widgets/controls",
          "model_name": "ProgressStyleModel",
          "model_module_version": "1.5.0",
          "state": {
            "_model_module": "@jupyter-widgets/controls",
            "_model_module_version": "1.5.0",
            "_model_name": "ProgressStyleModel",
            "_view_count": null,
            "_view_module": "@jupyter-widgets/base",
            "_view_module_version": "1.2.0",
            "_view_name": "StyleView",
            "bar_color": null,
            "description_width": ""
          }
        },
        "753092fe73214c1993cd8932d0f429d9": {
          "model_module": "@jupyter-widgets/base",
          "model_name": "LayoutModel",
          "model_module_version": "1.2.0",
          "state": {
            "_model_module": "@jupyter-widgets/base",
            "_model_module_version": "1.2.0",
            "_model_name": "LayoutModel",
            "_view_count": null,
            "_view_module": "@jupyter-widgets/base",
            "_view_module_version": "1.2.0",
            "_view_name": "LayoutView",
            "align_content": null,
            "align_items": null,
            "align_self": null,
            "border": null,
            "bottom": null,
            "display": null,
            "flex": null,
            "flex_flow": null,
            "grid_area": null,
            "grid_auto_columns": null,
            "grid_auto_flow": null,
            "grid_auto_rows": null,
            "grid_column": null,
            "grid_gap": null,
            "grid_row": null,
            "grid_template_areas": null,
            "grid_template_columns": null,
            "grid_template_rows": null,
            "height": null,
            "justify_content": null,
            "justify_items": null,
            "left": null,
            "margin": null,
            "max_height": null,
            "max_width": null,
            "min_height": null,
            "min_width": null,
            "object_fit": null,
            "object_position": null,
            "order": null,
            "overflow": null,
            "overflow_x": null,
            "overflow_y": null,
            "padding": null,
            "right": null,
            "top": null,
            "visibility": null,
            "width": null
          }
        },
        "a11de0abaa0e4b9b98f4f36e50c6cee7": {
          "model_module": "@jupyter-widgets/controls",
          "model_name": "DescriptionStyleModel",
          "model_module_version": "1.5.0",
          "state": {
            "_model_module": "@jupyter-widgets/controls",
            "_model_module_version": "1.5.0",
            "_model_name": "DescriptionStyleModel",
            "_view_count": null,
            "_view_module": "@jupyter-widgets/base",
            "_view_module_version": "1.2.0",
            "_view_name": "StyleView",
            "description_width": ""
          }
        },
        "566ff9c4f43341bd9b71293a82abb773": {
          "model_module": "@jupyter-widgets/controls",
          "model_name": "HBoxModel",
          "model_module_version": "1.5.0",
          "state": {
            "_dom_classes": [],
            "_model_module": "@jupyter-widgets/controls",
            "_model_module_version": "1.5.0",
            "_model_name": "HBoxModel",
            "_view_count": null,
            "_view_module": "@jupyter-widgets/controls",
            "_view_module_version": "1.5.0",
            "_view_name": "HBoxView",
            "box_style": "",
            "children": [
              "IPY_MODEL_6fa3dcc019c34e6fa0de2ee37449e762",
              "IPY_MODEL_fb4a535a7ca04c65b5f7f87f6adce42f",
              "IPY_MODEL_ba82eeae031e46a7a618e761dbda3b16"
            ],
            "layout": "IPY_MODEL_406417f599c94e4eaebb577856dd5b16"
          }
        },
        "6fa3dcc019c34e6fa0de2ee37449e762": {
          "model_module": "@jupyter-widgets/controls",
          "model_name": "HTMLModel",
          "model_module_version": "1.5.0",
          "state": {
            "_dom_classes": [],
            "_model_module": "@jupyter-widgets/controls",
            "_model_module_version": "1.5.0",
            "_model_name": "HTMLModel",
            "_view_count": null,
            "_view_module": "@jupyter-widgets/controls",
            "_view_module_version": "1.5.0",
            "_view_name": "HTMLView",
            "description": "",
            "description_tooltip": null,
            "layout": "IPY_MODEL_35d74472be084d43a4d979333d028668",
            "placeholder": "​",
            "style": "IPY_MODEL_b97b2c88d7f644498f6fbed956323422",
            "value": "Downloading (…)cial_tokens_map.json: 100%"
          }
        },
        "fb4a535a7ca04c65b5f7f87f6adce42f": {
          "model_module": "@jupyter-widgets/controls",
          "model_name": "FloatProgressModel",
          "model_module_version": "1.5.0",
          "state": {
            "_dom_classes": [],
            "_model_module": "@jupyter-widgets/controls",
            "_model_module_version": "1.5.0",
            "_model_name": "FloatProgressModel",
            "_view_count": null,
            "_view_module": "@jupyter-widgets/controls",
            "_view_module_version": "1.5.0",
            "_view_name": "ProgressView",
            "bar_style": "success",
            "description": "",
            "description_tooltip": null,
            "layout": "IPY_MODEL_a37ac1ccef064f07a643cc32b9ed20c3",
            "max": 65,
            "min": 0,
            "orientation": "horizontal",
            "style": "IPY_MODEL_3b2f4550f6bd44d1acee661c36faae5c",
            "value": 65
          }
        },
        "ba82eeae031e46a7a618e761dbda3b16": {
          "model_module": "@jupyter-widgets/controls",
          "model_name": "HTMLModel",
          "model_module_version": "1.5.0",
          "state": {
            "_dom_classes": [],
            "_model_module": "@jupyter-widgets/controls",
            "_model_module_version": "1.5.0",
            "_model_name": "HTMLModel",
            "_view_count": null,
            "_view_module": "@jupyter-widgets/controls",
            "_view_module_version": "1.5.0",
            "_view_name": "HTMLView",
            "description": "",
            "description_tooltip": null,
            "layout": "IPY_MODEL_67b6a8689ccb469e94bd2c74147c8c88",
            "placeholder": "​",
            "style": "IPY_MODEL_548f8cd1a1c147fc8e05ba4fad7fc36f",
            "value": " 65.0/65.0 [00:00&lt;00:00, 484B/s]"
          }
        },
        "406417f599c94e4eaebb577856dd5b16": {
          "model_module": "@jupyter-widgets/base",
          "model_name": "LayoutModel",
          "model_module_version": "1.2.0",
          "state": {
            "_model_module": "@jupyter-widgets/base",
            "_model_module_version": "1.2.0",
            "_model_name": "LayoutModel",
            "_view_count": null,
            "_view_module": "@jupyter-widgets/base",
            "_view_module_version": "1.2.0",
            "_view_name": "LayoutView",
            "align_content": null,
            "align_items": null,
            "align_self": null,
            "border": null,
            "bottom": null,
            "display": null,
            "flex": null,
            "flex_flow": null,
            "grid_area": null,
            "grid_auto_columns": null,
            "grid_auto_flow": null,
            "grid_auto_rows": null,
            "grid_column": null,
            "grid_gap": null,
            "grid_row": null,
            "grid_template_areas": null,
            "grid_template_columns": null,
            "grid_template_rows": null,
            "height": null,
            "justify_content": null,
            "justify_items": null,
            "left": null,
            "margin": null,
            "max_height": null,
            "max_width": null,
            "min_height": null,
            "min_width": null,
            "object_fit": null,
            "object_position": null,
            "order": null,
            "overflow": null,
            "overflow_x": null,
            "overflow_y": null,
            "padding": null,
            "right": null,
            "top": null,
            "visibility": null,
            "width": null
          }
        },
        "35d74472be084d43a4d979333d028668": {
          "model_module": "@jupyter-widgets/base",
          "model_name": "LayoutModel",
          "model_module_version": "1.2.0",
          "state": {
            "_model_module": "@jupyter-widgets/base",
            "_model_module_version": "1.2.0",
            "_model_name": "LayoutModel",
            "_view_count": null,
            "_view_module": "@jupyter-widgets/base",
            "_view_module_version": "1.2.0",
            "_view_name": "LayoutView",
            "align_content": null,
            "align_items": null,
            "align_self": null,
            "border": null,
            "bottom": null,
            "display": null,
            "flex": null,
            "flex_flow": null,
            "grid_area": null,
            "grid_auto_columns": null,
            "grid_auto_flow": null,
            "grid_auto_rows": null,
            "grid_column": null,
            "grid_gap": null,
            "grid_row": null,
            "grid_template_areas": null,
            "grid_template_columns": null,
            "grid_template_rows": null,
            "height": null,
            "justify_content": null,
            "justify_items": null,
            "left": null,
            "margin": null,
            "max_height": null,
            "max_width": null,
            "min_height": null,
            "min_width": null,
            "object_fit": null,
            "object_position": null,
            "order": null,
            "overflow": null,
            "overflow_x": null,
            "overflow_y": null,
            "padding": null,
            "right": null,
            "top": null,
            "visibility": null,
            "width": null
          }
        },
        "b97b2c88d7f644498f6fbed956323422": {
          "model_module": "@jupyter-widgets/controls",
          "model_name": "DescriptionStyleModel",
          "model_module_version": "1.5.0",
          "state": {
            "_model_module": "@jupyter-widgets/controls",
            "_model_module_version": "1.5.0",
            "_model_name": "DescriptionStyleModel",
            "_view_count": null,
            "_view_module": "@jupyter-widgets/base",
            "_view_module_version": "1.2.0",
            "_view_name": "StyleView",
            "description_width": ""
          }
        },
        "a37ac1ccef064f07a643cc32b9ed20c3": {
          "model_module": "@jupyter-widgets/base",
          "model_name": "LayoutModel",
          "model_module_version": "1.2.0",
          "state": {
            "_model_module": "@jupyter-widgets/base",
            "_model_module_version": "1.2.0",
            "_model_name": "LayoutModel",
            "_view_count": null,
            "_view_module": "@jupyter-widgets/base",
            "_view_module_version": "1.2.0",
            "_view_name": "LayoutView",
            "align_content": null,
            "align_items": null,
            "align_self": null,
            "border": null,
            "bottom": null,
            "display": null,
            "flex": null,
            "flex_flow": null,
            "grid_area": null,
            "grid_auto_columns": null,
            "grid_auto_flow": null,
            "grid_auto_rows": null,
            "grid_column": null,
            "grid_gap": null,
            "grid_row": null,
            "grid_template_areas": null,
            "grid_template_columns": null,
            "grid_template_rows": null,
            "height": null,
            "justify_content": null,
            "justify_items": null,
            "left": null,
            "margin": null,
            "max_height": null,
            "max_width": null,
            "min_height": null,
            "min_width": null,
            "object_fit": null,
            "object_position": null,
            "order": null,
            "overflow": null,
            "overflow_x": null,
            "overflow_y": null,
            "padding": null,
            "right": null,
            "top": null,
            "visibility": null,
            "width": null
          }
        },
        "3b2f4550f6bd44d1acee661c36faae5c": {
          "model_module": "@jupyter-widgets/controls",
          "model_name": "ProgressStyleModel",
          "model_module_version": "1.5.0",
          "state": {
            "_model_module": "@jupyter-widgets/controls",
            "_model_module_version": "1.5.0",
            "_model_name": "ProgressStyleModel",
            "_view_count": null,
            "_view_module": "@jupyter-widgets/base",
            "_view_module_version": "1.2.0",
            "_view_name": "StyleView",
            "bar_color": null,
            "description_width": ""
          }
        },
        "67b6a8689ccb469e94bd2c74147c8c88": {
          "model_module": "@jupyter-widgets/base",
          "model_name": "LayoutModel",
          "model_module_version": "1.2.0",
          "state": {
            "_model_module": "@jupyter-widgets/base",
            "_model_module_version": "1.2.0",
            "_model_name": "LayoutModel",
            "_view_count": null,
            "_view_module": "@jupyter-widgets/base",
            "_view_module_version": "1.2.0",
            "_view_name": "LayoutView",
            "align_content": null,
            "align_items": null,
            "align_self": null,
            "border": null,
            "bottom": null,
            "display": null,
            "flex": null,
            "flex_flow": null,
            "grid_area": null,
            "grid_auto_columns": null,
            "grid_auto_flow": null,
            "grid_auto_rows": null,
            "grid_column": null,
            "grid_gap": null,
            "grid_row": null,
            "grid_template_areas": null,
            "grid_template_columns": null,
            "grid_template_rows": null,
            "height": null,
            "justify_content": null,
            "justify_items": null,
            "left": null,
            "margin": null,
            "max_height": null,
            "max_width": null,
            "min_height": null,
            "min_width": null,
            "object_fit": null,
            "object_position": null,
            "order": null,
            "overflow": null,
            "overflow_x": null,
            "overflow_y": null,
            "padding": null,
            "right": null,
            "top": null,
            "visibility": null,
            "width": null
          }
        },
        "548f8cd1a1c147fc8e05ba4fad7fc36f": {
          "model_module": "@jupyter-widgets/controls",
          "model_name": "DescriptionStyleModel",
          "model_module_version": "1.5.0",
          "state": {
            "_model_module": "@jupyter-widgets/controls",
            "_model_module_version": "1.5.0",
            "_model_name": "DescriptionStyleModel",
            "_view_count": null,
            "_view_module": "@jupyter-widgets/base",
            "_view_module_version": "1.2.0",
            "_view_name": "StyleView",
            "description_width": ""
          }
        },
        "892769039f484d20bfac3ca2a8d85cc9": {
          "model_module": "@jupyter-widgets/controls",
          "model_name": "HBoxModel",
          "model_module_version": "1.5.0",
          "state": {
            "_dom_classes": [],
            "_model_module": "@jupyter-widgets/controls",
            "_model_module_version": "1.5.0",
            "_model_name": "HBoxModel",
            "_view_count": null,
            "_view_module": "@jupyter-widgets/controls",
            "_view_module_version": "1.5.0",
            "_view_name": "HBoxView",
            "box_style": "",
            "children": [
              "IPY_MODEL_3e1cffe99e814ce28e7a3a668c063c22",
              "IPY_MODEL_543020c6e2c84127bd7f39997b16f238",
              "IPY_MODEL_4407d02a74374afba6ea7c4b8b4a4a38"
            ],
            "layout": "IPY_MODEL_432c4375578646f4b7230537ba9efaee"
          }
        },
        "3e1cffe99e814ce28e7a3a668c063c22": {
          "model_module": "@jupyter-widgets/controls",
          "model_name": "HTMLModel",
          "model_module_version": "1.5.0",
          "state": {
            "_dom_classes": [],
            "_model_module": "@jupyter-widgets/controls",
            "_model_module_version": "1.5.0",
            "_model_name": "HTMLModel",
            "_view_count": null,
            "_view_module": "@jupyter-widgets/controls",
            "_view_module_version": "1.5.0",
            "_view_name": "HTMLView",
            "description": "",
            "description_tooltip": null,
            "layout": "IPY_MODEL_662bf560702541628d3521bf27f1564f",
            "placeholder": "​",
            "style": "IPY_MODEL_e74ab4bf99df4ad7abf10f31a8c54354",
            "value": "Downloading pytorch_model.bin: 100%"
          }
        },
        "543020c6e2c84127bd7f39997b16f238": {
          "model_module": "@jupyter-widgets/controls",
          "model_name": "FloatProgressModel",
          "model_module_version": "1.5.0",
          "state": {
            "_dom_classes": [],
            "_model_module": "@jupyter-widgets/controls",
            "_model_module_version": "1.5.0",
            "_model_name": "FloatProgressModel",
            "_view_count": null,
            "_view_module": "@jupyter-widgets/controls",
            "_view_module_version": "1.5.0",
            "_view_name": "ProgressView",
            "bar_style": "success",
            "description": "",
            "description_tooltip": null,
            "layout": "IPY_MODEL_f350e4de6faf4422a5a168c7ed31f09b",
            "max": 242013376,
            "min": 0,
            "orientation": "horizontal",
            "style": "IPY_MODEL_09fe7d16a0424b5094bc4239d14bc416",
            "value": 242013376
          }
        },
        "4407d02a74374afba6ea7c4b8b4a4a38": {
          "model_module": "@jupyter-widgets/controls",
          "model_name": "HTMLModel",
          "model_module_version": "1.5.0",
          "state": {
            "_dom_classes": [],
            "_model_module": "@jupyter-widgets/controls",
            "_model_module_version": "1.5.0",
            "_model_name": "HTMLModel",
            "_view_count": null,
            "_view_module": "@jupyter-widgets/controls",
            "_view_module_version": "1.5.0",
            "_view_name": "HTMLView",
            "description": "",
            "description_tooltip": null,
            "layout": "IPY_MODEL_ceab3bfdbc24493bb074e92df078a97f",
            "placeholder": "​",
            "style": "IPY_MODEL_8fa756372c7b4092908420383c7e1539",
            "value": " 242M/242M [00:03&lt;00:00, 76.6MB/s]"
          }
        },
        "432c4375578646f4b7230537ba9efaee": {
          "model_module": "@jupyter-widgets/base",
          "model_name": "LayoutModel",
          "model_module_version": "1.2.0",
          "state": {
            "_model_module": "@jupyter-widgets/base",
            "_model_module_version": "1.2.0",
            "_model_name": "LayoutModel",
            "_view_count": null,
            "_view_module": "@jupyter-widgets/base",
            "_view_module_version": "1.2.0",
            "_view_name": "LayoutView",
            "align_content": null,
            "align_items": null,
            "align_self": null,
            "border": null,
            "bottom": null,
            "display": null,
            "flex": null,
            "flex_flow": null,
            "grid_area": null,
            "grid_auto_columns": null,
            "grid_auto_flow": null,
            "grid_auto_rows": null,
            "grid_column": null,
            "grid_gap": null,
            "grid_row": null,
            "grid_template_areas": null,
            "grid_template_columns": null,
            "grid_template_rows": null,
            "height": null,
            "justify_content": null,
            "justify_items": null,
            "left": null,
            "margin": null,
            "max_height": null,
            "max_width": null,
            "min_height": null,
            "min_width": null,
            "object_fit": null,
            "object_position": null,
            "order": null,
            "overflow": null,
            "overflow_x": null,
            "overflow_y": null,
            "padding": null,
            "right": null,
            "top": null,
            "visibility": null,
            "width": null
          }
        },
        "662bf560702541628d3521bf27f1564f": {
          "model_module": "@jupyter-widgets/base",
          "model_name": "LayoutModel",
          "model_module_version": "1.2.0",
          "state": {
            "_model_module": "@jupyter-widgets/base",
            "_model_module_version": "1.2.0",
            "_model_name": "LayoutModel",
            "_view_count": null,
            "_view_module": "@jupyter-widgets/base",
            "_view_module_version": "1.2.0",
            "_view_name": "LayoutView",
            "align_content": null,
            "align_items": null,
            "align_self": null,
            "border": null,
            "bottom": null,
            "display": null,
            "flex": null,
            "flex_flow": null,
            "grid_area": null,
            "grid_auto_columns": null,
            "grid_auto_flow": null,
            "grid_auto_rows": null,
            "grid_column": null,
            "grid_gap": null,
            "grid_row": null,
            "grid_template_areas": null,
            "grid_template_columns": null,
            "grid_template_rows": null,
            "height": null,
            "justify_content": null,
            "justify_items": null,
            "left": null,
            "margin": null,
            "max_height": null,
            "max_width": null,
            "min_height": null,
            "min_width": null,
            "object_fit": null,
            "object_position": null,
            "order": null,
            "overflow": null,
            "overflow_x": null,
            "overflow_y": null,
            "padding": null,
            "right": null,
            "top": null,
            "visibility": null,
            "width": null
          }
        },
        "e74ab4bf99df4ad7abf10f31a8c54354": {
          "model_module": "@jupyter-widgets/controls",
          "model_name": "DescriptionStyleModel",
          "model_module_version": "1.5.0",
          "state": {
            "_model_module": "@jupyter-widgets/controls",
            "_model_module_version": "1.5.0",
            "_model_name": "DescriptionStyleModel",
            "_view_count": null,
            "_view_module": "@jupyter-widgets/base",
            "_view_module_version": "1.2.0",
            "_view_name": "StyleView",
            "description_width": ""
          }
        },
        "f350e4de6faf4422a5a168c7ed31f09b": {
          "model_module": "@jupyter-widgets/base",
          "model_name": "LayoutModel",
          "model_module_version": "1.2.0",
          "state": {
            "_model_module": "@jupyter-widgets/base",
            "_model_module_version": "1.2.0",
            "_model_name": "LayoutModel",
            "_view_count": null,
            "_view_module": "@jupyter-widgets/base",
            "_view_module_version": "1.2.0",
            "_view_name": "LayoutView",
            "align_content": null,
            "align_items": null,
            "align_self": null,
            "border": null,
            "bottom": null,
            "display": null,
            "flex": null,
            "flex_flow": null,
            "grid_area": null,
            "grid_auto_columns": null,
            "grid_auto_flow": null,
            "grid_auto_rows": null,
            "grid_column": null,
            "grid_gap": null,
            "grid_row": null,
            "grid_template_areas": null,
            "grid_template_columns": null,
            "grid_template_rows": null,
            "height": null,
            "justify_content": null,
            "justify_items": null,
            "left": null,
            "margin": null,
            "max_height": null,
            "max_width": null,
            "min_height": null,
            "min_width": null,
            "object_fit": null,
            "object_position": null,
            "order": null,
            "overflow": null,
            "overflow_x": null,
            "overflow_y": null,
            "padding": null,
            "right": null,
            "top": null,
            "visibility": null,
            "width": null
          }
        },
        "09fe7d16a0424b5094bc4239d14bc416": {
          "model_module": "@jupyter-widgets/controls",
          "model_name": "ProgressStyleModel",
          "model_module_version": "1.5.0",
          "state": {
            "_model_module": "@jupyter-widgets/controls",
            "_model_module_version": "1.5.0",
            "_model_name": "ProgressStyleModel",
            "_view_count": null,
            "_view_module": "@jupyter-widgets/base",
            "_view_module_version": "1.2.0",
            "_view_name": "StyleView",
            "bar_color": null,
            "description_width": ""
          }
        },
        "ceab3bfdbc24493bb074e92df078a97f": {
          "model_module": "@jupyter-widgets/base",
          "model_name": "LayoutModel",
          "model_module_version": "1.2.0",
          "state": {
            "_model_module": "@jupyter-widgets/base",
            "_model_module_version": "1.2.0",
            "_model_name": "LayoutModel",
            "_view_count": null,
            "_view_module": "@jupyter-widgets/base",
            "_view_module_version": "1.2.0",
            "_view_name": "LayoutView",
            "align_content": null,
            "align_items": null,
            "align_self": null,
            "border": null,
            "bottom": null,
            "display": null,
            "flex": null,
            "flex_flow": null,
            "grid_area": null,
            "grid_auto_columns": null,
            "grid_auto_flow": null,
            "grid_auto_rows": null,
            "grid_column": null,
            "grid_gap": null,
            "grid_row": null,
            "grid_template_areas": null,
            "grid_template_columns": null,
            "grid_template_rows": null,
            "height": null,
            "justify_content": null,
            "justify_items": null,
            "left": null,
            "margin": null,
            "max_height": null,
            "max_width": null,
            "min_height": null,
            "min_width": null,
            "object_fit": null,
            "object_position": null,
            "order": null,
            "overflow": null,
            "overflow_x": null,
            "overflow_y": null,
            "padding": null,
            "right": null,
            "top": null,
            "visibility": null,
            "width": null
          }
        },
        "8fa756372c7b4092908420383c7e1539": {
          "model_module": "@jupyter-widgets/controls",
          "model_name": "DescriptionStyleModel",
          "model_module_version": "1.5.0",
          "state": {
            "_model_module": "@jupyter-widgets/controls",
            "_model_module_version": "1.5.0",
            "_model_name": "DescriptionStyleModel",
            "_view_count": null,
            "_view_module": "@jupyter-widgets/base",
            "_view_module_version": "1.2.0",
            "_view_name": "StyleView",
            "description_width": ""
          }
        },
        "92a4f8ac0a244c5fa3da44fde468d38e": {
          "model_module": "@jupyter-widgets/controls",
          "model_name": "HBoxModel",
          "model_module_version": "1.5.0",
          "state": {
            "_dom_classes": [],
            "_model_module": "@jupyter-widgets/controls",
            "_model_module_version": "1.5.0",
            "_model_name": "HBoxModel",
            "_view_count": null,
            "_view_module": "@jupyter-widgets/controls",
            "_view_module_version": "1.5.0",
            "_view_name": "HBoxView",
            "box_style": "",
            "children": [
              "IPY_MODEL_a13b0cd5b7ae4a94a401566d3b39b784",
              "IPY_MODEL_68ec1853d27349fbbc4058321cfa4bf0",
              "IPY_MODEL_2238b4b44bd1451d87567092055abf32"
            ],
            "layout": "IPY_MODEL_ed612287a0d64409afc3109a68a81ec3"
          }
        },
        "a13b0cd5b7ae4a94a401566d3b39b784": {
          "model_module": "@jupyter-widgets/controls",
          "model_name": "HTMLModel",
          "model_module_version": "1.5.0",
          "state": {
            "_dom_classes": [],
            "_model_module": "@jupyter-widgets/controls",
            "_model_module_version": "1.5.0",
            "_model_name": "HTMLModel",
            "_view_count": null,
            "_view_module": "@jupyter-widgets/controls",
            "_view_module_version": "1.5.0",
            "_view_name": "HTMLView",
            "description": "",
            "description_tooltip": null,
            "layout": "IPY_MODEL_2bd1c89a05a3422882aeddba934e6bd0",
            "placeholder": "​",
            "style": "IPY_MODEL_ea820b38d5994d8bb525f62498a94241",
            "value": "Downloading (…)okenizer_config.json: 100%"
          }
        },
        "68ec1853d27349fbbc4058321cfa4bf0": {
          "model_module": "@jupyter-widgets/controls",
          "model_name": "FloatProgressModel",
          "model_module_version": "1.5.0",
          "state": {
            "_dom_classes": [],
            "_model_module": "@jupyter-widgets/controls",
            "_model_module_version": "1.5.0",
            "_model_name": "FloatProgressModel",
            "_view_count": null,
            "_view_module": "@jupyter-widgets/controls",
            "_view_module_version": "1.5.0",
            "_view_name": "ProgressView",
            "bar_style": "success",
            "description": "",
            "description_tooltip": null,
            "layout": "IPY_MODEL_f6a6d35d8b80446183088b2504ae799c",
            "max": 124,
            "min": 0,
            "orientation": "horizontal",
            "style": "IPY_MODEL_664a01bfb9334026a3d34336c18a1b5f",
            "value": 124
          }
        },
        "2238b4b44bd1451d87567092055abf32": {
          "model_module": "@jupyter-widgets/controls",
          "model_name": "HTMLModel",
          "model_module_version": "1.5.0",
          "state": {
            "_dom_classes": [],
            "_model_module": "@jupyter-widgets/controls",
            "_model_module_version": "1.5.0",
            "_model_name": "HTMLModel",
            "_view_count": null,
            "_view_module": "@jupyter-widgets/controls",
            "_view_module_version": "1.5.0",
            "_view_name": "HTMLView",
            "description": "",
            "description_tooltip": null,
            "layout": "IPY_MODEL_4c1f42f6cdeb4a95861391dba5a4da8c",
            "placeholder": "​",
            "style": "IPY_MODEL_8a6f4bf9833947c68236132cb8817f61",
            "value": " 124/124 [00:00&lt;00:00, 2.37kB/s]"
          }
        },
        "ed612287a0d64409afc3109a68a81ec3": {
          "model_module": "@jupyter-widgets/base",
          "model_name": "LayoutModel",
          "model_module_version": "1.2.0",
          "state": {
            "_model_module": "@jupyter-widgets/base",
            "_model_module_version": "1.2.0",
            "_model_name": "LayoutModel",
            "_view_count": null,
            "_view_module": "@jupyter-widgets/base",
            "_view_module_version": "1.2.0",
            "_view_name": "LayoutView",
            "align_content": null,
            "align_items": null,
            "align_self": null,
            "border": null,
            "bottom": null,
            "display": null,
            "flex": null,
            "flex_flow": null,
            "grid_area": null,
            "grid_auto_columns": null,
            "grid_auto_flow": null,
            "grid_auto_rows": null,
            "grid_column": null,
            "grid_gap": null,
            "grid_row": null,
            "grid_template_areas": null,
            "grid_template_columns": null,
            "grid_template_rows": null,
            "height": null,
            "justify_content": null,
            "justify_items": null,
            "left": null,
            "margin": null,
            "max_height": null,
            "max_width": null,
            "min_height": null,
            "min_width": null,
            "object_fit": null,
            "object_position": null,
            "order": null,
            "overflow": null,
            "overflow_x": null,
            "overflow_y": null,
            "padding": null,
            "right": null,
            "top": null,
            "visibility": null,
            "width": null
          }
        },
        "2bd1c89a05a3422882aeddba934e6bd0": {
          "model_module": "@jupyter-widgets/base",
          "model_name": "LayoutModel",
          "model_module_version": "1.2.0",
          "state": {
            "_model_module": "@jupyter-widgets/base",
            "_model_module_version": "1.2.0",
            "_model_name": "LayoutModel",
            "_view_count": null,
            "_view_module": "@jupyter-widgets/base",
            "_view_module_version": "1.2.0",
            "_view_name": "LayoutView",
            "align_content": null,
            "align_items": null,
            "align_self": null,
            "border": null,
            "bottom": null,
            "display": null,
            "flex": null,
            "flex_flow": null,
            "grid_area": null,
            "grid_auto_columns": null,
            "grid_auto_flow": null,
            "grid_auto_rows": null,
            "grid_column": null,
            "grid_gap": null,
            "grid_row": null,
            "grid_template_areas": null,
            "grid_template_columns": null,
            "grid_template_rows": null,
            "height": null,
            "justify_content": null,
            "justify_items": null,
            "left": null,
            "margin": null,
            "max_height": null,
            "max_width": null,
            "min_height": null,
            "min_width": null,
            "object_fit": null,
            "object_position": null,
            "order": null,
            "overflow": null,
            "overflow_x": null,
            "overflow_y": null,
            "padding": null,
            "right": null,
            "top": null,
            "visibility": null,
            "width": null
          }
        },
        "ea820b38d5994d8bb525f62498a94241": {
          "model_module": "@jupyter-widgets/controls",
          "model_name": "DescriptionStyleModel",
          "model_module_version": "1.5.0",
          "state": {
            "_model_module": "@jupyter-widgets/controls",
            "_model_module_version": "1.5.0",
            "_model_name": "DescriptionStyleModel",
            "_view_count": null,
            "_view_module": "@jupyter-widgets/base",
            "_view_module_version": "1.2.0",
            "_view_name": "StyleView",
            "description_width": ""
          }
        },
        "f6a6d35d8b80446183088b2504ae799c": {
          "model_module": "@jupyter-widgets/base",
          "model_name": "LayoutModel",
          "model_module_version": "1.2.0",
          "state": {
            "_model_module": "@jupyter-widgets/base",
            "_model_module_version": "1.2.0",
            "_model_name": "LayoutModel",
            "_view_count": null,
            "_view_module": "@jupyter-widgets/base",
            "_view_module_version": "1.2.0",
            "_view_name": "LayoutView",
            "align_content": null,
            "align_items": null,
            "align_self": null,
            "border": null,
            "bottom": null,
            "display": null,
            "flex": null,
            "flex_flow": null,
            "grid_area": null,
            "grid_auto_columns": null,
            "grid_auto_flow": null,
            "grid_auto_rows": null,
            "grid_column": null,
            "grid_gap": null,
            "grid_row": null,
            "grid_template_areas": null,
            "grid_template_columns": null,
            "grid_template_rows": null,
            "height": null,
            "justify_content": null,
            "justify_items": null,
            "left": null,
            "margin": null,
            "max_height": null,
            "max_width": null,
            "min_height": null,
            "min_width": null,
            "object_fit": null,
            "object_position": null,
            "order": null,
            "overflow": null,
            "overflow_x": null,
            "overflow_y": null,
            "padding": null,
            "right": null,
            "top": null,
            "visibility": null,
            "width": null
          }
        },
        "664a01bfb9334026a3d34336c18a1b5f": {
          "model_module": "@jupyter-widgets/controls",
          "model_name": "ProgressStyleModel",
          "model_module_version": "1.5.0",
          "state": {
            "_model_module": "@jupyter-widgets/controls",
            "_model_module_version": "1.5.0",
            "_model_name": "ProgressStyleModel",
            "_view_count": null,
            "_view_module": "@jupyter-widgets/base",
            "_view_module_version": "1.2.0",
            "_view_name": "StyleView",
            "bar_color": null,
            "description_width": ""
          }
        },
        "4c1f42f6cdeb4a95861391dba5a4da8c": {
          "model_module": "@jupyter-widgets/base",
          "model_name": "LayoutModel",
          "model_module_version": "1.2.0",
          "state": {
            "_model_module": "@jupyter-widgets/base",
            "_model_module_version": "1.2.0",
            "_model_name": "LayoutModel",
            "_view_count": null,
            "_view_module": "@jupyter-widgets/base",
            "_view_module_version": "1.2.0",
            "_view_name": "LayoutView",
            "align_content": null,
            "align_items": null,
            "align_self": null,
            "border": null,
            "bottom": null,
            "display": null,
            "flex": null,
            "flex_flow": null,
            "grid_area": null,
            "grid_auto_columns": null,
            "grid_auto_flow": null,
            "grid_auto_rows": null,
            "grid_column": null,
            "grid_gap": null,
            "grid_row": null,
            "grid_template_areas": null,
            "grid_template_columns": null,
            "grid_template_rows": null,
            "height": null,
            "justify_content": null,
            "justify_items": null,
            "left": null,
            "margin": null,
            "max_height": null,
            "max_width": null,
            "min_height": null,
            "min_width": null,
            "object_fit": null,
            "object_position": null,
            "order": null,
            "overflow": null,
            "overflow_x": null,
            "overflow_y": null,
            "padding": null,
            "right": null,
            "top": null,
            "visibility": null,
            "width": null
          }
        },
        "8a6f4bf9833947c68236132cb8817f61": {
          "model_module": "@jupyter-widgets/controls",
          "model_name": "DescriptionStyleModel",
          "model_module_version": "1.5.0",
          "state": {
            "_model_module": "@jupyter-widgets/controls",
            "_model_module_version": "1.5.0",
            "_model_name": "DescriptionStyleModel",
            "_view_count": null,
            "_view_module": "@jupyter-widgets/base",
            "_view_module_version": "1.2.0",
            "_view_name": "StyleView",
            "description_width": ""
          }
        },
        "94e687b531ec438abf7d0b876d3e8cb5": {
          "model_module": "@jupyter-widgets/controls",
          "model_name": "HBoxModel",
          "model_module_version": "1.5.0",
          "state": {
            "_dom_classes": [],
            "_model_module": "@jupyter-widgets/controls",
            "_model_module_version": "1.5.0",
            "_model_name": "HBoxModel",
            "_view_count": null,
            "_view_module": "@jupyter-widgets/controls",
            "_view_module_version": "1.5.0",
            "_view_name": "HBoxView",
            "box_style": "",
            "children": [
              "IPY_MODEL_ed77c89299d4477e81be971c618da6db",
              "IPY_MODEL_fa7f3074882a4602bf388be68bb2bef0",
              "IPY_MODEL_4dc25952c5c44cf18c8c4402ba2dbe5b"
            ],
            "layout": "IPY_MODEL_15fe34eca3b94ee0af37b6c5b8c6d912"
          }
        },
        "ed77c89299d4477e81be971c618da6db": {
          "model_module": "@jupyter-widgets/controls",
          "model_name": "HTMLModel",
          "model_module_version": "1.5.0",
          "state": {
            "_dom_classes": [],
            "_model_module": "@jupyter-widgets/controls",
            "_model_module_version": "1.5.0",
            "_model_name": "HTMLModel",
            "_view_count": null,
            "_view_module": "@jupyter-widgets/controls",
            "_view_module_version": "1.5.0",
            "_view_name": "HTMLView",
            "description": "",
            "description_tooltip": null,
            "layout": "IPY_MODEL_57792557d05e47ffb50f9b5b4b961cc9",
            "placeholder": "​",
            "style": "IPY_MODEL_cad9cdcd522a435f84297b4fff6199f8",
            "value": "Downloading (…)lve/main/config.json: 100%"
          }
        },
        "fa7f3074882a4602bf388be68bb2bef0": {
          "model_module": "@jupyter-widgets/controls",
          "model_name": "FloatProgressModel",
          "model_module_version": "1.5.0",
          "state": {
            "_dom_classes": [],
            "_model_module": "@jupyter-widgets/controls",
            "_model_module_version": "1.5.0",
            "_model_name": "FloatProgressModel",
            "_view_count": null,
            "_view_module": "@jupyter-widgets/controls",
            "_view_module_version": "1.5.0",
            "_view_name": "ProgressView",
            "bar_style": "success",
            "description": "",
            "description_tooltip": null,
            "layout": "IPY_MODEL_d1cd0bb576b849aca434adafd24983e1",
            "max": 1348,
            "min": 0,
            "orientation": "horizontal",
            "style": "IPY_MODEL_0726950a1151414aa2a0f016580843fb",
            "value": 1348
          }
        },
        "4dc25952c5c44cf18c8c4402ba2dbe5b": {
          "model_module": "@jupyter-widgets/controls",
          "model_name": "HTMLModel",
          "model_module_version": "1.5.0",
          "state": {
            "_dom_classes": [],
            "_model_module": "@jupyter-widgets/controls",
            "_model_module_version": "1.5.0",
            "_model_name": "HTMLModel",
            "_view_count": null,
            "_view_module": "@jupyter-widgets/controls",
            "_view_module_version": "1.5.0",
            "_view_name": "HTMLView",
            "description": "",
            "description_tooltip": null,
            "layout": "IPY_MODEL_4bba51aa81b54266bc2c74ee25a08232",
            "placeholder": "​",
            "style": "IPY_MODEL_1fbe5d4aad5149a8a485e6762b1b8240",
            "value": " 1.35k/1.35k [00:00&lt;00:00, 19.5kB/s]"
          }
        },
        "15fe34eca3b94ee0af37b6c5b8c6d912": {
          "model_module": "@jupyter-widgets/base",
          "model_name": "LayoutModel",
          "model_module_version": "1.2.0",
          "state": {
            "_model_module": "@jupyter-widgets/base",
            "_model_module_version": "1.2.0",
            "_model_name": "LayoutModel",
            "_view_count": null,
            "_view_module": "@jupyter-widgets/base",
            "_view_module_version": "1.2.0",
            "_view_name": "LayoutView",
            "align_content": null,
            "align_items": null,
            "align_self": null,
            "border": null,
            "bottom": null,
            "display": null,
            "flex": null,
            "flex_flow": null,
            "grid_area": null,
            "grid_auto_columns": null,
            "grid_auto_flow": null,
            "grid_auto_rows": null,
            "grid_column": null,
            "grid_gap": null,
            "grid_row": null,
            "grid_template_areas": null,
            "grid_template_columns": null,
            "grid_template_rows": null,
            "height": null,
            "justify_content": null,
            "justify_items": null,
            "left": null,
            "margin": null,
            "max_height": null,
            "max_width": null,
            "min_height": null,
            "min_width": null,
            "object_fit": null,
            "object_position": null,
            "order": null,
            "overflow": null,
            "overflow_x": null,
            "overflow_y": null,
            "padding": null,
            "right": null,
            "top": null,
            "visibility": null,
            "width": null
          }
        },
        "57792557d05e47ffb50f9b5b4b961cc9": {
          "model_module": "@jupyter-widgets/base",
          "model_name": "LayoutModel",
          "model_module_version": "1.2.0",
          "state": {
            "_model_module": "@jupyter-widgets/base",
            "_model_module_version": "1.2.0",
            "_model_name": "LayoutModel",
            "_view_count": null,
            "_view_module": "@jupyter-widgets/base",
            "_view_module_version": "1.2.0",
            "_view_name": "LayoutView",
            "align_content": null,
            "align_items": null,
            "align_self": null,
            "border": null,
            "bottom": null,
            "display": null,
            "flex": null,
            "flex_flow": null,
            "grid_area": null,
            "grid_auto_columns": null,
            "grid_auto_flow": null,
            "grid_auto_rows": null,
            "grid_column": null,
            "grid_gap": null,
            "grid_row": null,
            "grid_template_areas": null,
            "grid_template_columns": null,
            "grid_template_rows": null,
            "height": null,
            "justify_content": null,
            "justify_items": null,
            "left": null,
            "margin": null,
            "max_height": null,
            "max_width": null,
            "min_height": null,
            "min_width": null,
            "object_fit": null,
            "object_position": null,
            "order": null,
            "overflow": null,
            "overflow_x": null,
            "overflow_y": null,
            "padding": null,
            "right": null,
            "top": null,
            "visibility": null,
            "width": null
          }
        },
        "cad9cdcd522a435f84297b4fff6199f8": {
          "model_module": "@jupyter-widgets/controls",
          "model_name": "DescriptionStyleModel",
          "model_module_version": "1.5.0",
          "state": {
            "_model_module": "@jupyter-widgets/controls",
            "_model_module_version": "1.5.0",
            "_model_name": "DescriptionStyleModel",
            "_view_count": null,
            "_view_module": "@jupyter-widgets/base",
            "_view_module_version": "1.2.0",
            "_view_name": "StyleView",
            "description_width": ""
          }
        },
        "d1cd0bb576b849aca434adafd24983e1": {
          "model_module": "@jupyter-widgets/base",
          "model_name": "LayoutModel",
          "model_module_version": "1.2.0",
          "state": {
            "_model_module": "@jupyter-widgets/base",
            "_model_module_version": "1.2.0",
            "_model_name": "LayoutModel",
            "_view_count": null,
            "_view_module": "@jupyter-widgets/base",
            "_view_module_version": "1.2.0",
            "_view_name": "LayoutView",
            "align_content": null,
            "align_items": null,
            "align_self": null,
            "border": null,
            "bottom": null,
            "display": null,
            "flex": null,
            "flex_flow": null,
            "grid_area": null,
            "grid_auto_columns": null,
            "grid_auto_flow": null,
            "grid_auto_rows": null,
            "grid_column": null,
            "grid_gap": null,
            "grid_row": null,
            "grid_template_areas": null,
            "grid_template_columns": null,
            "grid_template_rows": null,
            "height": null,
            "justify_content": null,
            "justify_items": null,
            "left": null,
            "margin": null,
            "max_height": null,
            "max_width": null,
            "min_height": null,
            "min_width": null,
            "object_fit": null,
            "object_position": null,
            "order": null,
            "overflow": null,
            "overflow_x": null,
            "overflow_y": null,
            "padding": null,
            "right": null,
            "top": null,
            "visibility": null,
            "width": null
          }
        },
        "0726950a1151414aa2a0f016580843fb": {
          "model_module": "@jupyter-widgets/controls",
          "model_name": "ProgressStyleModel",
          "model_module_version": "1.5.0",
          "state": {
            "_model_module": "@jupyter-widgets/controls",
            "_model_module_version": "1.5.0",
            "_model_name": "ProgressStyleModel",
            "_view_count": null,
            "_view_module": "@jupyter-widgets/base",
            "_view_module_version": "1.2.0",
            "_view_name": "StyleView",
            "bar_color": null,
            "description_width": ""
          }
        },
        "4bba51aa81b54266bc2c74ee25a08232": {
          "model_module": "@jupyter-widgets/base",
          "model_name": "LayoutModel",
          "model_module_version": "1.2.0",
          "state": {
            "_model_module": "@jupyter-widgets/base",
            "_model_module_version": "1.2.0",
            "_model_name": "LayoutModel",
            "_view_count": null,
            "_view_module": "@jupyter-widgets/base",
            "_view_module_version": "1.2.0",
            "_view_name": "LayoutView",
            "align_content": null,
            "align_items": null,
            "align_self": null,
            "border": null,
            "bottom": null,
            "display": null,
            "flex": null,
            "flex_flow": null,
            "grid_area": null,
            "grid_auto_columns": null,
            "grid_auto_flow": null,
            "grid_auto_rows": null,
            "grid_column": null,
            "grid_gap": null,
            "grid_row": null,
            "grid_template_areas": null,
            "grid_template_columns": null,
            "grid_template_rows": null,
            "height": null,
            "justify_content": null,
            "justify_items": null,
            "left": null,
            "margin": null,
            "max_height": null,
            "max_width": null,
            "min_height": null,
            "min_width": null,
            "object_fit": null,
            "object_position": null,
            "order": null,
            "overflow": null,
            "overflow_x": null,
            "overflow_y": null,
            "padding": null,
            "right": null,
            "top": null,
            "visibility": null,
            "width": null
          }
        },
        "1fbe5d4aad5149a8a485e6762b1b8240": {
          "model_module": "@jupyter-widgets/controls",
          "model_name": "DescriptionStyleModel",
          "model_module_version": "1.5.0",
          "state": {
            "_model_module": "@jupyter-widgets/controls",
            "_model_module_version": "1.5.0",
            "_model_name": "DescriptionStyleModel",
            "_view_count": null,
            "_view_module": "@jupyter-widgets/base",
            "_view_module_version": "1.2.0",
            "_view_name": "StyleView",
            "description_width": ""
          }
        },
        "9cc400a604f645f497b16618cadc7a77": {
          "model_module": "@jupyter-widgets/controls",
          "model_name": "HBoxModel",
          "model_module_version": "1.5.0",
          "state": {
            "_dom_classes": [],
            "_model_module": "@jupyter-widgets/controls",
            "_model_module_version": "1.5.0",
            "_model_name": "HBoxModel",
            "_view_count": null,
            "_view_module": "@jupyter-widgets/controls",
            "_view_module_version": "1.5.0",
            "_view_name": "HBoxView",
            "box_style": "",
            "children": [
              "IPY_MODEL_ae4f972acfa74e5cb1987e826034d545",
              "IPY_MODEL_b2384be25e5240de9ac82bc6926014d4",
              "IPY_MODEL_5539d05194e94e55abc481ff7bcf8209"
            ],
            "layout": "IPY_MODEL_f651e9539f864ebc9922d23e20e936c1"
          }
        },
        "ae4f972acfa74e5cb1987e826034d545": {
          "model_module": "@jupyter-widgets/controls",
          "model_name": "HTMLModel",
          "model_module_version": "1.5.0",
          "state": {
            "_dom_classes": [],
            "_model_module": "@jupyter-widgets/controls",
            "_model_module_version": "1.5.0",
            "_model_name": "HTMLModel",
            "_view_count": null,
            "_view_module": "@jupyter-widgets/controls",
            "_view_module_version": "1.5.0",
            "_view_name": "HTMLView",
            "description": "",
            "description_tooltip": null,
            "layout": "IPY_MODEL_bfd027c70ed84456a0f104373fd64d92",
            "placeholder": "​",
            "style": "IPY_MODEL_067692b03dcb4af185379f510824c7fc",
            "value": "Downloading (…)ve/main/spiece.model: 100%"
          }
        },
        "b2384be25e5240de9ac82bc6926014d4": {
          "model_module": "@jupyter-widgets/controls",
          "model_name": "FloatProgressModel",
          "model_module_version": "1.5.0",
          "state": {
            "_dom_classes": [],
            "_model_module": "@jupyter-widgets/controls",
            "_model_module_version": "1.5.0",
            "_model_name": "FloatProgressModel",
            "_view_count": null,
            "_view_module": "@jupyter-widgets/controls",
            "_view_module_version": "1.5.0",
            "_view_name": "ProgressView",
            "bar_style": "success",
            "description": "",
            "description_tooltip": null,
            "layout": "IPY_MODEL_252cb20744d04245b03d70f409c6d69b",
            "max": 791656,
            "min": 0,
            "orientation": "horizontal",
            "style": "IPY_MODEL_d65f155c894c4ada9e640f3f70f85bb0",
            "value": 791656
          }
        },
        "5539d05194e94e55abc481ff7bcf8209": {
          "model_module": "@jupyter-widgets/controls",
          "model_name": "HTMLModel",
          "model_module_version": "1.5.0",
          "state": {
            "_dom_classes": [],
            "_model_module": "@jupyter-widgets/controls",
            "_model_module_version": "1.5.0",
            "_model_name": "HTMLModel",
            "_view_count": null,
            "_view_module": "@jupyter-widgets/controls",
            "_view_module_version": "1.5.0",
            "_view_name": "HTMLView",
            "description": "",
            "description_tooltip": null,
            "layout": "IPY_MODEL_6a72881bc3e349ec8fdd80846efa6a5a",
            "placeholder": "​",
            "style": "IPY_MODEL_2182508034a44291baf7da2ca5093d4b",
            "value": " 792k/792k [00:00&lt;00:00, 7.71MB/s]"
          }
        },
        "f651e9539f864ebc9922d23e20e936c1": {
          "model_module": "@jupyter-widgets/base",
          "model_name": "LayoutModel",
          "model_module_version": "1.2.0",
          "state": {
            "_model_module": "@jupyter-widgets/base",
            "_model_module_version": "1.2.0",
            "_model_name": "LayoutModel",
            "_view_count": null,
            "_view_module": "@jupyter-widgets/base",
            "_view_module_version": "1.2.0",
            "_view_name": "LayoutView",
            "align_content": null,
            "align_items": null,
            "align_self": null,
            "border": null,
            "bottom": null,
            "display": null,
            "flex": null,
            "flex_flow": null,
            "grid_area": null,
            "grid_auto_columns": null,
            "grid_auto_flow": null,
            "grid_auto_rows": null,
            "grid_column": null,
            "grid_gap": null,
            "grid_row": null,
            "grid_template_areas": null,
            "grid_template_columns": null,
            "grid_template_rows": null,
            "height": null,
            "justify_content": null,
            "justify_items": null,
            "left": null,
            "margin": null,
            "max_height": null,
            "max_width": null,
            "min_height": null,
            "min_width": null,
            "object_fit": null,
            "object_position": null,
            "order": null,
            "overflow": null,
            "overflow_x": null,
            "overflow_y": null,
            "padding": null,
            "right": null,
            "top": null,
            "visibility": null,
            "width": null
          }
        },
        "bfd027c70ed84456a0f104373fd64d92": {
          "model_module": "@jupyter-widgets/base",
          "model_name": "LayoutModel",
          "model_module_version": "1.2.0",
          "state": {
            "_model_module": "@jupyter-widgets/base",
            "_model_module_version": "1.2.0",
            "_model_name": "LayoutModel",
            "_view_count": null,
            "_view_module": "@jupyter-widgets/base",
            "_view_module_version": "1.2.0",
            "_view_name": "LayoutView",
            "align_content": null,
            "align_items": null,
            "align_self": null,
            "border": null,
            "bottom": null,
            "display": null,
            "flex": null,
            "flex_flow": null,
            "grid_area": null,
            "grid_auto_columns": null,
            "grid_auto_flow": null,
            "grid_auto_rows": null,
            "grid_column": null,
            "grid_gap": null,
            "grid_row": null,
            "grid_template_areas": null,
            "grid_template_columns": null,
            "grid_template_rows": null,
            "height": null,
            "justify_content": null,
            "justify_items": null,
            "left": null,
            "margin": null,
            "max_height": null,
            "max_width": null,
            "min_height": null,
            "min_width": null,
            "object_fit": null,
            "object_position": null,
            "order": null,
            "overflow": null,
            "overflow_x": null,
            "overflow_y": null,
            "padding": null,
            "right": null,
            "top": null,
            "visibility": null,
            "width": null
          }
        },
        "067692b03dcb4af185379f510824c7fc": {
          "model_module": "@jupyter-widgets/controls",
          "model_name": "DescriptionStyleModel",
          "model_module_version": "1.5.0",
          "state": {
            "_model_module": "@jupyter-widgets/controls",
            "_model_module_version": "1.5.0",
            "_model_name": "DescriptionStyleModel",
            "_view_count": null,
            "_view_module": "@jupyter-widgets/base",
            "_view_module_version": "1.2.0",
            "_view_name": "StyleView",
            "description_width": ""
          }
        },
        "252cb20744d04245b03d70f409c6d69b": {
          "model_module": "@jupyter-widgets/base",
          "model_name": "LayoutModel",
          "model_module_version": "1.2.0",
          "state": {
            "_model_module": "@jupyter-widgets/base",
            "_model_module_version": "1.2.0",
            "_model_name": "LayoutModel",
            "_view_count": null,
            "_view_module": "@jupyter-widgets/base",
            "_view_module_version": "1.2.0",
            "_view_name": "LayoutView",
            "align_content": null,
            "align_items": null,
            "align_self": null,
            "border": null,
            "bottom": null,
            "display": null,
            "flex": null,
            "flex_flow": null,
            "grid_area": null,
            "grid_auto_columns": null,
            "grid_auto_flow": null,
            "grid_auto_rows": null,
            "grid_column": null,
            "grid_gap": null,
            "grid_row": null,
            "grid_template_areas": null,
            "grid_template_columns": null,
            "grid_template_rows": null,
            "height": null,
            "justify_content": null,
            "justify_items": null,
            "left": null,
            "margin": null,
            "max_height": null,
            "max_width": null,
            "min_height": null,
            "min_width": null,
            "object_fit": null,
            "object_position": null,
            "order": null,
            "overflow": null,
            "overflow_x": null,
            "overflow_y": null,
            "padding": null,
            "right": null,
            "top": null,
            "visibility": null,
            "width": null
          }
        },
        "d65f155c894c4ada9e640f3f70f85bb0": {
          "model_module": "@jupyter-widgets/controls",
          "model_name": "ProgressStyleModel",
          "model_module_version": "1.5.0",
          "state": {
            "_model_module": "@jupyter-widgets/controls",
            "_model_module_version": "1.5.0",
            "_model_name": "ProgressStyleModel",
            "_view_count": null,
            "_view_module": "@jupyter-widgets/base",
            "_view_module_version": "1.2.0",
            "_view_name": "StyleView",
            "bar_color": null,
            "description_width": ""
          }
        },
        "6a72881bc3e349ec8fdd80846efa6a5a": {
          "model_module": "@jupyter-widgets/base",
          "model_name": "LayoutModel",
          "model_module_version": "1.2.0",
          "state": {
            "_model_module": "@jupyter-widgets/base",
            "_model_module_version": "1.2.0",
            "_model_name": "LayoutModel",
            "_view_count": null,
            "_view_module": "@jupyter-widgets/base",
            "_view_module_version": "1.2.0",
            "_view_name": "LayoutView",
            "align_content": null,
            "align_items": null,
            "align_self": null,
            "border": null,
            "bottom": null,
            "display": null,
            "flex": null,
            "flex_flow": null,
            "grid_area": null,
            "grid_auto_columns": null,
            "grid_auto_flow": null,
            "grid_auto_rows": null,
            "grid_column": null,
            "grid_gap": null,
            "grid_row": null,
            "grid_template_areas": null,
            "grid_template_columns": null,
            "grid_template_rows": null,
            "height": null,
            "justify_content": null,
            "justify_items": null,
            "left": null,
            "margin": null,
            "max_height": null,
            "max_width": null,
            "min_height": null,
            "min_width": null,
            "object_fit": null,
            "object_position": null,
            "order": null,
            "overflow": null,
            "overflow_x": null,
            "overflow_y": null,
            "padding": null,
            "right": null,
            "top": null,
            "visibility": null,
            "width": null
          }
        },
        "2182508034a44291baf7da2ca5093d4b": {
          "model_module": "@jupyter-widgets/controls",
          "model_name": "DescriptionStyleModel",
          "model_module_version": "1.5.0",
          "state": {
            "_model_module": "@jupyter-widgets/controls",
            "_model_module_version": "1.5.0",
            "_model_name": "DescriptionStyleModel",
            "_view_count": null,
            "_view_module": "@jupyter-widgets/base",
            "_view_module_version": "1.2.0",
            "_view_name": "StyleView",
            "description_width": ""
          }
        },
        "0018b1fbdfad4876977c58c90b66147b": {
          "model_module": "@jupyter-widgets/controls",
          "model_name": "HBoxModel",
          "model_module_version": "1.5.0",
          "state": {
            "_dom_classes": [],
            "_model_module": "@jupyter-widgets/controls",
            "_model_module_version": "1.5.0",
            "_model_name": "HBoxModel",
            "_view_count": null,
            "_view_module": "@jupyter-widgets/controls",
            "_view_module_version": "1.5.0",
            "_view_name": "HBoxView",
            "box_style": "",
            "children": [
              "IPY_MODEL_9dd6cfea9dea4ae7940d05087b08f91d",
              "IPY_MODEL_b55ad9e17fbf46b99871dfec0af5be2e",
              "IPY_MODEL_1338b1a3767441a6bbf47097546219a2"
            ],
            "layout": "IPY_MODEL_2e6538acee344a0092af76ee40009e16"
          }
        },
        "9dd6cfea9dea4ae7940d05087b08f91d": {
          "model_module": "@jupyter-widgets/controls",
          "model_name": "HTMLModel",
          "model_module_version": "1.5.0",
          "state": {
            "_dom_classes": [],
            "_model_module": "@jupyter-widgets/controls",
            "_model_module_version": "1.5.0",
            "_model_name": "HTMLModel",
            "_view_count": null,
            "_view_module": "@jupyter-widgets/controls",
            "_view_module_version": "1.5.0",
            "_view_name": "HTMLView",
            "description": "",
            "description_tooltip": null,
            "layout": "IPY_MODEL_88175a92389449be9278b939abe90caf",
            "placeholder": "​",
            "style": "IPY_MODEL_1efccd3515474534a7f0d5b407d88752",
            "value": "Downloading (…)in/added_tokens.json: 100%"
          }
        },
        "b55ad9e17fbf46b99871dfec0af5be2e": {
          "model_module": "@jupyter-widgets/controls",
          "model_name": "FloatProgressModel",
          "model_module_version": "1.5.0",
          "state": {
            "_dom_classes": [],
            "_model_module": "@jupyter-widgets/controls",
            "_model_module_version": "1.5.0",
            "_model_name": "FloatProgressModel",
            "_view_count": null,
            "_view_module": "@jupyter-widgets/controls",
            "_view_module_version": "1.5.0",
            "_view_name": "ProgressView",
            "bar_style": "success",
            "description": "",
            "description_tooltip": null,
            "layout": "IPY_MODEL_2f5c390229b041baa9a17bcb5fce0be9",
            "max": 31,
            "min": 0,
            "orientation": "horizontal",
            "style": "IPY_MODEL_229ddc85a17148d0a8a0fdba50f8515c",
            "value": 31
          }
        },
        "1338b1a3767441a6bbf47097546219a2": {
          "model_module": "@jupyter-widgets/controls",
          "model_name": "HTMLModel",
          "model_module_version": "1.5.0",
          "state": {
            "_dom_classes": [],
            "_model_module": "@jupyter-widgets/controls",
            "_model_module_version": "1.5.0",
            "_model_name": "HTMLModel",
            "_view_count": null,
            "_view_module": "@jupyter-widgets/controls",
            "_view_module_version": "1.5.0",
            "_view_name": "HTMLView",
            "description": "",
            "description_tooltip": null,
            "layout": "IPY_MODEL_e6b6421c24e646ee91df331f63c1df86",
            "placeholder": "​",
            "style": "IPY_MODEL_1aed55de65cc416ca5ddf80a8faf975c",
            "value": " 31.0/31.0 [00:00&lt;00:00, 348B/s]"
          }
        },
        "2e6538acee344a0092af76ee40009e16": {
          "model_module": "@jupyter-widgets/base",
          "model_name": "LayoutModel",
          "model_module_version": "1.2.0",
          "state": {
            "_model_module": "@jupyter-widgets/base",
            "_model_module_version": "1.2.0",
            "_model_name": "LayoutModel",
            "_view_count": null,
            "_view_module": "@jupyter-widgets/base",
            "_view_module_version": "1.2.0",
            "_view_name": "LayoutView",
            "align_content": null,
            "align_items": null,
            "align_self": null,
            "border": null,
            "bottom": null,
            "display": null,
            "flex": null,
            "flex_flow": null,
            "grid_area": null,
            "grid_auto_columns": null,
            "grid_auto_flow": null,
            "grid_auto_rows": null,
            "grid_column": null,
            "grid_gap": null,
            "grid_row": null,
            "grid_template_areas": null,
            "grid_template_columns": null,
            "grid_template_rows": null,
            "height": null,
            "justify_content": null,
            "justify_items": null,
            "left": null,
            "margin": null,
            "max_height": null,
            "max_width": null,
            "min_height": null,
            "min_width": null,
            "object_fit": null,
            "object_position": null,
            "order": null,
            "overflow": null,
            "overflow_x": null,
            "overflow_y": null,
            "padding": null,
            "right": null,
            "top": null,
            "visibility": null,
            "width": null
          }
        },
        "88175a92389449be9278b939abe90caf": {
          "model_module": "@jupyter-widgets/base",
          "model_name": "LayoutModel",
          "model_module_version": "1.2.0",
          "state": {
            "_model_module": "@jupyter-widgets/base",
            "_model_module_version": "1.2.0",
            "_model_name": "LayoutModel",
            "_view_count": null,
            "_view_module": "@jupyter-widgets/base",
            "_view_module_version": "1.2.0",
            "_view_name": "LayoutView",
            "align_content": null,
            "align_items": null,
            "align_self": null,
            "border": null,
            "bottom": null,
            "display": null,
            "flex": null,
            "flex_flow": null,
            "grid_area": null,
            "grid_auto_columns": null,
            "grid_auto_flow": null,
            "grid_auto_rows": null,
            "grid_column": null,
            "grid_gap": null,
            "grid_row": null,
            "grid_template_areas": null,
            "grid_template_columns": null,
            "grid_template_rows": null,
            "height": null,
            "justify_content": null,
            "justify_items": null,
            "left": null,
            "margin": null,
            "max_height": null,
            "max_width": null,
            "min_height": null,
            "min_width": null,
            "object_fit": null,
            "object_position": null,
            "order": null,
            "overflow": null,
            "overflow_x": null,
            "overflow_y": null,
            "padding": null,
            "right": null,
            "top": null,
            "visibility": null,
            "width": null
          }
        },
        "1efccd3515474534a7f0d5b407d88752": {
          "model_module": "@jupyter-widgets/controls",
          "model_name": "DescriptionStyleModel",
          "model_module_version": "1.5.0",
          "state": {
            "_model_module": "@jupyter-widgets/controls",
            "_model_module_version": "1.5.0",
            "_model_name": "DescriptionStyleModel",
            "_view_count": null,
            "_view_module": "@jupyter-widgets/base",
            "_view_module_version": "1.2.0",
            "_view_name": "StyleView",
            "description_width": ""
          }
        },
        "2f5c390229b041baa9a17bcb5fce0be9": {
          "model_module": "@jupyter-widgets/base",
          "model_name": "LayoutModel",
          "model_module_version": "1.2.0",
          "state": {
            "_model_module": "@jupyter-widgets/base",
            "_model_module_version": "1.2.0",
            "_model_name": "LayoutModel",
            "_view_count": null,
            "_view_module": "@jupyter-widgets/base",
            "_view_module_version": "1.2.0",
            "_view_name": "LayoutView",
            "align_content": null,
            "align_items": null,
            "align_self": null,
            "border": null,
            "bottom": null,
            "display": null,
            "flex": null,
            "flex_flow": null,
            "grid_area": null,
            "grid_auto_columns": null,
            "grid_auto_flow": null,
            "grid_auto_rows": null,
            "grid_column": null,
            "grid_gap": null,
            "grid_row": null,
            "grid_template_areas": null,
            "grid_template_columns": null,
            "grid_template_rows": null,
            "height": null,
            "justify_content": null,
            "justify_items": null,
            "left": null,
            "margin": null,
            "max_height": null,
            "max_width": null,
            "min_height": null,
            "min_width": null,
            "object_fit": null,
            "object_position": null,
            "order": null,
            "overflow": null,
            "overflow_x": null,
            "overflow_y": null,
            "padding": null,
            "right": null,
            "top": null,
            "visibility": null,
            "width": null
          }
        },
        "229ddc85a17148d0a8a0fdba50f8515c": {
          "model_module": "@jupyter-widgets/controls",
          "model_name": "ProgressStyleModel",
          "model_module_version": "1.5.0",
          "state": {
            "_model_module": "@jupyter-widgets/controls",
            "_model_module_version": "1.5.0",
            "_model_name": "ProgressStyleModel",
            "_view_count": null,
            "_view_module": "@jupyter-widgets/base",
            "_view_module_version": "1.2.0",
            "_view_name": "StyleView",
            "bar_color": null,
            "description_width": ""
          }
        },
        "e6b6421c24e646ee91df331f63c1df86": {
          "model_module": "@jupyter-widgets/base",
          "model_name": "LayoutModel",
          "model_module_version": "1.2.0",
          "state": {
            "_model_module": "@jupyter-widgets/base",
            "_model_module_version": "1.2.0",
            "_model_name": "LayoutModel",
            "_view_count": null,
            "_view_module": "@jupyter-widgets/base",
            "_view_module_version": "1.2.0",
            "_view_name": "LayoutView",
            "align_content": null,
            "align_items": null,
            "align_self": null,
            "border": null,
            "bottom": null,
            "display": null,
            "flex": null,
            "flex_flow": null,
            "grid_area": null,
            "grid_auto_columns": null,
            "grid_auto_flow": null,
            "grid_auto_rows": null,
            "grid_column": null,
            "grid_gap": null,
            "grid_row": null,
            "grid_template_areas": null,
            "grid_template_columns": null,
            "grid_template_rows": null,
            "height": null,
            "justify_content": null,
            "justify_items": null,
            "left": null,
            "margin": null,
            "max_height": null,
            "max_width": null,
            "min_height": null,
            "min_width": null,
            "object_fit": null,
            "object_position": null,
            "order": null,
            "overflow": null,
            "overflow_x": null,
            "overflow_y": null,
            "padding": null,
            "right": null,
            "top": null,
            "visibility": null,
            "width": null
          }
        },
        "1aed55de65cc416ca5ddf80a8faf975c": {
          "model_module": "@jupyter-widgets/controls",
          "model_name": "DescriptionStyleModel",
          "model_module_version": "1.5.0",
          "state": {
            "_model_module": "@jupyter-widgets/controls",
            "_model_module_version": "1.5.0",
            "_model_name": "DescriptionStyleModel",
            "_view_count": null,
            "_view_module": "@jupyter-widgets/base",
            "_view_module_version": "1.2.0",
            "_view_name": "StyleView",
            "description_width": ""
          }
        },
        "b193b6e379bc4b64b4eafd8313c73314": {
          "model_module": "@jupyter-widgets/controls",
          "model_name": "HBoxModel",
          "model_module_version": "1.5.0",
          "state": {
            "_dom_classes": [],
            "_model_module": "@jupyter-widgets/controls",
            "_model_module_version": "1.5.0",
            "_model_name": "HBoxModel",
            "_view_count": null,
            "_view_module": "@jupyter-widgets/controls",
            "_view_module_version": "1.5.0",
            "_view_name": "HBoxView",
            "box_style": "",
            "children": [
              "IPY_MODEL_de724c2c0a2c4e798f055790ed0f82d4",
              "IPY_MODEL_8ca1f0a63a404f2aac5f60ae1c6f2ce1",
              "IPY_MODEL_64158ae91e7741f68d3c83f4c8e8fea5"
            ],
            "layout": "IPY_MODEL_aa132cde252a40b0bc13656cf49e6346"
          }
        },
        "de724c2c0a2c4e798f055790ed0f82d4": {
          "model_module": "@jupyter-widgets/controls",
          "model_name": "HTMLModel",
          "model_module_version": "1.5.0",
          "state": {
            "_dom_classes": [],
            "_model_module": "@jupyter-widgets/controls",
            "_model_module_version": "1.5.0",
            "_model_name": "HTMLModel",
            "_view_count": null,
            "_view_module": "@jupyter-widgets/controls",
            "_view_module_version": "1.5.0",
            "_view_name": "HTMLView",
            "description": "",
            "description_tooltip": null,
            "layout": "IPY_MODEL_2e0eb40bd8ef4464b2e18c916ce296e9",
            "placeholder": "​",
            "style": "IPY_MODEL_35b1adaabbfb4750a14879b8f675f6c6",
            "value": "Downloading (…)cial_tokens_map.json: 100%"
          }
        },
        "8ca1f0a63a404f2aac5f60ae1c6f2ce1": {
          "model_module": "@jupyter-widgets/controls",
          "model_name": "FloatProgressModel",
          "model_module_version": "1.5.0",
          "state": {
            "_dom_classes": [],
            "_model_module": "@jupyter-widgets/controls",
            "_model_module_version": "1.5.0",
            "_model_name": "FloatProgressModel",
            "_view_count": null,
            "_view_module": "@jupyter-widgets/controls",
            "_view_module_version": "1.5.0",
            "_view_name": "ProgressView",
            "bar_style": "success",
            "description": "",
            "description_tooltip": null,
            "layout": "IPY_MODEL_38d5f1eda4c24a2f86197eb1667dcef0",
            "max": 1786,
            "min": 0,
            "orientation": "horizontal",
            "style": "IPY_MODEL_b83b9515df4a49e19a2275ec834e6702",
            "value": 1786
          }
        },
        "64158ae91e7741f68d3c83f4c8e8fea5": {
          "model_module": "@jupyter-widgets/controls",
          "model_name": "HTMLModel",
          "model_module_version": "1.5.0",
          "state": {
            "_dom_classes": [],
            "_model_module": "@jupyter-widgets/controls",
            "_model_module_version": "1.5.0",
            "_model_name": "HTMLModel",
            "_view_count": null,
            "_view_module": "@jupyter-widgets/controls",
            "_view_module_version": "1.5.0",
            "_view_name": "HTMLView",
            "description": "",
            "description_tooltip": null,
            "layout": "IPY_MODEL_8bf1e67c52c9410aafad5586ec1b9f81",
            "placeholder": "​",
            "style": "IPY_MODEL_cdfbc88a6dfa476b904732b1265b23be",
            "value": " 1.79k/1.79k [00:00&lt;00:00, 24.6kB/s]"
          }
        },
        "aa132cde252a40b0bc13656cf49e6346": {
          "model_module": "@jupyter-widgets/base",
          "model_name": "LayoutModel",
          "model_module_version": "1.2.0",
          "state": {
            "_model_module": "@jupyter-widgets/base",
            "_model_module_version": "1.2.0",
            "_model_name": "LayoutModel",
            "_view_count": null,
            "_view_module": "@jupyter-widgets/base",
            "_view_module_version": "1.2.0",
            "_view_name": "LayoutView",
            "align_content": null,
            "align_items": null,
            "align_self": null,
            "border": null,
            "bottom": null,
            "display": null,
            "flex": null,
            "flex_flow": null,
            "grid_area": null,
            "grid_auto_columns": null,
            "grid_auto_flow": null,
            "grid_auto_rows": null,
            "grid_column": null,
            "grid_gap": null,
            "grid_row": null,
            "grid_template_areas": null,
            "grid_template_columns": null,
            "grid_template_rows": null,
            "height": null,
            "justify_content": null,
            "justify_items": null,
            "left": null,
            "margin": null,
            "max_height": null,
            "max_width": null,
            "min_height": null,
            "min_width": null,
            "object_fit": null,
            "object_position": null,
            "order": null,
            "overflow": null,
            "overflow_x": null,
            "overflow_y": null,
            "padding": null,
            "right": null,
            "top": null,
            "visibility": null,
            "width": null
          }
        },
        "2e0eb40bd8ef4464b2e18c916ce296e9": {
          "model_module": "@jupyter-widgets/base",
          "model_name": "LayoutModel",
          "model_module_version": "1.2.0",
          "state": {
            "_model_module": "@jupyter-widgets/base",
            "_model_module_version": "1.2.0",
            "_model_name": "LayoutModel",
            "_view_count": null,
            "_view_module": "@jupyter-widgets/base",
            "_view_module_version": "1.2.0",
            "_view_name": "LayoutView",
            "align_content": null,
            "align_items": null,
            "align_self": null,
            "border": null,
            "bottom": null,
            "display": null,
            "flex": null,
            "flex_flow": null,
            "grid_area": null,
            "grid_auto_columns": null,
            "grid_auto_flow": null,
            "grid_auto_rows": null,
            "grid_column": null,
            "grid_gap": null,
            "grid_row": null,
            "grid_template_areas": null,
            "grid_template_columns": null,
            "grid_template_rows": null,
            "height": null,
            "justify_content": null,
            "justify_items": null,
            "left": null,
            "margin": null,
            "max_height": null,
            "max_width": null,
            "min_height": null,
            "min_width": null,
            "object_fit": null,
            "object_position": null,
            "order": null,
            "overflow": null,
            "overflow_x": null,
            "overflow_y": null,
            "padding": null,
            "right": null,
            "top": null,
            "visibility": null,
            "width": null
          }
        },
        "35b1adaabbfb4750a14879b8f675f6c6": {
          "model_module": "@jupyter-widgets/controls",
          "model_name": "DescriptionStyleModel",
          "model_module_version": "1.5.0",
          "state": {
            "_model_module": "@jupyter-widgets/controls",
            "_model_module_version": "1.5.0",
            "_model_name": "DescriptionStyleModel",
            "_view_count": null,
            "_view_module": "@jupyter-widgets/base",
            "_view_module_version": "1.2.0",
            "_view_name": "StyleView",
            "description_width": ""
          }
        },
        "38d5f1eda4c24a2f86197eb1667dcef0": {
          "model_module": "@jupyter-widgets/base",
          "model_name": "LayoutModel",
          "model_module_version": "1.2.0",
          "state": {
            "_model_module": "@jupyter-widgets/base",
            "_model_module_version": "1.2.0",
            "_model_name": "LayoutModel",
            "_view_count": null,
            "_view_module": "@jupyter-widgets/base",
            "_view_module_version": "1.2.0",
            "_view_name": "LayoutView",
            "align_content": null,
            "align_items": null,
            "align_self": null,
            "border": null,
            "bottom": null,
            "display": null,
            "flex": null,
            "flex_flow": null,
            "grid_area": null,
            "grid_auto_columns": null,
            "grid_auto_flow": null,
            "grid_auto_rows": null,
            "grid_column": null,
            "grid_gap": null,
            "grid_row": null,
            "grid_template_areas": null,
            "grid_template_columns": null,
            "grid_template_rows": null,
            "height": null,
            "justify_content": null,
            "justify_items": null,
            "left": null,
            "margin": null,
            "max_height": null,
            "max_width": null,
            "min_height": null,
            "min_width": null,
            "object_fit": null,
            "object_position": null,
            "order": null,
            "overflow": null,
            "overflow_x": null,
            "overflow_y": null,
            "padding": null,
            "right": null,
            "top": null,
            "visibility": null,
            "width": null
          }
        },
        "b83b9515df4a49e19a2275ec834e6702": {
          "model_module": "@jupyter-widgets/controls",
          "model_name": "ProgressStyleModel",
          "model_module_version": "1.5.0",
          "state": {
            "_model_module": "@jupyter-widgets/controls",
            "_model_module_version": "1.5.0",
            "_model_name": "ProgressStyleModel",
            "_view_count": null,
            "_view_module": "@jupyter-widgets/base",
            "_view_module_version": "1.2.0",
            "_view_name": "StyleView",
            "bar_color": null,
            "description_width": ""
          }
        },
        "8bf1e67c52c9410aafad5586ec1b9f81": {
          "model_module": "@jupyter-widgets/base",
          "model_name": "LayoutModel",
          "model_module_version": "1.2.0",
          "state": {
            "_model_module": "@jupyter-widgets/base",
            "_model_module_version": "1.2.0",
            "_model_name": "LayoutModel",
            "_view_count": null,
            "_view_module": "@jupyter-widgets/base",
            "_view_module_version": "1.2.0",
            "_view_name": "LayoutView",
            "align_content": null,
            "align_items": null,
            "align_self": null,
            "border": null,
            "bottom": null,
            "display": null,
            "flex": null,
            "flex_flow": null,
            "grid_area": null,
            "grid_auto_columns": null,
            "grid_auto_flow": null,
            "grid_auto_rows": null,
            "grid_column": null,
            "grid_gap": null,
            "grid_row": null,
            "grid_template_areas": null,
            "grid_template_columns": null,
            "grid_template_rows": null,
            "height": null,
            "justify_content": null,
            "justify_items": null,
            "left": null,
            "margin": null,
            "max_height": null,
            "max_width": null,
            "min_height": null,
            "min_width": null,
            "object_fit": null,
            "object_position": null,
            "order": null,
            "overflow": null,
            "overflow_x": null,
            "overflow_y": null,
            "padding": null,
            "right": null,
            "top": null,
            "visibility": null,
            "width": null
          }
        },
        "cdfbc88a6dfa476b904732b1265b23be": {
          "model_module": "@jupyter-widgets/controls",
          "model_name": "DescriptionStyleModel",
          "model_module_version": "1.5.0",
          "state": {
            "_model_module": "@jupyter-widgets/controls",
            "_model_module_version": "1.5.0",
            "_model_name": "DescriptionStyleModel",
            "_view_count": null,
            "_view_module": "@jupyter-widgets/base",
            "_view_module_version": "1.2.0",
            "_view_name": "StyleView",
            "description_width": ""
          }
        },
        "784bc40ebd5f43d1aa0b2acce1620a08": {
          "model_module": "@jupyter-widgets/controls",
          "model_name": "HBoxModel",
          "model_module_version": "1.5.0",
          "state": {
            "_dom_classes": [],
            "_model_module": "@jupyter-widgets/controls",
            "_model_module_version": "1.5.0",
            "_model_name": "HBoxModel",
            "_view_count": null,
            "_view_module": "@jupyter-widgets/controls",
            "_view_module_version": "1.5.0",
            "_view_name": "HBoxView",
            "box_style": "",
            "children": [
              "IPY_MODEL_970748104faf422d8d73077c9cf96744",
              "IPY_MODEL_bd7950faa14c4102a5b440849d06ff73",
              "IPY_MODEL_6416f3fb033549fc994f9cdb6b459fb7"
            ],
            "layout": "IPY_MODEL_a8f1d6e92db14540b8637a67547b4653"
          }
        },
        "970748104faf422d8d73077c9cf96744": {
          "model_module": "@jupyter-widgets/controls",
          "model_name": "HTMLModel",
          "model_module_version": "1.5.0",
          "state": {
            "_dom_classes": [],
            "_model_module": "@jupyter-widgets/controls",
            "_model_module_version": "1.5.0",
            "_model_name": "HTMLModel",
            "_view_count": null,
            "_view_module": "@jupyter-widgets/controls",
            "_view_module_version": "1.5.0",
            "_view_name": "HTMLView",
            "description": "",
            "description_tooltip": null,
            "layout": "IPY_MODEL_a0fe7de8a46a460ba329023d8ad0be8b",
            "placeholder": "​",
            "style": "IPY_MODEL_34b97b767d404953b6d8051314c90480",
            "value": "Downloading pytorch_model.bin: 100%"
          }
        },
        "bd7950faa14c4102a5b440849d06ff73": {
          "model_module": "@jupyter-widgets/controls",
          "model_name": "FloatProgressModel",
          "model_module_version": "1.5.0",
          "state": {
            "_dom_classes": [],
            "_model_module": "@jupyter-widgets/controls",
            "_model_module_version": "1.5.0",
            "_model_name": "FloatProgressModel",
            "_view_count": null,
            "_view_module": "@jupyter-widgets/controls",
            "_view_module_version": "1.5.0",
            "_view_name": "ProgressView",
            "bar_style": "success",
            "description": "",
            "description_tooltip": null,
            "layout": "IPY_MODEL_5df159d11fcd47d9856622226535aa63",
            "max": 242013376,
            "min": 0,
            "orientation": "horizontal",
            "style": "IPY_MODEL_7c7638b6084c4fe7b0d35b1e0369e5c0",
            "value": 242013376
          }
        },
        "6416f3fb033549fc994f9cdb6b459fb7": {
          "model_module": "@jupyter-widgets/controls",
          "model_name": "HTMLModel",
          "model_module_version": "1.5.0",
          "state": {
            "_dom_classes": [],
            "_model_module": "@jupyter-widgets/controls",
            "_model_module_version": "1.5.0",
            "_model_name": "HTMLModel",
            "_view_count": null,
            "_view_module": "@jupyter-widgets/controls",
            "_view_module_version": "1.5.0",
            "_view_name": "HTMLView",
            "description": "",
            "description_tooltip": null,
            "layout": "IPY_MODEL_0a60ace2333647d5a2f87d666ff13aaf",
            "placeholder": "​",
            "style": "IPY_MODEL_cb57a1671bed4e7284904b31ac9056f3",
            "value": " 242M/242M [00:01&lt;00:00, 123MB/s]"
          }
        },
        "a8f1d6e92db14540b8637a67547b4653": {
          "model_module": "@jupyter-widgets/base",
          "model_name": "LayoutModel",
          "model_module_version": "1.2.0",
          "state": {
            "_model_module": "@jupyter-widgets/base",
            "_model_module_version": "1.2.0",
            "_model_name": "LayoutModel",
            "_view_count": null,
            "_view_module": "@jupyter-widgets/base",
            "_view_module_version": "1.2.0",
            "_view_name": "LayoutView",
            "align_content": null,
            "align_items": null,
            "align_self": null,
            "border": null,
            "bottom": null,
            "display": null,
            "flex": null,
            "flex_flow": null,
            "grid_area": null,
            "grid_auto_columns": null,
            "grid_auto_flow": null,
            "grid_auto_rows": null,
            "grid_column": null,
            "grid_gap": null,
            "grid_row": null,
            "grid_template_areas": null,
            "grid_template_columns": null,
            "grid_template_rows": null,
            "height": null,
            "justify_content": null,
            "justify_items": null,
            "left": null,
            "margin": null,
            "max_height": null,
            "max_width": null,
            "min_height": null,
            "min_width": null,
            "object_fit": null,
            "object_position": null,
            "order": null,
            "overflow": null,
            "overflow_x": null,
            "overflow_y": null,
            "padding": null,
            "right": null,
            "top": null,
            "visibility": null,
            "width": null
          }
        },
        "a0fe7de8a46a460ba329023d8ad0be8b": {
          "model_module": "@jupyter-widgets/base",
          "model_name": "LayoutModel",
          "model_module_version": "1.2.0",
          "state": {
            "_model_module": "@jupyter-widgets/base",
            "_model_module_version": "1.2.0",
            "_model_name": "LayoutModel",
            "_view_count": null,
            "_view_module": "@jupyter-widgets/base",
            "_view_module_version": "1.2.0",
            "_view_name": "LayoutView",
            "align_content": null,
            "align_items": null,
            "align_self": null,
            "border": null,
            "bottom": null,
            "display": null,
            "flex": null,
            "flex_flow": null,
            "grid_area": null,
            "grid_auto_columns": null,
            "grid_auto_flow": null,
            "grid_auto_rows": null,
            "grid_column": null,
            "grid_gap": null,
            "grid_row": null,
            "grid_template_areas": null,
            "grid_template_columns": null,
            "grid_template_rows": null,
            "height": null,
            "justify_content": null,
            "justify_items": null,
            "left": null,
            "margin": null,
            "max_height": null,
            "max_width": null,
            "min_height": null,
            "min_width": null,
            "object_fit": null,
            "object_position": null,
            "order": null,
            "overflow": null,
            "overflow_x": null,
            "overflow_y": null,
            "padding": null,
            "right": null,
            "top": null,
            "visibility": null,
            "width": null
          }
        },
        "34b97b767d404953b6d8051314c90480": {
          "model_module": "@jupyter-widgets/controls",
          "model_name": "DescriptionStyleModel",
          "model_module_version": "1.5.0",
          "state": {
            "_model_module": "@jupyter-widgets/controls",
            "_model_module_version": "1.5.0",
            "_model_name": "DescriptionStyleModel",
            "_view_count": null,
            "_view_module": "@jupyter-widgets/base",
            "_view_module_version": "1.2.0",
            "_view_name": "StyleView",
            "description_width": ""
          }
        },
        "5df159d11fcd47d9856622226535aa63": {
          "model_module": "@jupyter-widgets/base",
          "model_name": "LayoutModel",
          "model_module_version": "1.2.0",
          "state": {
            "_model_module": "@jupyter-widgets/base",
            "_model_module_version": "1.2.0",
            "_model_name": "LayoutModel",
            "_view_count": null,
            "_view_module": "@jupyter-widgets/base",
            "_view_module_version": "1.2.0",
            "_view_name": "LayoutView",
            "align_content": null,
            "align_items": null,
            "align_self": null,
            "border": null,
            "bottom": null,
            "display": null,
            "flex": null,
            "flex_flow": null,
            "grid_area": null,
            "grid_auto_columns": null,
            "grid_auto_flow": null,
            "grid_auto_rows": null,
            "grid_column": null,
            "grid_gap": null,
            "grid_row": null,
            "grid_template_areas": null,
            "grid_template_columns": null,
            "grid_template_rows": null,
            "height": null,
            "justify_content": null,
            "justify_items": null,
            "left": null,
            "margin": null,
            "max_height": null,
            "max_width": null,
            "min_height": null,
            "min_width": null,
            "object_fit": null,
            "object_position": null,
            "order": null,
            "overflow": null,
            "overflow_x": null,
            "overflow_y": null,
            "padding": null,
            "right": null,
            "top": null,
            "visibility": null,
            "width": null
          }
        },
        "7c7638b6084c4fe7b0d35b1e0369e5c0": {
          "model_module": "@jupyter-widgets/controls",
          "model_name": "ProgressStyleModel",
          "model_module_version": "1.5.0",
          "state": {
            "_model_module": "@jupyter-widgets/controls",
            "_model_module_version": "1.5.0",
            "_model_name": "ProgressStyleModel",
            "_view_count": null,
            "_view_module": "@jupyter-widgets/base",
            "_view_module_version": "1.2.0",
            "_view_name": "StyleView",
            "bar_color": null,
            "description_width": ""
          }
        },
        "0a60ace2333647d5a2f87d666ff13aaf": {
          "model_module": "@jupyter-widgets/base",
          "model_name": "LayoutModel",
          "model_module_version": "1.2.0",
          "state": {
            "_model_module": "@jupyter-widgets/base",
            "_model_module_version": "1.2.0",
            "_model_name": "LayoutModel",
            "_view_count": null,
            "_view_module": "@jupyter-widgets/base",
            "_view_module_version": "1.2.0",
            "_view_name": "LayoutView",
            "align_content": null,
            "align_items": null,
            "align_self": null,
            "border": null,
            "bottom": null,
            "display": null,
            "flex": null,
            "flex_flow": null,
            "grid_area": null,
            "grid_auto_columns": null,
            "grid_auto_flow": null,
            "grid_auto_rows": null,
            "grid_column": null,
            "grid_gap": null,
            "grid_row": null,
            "grid_template_areas": null,
            "grid_template_columns": null,
            "grid_template_rows": null,
            "height": null,
            "justify_content": null,
            "justify_items": null,
            "left": null,
            "margin": null,
            "max_height": null,
            "max_width": null,
            "min_height": null,
            "min_width": null,
            "object_fit": null,
            "object_position": null,
            "order": null,
            "overflow": null,
            "overflow_x": null,
            "overflow_y": null,
            "padding": null,
            "right": null,
            "top": null,
            "visibility": null,
            "width": null
          }
        },
        "cb57a1671bed4e7284904b31ac9056f3": {
          "model_module": "@jupyter-widgets/controls",
          "model_name": "DescriptionStyleModel",
          "model_module_version": "1.5.0",
          "state": {
            "_model_module": "@jupyter-widgets/controls",
            "_model_module_version": "1.5.0",
            "_model_name": "DescriptionStyleModel",
            "_view_count": null,
            "_view_module": "@jupyter-widgets/base",
            "_view_module_version": "1.2.0",
            "_view_name": "StyleView",
            "description_width": ""
          }
        }
      }
    }
  },
  "cells": [
    {
      "cell_type": "markdown",
      "metadata": {
        "id": "view-in-github",
        "colab_type": "text"
      },
      "source": [
        "<a href=\"https://colab.research.google.com/github/chenxizhang05/Pentahack/blob/main/question_generation.ipynb\" target=\"_parent\"><img src=\"https://colab.research.google.com/assets/colab-badge.svg\" alt=\"Open In Colab\"/></a>"
      ]
    },
    {
      "cell_type": "markdown",
      "source": [
        "Installation of the Models"
      ],
      "metadata": {
        "id": "HTyGu1QL8Ryq"
      }
    },
    {
      "cell_type": "code",
      "source": [
        "pip install sentencepiece"
      ],
      "metadata": {
        "id": "iM1AWAPST_k4",
        "outputId": "18996417-5b28-4a43-d514-0372d8e88aa8",
        "colab": {
          "base_uri": "https://localhost:8080/"
        }
      },
      "execution_count": 1,
      "outputs": [
        {
          "output_type": "stream",
          "name": "stdout",
          "text": [
            "Looking in indexes: https://pypi.org/simple, https://us-python.pkg.dev/colab-wheels/public/simple/\n",
            "Collecting sentencepiece\n",
            "  Downloading sentencepiece-0.1.97-cp39-cp39-manylinux_2_17_x86_64.manylinux2014_x86_64.whl (1.3 MB)\n",
            "\u001b[2K     \u001b[90m━━━━━━━━━━━━━━━━━━━━━━━━━━━━━━━━━━━━━━━━\u001b[0m \u001b[32m1.3/1.3 MB\u001b[0m \u001b[31m25.8 MB/s\u001b[0m eta \u001b[36m0:00:00\u001b[0m\n",
            "\u001b[?25hInstalling collected packages: sentencepiece\n",
            "Successfully installed sentencepiece-0.1.97\n"
          ]
        }
      ]
    },
    {
      "cell_type": "code",
      "metadata": {
        "id": "aweZgxXBDsOQ",
        "colab": {
          "base_uri": "https://localhost:8080/"
        },
        "outputId": "a082d49b-72b2-45b1-a94d-0467f1670fa2"
      },
      "source": [
        "!pip install -U transformers==3.0.0"
      ],
      "execution_count": 2,
      "outputs": [
        {
          "output_type": "stream",
          "name": "stdout",
          "text": [
            "Looking in indexes: https://pypi.org/simple, https://us-python.pkg.dev/colab-wheels/public/simple/\n",
            "Collecting transformers==3.0.0\n",
            "  Downloading transformers-3.0.0-py3-none-any.whl (754 kB)\n",
            "\u001b[2K     \u001b[90m━━━━━━━━━━━━━━━━━━━━━━━━━━━━━━━━━━━━━━\u001b[0m \u001b[32m754.6/754.6 KB\u001b[0m \u001b[31m36.8 MB/s\u001b[0m eta \u001b[36m0:00:00\u001b[0m\n",
            "\u001b[?25hCollecting tokenizers==0.8.0-rc4\n",
            "  Downloading tokenizers-0.8.0rc4.tar.gz (96 kB)\n",
            "\u001b[2K     \u001b[90m━━━━━━━━━━━━━━━━━━━━━━━━━━━━━━━━━━━━━━━━\u001b[0m \u001b[32m97.0/97.0 KB\u001b[0m \u001b[31m6.4 MB/s\u001b[0m eta \u001b[36m0:00:00\u001b[0m\n",
            "\u001b[?25h  Installing build dependencies ... \u001b[?25l\u001b[?25hdone\n",
            "  Getting requirements to build wheel ... \u001b[?25l\u001b[?25hdone\n",
            "  Preparing metadata (pyproject.toml) ... \u001b[?25l\u001b[?25hdone\n",
            "Collecting sacremoses\n",
            "  Downloading sacremoses-0.0.53.tar.gz (880 kB)\n",
            "\u001b[2K     \u001b[90m━━━━━━━━━━━━━━━━━━━━━━━━━━━━━━━━━━━━━━\u001b[0m \u001b[32m880.6/880.6 KB\u001b[0m \u001b[31m38.3 MB/s\u001b[0m eta \u001b[36m0:00:00\u001b[0m\n",
            "\u001b[?25h  Preparing metadata (setup.py) ... \u001b[?25l\u001b[?25hdone\n",
            "Requirement already satisfied: tqdm>=4.27 in /usr/local/lib/python3.9/dist-packages (from transformers==3.0.0) (4.65.0)\n",
            "Requirement already satisfied: requests in /usr/local/lib/python3.9/dist-packages (from transformers==3.0.0) (2.27.1)\n",
            "Requirement already satisfied: filelock in /usr/local/lib/python3.9/dist-packages (from transformers==3.0.0) (3.10.7)\n",
            "Requirement already satisfied: regex!=2019.12.17 in /usr/local/lib/python3.9/dist-packages (from transformers==3.0.0) (2022.10.31)\n",
            "Requirement already satisfied: sentencepiece in /usr/local/lib/python3.9/dist-packages (from transformers==3.0.0) (0.1.97)\n",
            "Requirement already satisfied: numpy in /usr/local/lib/python3.9/dist-packages (from transformers==3.0.0) (1.22.4)\n",
            "Requirement already satisfied: packaging in /usr/local/lib/python3.9/dist-packages (from transformers==3.0.0) (23.0)\n",
            "Requirement already satisfied: idna<4,>=2.5 in /usr/local/lib/python3.9/dist-packages (from requests->transformers==3.0.0) (3.4)\n",
            "Requirement already satisfied: certifi>=2017.4.17 in /usr/local/lib/python3.9/dist-packages (from requests->transformers==3.0.0) (2022.12.7)\n",
            "Requirement already satisfied: charset-normalizer~=2.0.0 in /usr/local/lib/python3.9/dist-packages (from requests->transformers==3.0.0) (2.0.12)\n",
            "Requirement already satisfied: urllib3<1.27,>=1.21.1 in /usr/local/lib/python3.9/dist-packages (from requests->transformers==3.0.0) (1.26.15)\n",
            "Requirement already satisfied: six in /usr/local/lib/python3.9/dist-packages (from sacremoses->transformers==3.0.0) (1.16.0)\n",
            "Requirement already satisfied: click in /usr/local/lib/python3.9/dist-packages (from sacremoses->transformers==3.0.0) (8.1.3)\n",
            "Requirement already satisfied: joblib in /usr/local/lib/python3.9/dist-packages (from sacremoses->transformers==3.0.0) (1.1.1)\n",
            "Building wheels for collected packages: tokenizers, sacremoses\n",
            "  \u001b[1;31merror\u001b[0m: \u001b[1msubprocess-exited-with-error\u001b[0m\n",
            "  \n",
            "  \u001b[31m×\u001b[0m \u001b[32mBuilding wheel for tokenizers \u001b[0m\u001b[1;32m(\u001b[0m\u001b[32mpyproject.toml\u001b[0m\u001b[1;32m)\u001b[0m did not run successfully.\n",
            "  \u001b[31m│\u001b[0m exit code: \u001b[1;36m1\u001b[0m\n",
            "  \u001b[31m╰─>\u001b[0m See above for output.\n",
            "  \n",
            "  \u001b[1;35mnote\u001b[0m: This error originates from a subprocess, and is likely not a problem with pip.\n",
            "  Building wheel for tokenizers (pyproject.toml) ... \u001b[?25l\u001b[?25herror\n",
            "\u001b[31m  ERROR: Failed building wheel for tokenizers\u001b[0m\u001b[31m\n",
            "\u001b[0m  Building wheel for sacremoses (setup.py) ... \u001b[?25l\u001b[?25hdone\n",
            "  Created wheel for sacremoses: filename=sacremoses-0.0.53-py3-none-any.whl size=895259 sha256=1eef57b2fdb67fbc38d9f0dc862816f78f85c94ce002b6732d4094ed7745aa65\n",
            "  Stored in directory: /root/.cache/pip/wheels/12/1c/3d/46cf06718d63a32ff798a89594b61e7f345ab6b36d909ce033\n",
            "Successfully built sacremoses\n",
            "Failed to build tokenizers\n",
            "\u001b[31mERROR: Could not build wheels for tokenizers, which is required to install pyproject.toml-based projects\u001b[0m\u001b[31m\n",
            "\u001b[0m"
          ]
        }
      ]
    },
    {
      "cell_type": "code",
      "metadata": {
        "id": "4FARi6xuQ4IZ",
        "colab": {
          "base_uri": "https://localhost:8080/"
        },
        "outputId": "9a4f336f-d4d9-4c23-db4e-ce5b7b53a77c"
      },
      "source": [
        "!python -m nltk.downloader punkt"
      ],
      "execution_count": 3,
      "outputs": [
        {
          "output_type": "stream",
          "name": "stdout",
          "text": [
            "/usr/lib/python3.9/runpy.py:127: RuntimeWarning: 'nltk.downloader' found in sys.modules after import of package 'nltk', but prior to execution of 'nltk.downloader'; this may result in unpredictable behaviour\n",
            "  warn(RuntimeWarning(msg))\n",
            "[nltk_data] Downloading package punkt to /root/nltk_data...\n",
            "[nltk_data]   Unzipping tokenizers/punkt.zip.\n"
          ]
        }
      ]
    },
    {
      "cell_type": "code",
      "metadata": {
        "id": "QFldiKn8EIp5",
        "colab": {
          "base_uri": "https://localhost:8080/"
        },
        "outputId": "226cb82e-09e8-4dc4-b9f6-4a4d597c3f97"
      },
      "source": [
        "!git clone https://github.com/patil-suraj/question_generation.git"
      ],
      "execution_count": 4,
      "outputs": [
        {
          "output_type": "stream",
          "name": "stdout",
          "text": [
            "Cloning into 'question_generation'...\n",
            "remote: Enumerating objects: 268, done.\u001b[K\n",
            "remote: Total 268 (delta 0), reused 0 (delta 0), pack-reused 268\u001b[K\n",
            "Receiving objects: 100% (268/268), 299.04 KiB | 13.59 MiB/s, done.\n",
            "Resolving deltas: 100% (140/140), done.\n"
          ]
        }
      ]
    },
    {
      "cell_type": "code",
      "metadata": {
        "id": "oy_T1CiVVNuH",
        "colab": {
          "base_uri": "https://localhost:8080/"
        },
        "outputId": "1b36a319-9224-4f9a-d35b-98ba73cc4112"
      },
      "source": [
        "%cd question_generation"
      ],
      "execution_count": 5,
      "outputs": [
        {
          "output_type": "stream",
          "name": "stdout",
          "text": [
            "/content/question_generation\n"
          ]
        }
      ]
    },
    {
      "cell_type": "code",
      "source": [
        "pip install transformers"
      ],
      "metadata": {
        "colab": {
          "base_uri": "https://localhost:8080/"
        },
        "id": "VKfI9p3mP7ZK",
        "outputId": "5e0c49a5-d286-4b96-d1cf-1396b488400e"
      },
      "execution_count": 6,
      "outputs": [
        {
          "output_type": "stream",
          "name": "stdout",
          "text": [
            "Looking in indexes: https://pypi.org/simple, https://us-python.pkg.dev/colab-wheels/public/simple/\n",
            "Collecting transformers\n",
            "  Downloading transformers-4.27.4-py3-none-any.whl (6.8 MB)\n",
            "\u001b[2K     \u001b[90m━━━━━━━━━━━━━━━━━━━━━━━━━━━━━━━━━━━━━━━━\u001b[0m \u001b[32m6.8/6.8 MB\u001b[0m \u001b[31m74.9 MB/s\u001b[0m eta \u001b[36m0:00:00\u001b[0m\n",
            "\u001b[?25hCollecting tokenizers!=0.11.3,<0.14,>=0.11.1\n",
            "  Downloading tokenizers-0.13.3-cp39-cp39-manylinux_2_17_x86_64.manylinux2014_x86_64.whl (7.8 MB)\n",
            "\u001b[2K     \u001b[90m━━━━━━━━━━━━━━━━━━━━━━━━━━━━━━━━━━━━━━━━\u001b[0m \u001b[32m7.8/7.8 MB\u001b[0m \u001b[31m27.4 MB/s\u001b[0m eta \u001b[36m0:00:00\u001b[0m\n",
            "\u001b[?25hRequirement already satisfied: requests in /usr/local/lib/python3.9/dist-packages (from transformers) (2.27.1)\n",
            "Requirement already satisfied: numpy>=1.17 in /usr/local/lib/python3.9/dist-packages (from transformers) (1.22.4)\n",
            "Requirement already satisfied: pyyaml>=5.1 in /usr/local/lib/python3.9/dist-packages (from transformers) (6.0)\n",
            "Requirement already satisfied: filelock in /usr/local/lib/python3.9/dist-packages (from transformers) (3.10.7)\n",
            "Requirement already satisfied: tqdm>=4.27 in /usr/local/lib/python3.9/dist-packages (from transformers) (4.65.0)\n",
            "Collecting huggingface-hub<1.0,>=0.11.0\n",
            "  Downloading huggingface_hub-0.13.4-py3-none-any.whl (200 kB)\n",
            "\u001b[2K     \u001b[90m━━━━━━━━━━━━━━━━━━━━━━━━━━━━━━━━━━━━━━\u001b[0m \u001b[32m200.1/200.1 KB\u001b[0m \u001b[31m22.7 MB/s\u001b[0m eta \u001b[36m0:00:00\u001b[0m\n",
            "\u001b[?25hRequirement already satisfied: packaging>=20.0 in /usr/local/lib/python3.9/dist-packages (from transformers) (23.0)\n",
            "Requirement already satisfied: regex!=2019.12.17 in /usr/local/lib/python3.9/dist-packages (from transformers) (2022.10.31)\n",
            "Requirement already satisfied: typing-extensions>=3.7.4.3 in /usr/local/lib/python3.9/dist-packages (from huggingface-hub<1.0,>=0.11.0->transformers) (4.5.0)\n",
            "Requirement already satisfied: charset-normalizer~=2.0.0 in /usr/local/lib/python3.9/dist-packages (from requests->transformers) (2.0.12)\n",
            "Requirement already satisfied: urllib3<1.27,>=1.21.1 in /usr/local/lib/python3.9/dist-packages (from requests->transformers) (1.26.15)\n",
            "Requirement already satisfied: certifi>=2017.4.17 in /usr/local/lib/python3.9/dist-packages (from requests->transformers) (2022.12.7)\n",
            "Requirement already satisfied: idna<4,>=2.5 in /usr/local/lib/python3.9/dist-packages (from requests->transformers) (3.4)\n",
            "Installing collected packages: tokenizers, huggingface-hub, transformers\n",
            "Successfully installed huggingface-hub-0.13.4 tokenizers-0.13.3 transformers-4.27.4\n"
          ]
        }
      ]
    },
    {
      "cell_type": "code",
      "metadata": {
        "id": "UxoSS2_WEMvx"
      },
      "source": [
        "from pipelines import pipeline"
      ],
      "execution_count": 7,
      "outputs": []
    },
    {
      "cell_type": "markdown",
      "source": [
        "Loading of the Models: "
      ],
      "metadata": {
        "id": "i2zU-Hl99v1v"
      }
    },
    {
      "cell_type": "code",
      "source": [
        "from transformers import AutoTokenizer, T5ForConditionalGeneration\n",
        "\n",
        "model_name = \"allenai/unifiedqa-t5-small\" # you can specify the model size here\n",
        "tokenizer = AutoTokenizer.from_pretrained(model_name)\n",
        "model = T5ForConditionalGeneration.from_pretrained(model_name)"
      ],
      "metadata": {
        "id": "7EnG7gsdUUFU",
        "outputId": "104584e4-6850-4888-8391-7979edcc4b62",
        "colab": {
          "base_uri": "https://localhost:8080/",
          "height": 209,
          "referenced_widgets": [
            "20043d61b6a7474db465e5a814a71a81",
            "4d2d3959fcb14db88cb002a7ee8806b9",
            "8d9154964f9646febaa3b7cbf36f7a04",
            "2f36247674844426b1b4623c736dfaa5",
            "ca009f9591be40a885d4a34597cbe0e9",
            "136654eb4b3f496cae428e3eeb455170",
            "ad0f47b694ee4475a48acbb4897e98b9",
            "6a9ef8f1d7da42b2b1f456c3eddf30fd",
            "02136b568c4a44db8356b7645994b941",
            "54d9935aa91b4ceda72f4841ac141361",
            "fc61e17616654c4cab7232a2103bf5a8",
            "3f69da8aaba041e28b435f019470c208",
            "e6ff0a455fc84fd5917e9f9f958125c1",
            "ca3891ca355c4834be220fc014c2121b",
            "68fff0be0f8d42658bb2d58b3780df85",
            "1feb0e7f72b64cc09d89d1dbcf2096ce",
            "51150b8dfc6544088445bb82f9d30d94",
            "71bca8729f774132b8c64ae9d2fdb6ea",
            "0be538c73f194693ab5a03e08d319a01",
            "f17c86b5e0c041b6a24468009a24eda2",
            "d13b10dd3c8341acbbd2405996cf97b2",
            "3a3856c09e214f43b8b5bdeb875fde8a",
            "c8ad3d1b7b6d49ffb243161c2018f1cf",
            "8e99a02acfae424f912b43ff97b1bcce",
            "51208623fe424164a741f1da51da7a7d",
            "2fd1daa083f4447d9d4dc94562022408",
            "3ed7d833f4de4ec299c235c515b1907b",
            "0a35f88dca3d4515bbbe94a69a785882",
            "0b36ed7993e54557864e6fac65e1df26",
            "755a60e31a194602a95a0cd155384309",
            "ff2307f3efd541aa8ad7a80d6b7772d2",
            "aa2cf174176d4785945c950e3c0b9579",
            "176f1070fab6452e92eb19fc7a4648e7",
            "8578c653f7a24a42a5cc727bb726a1e5",
            "df3200e244a148ef92046ebaf136a1cb",
            "403d6c83aafd4ea98c66e00a52028265",
            "0afa34c2ecca4315a614de89f41ce811",
            "48c9da46fa71455d88c795101a90958c",
            "dbfccaa16cd641909d23b6b3f78fe947",
            "9815e70505d84ce4896982f0504d963f",
            "ca7fe2e22d0d4b29bad730d3d9699138",
            "bce66b370bc04f96b1228abd7b7c80b2",
            "fe5c40bcdcac479bbe5442de9a434bbf",
            "a75f0825d973427f979fe3148f3766e1",
            "d98f2f4900a445efb638bd119f982f9f",
            "7b3c4d84ee43474283dd98233ca5dc72",
            "cce8895f47ca44a4a933f47e590c0b98",
            "2dc5530af2504008a237fecd4dc606cd",
            "c1e6761441634caaaffe4b337bd56617",
            "d7f810bc052a4f92baa622eeb7eb0c72",
            "9edd72b7637a4bf98b231b7614c4fc1d",
            "bd6d93071de9439b9d184d96d357827b",
            "0ce8bddb01264caf94d186b931a22d34",
            "702cff3fa5c44c2dbca1acab4c67946f",
            "11d1b4424f264f078955e24e3aa6196b",
            "0387d1b6445b46179298b52662ce3c29",
            "a14c2e48caf34f1ebadd27342c363ebc",
            "a45f97cf72e542918d310f02c8bd1916",
            "9b4d5bcb64c2475eb18ed8b7579a7b22",
            "a4e26725d8f5409ca577462f83ff24c5",
            "20aa62cb79494a89a76d757f4bb934be",
            "c9fcf81814d2462b9df6b7078412e7fb",
            "c1277a3879044a26b521ba937bc6f3a3",
            "454f7c13aa0643bab7c13af22ffc2935",
            "99415a1c5e8d4726bceca96f3de72201",
            "f49c7e4197e842fc8bd923d274f3d416"
          ]
        }
      },
      "execution_count": 8,
      "outputs": [
        {
          "output_type": "display_data",
          "data": {
            "text/plain": [
              "Downloading (…)okenizer_config.json:   0%|          | 0.00/25.0 [00:00<?, ?B/s]"
            ],
            "application/vnd.jupyter.widget-view+json": {
              "version_major": 2,
              "version_minor": 0,
              "model_id": "20043d61b6a7474db465e5a814a71a81"
            }
          },
          "metadata": {}
        },
        {
          "output_type": "display_data",
          "data": {
            "text/plain": [
              "Downloading (…)lve/main/config.json:   0%|          | 0.00/1.23k [00:00<?, ?B/s]"
            ],
            "application/vnd.jupyter.widget-view+json": {
              "version_major": 2,
              "version_minor": 0,
              "model_id": "3f69da8aaba041e28b435f019470c208"
            }
          },
          "metadata": {}
        },
        {
          "output_type": "display_data",
          "data": {
            "text/plain": [
              "Downloading (…)ve/main/spiece.model:   0%|          | 0.00/792k [00:00<?, ?B/s]"
            ],
            "application/vnd.jupyter.widget-view+json": {
              "version_major": 2,
              "version_minor": 0,
              "model_id": "c8ad3d1b7b6d49ffb243161c2018f1cf"
            }
          },
          "metadata": {}
        },
        {
          "output_type": "display_data",
          "data": {
            "text/plain": [
              "Downloading (…)cial_tokens_map.json:   0%|          | 0.00/1.79k [00:00<?, ?B/s]"
            ],
            "application/vnd.jupyter.widget-view+json": {
              "version_major": 2,
              "version_minor": 0,
              "model_id": "8578c653f7a24a42a5cc727bb726a1e5"
            }
          },
          "metadata": {}
        },
        {
          "output_type": "display_data",
          "data": {
            "text/plain": [
              "Downloading pytorch_model.bin:   0%|          | 0.00/242M [00:00<?, ?B/s]"
            ],
            "application/vnd.jupyter.widget-view+json": {
              "version_major": 2,
              "version_minor": 0,
              "model_id": "d98f2f4900a445efb638bd119f982f9f"
            }
          },
          "metadata": {}
        },
        {
          "output_type": "display_data",
          "data": {
            "text/plain": [
              "Downloading (…)neration_config.json:   0%|          | 0.00/147 [00:00<?, ?B/s]"
            ],
            "application/vnd.jupyter.widget-view+json": {
              "version_major": 2,
              "version_minor": 0,
              "model_id": "0387d1b6445b46179298b52662ce3c29"
            }
          },
          "metadata": {}
        }
      ]
    },
    {
      "cell_type": "code",
      "metadata": {
        "id": "SFSZiIc0StHY",
        "colab": {
          "base_uri": "https://localhost:8080/",
          "height": 401,
          "referenced_widgets": [
            "1cb46a220c70479fbb3900f030aba1da",
            "f7c572ee0a5f407f8142cffb428d9982",
            "71d8ad6c400649f4b5be0fc9d59455a7",
            "2a8451ccab234580821714dcffa85b69",
            "674a026573b94e8cb8b601bce1655da2",
            "a52a7876646f4c22b84147a69feb81a0",
            "024353dafc7e4432a85b1b4488060156",
            "7ef29830788a441bb2bc7f8a40cf6832",
            "d0cdf676c1654e2cbc3467b256433a50",
            "3772783fa6d34a5c9f496448debfc080",
            "ea996434fcc84eb8a2876583fd61b86a",
            "a9cbc86f3611442fb3e40a5f497b0593",
            "8a669183e1d84f46bc704c3e66ef35f2",
            "c1fdf2c87e924b76aa37ade995d1ac79",
            "bb4e31833aa544d6aafd2de60bdb6f76",
            "8eb2dbfbf6514ee6a72f4f7acc6f03ff",
            "b07a3869ca0545c58d723b71cfc90734",
            "37b30a0c17cd48d69faa202a4cb8e0e3",
            "7f2bbbbf3642413ea005f49c5ff527db",
            "2ae8381438dc493cb263e0687c5e2cfd",
            "33ab9f63780041a4a92e586ba9d7155d",
            "ba001c9dc88345b788f271b6cc173b87",
            "ce4a33010c614317a55f3e6a79cf2b57",
            "facc751a790f4b1dae8752e6e8d29205",
            "0cf9ba3c7e704ffab6a90efecd960e46",
            "dd22d8559f3f4f01b7bef929de0acd73",
            "85eaf403de5f4c7682f143912c0d7a72",
            "9c6b3ad49c024b27a7d52011aecc8262",
            "4a54a192247a4920abc11bc34e015408",
            "56c817c5f8ea42349104aa3557ac719b",
            "7bfd6b3ff8ac4d90927ad7aed89ad033",
            "726fb8b81b2a4de584228e84dbf36117",
            "29a5285c4b16491c98d3512d8a84bb09",
            "7226ab77a7b34eb9a16cb6f39c3505a6",
            "48de6860d3dc42cc8ad97598c0d7580f",
            "c04674b10cdc44bcb2acd193f27fd981",
            "467d3fe0a2dd46c69999599e2c6244d5",
            "8a77ac4cceea4c7b92a665c3348a2c28",
            "714ed97f8d66450ab94e5af8c0f288c1",
            "967b82a2e6fd4f73a52946702c631a63",
            "9526985f22a243c8b7d6e4c74ffc9fe1",
            "bd78ff7e2a4f4756887e88e46465675e",
            "68dc0afbffb04849abbbd17995ae3d0c",
            "7b39f264871b4525a32dbdee54d20521",
            "2674266126124c3bbc22937e62f85f09",
            "f623b3143f25434a9421a1e177476065",
            "6920c6bbd51d4d5c8b66047e92ed462c",
            "cd834932ebe3415d891005045c0a59b2",
            "5bca6f77ea864656b71dd3cbd54bd81d",
            "7c4a1ba805d64d2bb31cadb6dff6ace8",
            "cb90f184bec44ead9d5b1e64d74da528",
            "98f72ca5db824dc690c0fcd0924edcae",
            "8da08fb18a2f4378a8eca632fbb2923d",
            "b398284a82c84b489f70adc4f2de2b5e",
            "1c8be67e16644f6d91ba3eeca57798d6",
            "d49db9c22f064c9b8082435d190677be",
            "092d13ece34c4505a6e70fb7f0655614",
            "f178e581a3e641e184d27fe86cbebe4f",
            "13016654155b49f993fe756d5b51f6a4",
            "0ae8d670483c46318f24a9532d368c3e",
            "353abf6181344506ac89a6f39b5518bd",
            "75fb0e90da22432a965c295c7c7bbe74",
            "deb55237fd1e490e8794ad52f5290476",
            "c5472645c75748db94e2d053a2c6d5be",
            "ac02088a395147f0825013538c2838f8",
            "22463a938b3647ccad0c871a7ba6684e",
            "cb8c5c63f1c946b6a07393a3f6ba51c7",
            "9f2636e5f7254fe29c7220637d22e202",
            "8d716bb4e9e24c04b4e8c46793854b61",
            "817f722ea0ce48698ba408ec2d31094a",
            "f6b21cd0f108439e8db87aeb61def0c5",
            "a2ad996a7371405ba2e8a0f3cd993dd0",
            "71deb70d02ed4ea4916df17def9b0389",
            "99416b00480c486fae16f38167f35760",
            "96b562d1cf9c436db97a84c853c20b89",
            "f95208f43147415686034173f3dfe7a0",
            "d098fb63f96444b78a14da8c7c309aef",
            "047705eedb8b4dccb3499e5d3f214604",
            "f8e943f5e3aa4c5b9bdeedc5af785a70",
            "5bce1783e2e84c6c83c10d6802f7880b",
            "996ca4d1da9e4145aa847f3b6ea8eb2d",
            "9023f7b0ea7b41629aee6cc16699fbfa",
            "c515efc6c8904200af306c9084c3d9d4",
            "2d78a6973c894961ba1c7924c7a4aeb3",
            "9d1513ff3bfb45f5a4c506edb86152ac",
            "49a99c5e683e430eb3da082dfd2e3aa0",
            "61ae16ea04b24e008616c41fd045c42c",
            "61b2052129084083908b5a9338e96e7d",
            "0d8fbfd0a5824cffa48ef96d15030bf4",
            "f135730c6b474aa6ae4cf41b3093ba6c",
            "19ce80d16be94ddb8cb993b310111a5d",
            "4c875970c6924709b802e40d6b108330",
            "e5acc897dc534126b96e29ee202a9702",
            "f4e9d9143ea74222932625577a271906",
            "339423dbbd03437da51f6ded89872a9a",
            "25f3b5b313614aeb9e69b2d29f6a870c",
            "1a872c508dbe4da7b608508115b34fa3",
            "9b1f6bba54d6433183d1a5923af7a20c",
            "39e80bf3f740426d9ed8f650b35c8ef4",
            "cc4d0a96ea3f45fa936b3b2475637072",
            "2d26e805ad904464832d40daa8e38673",
            "d92b2f3ac804478dad675951c34e3f11",
            "34b39e90bfb3429990326533b7ad6bc7",
            "4908416a1d8b4d49bcfc6c1f049d9693",
            "266242ccebe6438c9679f75a95b317a4",
            "26708b79c141484281f107b2a7aa8130",
            "5671777a24e54eaca3d819056839a051",
            "d6c59793c1a54a8eb4db77a9f32d48e2",
            "753092fe73214c1993cd8932d0f429d9",
            "a11de0abaa0e4b9b98f4f36e50c6cee7",
            "566ff9c4f43341bd9b71293a82abb773",
            "6fa3dcc019c34e6fa0de2ee37449e762",
            "fb4a535a7ca04c65b5f7f87f6adce42f",
            "ba82eeae031e46a7a618e761dbda3b16",
            "406417f599c94e4eaebb577856dd5b16",
            "35d74472be084d43a4d979333d028668",
            "b97b2c88d7f644498f6fbed956323422",
            "a37ac1ccef064f07a643cc32b9ed20c3",
            "3b2f4550f6bd44d1acee661c36faae5c",
            "67b6a8689ccb469e94bd2c74147c8c88",
            "548f8cd1a1c147fc8e05ba4fad7fc36f",
            "892769039f484d20bfac3ca2a8d85cc9",
            "3e1cffe99e814ce28e7a3a668c063c22",
            "543020c6e2c84127bd7f39997b16f238",
            "4407d02a74374afba6ea7c4b8b4a4a38",
            "432c4375578646f4b7230537ba9efaee",
            "662bf560702541628d3521bf27f1564f",
            "e74ab4bf99df4ad7abf10f31a8c54354",
            "f350e4de6faf4422a5a168c7ed31f09b",
            "09fe7d16a0424b5094bc4239d14bc416",
            "ceab3bfdbc24493bb074e92df078a97f",
            "8fa756372c7b4092908420383c7e1539"
          ]
        },
        "outputId": "1b77bd9d-9c7a-4f69-b0eb-f107ba2fa1ca"
      },
      "source": [
        "nlp = pipeline(\"question-generation\", model=\"valhalla/t5-small-qg-prepend\", qg_format=\"prepend\")"
      ],
      "execution_count": 9,
      "outputs": [
        {
          "output_type": "display_data",
          "data": {
            "text/plain": [
              "Downloading (…)okenizer_config.json:   0%|          | 0.00/90.0 [00:00<?, ?B/s]"
            ],
            "application/vnd.jupyter.widget-view+json": {
              "version_major": 2,
              "version_minor": 0,
              "model_id": "1cb46a220c70479fbb3900f030aba1da"
            }
          },
          "metadata": {}
        },
        {
          "output_type": "display_data",
          "data": {
            "text/plain": [
              "Downloading (…)lve/main/config.json:   0%|          | 0.00/1.02k [00:00<?, ?B/s]"
            ],
            "application/vnd.jupyter.widget-view+json": {
              "version_major": 2,
              "version_minor": 0,
              "model_id": "a9cbc86f3611442fb3e40a5f497b0593"
            }
          },
          "metadata": {}
        },
        {
          "output_type": "display_data",
          "data": {
            "text/plain": [
              "Downloading (…)ve/main/spiece.model:   0%|          | 0.00/792k [00:00<?, ?B/s]"
            ],
            "application/vnd.jupyter.widget-view+json": {
              "version_major": 2,
              "version_minor": 0,
              "model_id": "ce4a33010c614317a55f3e6a79cf2b57"
            }
          },
          "metadata": {}
        },
        {
          "output_type": "display_data",
          "data": {
            "text/plain": [
              "Downloading (…)in/added_tokens.json:   0%|          | 0.00/31.0 [00:00<?, ?B/s]"
            ],
            "application/vnd.jupyter.widget-view+json": {
              "version_major": 2,
              "version_minor": 0,
              "model_id": "7226ab77a7b34eb9a16cb6f39c3505a6"
            }
          },
          "metadata": {}
        },
        {
          "output_type": "display_data",
          "data": {
            "text/plain": [
              "Downloading (…)cial_tokens_map.json:   0%|          | 0.00/65.0 [00:00<?, ?B/s]"
            ],
            "application/vnd.jupyter.widget-view+json": {
              "version_major": 2,
              "version_minor": 0,
              "model_id": "2674266126124c3bbc22937e62f85f09"
            }
          },
          "metadata": {}
        },
        {
          "output_type": "display_data",
          "data": {
            "text/plain": [
              "Downloading pytorch_model.bin:   0%|          | 0.00/242M [00:00<?, ?B/s]"
            ],
            "application/vnd.jupyter.widget-view+json": {
              "version_major": 2,
              "version_minor": 0,
              "model_id": "d49db9c22f064c9b8082435d190677be"
            }
          },
          "metadata": {}
        },
        {
          "output_type": "display_data",
          "data": {
            "text/plain": [
              "Downloading (…)okenizer_config.json:   0%|          | 0.00/90.0 [00:00<?, ?B/s]"
            ],
            "application/vnd.jupyter.widget-view+json": {
              "version_major": 2,
              "version_minor": 0,
              "model_id": "cb8c5c63f1c946b6a07393a3f6ba51c7"
            }
          },
          "metadata": {}
        },
        {
          "output_type": "display_data",
          "data": {
            "text/plain": [
              "Downloading (…)lve/main/config.json:   0%|          | 0.00/656 [00:00<?, ?B/s]"
            ],
            "application/vnd.jupyter.widget-view+json": {
              "version_major": 2,
              "version_minor": 0,
              "model_id": "047705eedb8b4dccb3499e5d3f214604"
            }
          },
          "metadata": {}
        },
        {
          "output_type": "display_data",
          "data": {
            "text/plain": [
              "Downloading (…)ve/main/spiece.model:   0%|          | 0.00/792k [00:00<?, ?B/s]"
            ],
            "application/vnd.jupyter.widget-view+json": {
              "version_major": 2,
              "version_minor": 0,
              "model_id": "0d8fbfd0a5824cffa48ef96d15030bf4"
            }
          },
          "metadata": {}
        },
        {
          "output_type": "display_data",
          "data": {
            "text/plain": [
              "Downloading (…)in/added_tokens.json:   0%|          | 0.00/31.0 [00:00<?, ?B/s]"
            ],
            "application/vnd.jupyter.widget-view+json": {
              "version_major": 2,
              "version_minor": 0,
              "model_id": "cc4d0a96ea3f45fa936b3b2475637072"
            }
          },
          "metadata": {}
        },
        {
          "output_type": "display_data",
          "data": {
            "text/plain": [
              "Downloading (…)cial_tokens_map.json:   0%|          | 0.00/65.0 [00:00<?, ?B/s]"
            ],
            "application/vnd.jupyter.widget-view+json": {
              "version_major": 2,
              "version_minor": 0,
              "model_id": "566ff9c4f43341bd9b71293a82abb773"
            }
          },
          "metadata": {}
        },
        {
          "output_type": "display_data",
          "data": {
            "text/plain": [
              "Downloading pytorch_model.bin:   0%|          | 0.00/242M [00:00<?, ?B/s]"
            ],
            "application/vnd.jupyter.widget-view+json": {
              "version_major": 2,
              "version_minor": 0,
              "model_id": "892769039f484d20bfac3ca2a8d85cc9"
            }
          },
          "metadata": {}
        }
      ]
    },
    {
      "cell_type": "code",
      "source": [
        "nlp1 = pipeline(\"e2e-qg\")"
      ],
      "metadata": {
        "colab": {
          "base_uri": "https://localhost:8080/",
          "height": 209,
          "referenced_widgets": [
            "92a4f8ac0a244c5fa3da44fde468d38e",
            "a13b0cd5b7ae4a94a401566d3b39b784",
            "68ec1853d27349fbbc4058321cfa4bf0",
            "2238b4b44bd1451d87567092055abf32",
            "ed612287a0d64409afc3109a68a81ec3",
            "2bd1c89a05a3422882aeddba934e6bd0",
            "ea820b38d5994d8bb525f62498a94241",
            "f6a6d35d8b80446183088b2504ae799c",
            "664a01bfb9334026a3d34336c18a1b5f",
            "4c1f42f6cdeb4a95861391dba5a4da8c",
            "8a6f4bf9833947c68236132cb8817f61",
            "94e687b531ec438abf7d0b876d3e8cb5",
            "ed77c89299d4477e81be971c618da6db",
            "fa7f3074882a4602bf388be68bb2bef0",
            "4dc25952c5c44cf18c8c4402ba2dbe5b",
            "15fe34eca3b94ee0af37b6c5b8c6d912",
            "57792557d05e47ffb50f9b5b4b961cc9",
            "cad9cdcd522a435f84297b4fff6199f8",
            "d1cd0bb576b849aca434adafd24983e1",
            "0726950a1151414aa2a0f016580843fb",
            "4bba51aa81b54266bc2c74ee25a08232",
            "1fbe5d4aad5149a8a485e6762b1b8240",
            "9cc400a604f645f497b16618cadc7a77",
            "ae4f972acfa74e5cb1987e826034d545",
            "b2384be25e5240de9ac82bc6926014d4",
            "5539d05194e94e55abc481ff7bcf8209",
            "f651e9539f864ebc9922d23e20e936c1",
            "bfd027c70ed84456a0f104373fd64d92",
            "067692b03dcb4af185379f510824c7fc",
            "252cb20744d04245b03d70f409c6d69b",
            "d65f155c894c4ada9e640f3f70f85bb0",
            "6a72881bc3e349ec8fdd80846efa6a5a",
            "2182508034a44291baf7da2ca5093d4b",
            "0018b1fbdfad4876977c58c90b66147b",
            "9dd6cfea9dea4ae7940d05087b08f91d",
            "b55ad9e17fbf46b99871dfec0af5be2e",
            "1338b1a3767441a6bbf47097546219a2",
            "2e6538acee344a0092af76ee40009e16",
            "88175a92389449be9278b939abe90caf",
            "1efccd3515474534a7f0d5b407d88752",
            "2f5c390229b041baa9a17bcb5fce0be9",
            "229ddc85a17148d0a8a0fdba50f8515c",
            "e6b6421c24e646ee91df331f63c1df86",
            "1aed55de65cc416ca5ddf80a8faf975c",
            "b193b6e379bc4b64b4eafd8313c73314",
            "de724c2c0a2c4e798f055790ed0f82d4",
            "8ca1f0a63a404f2aac5f60ae1c6f2ce1",
            "64158ae91e7741f68d3c83f4c8e8fea5",
            "aa132cde252a40b0bc13656cf49e6346",
            "2e0eb40bd8ef4464b2e18c916ce296e9",
            "35b1adaabbfb4750a14879b8f675f6c6",
            "38d5f1eda4c24a2f86197eb1667dcef0",
            "b83b9515df4a49e19a2275ec834e6702",
            "8bf1e67c52c9410aafad5586ec1b9f81",
            "cdfbc88a6dfa476b904732b1265b23be",
            "784bc40ebd5f43d1aa0b2acce1620a08",
            "970748104faf422d8d73077c9cf96744",
            "bd7950faa14c4102a5b440849d06ff73",
            "6416f3fb033549fc994f9cdb6b459fb7",
            "a8f1d6e92db14540b8637a67547b4653",
            "a0fe7de8a46a460ba329023d8ad0be8b",
            "34b97b767d404953b6d8051314c90480",
            "5df159d11fcd47d9856622226535aa63",
            "7c7638b6084c4fe7b0d35b1e0369e5c0",
            "0a60ace2333647d5a2f87d666ff13aaf",
            "cb57a1671bed4e7284904b31ac9056f3"
          ]
        },
        "id": "7u0gOa_oegar",
        "outputId": "8cce40a6-ce62-4de6-a5eb-b2844d82adb3"
      },
      "execution_count": 10,
      "outputs": [
        {
          "output_type": "display_data",
          "data": {
            "text/plain": [
              "Downloading (…)okenizer_config.json:   0%|          | 0.00/124 [00:00<?, ?B/s]"
            ],
            "application/vnd.jupyter.widget-view+json": {
              "version_major": 2,
              "version_minor": 0,
              "model_id": "92a4f8ac0a244c5fa3da44fde468d38e"
            }
          },
          "metadata": {}
        },
        {
          "output_type": "display_data",
          "data": {
            "text/plain": [
              "Downloading (…)lve/main/config.json:   0%|          | 0.00/1.35k [00:00<?, ?B/s]"
            ],
            "application/vnd.jupyter.widget-view+json": {
              "version_major": 2,
              "version_minor": 0,
              "model_id": "94e687b531ec438abf7d0b876d3e8cb5"
            }
          },
          "metadata": {}
        },
        {
          "output_type": "display_data",
          "data": {
            "text/plain": [
              "Downloading (…)ve/main/spiece.model:   0%|          | 0.00/792k [00:00<?, ?B/s]"
            ],
            "application/vnd.jupyter.widget-view+json": {
              "version_major": 2,
              "version_minor": 0,
              "model_id": "9cc400a604f645f497b16618cadc7a77"
            }
          },
          "metadata": {}
        },
        {
          "output_type": "display_data",
          "data": {
            "text/plain": [
              "Downloading (…)in/added_tokens.json:   0%|          | 0.00/31.0 [00:00<?, ?B/s]"
            ],
            "application/vnd.jupyter.widget-view+json": {
              "version_major": 2,
              "version_minor": 0,
              "model_id": "0018b1fbdfad4876977c58c90b66147b"
            }
          },
          "metadata": {}
        },
        {
          "output_type": "display_data",
          "data": {
            "text/plain": [
              "Downloading (…)cial_tokens_map.json:   0%|          | 0.00/1.79k [00:00<?, ?B/s]"
            ],
            "application/vnd.jupyter.widget-view+json": {
              "version_major": 2,
              "version_minor": 0,
              "model_id": "b193b6e379bc4b64b4eafd8313c73314"
            }
          },
          "metadata": {}
        },
        {
          "output_type": "display_data",
          "data": {
            "text/plain": [
              "Downloading pytorch_model.bin:   0%|          | 0.00/242M [00:00<?, ?B/s]"
            ],
            "application/vnd.jupyter.widget-view+json": {
              "version_major": 2,
              "version_minor": 0,
              "model_id": "784bc40ebd5f43d1aa0b2acce1620a08"
            }
          },
          "metadata": {}
        }
      ]
    },
    {
      "cell_type": "markdown",
      "source": [
        "General Paper: Science and Technology Sentences"
      ],
      "metadata": {
        "id": "pNDBxfnd8w7W"
      }
    },
    {
      "cell_type": "code",
      "metadata": {
        "id": "rk3X75xXRH5r"
      },
      "source": [
        "text = \"Section F: Technology and Inequality Booster vaccine  roll out a sure recipe for boosting inequality How to close the digital gap for the elderly Papering over old people’s needs Technology’s role in educational inequality. Technology can help equality of people with disabilities. Science & Technology.\"\n",
        "text2 = \"Algorithmic intelligence has gotten so smart, it's easy to forget it's artificial. The attack of zombie science: Why we must rebuild out trust in science How Covid-19 is driving the evolution of Industry. How to address digital safety in the metaverse. As tech disrupts our jobs, it is not too late to turn pain into gain\"\n",
        "text3 = \"There is an additional risk from the tracking and retention of biometric data, providing platforms with “a new quality of information that is comprised of your real identity combined with stimuli – indicating what you uniquely may think and like and want.”, according to technology and human rights expert Brittan Heller; in her paper Reimagining Reality: Human Rights and Immersive Technology, she coins the term “biometric psychography” and discusses the potential implications of new data collection with immersive technologies for human rights, privacy, and self- censorship.\"\n",
        "text4 = \"In the 1960s, scientists first noticed what has become known as the “fine-tuning problem”: The numerical value of many of the fundamental constants of nature, such as the speed of light or the strength of the forces in the nuclei of atoms, must lie within a narrow range 105 for life to arise in our universe—not merely life similar to life on Earth, but any kind of life.\"\n",
        "text5 = \"The President and his sons were the first to promote the “game-changer” PDF, and there are leaked videos of scientists and medical doctors working together with Prevent Senior and President Bolsonaro to promote the COVID kit, in an attempt to convey to the populace the notion that the pandemic was under control and there was no need for mitigation and preventive measures 105 that would “hurt the economy.”\"\n",
        "text6 = \"Animal models have allowed scientists the study all manner of medical conditions: experiments using mice have provided crucial insights into how Alzheimer’s disease actually progresses in the human brain; Zika-infected monkeys have 30 allowed scientists to slowly decipher how the virus works in order to develop a cure; and surgeries on dogs and cats have allowed researchers to develop and perfect life-saving procedures, like open-heart surgery and organ transplants.\"\n",
        "text7 = \"A new project by Columbia University, in tandem with the AI Now Institute and the New York University School of Law’s Center on Race, Inequality, and the Law, and the Electronic Frontier 55 Foundation, was recently begun “to conduct an examination of current United States courtroom litigation where the use of algorithms by government was central to the rights and liberties at issue in the case.”\"\n",
        "text8 = \"While there are dozens of American tech companies selling this type of software to law enforcement agencies, one 30 particular startup, Voyager Labs, is collecting social media information—including Facebook posts, emojis, friends–and analyzing them to make connections, even cross-referencing this information with private data, to create a “holistic” profile that can be used to find people who pose “risks.”\"\n",
        "text9 = \"A rich stew of new technologies, materials, design methods, financial techniques, business models, smart policies, and aggressive investments could in this decade revitalise, relocate, or displace some of the world’s most powerful industries,” declares Amory Levins, co-founder of the Rocky Mountain 15 Institute, an organisation dedicated to enabling the transition to clean energy, in a recent report.\"\n",
        "text10 = \"We trained an algorithm on a set of texts that were tagged as news articles, editorials, fiction, and so on, and it masticated their words and punctuation until it was pretty good at telling them apart — for instance, it figured out for itself that when a text contained an exclamation point or a question mark, it was more likely to be an editorial than news story.\"\n",
        "text11 = \"The funding agency’s magazine, Revista Fapesp, published an article on how Brazilian scientists had proposed the use of nasal sprays with saline to prevent COVID-19, stressing just how important this discovery could be to help control the pandemic ⁠. Another Brazilian magazine also picked up the bait and highlighted the good news, being careful to stress that this was not a cure for COVID-19.\"\n",
        "text12 = \"If there are lots of universes with different properties—some with 17 dimensions or some with 12 dimensions, some with values of dark energy much larger or much smaller 130 than in our universe, some with nuclear forces much stronger or weaker, and so on—then some of those universes would, by chance, have the right properties to make stars and life.\"\n",
        "text13 = \"The Big 35 Bang, quantum theories of spontaneous creation of matter and energy, String Theory and concepts of a Multi-Verse, our vast scientific database still struggles to answer the most fundamental of all questions first posed by the Greek philosopher Parmenides in the fifth century B.C.E. and repeated by others through the ages: “Why is there not nothing?”\"\n",
        "text14 = \"The work, as presented, had shabby methodology and the rosy conclusions were obviously unwarranted, Later, a group of medical doctors fired by the study sponsor came forward and declared the study was rife with fraud, ethical misconduct, and withheld information ⁠. It turned out that there had been deaths in the treatment group, but they were removed from the record.\"\n",
        "text15 = \"Why concerns about the funding of science by private industry are primarily due to differences in terms of how rigorous the process of securing funding is between investors and government agencies, and how findings may be used Leigh Stearns thought she’d hit the jackpot when the Heising-Simons Foundation awarded her research team $6 million to study a collapsing glacier in Greenland.\"\n",
        "text16 = \"As a EU 1, 4, 7, 9  “designated Pain the Rear,” he wrote, addressing his own field of drug discovery, “I have to ask if we needed over ninety different papers screening what in many cases is more or less the same set of compounds, over and over and over.”\"\n",
        "text17 = \"An analysis of the budgets for six federal agencies that 35 fund scientific research — NASA, the National Oceanic and Atmospheric Administration, the National Science Foundation, the Energy Department, the U.S. Geological Survey and the Agriculture Department — found that $9.4 billion was dedicated to Earth and atmospheric research, environmental monitoring and clean energy projects for fiscal 2020. \"\n",
        "text18 = \"Religion and science in conflict  Where science and miracles meet in the contemporary world Science and religion together benefit humanity Section B: Science and Business Bezos is pumping $10 billion into climate science.\"\n",
        "text19 = \"For example, Watson envisions stunning urban uses for the living root bridges of the Khasi hill tribe: “They 90 could be grown to reduce the urban heat island effect by increasing canopy cover along streets, with roots trained into trusses that integrate with the architecture of the street – in essence, removing the distinction between tree and building.\"\n",
        "text20 = \"Examine how access to vaccines is driven not only by technological advancement but also political and economic factors. In the run-up to the National Games (PON) in October, the government worked hard to make sure that as many people as possible in Papua and West Papua provinces, hosts of the biennale event, get their Covid-19 vaccines.\""
      ],
      "execution_count": 11,
      "outputs": []
    },
    {
      "cell_type": "code",
      "source": [
        "nlp(text)"
      ],
      "metadata": {
        "colab": {
          "base_uri": "https://localhost:8080/"
        },
        "id": "kGIuQF3GZG5-",
        "outputId": "3bd831a1-76e7-4d04-afa3-7b66107963ff"
      },
      "execution_count": 12,
      "outputs": [
        {
          "output_type": "execute_result",
          "data": {
            "text/plain": [
              "[{'answer': '<pad> Technology and Inequality Booster',\n",
              "  'question': 'What vaccines are used to boost inequality?'},\n",
              " {'answer': '<pad> Science & Technology',\n",
              "  'question': 'What type of technology can help people with disabilities?'},\n",
              " {'answer': '<pad> Science & Technology',\n",
              "  'question': 'What type of technology can help people with disabilities?'}]"
            ]
          },
          "metadata": {},
          "execution_count": 12
        }
      ]
    },
    {
      "cell_type": "code",
      "metadata": {
        "id": "XB_UuedZT3Lj",
        "colab": {
          "base_uri": "https://localhost:8080/"
        },
        "outputId": "6375db24-0acb-43c1-df0f-8f22a107b51f"
      },
      "source": [
        "nlp(text2)"
      ],
      "execution_count": 13,
      "outputs": [
        {
          "output_type": "execute_result",
          "data": {
            "text/plain": [
              "[{'answer': '<pad> artificial',\n",
              "  'question': \"What type of intelligence has become so smart that it's easy to forget?\"},\n",
              " {'answer': '<pad> Covid-19',\n",
              "  'question': 'What is driving the evolution of Industry?'},\n",
              " {'answer': '<pad> digital safety',\n",
              "  'question': 'What does Covid-19 address in the metaverse?'},\n",
              " {'answer': '<pad> it is not too late to turn pain into gain',\n",
              "  'question': 'How does tech disrupt our jobs?'}]"
            ]
          },
          "metadata": {},
          "execution_count": 13
        }
      ]
    },
    {
      "cell_type": "code",
      "metadata": {
        "id": "px6v-bKOTy87",
        "colab": {
          "base_uri": "https://localhost:8080/"
        },
        "outputId": "5e9e4e71-7cd5-43fb-8239-b9a4a21c192f"
      },
      "source": [
        "nlp(text3)"
      ],
      "execution_count": 14,
      "outputs": [
        {
          "output_type": "execute_result",
          "data": {
            "text/plain": [
              "[{'answer': '<pad> biometric psychography',\n",
              "  'question': 'What term does Brittan Heller coin in her paper Reimagining Reality: Human Rights and Immersive Technology?'}]"
            ]
          },
          "metadata": {},
          "execution_count": 14
        }
      ]
    },
    {
      "cell_type": "code",
      "metadata": {
        "id": "yiYInRhOT2Fn",
        "colab": {
          "base_uri": "https://localhost:8080/"
        },
        "outputId": "6c4dbb4a-4568-4582-90f0-e17ed232c3fd"
      },
      "source": [
        "nlp(text4)"
      ],
      "execution_count": 15,
      "outputs": [
        {
          "output_type": "execute_result",
          "data": {
            "text/plain": [
              "[{'answer': '<pad> 105',\n",
              "  'question': 'In what range must the numerical value of many of the fundamental constants of nature lie within?'}]"
            ]
          },
          "metadata": {},
          "execution_count": 15
        }
      ]
    },
    {
      "cell_type": "code",
      "source": [
        "nlp(text5)"
      ],
      "metadata": {
        "colab": {
          "base_uri": "https://localhost:8080/"
        },
        "id": "si3PHiP-c3j0",
        "outputId": "d6d4286e-5256-4dcd-fa8d-23b4afa03d66"
      },
      "execution_count": 16,
      "outputs": [
        {
          "output_type": "execute_result",
          "data": {
            "text/plain": [
              "[{'answer': '<pad> 105',\n",
              "  'question': 'What type of measures did President Bolsonaro take to prevent the pandemic?'}]"
            ]
          },
          "metadata": {},
          "execution_count": 16
        }
      ]
    },
    {
      "cell_type": "code",
      "source": [
        "nlp(text6)"
      ],
      "metadata": {
        "colab": {
          "base_uri": "https://localhost:8080/"
        },
        "id": "81ptTfp5dAfV",
        "outputId": "567e0085-bc86-4280-fee6-cab4d1e827e9"
      },
      "execution_count": 17,
      "outputs": [
        {
          "output_type": "execute_result",
          "data": {
            "text/plain": [
              "[{'answer': '<pad> animals',\n",
              "  'question': 'What type of animals have allowed scientists to study all kinds of medical conditions?'}]"
            ]
          },
          "metadata": {},
          "execution_count": 17
        }
      ]
    },
    {
      "cell_type": "code",
      "source": [
        "nlp(text7)"
      ],
      "metadata": {
        "colab": {
          "base_uri": "https://localhost:8080/"
        },
        "id": "fFjJPY3udDVg",
        "outputId": "00b432ff-cda5-448c-e65e-98f01672f8bd"
      },
      "execution_count": 18,
      "outputs": [
        {
          "output_type": "execute_result",
          "data": {
            "text/plain": [
              "[{'answer': '<pad> AI Now Institute',\n",
              "  'question': 'What is the name of the new project by Columbia University?'},\n",
              " {'answer': ' New York University School of Law’s Center on Race, Inequality, and the Law',\n",
              "  'question': 'What is the name of the new project by Columbia University?'}]"
            ]
          },
          "metadata": {},
          "execution_count": 18
        }
      ]
    },
    {
      "cell_type": "code",
      "source": [
        "nlp(text8)"
      ],
      "metadata": {
        "colab": {
          "base_uri": "https://localhost:8080/"
        },
        "id": "kckRvyPFdHwD",
        "outputId": "aeb4f81a-0a67-4cec-8680-ed8779bd4700"
      },
      "execution_count": 19,
      "outputs": [
        {
          "output_type": "execute_result",
          "data": {
            "text/plain": [
              "[{'answer': '<pad> a “holistic” profile',\n",
              "  'question': 'What can be used to find people who pose “risks”?'}]"
            ]
          },
          "metadata": {},
          "execution_count": 19
        }
      ]
    },
    {
      "cell_type": "code",
      "source": [
        "nlp(text9)"
      ],
      "metadata": {
        "colab": {
          "base_uri": "https://localhost:8080/"
        },
        "id": "2lUFVzOzdJGW",
        "outputId": "b07b7fa0-a35c-45ce-df70-a0895ddf7d52"
      },
      "execution_count": 20,
      "outputs": [
        {
          "output_type": "execute_result",
          "data": {
            "text/plain": [
              "[{'answer': '<pad> Amory Levins',\n",
              "  'question': 'Who co-founded the Rocky Mountain 15 Institute?'}]"
            ]
          },
          "metadata": {},
          "execution_count": 20
        }
      ]
    },
    {
      "cell_type": "code",
      "source": [
        "nlp(text10)"
      ],
      "metadata": {
        "colab": {
          "base_uri": "https://localhost:8080/"
        },
        "id": "9esganludLt2",
        "outputId": "cea3ebe7-a802-410b-efde-fd88672103e1"
      },
      "execution_count": 21,
      "outputs": [
        {
          "output_type": "execute_result",
          "data": {
            "text/plain": [
              "[{'answer': '<pad> an algorithm',\n",
              "  'question': 'What did we train on a set of texts that were tagged as news articles, editorials, fiction, and so on?'}]"
            ]
          },
          "metadata": {},
          "execution_count": 21
        }
      ]
    },
    {
      "cell_type": "code",
      "source": [
        "nlp(text11)"
      ],
      "metadata": {
        "colab": {
          "base_uri": "https://localhost:8080/"
        },
        "id": "fYBt7vGodNEt",
        "outputId": "e4aa4f37-1151-49b8-8113-3f7d1eebec89"
      },
      "execution_count": 22,
      "outputs": [
        {
          "output_type": "execute_result",
          "data": {
            "text/plain": [
              "[{'answer': '<pad> Revista Fapesp',\n",
              "  'question': \"What was the name of the funding agency's magazine?\"},\n",
              " {'answer': '<pad> not a cure for COVID-19',\n",
              "  'question': 'What did a Brazilian magazine say was not a cure for COVID-19?'}]"
            ]
          },
          "metadata": {},
          "execution_count": 22
        }
      ]
    },
    {
      "cell_type": "code",
      "source": [
        "nlp(text12)"
      ],
      "metadata": {
        "colab": {
          "base_uri": "https://localhost:8080/"
        },
        "id": "AUG2239DdO9s",
        "outputId": "280bd8f4-addd-4501-ff70-82d82d374295"
      },
      "execution_count": 23,
      "outputs": [
        {
          "output_type": "execute_result",
          "data": {
            "text/plain": [
              "[{'answer': '<pad> 130',\n",
              "  'question': 'What is the value of dark energy in some universes?'}]"
            ]
          },
          "metadata": {},
          "execution_count": 23
        }
      ]
    },
    {
      "cell_type": "code",
      "source": [
        "nlp(text13)"
      ],
      "metadata": {
        "colab": {
          "base_uri": "https://localhost:8080/"
        },
        "id": "PumrEyqqdQUk",
        "outputId": "3f8d2bc0-c96e-4211-f4a1-804cdff72712"
      },
      "execution_count": 24,
      "outputs": [
        {
          "output_type": "execute_result",
          "data": {
            "text/plain": [
              "[{'answer': '<pad> Parmenides',\n",
              "  'question': 'Who was the Greek philosopher in the fifth century B.C.E.?'},\n",
              " {'answer': '<pad> “Why is there not nothing?”',\n",
              "  'question': 'What is the answer to the most fundamental questions posed by the Greek philosopher Parmenides in the fifth century B.C.E.'}]"
            ]
          },
          "metadata": {},
          "execution_count": 24
        }
      ]
    },
    {
      "cell_type": "code",
      "source": [
        "nlp(text14)"
      ],
      "metadata": {
        "colab": {
          "base_uri": "https://localhost:8080/"
        },
        "id": "iiSorEh3dSBU",
        "outputId": "f1904aa5-baef-472a-fef2-e85688fd3922"
      },
      "execution_count": 25,
      "outputs": [
        {
          "output_type": "execute_result",
          "data": {
            "text/plain": [
              "[{'answer': '<pad> shabby methodology',\n",
              "  'question': 'What type of methodology did the study have?'},\n",
              " {'answer': '<pad> deaths',\n",
              "  'question': 'What happened to the treatment group?'}]"
            ]
          },
          "metadata": {},
          "execution_count": 25
        }
      ]
    },
    {
      "cell_type": "code",
      "source": [
        "nlp(text15)"
      ],
      "metadata": {
        "colab": {
          "base_uri": "https://localhost:8080/"
        },
        "id": "XmUHcVoDdkhY",
        "outputId": "f785b3d2-1059-4493-a6ed-d0b68d1c3ea8"
      },
      "execution_count": 26,
      "outputs": [
        {
          "output_type": "execute_result",
          "data": {
            "text/plain": [
              "[{'answer': '<pad> Heising-Simons Foundation',\n",
              "  'question': 'Who awarded Leigh Stearns $6 million to study a collapsing glacier in Greenland?'}]"
            ]
          },
          "metadata": {},
          "execution_count": 26
        }
      ]
    },
    {
      "cell_type": "code",
      "source": [
        "nlp(text16)"
      ],
      "metadata": {
        "colab": {
          "base_uri": "https://localhost:8080/"
        },
        "id": "zU7EkGZfdpsO",
        "outputId": "17875985-d4b1-442d-818d-37108be8f302"
      },
      "execution_count": 27,
      "outputs": [
        {
          "output_type": "execute_result",
          "data": {
            "text/plain": [
              "[{'answer': '<pad> over ninety different papers',\n",
              "  'question': 'How many different papers did Pain the Rear need?'}]"
            ]
          },
          "metadata": {},
          "execution_count": 27
        }
      ]
    },
    {
      "cell_type": "code",
      "source": [
        "nlp(text17)"
      ],
      "metadata": {
        "colab": {
          "base_uri": "https://localhost:8080/"
        },
        "id": "Yvpz-ez3drEC",
        "outputId": "11fed6c3-8cc0-4423-bbe4-22f40f15c8c9"
      },
      "execution_count": 28,
      "outputs": [
        {
          "output_type": "execute_result",
          "data": {
            "text/plain": [
              "[{'answer': '<pad> $9.4 billion',\n",
              "  'question': 'How much money was spent on Earth and atmospheric research?'}]"
            ]
          },
          "metadata": {},
          "execution_count": 28
        }
      ]
    },
    {
      "cell_type": "code",
      "source": [
        "nlp(text18)"
      ],
      "metadata": {
        "colab": {
          "base_uri": "https://localhost:8080/"
        },
        "id": "FRvLlhAsds_c",
        "outputId": "913c5c99-18c2-4acc-e8e6-f31fa6f5fb3f"
      },
      "execution_count": 29,
      "outputs": [
        {
          "output_type": "execute_result",
          "data": {
            "text/plain": [
              "[{'answer': '<pad> science and miracles',\n",
              "  'question': 'What kind of science and miracles meet in the contemporary world?'},\n",
              " {'answer': ' $10 billion',\n",
              "  'question': 'What does Section B: Science and Business Bezos pump into climate science?'}]"
            ]
          },
          "metadata": {},
          "execution_count": 29
        }
      ]
    },
    {
      "cell_type": "code",
      "source": [
        "nlp(text19)"
      ],
      "metadata": {
        "colab": {
          "base_uri": "https://localhost:8080/"
        },
        "id": "Tjj_hWxEdul1",
        "outputId": "9777933e-198d-4782-d1e6-212a901646f2"
      },
      "execution_count": 30,
      "outputs": [
        {
          "output_type": "execute_result",
          "data": {
            "text/plain": [
              "[{'answer': '<pad> trusses',\n",
              "  'question': 'What type of trusses could be used for the root bridges of the Khasi hill tribe?'}]"
            ]
          },
          "metadata": {},
          "execution_count": 30
        }
      ]
    },
    {
      "cell_type": "code",
      "source": [
        "nlp(text20)"
      ],
      "metadata": {
        "colab": {
          "base_uri": "https://localhost:8080/"
        },
        "id": "40gaY0RidwsO",
        "outputId": "3d1c3fac-006b-4742-a4e5-5167063634ef"
      },
      "execution_count": 31,
      "outputs": [
        {
          "output_type": "execute_result",
          "data": {
            "text/plain": [
              "[{'answer': '<pad> technological advancement',\n",
              "  'question': 'What factors drive access to vaccines?'},\n",
              " {'answer': '<pad> Covid-19 vaccines',\n",
              "  'question': 'What type of vaccine did the government work hard to get in Papua and West Papua provinces?'}]"
            ]
          },
          "metadata": {},
          "execution_count": 31
        }
      ]
    },
    {
      "cell_type": "code",
      "source": [
        "nlp1(text)"
      ],
      "metadata": {
        "colab": {
          "base_uri": "https://localhost:8080/"
        },
        "id": "aM0fN9Oeekpk",
        "outputId": "4b14245f-6ec6-400a-c833-5400b7e9efb9"
      },
      "execution_count": 32,
      "outputs": [
        {
          "output_type": "execute_result",
          "data": {
            "text/plain": [
              "['Section F: Technology and Inequality Booster vaccine roll out a sure recipe for boosting inequality How to close the digital gap for the elderly Papering over old people’s needs Technology’s role in what?',\n",
              " 'What can help equality of people with disabilities?']"
            ]
          },
          "metadata": {},
          "execution_count": 32
        }
      ]
    },
    {
      "cell_type": "code",
      "source": [
        "nlp1(text2)"
      ],
      "metadata": {
        "colab": {
          "base_uri": "https://localhost:8080/"
        },
        "id": "Wt3cVjqne3KC",
        "outputId": "e136c983-d2c4-4c77-9195-e6f8b048b02b"
      },
      "execution_count": 33,
      "outputs": [
        {
          "output_type": "execute_result",
          "data": {
            "text/plain": [
              "['What is the reason we must rebuild out trust in science?',\n",
              " 'How is Covid-19 driving the evolution of Industry?',\n",
              " 'What is it not too late to turn pain into gain?']"
            ]
          },
          "metadata": {},
          "execution_count": 33
        }
      ]
    },
    {
      "cell_type": "code",
      "source": [
        "nlp1(text3)"
      ],
      "metadata": {
        "colab": {
          "base_uri": "https://localhost:8080/"
        },
        "id": "ZXFTVDFne6xL",
        "outputId": "ca7157c7-ea5e-4943-9233-f681d10c284d"
      },
      "execution_count": 34,
      "outputs": [
        {
          "output_type": "execute_result",
          "data": {
            "text/plain": [
              "['What is an additional risk from tracking and retention of biometric data?',\n",
              " 'What is a new quality of information that is comprised of your real identity combined with stimuli – indicating what you uniquely may think and like and want?',\n",
              " 'Who coined the term “biometric psychography”?']"
            ]
          },
          "metadata": {},
          "execution_count": 34
        }
      ]
    },
    {
      "cell_type": "code",
      "source": [
        "nlp1(text4)"
      ],
      "metadata": {
        "colab": {
          "base_uri": "https://localhost:8080/"
        },
        "id": "XmfofYoAgDgT",
        "outputId": "a3845a8c-1283-44cb-8a15-7f8e96600384"
      },
      "execution_count": 35,
      "outputs": [
        {
          "output_type": "execute_result",
          "data": {
            "text/plain": [
              "['What is the name of the problem that scientists first noticed in the 1960s?',\n",
              " 'What must the numerical value of many of the fundamental constants of nature lie within a narrow range for life to arise in our universe?']"
            ]
          },
          "metadata": {},
          "execution_count": 35
        }
      ]
    },
    {
      "cell_type": "code",
      "source": [
        "nlp1(text5)"
      ],
      "metadata": {
        "colab": {
          "base_uri": "https://localhost:8080/"
        },
        "id": "plLV45NPgJy6",
        "outputId": "7d23d7a4-de03-4aa1-a374-23a398e38817"
      },
      "execution_count": 36,
      "outputs": [
        {
          "output_type": "execute_result",
          "data": {
            "text/plain": [
              "['Who were the first to promote the “game-changer” PDF?',\n",
              " 'What did President Bolsonaro and Prevent Senior work together to promote?']"
            ]
          },
          "metadata": {},
          "execution_count": 36
        }
      ]
    },
    {
      "cell_type": "code",
      "source": [
        "nlp1(text6)"
      ],
      "metadata": {
        "colab": {
          "base_uri": "https://localhost:8080/"
        },
        "id": "eVb7IbbpgLv9",
        "outputId": "319e2063-aa11-4721-91d2-731c1efa8676"
      },
      "execution_count": 37,
      "outputs": [
        {
          "output_type": "execute_result",
          "data": {
            "text/plain": [
              "['What has allowed scientists to study all kinds of medical conditions?',\n",
              " 'How many monkeys have been infected with Zika?',\n",
              " 'What type of surgery has allowed researchers to develop and perfect life-saving procedures?']"
            ]
          },
          "metadata": {},
          "execution_count": 37
        }
      ]
    },
    {
      "cell_type": "code",
      "source": [
        "nlp1(text7)"
      ],
      "metadata": {
        "colab": {
          "base_uri": "https://localhost:8080/"
        },
        "id": "9K-Gi3Bjg-9m",
        "outputId": "708721cc-e29d-4fd2-9322-78615169f135"
      },
      "execution_count": 38,
      "outputs": [
        {
          "output_type": "execute_result",
          "data": {
            "text/plain": [
              "['What university was collaborating with the AI Now Institute and the Center on Race, Inequality, and the Law?',\n",
              " 'What is the name of the Electronic Frontier 55 Foundation?',\n",
              " 'How did Columbia University conduct an examination of current US courtroom litigation?']"
            ]
          },
          "metadata": {},
          "execution_count": 38
        }
      ]
    },
    {
      "cell_type": "code",
      "source": [
        "nlp1(text8)"
      ],
      "metadata": {
        "colab": {
          "base_uri": "https://localhost:8080/"
        },
        "id": "ktPedNkLhBAx",
        "outputId": "cc932b81-ca7c-4f16-cba5-f466e2436571"
      },
      "execution_count": 39,
      "outputs": [
        {
          "output_type": "execute_result",
          "data": {
            "text/plain": [
              "['What is the name of the company that sells software to law enforcement agencies?',\n",
              " 'What does Voyager Labs use to create a profile that can be used to find people who pose what?']"
            ]
          },
          "metadata": {},
          "execution_count": 39
        }
      ]
    },
    {
      "cell_type": "code",
      "source": [
        "nlp1(text9)"
      ],
      "metadata": {
        "colab": {
          "base_uri": "https://localhost:8080/"
        },
        "id": "2-k5iN0PhCjK",
        "outputId": "ae4e2906-2283-4d19-e4a1-7937192413bc"
      },
      "execution_count": 40,
      "outputs": [
        {
          "output_type": "execute_result",
          "data": {
            "text/plain": [
              "['What is the name of the organization that is dedicated to enabling the transition to clean energy?',\n",
              " 'Who is the co-founder of the Rocky Mountain 15 Institute?']"
            ]
          },
          "metadata": {},
          "execution_count": 40
        }
      ]
    },
    {
      "cell_type": "code",
      "source": [
        "nlp1(text10)"
      ],
      "metadata": {
        "colab": {
          "base_uri": "https://localhost:8080/"
        },
        "id": "bzYG35DqhEiC",
        "outputId": "fa18d2a4-7bbc-4956-dcb1-1e65b4a2cf7f"
      },
      "execution_count": 41,
      "outputs": [
        {
          "output_type": "execute_result",
          "data": {
            "text/plain": [
              "['What algorithm did we use to create a set of texts that were tagged as news articles, editorials, fiction, and so on?',\n",
              " 'What did the algorithm do to masticate their words and punctuation until it was good at telling them apart?']"
            ]
          },
          "metadata": {},
          "execution_count": 41
        }
      ]
    },
    {
      "cell_type": "code",
      "source": [
        "nlp1(text11)"
      ],
      "metadata": {
        "colab": {
          "base_uri": "https://localhost:8080/"
        },
        "id": "c-DSmJMahuof",
        "outputId": "77ab4489-ddfc-41e5-f586-5db99a093bdf"
      },
      "execution_count": 42,
      "outputs": [
        {
          "output_type": "execute_result",
          "data": {
            "text/plain": [
              "[\"What was the name of the funding agency's magazine?\",\n",
              " 'What did Revista Fapesp say was not a cure for COVID-19?']"
            ]
          },
          "metadata": {},
          "execution_count": 42
        }
      ]
    },
    {
      "cell_type": "code",
      "source": [
        "nlp1(text12)"
      ],
      "metadata": {
        "colab": {
          "base_uri": "https://localhost:8080/"
        },
        "id": "q-H25wpLh5af",
        "outputId": "f579e6ce-99bf-4653-fd44-5a819c8553f1"
      },
      "execution_count": 43,
      "outputs": [
        {
          "output_type": "execute_result",
          "data": {
            "text/plain": [
              "['How many dimensions are there in a universe?',\n",
              " 'What are some of the universes with different properties?',\n",
              " 'Which universes would have the right properties to make stars?']"
            ]
          },
          "metadata": {},
          "execution_count": 43
        }
      ]
    },
    {
      "cell_type": "code",
      "source": [
        "nlp1(text13)"
      ],
      "metadata": {
        "colab": {
          "base_uri": "https://localhost:8080/"
        },
        "id": "0pg0qIeXh7a8",
        "outputId": "edfe1894-f1c5-4248-a384-c23bbfb8318c"
      },
      "execution_count": 44,
      "outputs": [
        {
          "output_type": "execute_result",
          "data": {
            "text/plain": [
              "['The Big 35 Bang, quantum theories of spontaneous creation of matter and energy, String Theory and concepts of a Multi-Verse are some of what?',\n",
              " 'When did the Greek philosopher Parmenides first answer the most fundamental of all questions?']"
            ]
          },
          "metadata": {},
          "execution_count": 44
        }
      ]
    },
    {
      "cell_type": "code",
      "source": [
        "nlp1(text14)"
      ],
      "metadata": {
        "colab": {
          "base_uri": "https://localhost:8080/"
        },
        "id": "ADP-QiJnh8uj",
        "outputId": "e5eaf14e-a310-47cc-db5c-60d409f32dc4"
      },
      "execution_count": 45,
      "outputs": [
        {
          "output_type": "execute_result",
          "data": {
            "text/plain": [
              "['What was the shabby methodology of the study?',\n",
              " 'Who was fired by the study sponsor?',\n",
              " 'What did a group of medical doctors declare the study was rife with?']"
            ]
          },
          "metadata": {},
          "execution_count": 45
        }
      ]
    },
    {
      "cell_type": "code",
      "source": [
        "nlp1(text15)"
      ],
      "metadata": {
        "colab": {
          "base_uri": "https://localhost:8080/"
        },
        "id": "jb170Moch-Gy",
        "outputId": "69367b0f-5d8a-499c-c1ce-d41290dce031"
      },
      "execution_count": 46,
      "outputs": [
        {
          "output_type": "execute_result",
          "data": {
            "text/plain": [
              "['How much did Leigh Stearns give her research team to study a glacier in Greenland?',\n",
              " 'How much money did the Heising-Simons Foundation give her to study the glacier?']"
            ]
          },
          "metadata": {},
          "execution_count": 46
        }
      ]
    },
    {
      "cell_type": "code",
      "source": [
        "nlp1(text16)"
      ],
      "metadata": {
        "colab": {
          "base_uri": "https://localhost:8080/"
        },
        "id": "Z5P6sJ1yiJx3",
        "outputId": "2ea30ccd-6c88-46d6-d6b1-9e212e797aef"
      },
      "execution_count": 47,
      "outputs": [
        {
          "output_type": "execute_result",
          "data": {
            "text/plain": [
              "['What is the name of the EU 1, 4, 7, 9 \"designated Pain the Rear\"?',\n",
              " 'How many different papers were needed to determine what?']"
            ]
          },
          "metadata": {},
          "execution_count": 47
        }
      ]
    },
    {
      "cell_type": "code",
      "source": [
        "nlp1(text17)"
      ],
      "metadata": {
        "colab": {
          "base_uri": "https://localhost:8080/"
        },
        "id": "DcdyssA9iLYE",
        "outputId": "6cfb9535-2998-479d-d384-ea0584d7046a"
      },
      "execution_count": 48,
      "outputs": [
        {
          "output_type": "execute_result",
          "data": {
            "text/plain": [
              "['How many federal agencies fund scientific research?',\n",
              " 'How much money was spent on Earth and atmospheric research for fiscal 2020?']"
            ]
          },
          "metadata": {},
          "execution_count": 48
        }
      ]
    },
    {
      "cell_type": "code",
      "source": [
        "nlp1(text18)"
      ],
      "metadata": {
        "colab": {
          "base_uri": "https://localhost:8080/"
        },
        "id": "fsZ6E0JR9Qec",
        "outputId": "ac6a11b0-2a73-45b8-82f0-a1e3a83021a9"
      },
      "execution_count": 49,
      "outputs": [
        {
          "output_type": "execute_result",
          "data": {
            "text/plain": [
              "['What do science and miracles meet in the contemporary world?',\n",
              " 'How much money does Section B: Science and Business Bezos pump into climate science?']"
            ]
          },
          "metadata": {},
          "execution_count": 49
        }
      ]
    },
    {
      "cell_type": "code",
      "source": [
        "nlp1(text19)"
      ],
      "metadata": {
        "colab": {
          "base_uri": "https://localhost:8080/"
        },
        "id": "i0MO0MYQ9R3K",
        "outputId": "7a11f439-41a6-4811-87f6-0aa3ee9b8170"
      },
      "execution_count": 50,
      "outputs": [
        {
          "output_type": "execute_result",
          "data": {
            "text/plain": [
              "['Who envisions stunning urban uses for the living root bridges of the Khasi hill tribe?',\n",
              " 'What could be grown to reduce the urban heat island effect by increasing canopy cover along streets?']"
            ]
          },
          "metadata": {},
          "execution_count": 50
        }
      ]
    },
    {
      "cell_type": "code",
      "source": [
        "nlp1(text20)"
      ],
      "metadata": {
        "colab": {
          "base_uri": "https://localhost:8080/"
        },
        "id": "7gNe_LlH9Sxq",
        "outputId": "be3dab72-4fd0-4cd4-f87a-e07175d5cbc1"
      },
      "execution_count": 51,
      "outputs": [
        {
          "output_type": "execute_result",
          "data": {
            "text/plain": [
              "['What is the main reason for access to vaccines?',\n",
              " 'When was the National Games held?',\n",
              " 'Who was the host of the biennale event?']"
            ]
          },
          "metadata": {},
          "execution_count": 51
        }
      ]
    },
    {
      "cell_type": "markdown",
      "source": [
        "General Paper: Media Sentences "
      ],
      "metadata": {
        "id": "fkYB_ZhM9XbR"
      }
    },
    {
      "cell_type": "code",
      "source": [
        "media1 = \"The limitations and drawbacks of relying on hard  regulations and punitive measures to make the online space safer  • The underlying motivations that are leading to the increase in fake news and disinformation, which have an impact on the effectiveness of laws like POFMA  • Alternative measures that do not centre on policing the online space, including independent fact -checkers and enhancing media literacy programmes  • The possible ways to make media literacy programmes more effective  In the past two decades , online communication and social media platforms have become dominant in our lives, serving as tools to advance globalisation, connectivity and the freedom of speech.\"\n",
        "media2 = \"The three preconditions that increase the vulnerability of societies to misinformation – conditions in society triggering a perceived need for ingrouping; the rise of populist leaders; and the ubiquity of social media. There’s a decent chance you’ve had at least one of these rumors, all false, relayed to you as fact recently: that President Biden plans to force Americans to  eat less meat ; that Virginia is  eliminating  advanced  math  in schools to advance racial equality; and that border officials are mass -purchasing copies  of Vice President Kamala Harris’s book to hand out to refugee childre\"\n",
        "media3 = \"People 30 now  have  the ability  to share  and distribute  a lot of information  about  themselves  and their  life, including personal  information  data  and the music  they  listen  to, videos  of their friends  to pictures  of their  cat, ideas  they  have  and plans  they  are making,  preferences  for food,  people,  and music  and places  that they  have  been  and are going.  \"\n",
        "media4 = \"In the 2008 article “Media and the Make -Believe Worlds of Boys and Girls”,  Maya Götz and Dafna Lemish note that boys tend to incorporate media content into their own 75 imaginations wholesale , “taking it in, assimilating it, and then…dream[ing] themselves in to the position of their heroes and experience a story similar to the one in the original medium.\"\n",
        "media5 = \"In general, girls and women are motivated by 25 love and romance, appear less independent than boys, and are stereotyped according to their h air colour (blondes, for example, fall into two categories: the “girl next door” or the “blonde b***h”; redheads are nearly always conventionally attractive, thinner than average women in real life, and heavily  sexualized (oddly, even as redheads are often  portrayed as “tomboys”).  \"\n",
        "media6 = \"The press freedom situation in Germany is nonetheles s still classified as “fairly good,” as is the case in the United States (down 1 at 44th), despite the fact that Donald Trump’s final year in the White House was marked by a record number of assaults against journalists (around 400) and arrests of members 45 of the media (130), according to the US Press Freedom Tracker, of which RSF is a partner.\"\n",
        "media7 = \"SECTION E: MEDIA FREEDOM & REGULATION  Reading 1 4: Hold the press – A primer o n Singapore media (Adapted from Chapter 20 of “ Singapore I ncomplete: Reflections on a First World Nation’s Arrested Political Development ” [2017] by Cherian George.) \"\n",
        "media8 = \"An introduction to what cancel culture is and is not  • Consider if the online community in Singapore has been justified  in its targeting of various individuals deemed to have failed to meet various community norms , and the problems that such targeting  may create  • Understand that  online activism treads a thin line between serving as an indispensable tool for the weak to speak ‘truth to power’ and being nothing more than mob justice\"\n",
        "media9 = \"These platforms covertly collect our data, survey and exploit us for profit  • Some dangers of giving up our private data include a threat to privacy and security because our data is stored in public and permanent ledges, and because data is collated by a few large data mining companies. Think  for a second:  compared  to your  grandparents  and parents,  what  do you actually own outright?\"\n",
        "media10 = \"This reading will help you: • Obtain  a picture of the state of diverse representation on streaming services, compared to traditional TV and film  • Understand what is at stake for streaming companies in terms of increasing diverse representation  • Understand the social significance of increasing diversity in media representation, as well as what remains to be done  Arguably one of the greatest products of the 2010s is that of movie streaming services\"\n",
        "media11 = \"It has created significant  problems  for tradi tional media  in terms  of its audience  and revenue,  and all of these  traditional forms  are often  desperately  trying  to catch  up with  and make  use of new  media.  Is new  media  “better”?\"\n",
        "media12 = \"Each  group  can focus  on one of these aspects:  (1) Social  activism;   (2) Political engagement;  (3) Learning/Education;  (4) Consumer  decisions;  (5) Leisure  activities Reading 2: Understanding the mass media\"\n",
        "media13 = \"In Algeria (146th) and Morocco (down 3 at 136th), the judicial system is being used to help silence journalists, while the Middle East’s most authoritarian countries – Saudi Arabia (170th), Egypt (166th) and Syria (up 1 at 173rd) – have taken advantage of 95 the Covid -19 pandemic to reinforce their methods for gagging the media and to reaffirm their monopoly on news and information.\"\n",
        "media14 = \"The hype  around  new  media  suggests  that ‘old media’  are becoming  increasingly  less relevant,  as users  have  begun  to ignore  or change  what  were  seen  as everyday  practices  – reading  the daily  paper  in paper  form,  watching commercial television,  using the family  phone  to call a friend.  \"\n",
        "media15 = \"This reading will help you: • Understand that the news can shape societies in surprising ways ranging from our perception of risk to the content of our dreams  • Understand the possible reasons why this is so, including how the news is reported, and our increased exposure due to changes in technology and how we consume the news  Alison Holman was working on a fairly ordinary study of mental health across the United States.\"\n",
        "media16 = \"The meme- ification of Breonna Taylor’s death —in which calls to arrest her killers are prefaced by mundane observations about, say, the weather— may 105 be the most depressing example yet of how social media can trivialize  a movemen t. In “Twitter and Tear Gas,” Tufekci wrote, “The Black Lives Matter movement is young, and how it will develop further capacities remains to be seen.”\"\n",
        "media17 = \"This reading will help you understand:  • Why it is vital to build media and information literacy from a very young age • Why it is important to adopt a cross -department/cross -agency approach to combatting misinformation  • Why it may be more productive to arm citizens with misinformation -fighting tools than to tell them what’s right or wrong  You can start when children are very young, said Kari Kivinen.\"\n",
        "media18 = \"In response to the virality of disinformation across borders, on digital platforms and via social media, journalism provides the most effective means of ensuring that public debate is based on a diverse range of established facts.”  20 For example, President Jair Bolsonaro of Brazil (down 4 at 111th) and President Nicolás Maduro of Venezuela (down 1 at 148th) promoted medically unproven Covid- 19 remedies.\"\n",
        "media19 = \"Mr. Biden’s coronavirus policy, for instance, departs considerably from the  scientific consensus  that the most effective way to combat the virus’s spread is with a national stay -at-home order, a move that some of his own science advisers had called for, prior to walking back their comments. \"\n",
        "media20 = \"Descriptions  about  new  media  are often  contrasted  against  what  is seen  as ‘old media ’, including  5 media  such  as newspapers,  TV, radio,  magazines,  hardcopy  books,  ‘landline ’ phones,  and movies  in the cinema.\""
      ],
      "metadata": {
        "id": "p0EsmR8eynGZ"
      },
      "execution_count": 52,
      "outputs": []
    },
    {
      "cell_type": "code",
      "source": [
        "nlp(media1)"
      ],
      "metadata": {
        "colab": {
          "base_uri": "https://localhost:8080/"
        },
        "id": "QBzL9WaC3GKW",
        "outputId": "626cdae3-a6c7-40d9-df2e-c3dfaaf97abb"
      },
      "execution_count": 53,
      "outputs": [
        {
          "output_type": "execute_result",
          "data": {
            "text/plain": [
              "[{'answer': '<pad> the increase in fake news and disinformation',\n",
              "  'question': 'What are the underlying motivations that are leading to?'}]"
            ]
          },
          "metadata": {},
          "execution_count": 53
        }
      ]
    },
    {
      "cell_type": "code",
      "source": [
        "nlp(media2)"
      ],
      "metadata": {
        "colab": {
          "base_uri": "https://localhost:8080/"
        },
        "id": "Jw3dWOdi3PFI",
        "outputId": "b504b056-5241-4190-9eb5-ac306eaa13a7"
      },
      "execution_count": 54,
      "outputs": [
        {
          "output_type": "execute_result",
          "data": {
            "text/plain": [
              "[{'answer': '<pad> ingrouping',\n",
              "  'question': 'What are the three conditions in society that trigger a perceived need for?'},\n",
              " {'answer': '<pad> racial equality',\n",
              "  'question': 'What does Virginia eliminate advanced math in schools to advance?'}]"
            ]
          },
          "metadata": {},
          "execution_count": 54
        }
      ]
    },
    {
      "cell_type": "code",
      "source": [
        "nlp(media3)"
      ],
      "metadata": {
        "colab": {
          "base_uri": "https://localhost:8080/"
        },
        "id": "_QNTlgqn3Q8V",
        "outputId": "d5d142d1-ee88-4939-bec0-f75d0a0cad4c"
      },
      "execution_count": 55,
      "outputs": [
        {
          "output_type": "execute_result",
          "data": {
            "text/plain": [
              "[{'answer': '<pad> 30',\n",
              "  'question': 'Who has the ability to share and distribute information about themselves and their life?'}]"
            ]
          },
          "metadata": {},
          "execution_count": 55
        }
      ]
    },
    {
      "cell_type": "code",
      "source": [
        "nlp(media4)"
      ],
      "metadata": {
        "colab": {
          "base_uri": "https://localhost:8080/"
        },
        "id": "QIT53Dmy3TOr",
        "outputId": "b448a866-6959-487c-ebf8-4c07863af39d"
      },
      "execution_count": 56,
      "outputs": [
        {
          "output_type": "execute_result",
          "data": {
            "text/plain": [
              "[{'answer': '<pad> Maya Götz and Dafna Lemish',\n",
              "  'question': 'Who wrote the book Media and the Make -Believe Worlds of Boys and Girls?'}]"
            ]
          },
          "metadata": {},
          "execution_count": 56
        }
      ]
    },
    {
      "cell_type": "code",
      "source": [
        "nlp(media5)"
      ],
      "metadata": {
        "colab": {
          "base_uri": "https://localhost:8080/"
        },
        "id": "d8IbH43b3Vh_",
        "outputId": "55a7c78e-3f2b-40d3-ecf9-b50b401a0b3c"
      },
      "execution_count": 57,
      "outputs": [
        {
          "output_type": "execute_result",
          "data": {
            "text/plain": [
              "[{'answer': '<pad> 25',\n",
              "  'question': 'What type of love and romance are girls and women motivated by?'}]"
            ]
          },
          "metadata": {},
          "execution_count": 57
        }
      ]
    },
    {
      "cell_type": "code",
      "source": [
        "nlp(media6)"
      ],
      "metadata": {
        "colab": {
          "base_uri": "https://localhost:8080/"
        },
        "id": "pu8cWzLJ3Xot",
        "outputId": "0f3b6a00-cfe8-497f-b4e9-80766385c274"
      },
      "execution_count": 58,
      "outputs": [
        {
          "output_type": "execute_result",
          "data": {
            "text/plain": [
              "[{'answer': '<pad> RSF',\n",
              "  'question': 'Who is a member of the US Press Freedom Tracker?'}]"
            ]
          },
          "metadata": {},
          "execution_count": 58
        }
      ]
    },
    {
      "cell_type": "code",
      "source": [
        "nlp(media7)"
      ],
      "metadata": {
        "colab": {
          "base_uri": "https://localhost:8080/"
        },
        "id": "eC1bV76C3Z20",
        "outputId": "8a0bb3d2-a113-49bc-f489-9d2eddc0b24f"
      },
      "execution_count": 59,
      "outputs": [
        {
          "output_type": "execute_result",
          "data": {
            "text/plain": [
              "[{'answer': '<pad> A primer o n Singapore media',\n",
              "  'question': 'What does SECTION E: MEDIA FREEDOM & REGULATION Read 1 4: Hold the press?'}]"
            ]
          },
          "metadata": {},
          "execution_count": 59
        }
      ]
    },
    {
      "cell_type": "code",
      "source": [
        "nlp(media8)"
      ],
      "metadata": {
        "colab": {
          "base_uri": "https://localhost:8080/"
        },
        "id": "tBFJJyDQ3cQl",
        "outputId": "37691aad-a41a-4bb3-b597-12c0e5a0eaab"
      },
      "execution_count": 60,
      "outputs": [
        {
          "output_type": "execute_result",
          "data": {
            "text/plain": [
              "[{'answer': '<pad> mob justice',\n",
              "  'question': 'What does online activism stand for?'}]"
            ]
          },
          "metadata": {},
          "execution_count": 60
        }
      ]
    },
    {
      "cell_type": "code",
      "source": [
        "nlp(media9)"
      ],
      "metadata": {
        "colab": {
          "base_uri": "https://localhost:8080/"
        },
        "id": "fOQLi0z33gI0",
        "outputId": "0dda2d49-ab04-45f8-ee67-6f61a59ce710"
      },
      "execution_count": 61,
      "outputs": [
        {
          "output_type": "execute_result",
          "data": {
            "text/plain": [
              "[{'answer': '<pad> privacy and security',\n",
              "  'question': 'What are some dangers of giving up our private data?'}]"
            ]
          },
          "metadata": {},
          "execution_count": 61
        }
      ]
    },
    {
      "cell_type": "code",
      "source": [
        "nlp(media10)"
      ],
      "metadata": {
        "colab": {
          "base_uri": "https://localhost:8080/"
        },
        "id": "b6HUIXG63iTQ",
        "outputId": "a2bc0f38-24fe-46f4-f52f-1858959ba4d0"
      },
      "execution_count": 62,
      "outputs": [
        {
          "output_type": "execute_result",
          "data": {
            "text/plain": [
              "[{'answer': '<pad> movie',\n",
              "  'question': 'What is one of the greatest products of the 2010s?'}]"
            ]
          },
          "metadata": {},
          "execution_count": 62
        }
      ]
    },
    {
      "cell_type": "code",
      "source": [
        "nlp(media11)"
      ],
      "metadata": {
        "colab": {
          "base_uri": "https://localhost:8080/"
        },
        "id": "bvf_VAhx3kGv",
        "outputId": "39db12d8-90d9-4772-cf39-34a3f4bb58a1"
      },
      "execution_count": 63,
      "outputs": [
        {
          "output_type": "execute_result",
          "data": {
            "text/plain": [
              "[{'answer': '<pad> audience and revenue',\n",
              "  'question': 'What is a problem for tradi tional media?'},\n",
              " {'answer': '<pad> better',\n",
              "  'question': 'What is new media better than tradi tional media?'}]"
            ]
          },
          "metadata": {},
          "execution_count": 63
        }
      ]
    },
    {
      "cell_type": "code",
      "source": [
        "nlp(media12)"
      ],
      "metadata": {
        "colab": {
          "base_uri": "https://localhost:8080/"
        },
        "id": "UAuNWzM_3l0c",
        "outputId": "90ecdb64-8956-4b1c-99c2-b90763eab7d8"
      },
      "execution_count": 64,
      "outputs": [
        {
          "output_type": "execute_result",
          "data": {
            "text/plain": [
              "[{'answer': '<pad> Reading 2: Understanding the mass media',\n",
              "  'question': 'What type of activities can each group focus on?'}]"
            ]
          },
          "metadata": {},
          "execution_count": 64
        }
      ]
    },
    {
      "cell_type": "code",
      "source": [
        "nlp(media13)"
      ],
      "metadata": {
        "colab": {
          "base_uri": "https://localhost:8080/"
        },
        "id": "byFm7lkJ3npP",
        "outputId": "c002bc89-6d51-47b3-a914-923913ac4906"
      },
      "execution_count": 65,
      "outputs": [
        {
          "output_type": "execute_result",
          "data": {
            "text/plain": [
              "[{'answer': '<pad> Algeria',\n",
              "  'question': 'Where is the judicial system used to silence journalists?'},\n",
              " {'answer': ' 136th', 'question': \"What is Morocco's judicial system at?\"}]"
            ]
          },
          "metadata": {},
          "execution_count": 65
        }
      ]
    },
    {
      "cell_type": "code",
      "source": [
        "nlp(media14)"
      ],
      "metadata": {
        "colab": {
          "base_uri": "https://localhost:8080/"
        },
        "id": "UnoXADKU3pHe",
        "outputId": "938b1c52-9b84-449b-c3da-e5ea8547f3f4"
      },
      "execution_count": 66,
      "outputs": [
        {
          "output_type": "execute_result",
          "data": {
            "text/plain": [
              "[{'answer': '<pad> the family phone',\n",
              "  'question': 'What do users use to call a friend?'}]"
            ]
          },
          "metadata": {},
          "execution_count": 66
        }
      ]
    },
    {
      "cell_type": "code",
      "source": [
        "nlp(media15)"
      ],
      "metadata": {
        "colab": {
          "base_uri": "https://localhost:8080/"
        },
        "id": "gU2kwaGh3q5f",
        "outputId": "c4dfeead-288f-40b5-cb3c-be025ba23463"
      },
      "execution_count": 67,
      "outputs": [
        {
          "output_type": "execute_result",
          "data": {
            "text/plain": [
              "[{'answer': '<pad> Alison Holman',\n",
              "  'question': 'Who was working on a fairly ordinary study of mental health across the US?'}]"
            ]
          },
          "metadata": {},
          "execution_count": 67
        }
      ]
    },
    {
      "cell_type": "code",
      "source": [
        "nlp(media16)"
      ],
      "metadata": {
        "colab": {
          "base_uri": "https://localhost:8080/"
        },
        "id": "9hHVzAFV3szD",
        "outputId": "46b02d9a-28ae-4785-9e0c-1768fac654ab"
      },
      "execution_count": 68,
      "outputs": [
        {
          "output_type": "execute_result",
          "data": {
            "text/plain": [
              "[{'answer': '<pad> Breonna Taylor',\n",
              "  'question': 'Who did Tufekci call to arrest her killers?'}]"
            ]
          },
          "metadata": {},
          "execution_count": 68
        }
      ]
    },
    {
      "cell_type": "code",
      "source": [
        "nlp(media17)"
      ],
      "metadata": {
        "colab": {
          "base_uri": "https://localhost:8080/"
        },
        "id": "oyO0hyuA3uSh",
        "outputId": "4f764ce8-4d2c-4701-9345-601228190a2f"
      },
      "execution_count": 69,
      "outputs": [
        {
          "output_type": "execute_result",
          "data": {
            "text/plain": [
              "[{'answer': '<pad> Kari Kivinen',\n",
              "  'question': 'Who said that children can start when they are very young?'}]"
            ]
          },
          "metadata": {},
          "execution_count": 69
        }
      ]
    },
    {
      "cell_type": "code",
      "source": [
        "nlp(media18)"
      ],
      "metadata": {
        "colab": {
          "base_uri": "https://localhost:8080/"
        },
        "id": "gluJ6Aoz3wZ4",
        "outputId": "7f370a44-6a1d-40ef-8e15-a3659e586669"
      },
      "execution_count": 70,
      "outputs": [
        {
          "output_type": "execute_result",
          "data": {
            "text/plain": [
              "[{'answer': '<pad> Nicolás Maduro',\n",
              "  'question': 'Who promoted Covid- 19 remedies?'}]"
            ]
          },
          "metadata": {},
          "execution_count": 70
        }
      ]
    },
    {
      "cell_type": "code",
      "source": [
        "nlp(media19)"
      ],
      "metadata": {
        "colab": {
          "base_uri": "https://localhost:8080/"
        },
        "id": "WTyiSrD53yYM",
        "outputId": "eb9e201e-4c8c-4d42-8cd4-c8aac8798c8d"
      },
      "execution_count": 71,
      "outputs": [
        {
          "output_type": "execute_result",
          "data": {
            "text/plain": [
              "[{'answer': '<pad> a national stay -at-home order',\n",
              "  'question': 'What is the most effective way to combat the virus’s spread?'}]"
            ]
          },
          "metadata": {},
          "execution_count": 71
        }
      ]
    },
    {
      "cell_type": "code",
      "source": [
        "nlp(media20)"
      ],
      "metadata": {
        "colab": {
          "base_uri": "https://localhost:8080/"
        },
        "id": "dn8mxV-r30Wo",
        "outputId": "2826672b-099a-4e17-9939-f64f3b7b946f"
      },
      "execution_count": 72,
      "outputs": [
        {
          "output_type": "execute_result",
          "data": {
            "text/plain": [
              "[{'answer': '<pad> 5',\n",
              "  'question': 'How many media are used in newspapers, TV, radio, magazines, hardcopy books, mobile phones, and movies in the cinema?'}]"
            ]
          },
          "metadata": {},
          "execution_count": 72
        }
      ]
    },
    {
      "cell_type": "code",
      "source": [
        "nlp1(media1)"
      ],
      "metadata": {
        "colab": {
          "base_uri": "https://localhost:8080/"
        },
        "id": "1pwh2nId34T6",
        "outputId": "1531c688-110b-484a-d520-068feab96790"
      },
      "execution_count": 73,
      "outputs": [
        {
          "output_type": "execute_result",
          "data": {
            "text/plain": [
              "['What are the limitations and drawbacks of relying on hard regulations and punitive measures to make the online space safer?',\n",
              " 'What have the underlying motivations that are leading to the increase in fake news and disinformation, which have a negative impact on the effectiveness of laws like POFMA?',\n",
              " 'How have social media platforms become dominant in our lives?']"
            ]
          },
          "metadata": {},
          "execution_count": 73
        }
      ]
    },
    {
      "cell_type": "code",
      "source": [
        "nlp1(media2)"
      ],
      "metadata": {
        "colab": {
          "base_uri": "https://localhost:8080/"
        },
        "id": "x4we85wy7oc6",
        "outputId": "50617986-38c5-41ed-909f-3545ec970cc3"
      },
      "execution_count": 74,
      "outputs": [
        {
          "output_type": "execute_result",
          "data": {
            "text/plain": [
              "['What are the three preconditions that increase the vulnerability of societies to misinformation?',\n",
              " 'What is the ubiquity of social media?',\n",
              " 'Who plans to force Americans to eat less meat in schools to advance racial equality?']"
            ]
          },
          "metadata": {},
          "execution_count": 74
        }
      ]
    },
    {
      "cell_type": "code",
      "source": [
        "nlp1(media3)"
      ],
      "metadata": {
        "colab": {
          "base_uri": "https://localhost:8080/"
        },
        "id": "EDe25mRg93VH",
        "outputId": "ea33e5ad-332c-40d6-ee13-d8136bfc12f1"
      },
      "execution_count": 75,
      "outputs": [
        {
          "output_type": "execute_result",
          "data": {
            "text/plain": [
              "['How many people now have the ability to share and distribute information about themselves and their life?',\n",
              " 'What are some of the things that people have been and are going to do?']"
            ]
          },
          "metadata": {},
          "execution_count": 75
        }
      ]
    },
    {
      "cell_type": "code",
      "source": [
        "nlp1(media4)"
      ],
      "metadata": {
        "colab": {
          "base_uri": "https://localhost:8080/"
        },
        "id": "VPPhkcLh95cq",
        "outputId": "42cf5a81-e50e-4d12-a518-b638d1da882a"
      },
      "execution_count": 76,
      "outputs": [
        {
          "output_type": "execute_result",
          "data": {
            "text/plain": [
              "['What article did Maya Götz and Dafna Lemish write in 2008?',\n",
              " 'What do boys tend to incorporate into their own 75 imaginations?',\n",
              " 'How do boys dream themselves in to their heroes?']"
            ]
          },
          "metadata": {},
          "execution_count": 76
        }
      ]
    },
    {
      "cell_type": "code",
      "source": [
        "nlp1(media5)"
      ],
      "metadata": {
        "colab": {
          "base_uri": "https://localhost:8080/"
        },
        "id": "1v6XNzbh97mN",
        "outputId": "7d7b8594-6a83-4594-8d8d-76789e08f124"
      },
      "execution_count": 77,
      "outputs": [
        {
          "output_type": "execute_result",
          "data": {
            "text/plain": [
              "['What are girls and women motivated by?',\n",
              " 'What is blonde b***h?',\n",
              " 'How are redheads often portrayed?']"
            ]
          },
          "metadata": {},
          "execution_count": 77
        }
      ]
    },
    {
      "cell_type": "code",
      "source": [
        "nlp1(media6)"
      ],
      "metadata": {
        "colab": {
          "base_uri": "https://localhost:8080/"
        },
        "id": "xN_mcbqs99df",
        "outputId": "9c4ade83-d9a4-46c4-f07d-390f08bc1a11"
      },
      "execution_count": 78,
      "outputs": [
        {
          "output_type": "execute_result",
          "data": {
            "text/plain": [
              "['What is the press freedom situation in Germany still classified as?',\n",
              " 'How many people were arrested in the US press freedom tracker?',\n",
              " 'Who is a partner of RSF?']"
            ]
          },
          "metadata": {},
          "execution_count": 78
        }
      ]
    },
    {
      "cell_type": "code",
      "source": [
        "nlp1(media7)"
      ],
      "metadata": {
        "colab": {
          "base_uri": "https://localhost:8080/"
        },
        "id": "LQ4DVzE79_lP",
        "outputId": "b6edfed3-b8bf-45f5-d634-d7090c0d2ca6"
      },
      "execution_count": 79,
      "outputs": [
        {
          "output_type": "execute_result",
          "data": {
            "text/plain": [
              "['What is SECTION E: MEDIA FREEDOM & REGULATION Reading 1 4: Hold the press – A primer o n Singapore media?',\n",
              " 'What is Adapted from Chapter 20 of \" Singapore I ncomplete: Reflections on a First World Nation\\'s Arrested Political Development\"?']"
            ]
          },
          "metadata": {},
          "execution_count": 79
        }
      ]
    },
    {
      "cell_type": "code",
      "source": [
        "nlp1(media8)"
      ],
      "metadata": {
        "colab": {
          "base_uri": "https://localhost:8080/"
        },
        "id": "31xOiJFy-BxD",
        "outputId": "88d0ba0f-22eb-43d2-e266-ea1cc3b4630f"
      },
      "execution_count": 80,
      "outputs": [
        {
          "output_type": "execute_result",
          "data": {
            "text/plain": [
              "['What is an introduction to cancel culture?',\n",
              " 'What does the online community in Singapore have been justified in targeting?',\n",
              " 'How does online activism stand for the weak?']"
            ]
          },
          "metadata": {},
          "execution_count": 80
        }
      ]
    },
    {
      "cell_type": "code",
      "source": [
        "nlp1(media9)"
      ],
      "metadata": {
        "colab": {
          "base_uri": "https://localhost:8080/"
        },
        "id": "n1emRE54-Erl",
        "outputId": "b17157ce-e8b4-4574-bc0c-a0cd78bac871"
      },
      "execution_count": 81,
      "outputs": [
        {
          "output_type": "execute_result",
          "data": {
            "text/plain": [
              "['What are some dangers of giving up our private data?',\n",
              " 'What is a threat to privacy and security because our data is stored in public and permanent ledges?',\n",
              " 'Who collates data from large data mining companies?']"
            ]
          },
          "metadata": {},
          "execution_count": 81
        }
      ]
    },
    {
      "cell_type": "code",
      "source": [
        "nlp1(media10)"
      ],
      "metadata": {
        "colab": {
          "base_uri": "https://localhost:8080/"
        },
        "id": "IM9pD9P0-GWZ",
        "outputId": "3d1259a8-e18a-49e1-bda8-f11022165fd8"
      },
      "execution_count": 82,
      "outputs": [
        {
          "output_type": "execute_result",
          "data": {
            "text/plain": [
              "['What kind of representation is there on streaming services?',\n",
              " 'What is one of the greatest products of the 2010s?',\n",
              " 'How can you get a picture of the state of diversity?']"
            ]
          },
          "metadata": {},
          "execution_count": 82
        }
      ]
    },
    {
      "cell_type": "code",
      "source": [
        "nlp1(media11)"
      ],
      "metadata": {
        "colab": {
          "base_uri": "https://localhost:8080/"
        },
        "id": "7lyu5FIL-IXO",
        "outputId": "7505a17a-0e3d-44a3-a670-f327a7f6bde2"
      },
      "execution_count": 83,
      "outputs": [
        {
          "output_type": "execute_result",
          "data": {
            "text/plain": [
              "['What has created significant problems for tradi tional media in terms of audience and revenue?',\n",
              " 'What are traditional forms of media often desperately trying to catch up with and make use of?']"
            ]
          },
          "metadata": {},
          "execution_count": 83
        }
      ]
    },
    {
      "cell_type": "code",
      "source": [
        "nlp1(media12)"
      ],
      "metadata": {
        "colab": {
          "base_uri": "https://localhost:8080/"
        },
        "id": "kHsXFmfk-J1c",
        "outputId": "e7fb803a-5e29-4a08-a6ec-42c6ce1e2fd7"
      },
      "execution_count": 84,
      "outputs": [
        {
          "output_type": "execute_result",
          "data": {
            "text/plain": [
              "['What can each group focus on?',\n",
              " 'What is one of the two aspects of social activism?']"
            ]
          },
          "metadata": {},
          "execution_count": 84
        }
      ]
    },
    {
      "cell_type": "code",
      "source": [
        "nlp1(media13)"
      ],
      "metadata": {
        "colab": {
          "base_uri": "https://localhost:8080/"
        },
        "id": "dGUZPXgr-MGB",
        "outputId": "15e6bed6-688b-43bc-8355-03770baa6721"
      },
      "execution_count": 85,
      "outputs": [
        {
          "output_type": "execute_result",
          "data": {
            "text/plain": [
              "['What is being used to silence journalists in Algeria and Morocco?',\n",
              " 'What are the most authoritarian countries in the Middle East – Saudi Arabia, Egypt, and Syria – using the Covid -19 pandemic?']"
            ]
          },
          "metadata": {},
          "execution_count": 85
        }
      ]
    },
    {
      "cell_type": "code",
      "source": [
        "nlp1(media14)"
      ],
      "metadata": {
        "colab": {
          "base_uri": "https://localhost:8080/"
        },
        "id": "aEdfkT8I-Qm2",
        "outputId": "b6b12749-1fce-4a04-910e-75bf74057027"
      },
      "execution_count": 86,
      "outputs": [
        {
          "output_type": "execute_result",
          "data": {
            "text/plain": [
              "['What does the hype around new media suggest are becoming less relevant?',\n",
              " 'What is the name of the daily paper that users have begun to ignore or change?']"
            ]
          },
          "metadata": {},
          "execution_count": 86
        }
      ]
    },
    {
      "cell_type": "code",
      "source": [
        "nlp1(media15)"
      ],
      "metadata": {
        "colab": {
          "base_uri": "https://localhost:8080/"
        },
        "id": "WwfZXuf2-Son",
        "outputId": "cf595d25-1c15-4c34-cc05-7bea1c423097"
      },
      "execution_count": 87,
      "outputs": [
        {
          "output_type": "execute_result",
          "data": {
            "text/plain": [
              "['What is the name of the study that Alison Holman was working on?']"
            ]
          },
          "metadata": {},
          "execution_count": 87
        }
      ]
    },
    {
      "cell_type": "code",
      "source": [
        "nlp1(media16)"
      ],
      "metadata": {
        "colab": {
          "base_uri": "https://localhost:8080/"
        },
        "id": "4A4-jS5C-UVS",
        "outputId": "baf621e5-b70d-46d3-919c-fb8a5706f9d3"
      },
      "execution_count": 88,
      "outputs": [
        {
          "output_type": "execute_result",
          "data": {
            "text/plain": [
              "['What is the most depressing example of how social media can trivialize a movemen t?',\n",
              " 'Who wrote that the Black Lives Matter movement is young and how it will develop further capacities remains to be seen?']"
            ]
          },
          "metadata": {},
          "execution_count": 88
        }
      ]
    },
    {
      "cell_type": "code",
      "source": [
        "nlp1(media17)"
      ],
      "metadata": {
        "colab": {
          "base_uri": "https://localhost:8080/"
        },
        "id": "xDlLYSqT-VtC",
        "outputId": "f482bb3b-bf3a-4ee8-ba61-5a1ef3aa82e3"
      },
      "execution_count": 89,
      "outputs": [
        {
          "output_type": "execute_result",
          "data": {
            "text/plain": [
              "['What kind of literacy is needed from a very young age?',\n",
              " 'What is the key to a cross -department/cross -agency approach?',\n",
              " 'How can you start when children are very young?']"
            ]
          },
          "metadata": {},
          "execution_count": 89
        }
      ]
    },
    {
      "cell_type": "code",
      "source": [
        "nlp1(media18)"
      ],
      "metadata": {
        "colab": {
          "base_uri": "https://localhost:8080/"
        },
        "id": "c8hh46Wp-WtR",
        "outputId": "8779190d-7820-40ae-d788-2d217bda6f18"
      },
      "execution_count": 90,
      "outputs": [
        {
          "output_type": "execute_result",
          "data": {
            "text/plain": [
              "['What is the most effective way of ensuring that public debate is based on a diverse range of established facts?',\n",
              " 'Who promoted medically unproven Covid- 19 remedies?']"
            ]
          },
          "metadata": {},
          "execution_count": 90
        }
      ]
    },
    {
      "cell_type": "code",
      "source": [
        "nlp1(media19)"
      ],
      "metadata": {
        "colab": {
          "base_uri": "https://localhost:8080/"
        },
        "id": "l7qgpJJN-Y8Q",
        "outputId": "76036d74-6946-4d72-ce24-460727bf20cd"
      },
      "execution_count": 91,
      "outputs": [
        {
          "output_type": "execute_result",
          "data": {
            "text/plain": [
              "['What is the most effective way to combat the spread of the coronavirus?',\n",
              " \"What did some of Biden's science advisers call for?\"]"
            ]
          },
          "metadata": {},
          "execution_count": 91
        }
      ]
    },
    {
      "cell_type": "code",
      "source": [
        "nlp1(media20)"
      ],
      "metadata": {
        "colab": {
          "base_uri": "https://localhost:8080/"
        },
        "id": "WWBHGYoh-anZ",
        "outputId": "6ad14a87-2ca5-4efa-9a14-7b5bfae36ee1"
      },
      "execution_count": 92,
      "outputs": [
        {
          "output_type": "execute_result",
          "data": {
            "text/plain": [
              "['What is often contrasted with what is seen as old media?',\n",
              " 'How many media are used in a new media format?']"
            ]
          },
          "metadata": {},
          "execution_count": 92
        }
      ]
    },
    {
      "cell_type": "markdown",
      "source": [
        "General Paper: Social Issues Sentences"
      ],
      "metadata": {
        "id": "Mu_Tk7fK-fZx"
      }
    },
    {
      "cell_type": "code",
      "source": [
        "social1 = \"Issues to do with Social Mobility & Inequality Rethink governance and institutions to tackle poverty and inequality Soul searching required to solve Singapore’s foreign workers problem COVID-19 has revealed a new disadvantaged group among us – digital outcasts Education reforms, and more, needed to fix inequality   Section D: Inter-Generational Issues & Ageing  Many Millennials are worse off than their parents – a first in American history Pandemials – Youth in an Age of Lost Opportunity What is ‘lying flat’, and why are Chinese officials standing up to it? \"\n",
        "social2 = \"South Korea is No Country for Young People The faces and insecurities of Singapore’s elderly working poor Families under pressure in an ageing societyEnduring Understanding(s):  What will students understand as a result of this unit? \"\n",
        "social3 = \"The world is leaving around $12 trillion in GDP on the table because of this gender gap, according to McKinsey & Co. “Industries must proactively hardwire gender parity in the future of work through effective training, reskilling and upskilling interventions, and tangible job transition pathways, which will be key to 70 narrowing these emerging gender gaps and reversing the trends we are seeing today”, says Saadia Zahidi, Head of the Centre for the New Economy and Society and Member of the Executive Committee at the World Economic Forum.\"\n",
        "social4 = \"Mr de Souza, in response to the speech, pointed out that commercial surrogacy “commodifies the life 25 of a baby” and was “exploitative to women”, and urged the authorities to bar the practice explicitly, including in adoption laws. “Landmark High Court case allows Singaporean gay dad to adopt surrogate son” (K.C. Vijayan, The Straits Times, 17 Dec 2018) \"\n",
        "social5 = \"“Summary of progress of the world’s women, 2019-2020; Families in a changing world” – by UN Women Reading 2: How the fight for gender equality is changing    EU 1-4 & 6\"\n",
        "social6 = \"For a Singapore perspective: https://www.straitstimes.com/politics/parliament-6-in-10-dads-did-not-take-paternity-leave-last-year  SECTION C: ISSUES TO DO WITH SOCIAL MOBILITY & INEQUALITY Reading 10: Rethink governance and institutions to tackle poverty and inequality EUs 2, 5 & 6  Adapted from To tackle inequality, stop expecting the same rules to make a difference | Sophie Chew | Rice Media | 17 October 2020\"\n",
        "social7 = \"More importantly, as we noted in the New Nation in 1976:  “The effect of any school variable which can be manipulated by decision-makers is small relative to other determinants of student performance… Family background is a very important variable affecting educational performance and earnings of individuals... changes within the school system itself will not necessarily bring about more equal performance of students in school or greater income equality among them when they are 45 employed.\"\n",
        "social8 = \"The different measures implemented across different regions to address a range of areas where women have been disadvantaged Why in areas like equality in the workplace and childcare services, much remains to be done to put women on a more equal footing Around 2.4 billion women of working age are not afforded equal economic opportunity and 178 countries maintain legal barriers that prevent their full economic participation, according to the World Bank’s Women, Business and the Law 2022 report.\"\n",
        "social9 = \"And, in Brooks’ evocative telling, the alternatives to the nuclear Social Issues family hold enormous promise: “Americans are hungering to live in extended and forged families”, arrangements that “allow more adults and children to live and grow under the loving gaze of a dozen pairs of eyes, and be caught, when they fall, by a dozen pairs of arms”.\"\n",
        "social10 = \"This is defined as a situation in which the solution to a problem is impossible because it is also the cause of the problem (Cambridge Dictionary)Said Mr Simon-Peter Lum, assistant manager of COMNET Senior Services under AMKFSC Community Services: “We’d be hard-pressed to find seniors who are the abject poor, compared to other countries.” \"\n",
        "social11 = \"The unequal, unnoticed life of a female worker Nearly 2.4 billion women globally don’t have same economic rights as men Only half of women in developing world in charge of their own bodies 1-4 21-22 Section B: Issues to do with Family, Marriage & Parenting\"\n",
        "social12 = \"Why the movement is seen by the government as a huge threat not just in terms of a stagnating economy, but also overall demographic and mental well-being of Chinese society, as well as sociopolitical stability Specific vulnerabilities that the Chinese society has that makes the ‘lying flat’ movement more worrying compared to similar trends seen in other advanced economies like the US and Japan “Lying flat” is a movement about doing nothing.\"\n",
        "social13 = \"However, these numbers would be much higher if the data took into account the full range of motherhood related workplace cases of well-performing pregnant employees whose contracts are RI GP Y5 2022 | Social Issues changed from full-time to part-time, salaries reduced, positions demoted, and those who are forced to resign, shortly after their employers find out about their pregnancy. \"\n",
        "social14 = \"In Singapore, past crises have historically led to a rethinking of the Republic’s social compact - the combined series of unprecedented crises such as the 9/11 terrorist attacks in the United 75 States in 2001, the SARS outbreak in 2003 and the global financial crisis of 2008 required national responses that “threw our planning out of gear” and necessitated the 2013 Population White Paper, said then Deputy Prime Minister Teo Chee Hean. \"\n",
        "social15 = \"But high-income Scandinavian countries, Switzerland and Germany, have reduced inequality over decades through progressive universal tax-and-transfer systems that included labour market policies, spending on healthcare and social protection while growing at respectable rates and ranking high on productivity and innovation indices — some even while maintaining budget surpluses and strong 95 currencies. \"\n",
        "social16 = \"The simmering tensions that exists between the older and younger Koreans, particularly in regard to the former’s perception of the latter’s lack of resilience The ultra-violent Netflix survival drama Squid Game  is a sensational dramatisation of despair in South Korea, a country that’s obsessed with youth and where K-pop and K-beauty stars shine from TVs and billboards—two industries fueled by the glamour of the young.\"\n",
        "social17 = \"Unequal pay for equal work  Using the Manpower Ministry’s Labour Force Survey data on median monthly incomes of male and female employees who worked full-time to calculate the gender wage gap over a 40-year period to cover an individual’s most productive work years, we found the gender wage gap has narrowed over the past decade but remains persistent across age groups, occupational categories, and hierarchical 15 positions. \"\n",
        "social18 = \"And while more than four-fifths of American adults in a 2019 Pew Research Center survey said that getting married is not essential to living a fulfilling life, it’s not just the institution of marriage they’re eschewing: In 2004, 33 percent of Americans ages 18 to 34 were living without a romantic partner, 80 according to the General Social Survey; by 2018, that number was up to 51 percent. \"\n",
        "social19 = \"Government does not encourage single parenthood as a lifestyle choice Adapted from Authorities looking at adoption laws and surrogacy, do not support gay families | Rachel Au-Yong\"\n",
        "social20 = \"If we come up with one set of standards for living for Singaporeans in a similar situation, for example, a long-term hostel, dormitory, or it would be quite unjust to apply a lower standard to migrant workers just because they are migrant workers,” he said. \""
      ],
      "metadata": {
        "id": "Qn0146OQ-oC7"
      },
      "execution_count": 93,
      "outputs": []
    },
    {
      "cell_type": "code",
      "source": [
        "nlp(social1)"
      ],
      "metadata": {
        "colab": {
          "base_uri": "https://localhost:8080/"
        },
        "id": "xOBahRc3-nOz",
        "outputId": "6588cb69-5558-475b-82e2-e6a363684b15"
      },
      "execution_count": 94,
      "outputs": [
        {
          "output_type": "execute_result",
          "data": {
            "text/plain": [
              "[{'answer': '<pad> Social Mobility & Inequality',\n",
              "  'question': \"What are the issues to do with Singapore's foreign workers problem?\"}]"
            ]
          },
          "metadata": {},
          "execution_count": 94
        }
      ]
    },
    {
      "cell_type": "code",
      "source": [
        "nlp(social2)"
      ],
      "metadata": {
        "colab": {
          "base_uri": "https://localhost:8080/"
        },
        "id": "gpdhkBeFLiKx",
        "outputId": "d5491154-50c9-4c83-ee11-201e052909f4"
      },
      "execution_count": 95,
      "outputs": [
        {
          "output_type": "execute_result",
          "data": {
            "text/plain": [
              "[{'answer': '<pad> South Korea',\n",
              "  'question': 'What country is No Country for Young People?'}]"
            ]
          },
          "metadata": {},
          "execution_count": 95
        }
      ]
    },
    {
      "cell_type": "code",
      "source": [
        "nlp(social3)"
      ],
      "metadata": {
        "colab": {
          "base_uri": "https://localhost:8080/"
        },
        "id": "UYU5nby6LkRz",
        "outputId": "d78b4bd6-5ed1-4daf-ed13-640ee1e58858"
      },
      "execution_count": 96,
      "outputs": [
        {
          "output_type": "execute_result",
          "data": {
            "text/plain": [
              "[{'answer': '<pad> $12 trillion',\n",
              "  'question': 'How much GDP does the world leave on the table?'}]"
            ]
          },
          "metadata": {},
          "execution_count": 96
        }
      ]
    },
    {
      "cell_type": "code",
      "source": [
        "nlp(social4)"
      ],
      "metadata": {
        "colab": {
          "base_uri": "https://localhost:8080/"
        },
        "id": "bOKC7H-cLl4F",
        "outputId": "f1525023-3ea6-4c85-cc3f-f8fe853324f2"
      },
      "execution_count": 97,
      "outputs": [
        {
          "output_type": "execute_result",
          "data": {
            "text/plain": [
              "[{'answer': '<pad> commercial surrogacy',\n",
              "  'question': 'What did Mr de Souza point out about commodifying the life 25 of a baby?'},\n",
              " {'answer': ' 25',\n",
              "  'question': 'How many babies does commercial surrogacy mean?'},\n",
              " {'answer': '<pad> Singaporean homosexual',\n",
              "  'question': 'What type of dad can adopt surrogate son?'},\n",
              " {'answer': '<pad> 17 Dec 2018',\n",
              "  'question': 'When was the Straits Times published?'}]"
            ]
          },
          "metadata": {},
          "execution_count": 97
        }
      ]
    },
    {
      "cell_type": "code",
      "source": [
        "nlp(social5)"
      ],
      "metadata": {
        "colab": {
          "base_uri": "https://localhost:8080/"
        },
        "id": "pvdjuwUXLoCK",
        "outputId": "18ef18d3-2024-4696-ce0e-6f006b1e1b35"
      },
      "execution_count": 98,
      "outputs": [
        {
          "output_type": "execute_result",
          "data": {
            "text/plain": [
              "[{'answer': '<pad> UN Women Reading 2: How the fight for gender equality is changing EU 1-4 & 6',\n",
              "  'question': 'What is the title of a summary of progress of women in a changing world?'}]"
            ]
          },
          "metadata": {},
          "execution_count": 98
        }
      ]
    },
    {
      "cell_type": "code",
      "source": [
        "nlp(social6)"
      ],
      "metadata": {
        "colab": {
          "base_uri": "https://localhost:8080/"
        },
        "id": "A18AgREjLqNn",
        "outputId": "36b37787-2c0d-41c8-fe4f-9937a45f33d4"
      },
      "execution_count": 99,
      "outputs": [
        {
          "output_type": "execute_result",
          "data": {
            "text/plain": [
              "[{'answer': '<pad> 17 October 2020',\n",
              "  'question': 'On what date did the same rules make a difference?'}]"
            ]
          },
          "metadata": {},
          "execution_count": 99
        }
      ]
    },
    {
      "cell_type": "code",
      "source": [
        "nlp(social7)"
      ],
      "metadata": {
        "colab": {
          "base_uri": "https://localhost:8080/"
        },
        "id": "2nhWwUlKLr3S",
        "outputId": "87b6bf78-0589-40c6-f02f-9534830df194"
      },
      "execution_count": 100,
      "outputs": [
        {
          "output_type": "execute_result",
          "data": {
            "text/plain": [
              "[{'answer': '<pad> 1976',\n",
              "  'question': 'In what year did the New Nation mention that the effect of any school variable is small relative to other determinants of student performance?'}]"
            ]
          },
          "metadata": {},
          "execution_count": 100
        }
      ]
    },
    {
      "cell_type": "code",
      "source": [
        "nlp(social8)"
      ],
      "metadata": {
        "colab": {
          "base_uri": "https://localhost:8080/"
        },
        "id": "OZPdZYF2LtOM",
        "outputId": "45a01e2d-813a-4d87-8caf-1318d7d706df"
      },
      "execution_count": 101,
      "outputs": [
        {
          "output_type": "execute_result",
          "data": {
            "text/plain": [
              "[{'answer': '<pad> 178',\n",
              "  'question': \"How many countries maintain legal barriers that prevent women's full economic participation?\"},\n",
              " {'answer': ' 2.4 billion',\n",
              "  'question': 'How many women of working age are not afforded equal economic opportunity?'}]"
            ]
          },
          "metadata": {},
          "execution_count": 101
        }
      ]
    },
    {
      "cell_type": "code",
      "source": [
        "nlp(social9)"
      ],
      "metadata": {
        "colab": {
          "base_uri": "https://localhost:8080/"
        },
        "id": "OafF2VnnLueQ",
        "outputId": "7adba066-6df0-4a7a-cafb-20912dc8ed71"
      },
      "execution_count": 102,
      "outputs": [
        {
          "output_type": "execute_result",
          "data": {
            "text/plain": [
              "[{'answer': '<pad> a dozen pairs of eyes',\n",
              "  'question': 'How many pairs of arms are there?'}]"
            ]
          },
          "metadata": {},
          "execution_count": 102
        }
      ]
    },
    {
      "cell_type": "code",
      "source": [
        "nlp(social10)"
      ],
      "metadata": {
        "colab": {
          "base_uri": "https://localhost:8080/"
        },
        "id": "CEak3bvPLvku",
        "outputId": "d4bc26ca-276a-4e31-a6b2-07b73ee627a4"
      },
      "execution_count": 103,
      "outputs": [
        {
          "output_type": "execute_result",
          "data": {
            "text/plain": [
              "[{'answer': '<pad> COMNET Senior Services',\n",
              "  'question': \"What company was Simon-Peter Lum's assistant manager under AMKFSC Community Services?\"}]"
            ]
          },
          "metadata": {},
          "execution_count": 103
        }
      ]
    },
    {
      "cell_type": "code",
      "source": [
        "nlp(social11)"
      ],
      "metadata": {
        "colab": {
          "base_uri": "https://localhost:8080/"
        },
        "id": "R4QrVWWLMGx9",
        "outputId": "287a1468-a819-4872-a9b2-9e3d599c0ffa"
      },
      "execution_count": 104,
      "outputs": [
        {
          "output_type": "execute_result",
          "data": {
            "text/plain": [
              "[{'answer': '<pad> 2.4 billion',\n",
              "  'question': 'How many women do not have the same economic rights as men?'}]"
            ]
          },
          "metadata": {},
          "execution_count": 104
        }
      ]
    },
    {
      "cell_type": "code",
      "source": [
        "nlp(social12)"
      ],
      "metadata": {
        "colab": {
          "base_uri": "https://localhost:8080/"
        },
        "id": "U5jKlvTxMHxv",
        "outputId": "f12fe96a-65b8-4062-843a-fc8dd44f414d"
      },
      "execution_count": 105,
      "outputs": [
        {
          "output_type": "execute_result",
          "data": {
            "text/plain": [
              "[{'answer': '<pad> a huge threat',\n",
              "  'question': 'What is the reason why the movement is seen by the government as?'}]"
            ]
          },
          "metadata": {},
          "execution_count": 105
        }
      ]
    },
    {
      "cell_type": "code",
      "source": [
        "nlp(social13)"
      ],
      "metadata": {
        "colab": {
          "base_uri": "https://localhost:8080/"
        },
        "id": "QgQXkcOxMI58",
        "outputId": "7bbc086b-ad02-46e5-a03f-b2afaef32a28"
      },
      "execution_count": 106,
      "outputs": [
        {
          "output_type": "execute_result",
          "data": {
            "text/plain": [
              "[{'answer': '<pad> RI GP Y5 2022',\n",
              "  'question': 'What is the name of the contract for pregnant employees?'}]"
            ]
          },
          "metadata": {},
          "execution_count": 106
        }
      ]
    },
    {
      "cell_type": "code",
      "source": [
        "nlp(social14)"
      ],
      "metadata": {
        "colab": {
          "base_uri": "https://localhost:8080/"
        },
        "id": "9JEj9Y2DMLIB",
        "outputId": "57abe324-52f8-4e41-f0c8-c9af29a9122d"
      },
      "execution_count": 107,
      "outputs": [
        {
          "output_type": "execute_result",
          "data": {
            "text/plain": [
              "[{'answer': '<pad> 2001',\n",
              "  'question': 'In what year did the 9/11 terrorist attacks occur?'},\n",
              " {'answer': ' 2001',\n",
              "  'question': 'In what year did the 9/11 terrorist attacks occur?'}]"
            ]
          },
          "metadata": {},
          "execution_count": 107
        }
      ]
    },
    {
      "cell_type": "code",
      "source": [
        "nlp(social15)"
      ],
      "metadata": {
        "colab": {
          "base_uri": "https://localhost:8080/"
        },
        "id": "OOyZV1cbMMVj",
        "outputId": "c255963d-5a01-4f75-99a0-2a150e449196"
      },
      "execution_count": 108,
      "outputs": [
        {
          "output_type": "execute_result",
          "data": {
            "text/plain": [
              "[{'answer': '<pad> 65',\n",
              "  'question': 'How many currencies do Scandinavian countries have?'}]"
            ]
          },
          "metadata": {},
          "execution_count": 108
        }
      ]
    },
    {
      "cell_type": "code",
      "source": [
        "nlp(social16)"
      ],
      "metadata": {
        "colab": {
          "base_uri": "https://localhost:8080/"
        },
        "id": "2MOQXHzeMOxw",
        "outputId": "5f5490fa-11a8-4196-ee24-a4e2891ee8df"
      },
      "execution_count": 109,
      "outputs": [
        {
          "output_type": "execute_result",
          "data": {
            "text/plain": [
              "[{'answer': '<pad> Squid Game',\n",
              "  'question': 'What is a sensational dramatisation of despair in South Korea?'}]"
            ]
          },
          "metadata": {},
          "execution_count": 109
        }
      ]
    },
    {
      "cell_type": "code",
      "source": [
        "nlp(social17)"
      ],
      "metadata": {
        "colab": {
          "base_uri": "https://localhost:8080/"
        },
        "id": "iVo8qZ4KMP7K",
        "outputId": "ad4c4315-a90b-45fb-d2dc-114daa8b5aa7"
      },
      "execution_count": 110,
      "outputs": [
        {
          "output_type": "execute_result",
          "data": {
            "text/plain": [
              "[{'answer': '<pad> 40',\n",
              "  'question': 'How long has the gender wage gap been calculated?'}]"
            ]
          },
          "metadata": {},
          "execution_count": 110
        }
      ]
    },
    {
      "cell_type": "code",
      "source": [
        "nlp(social18)"
      ],
      "metadata": {
        "colab": {
          "base_uri": "https://localhost:8080/"
        },
        "id": "aGqmqambMRtJ",
        "outputId": "4475afd7-d062-4181-e0a5-fa2c12d4b6bf"
      },
      "execution_count": 111,
      "outputs": [
        {
          "output_type": "execute_result",
          "data": {
            "text/plain": [
              "[{'answer': '<pad> 51',\n",
              "  'question': 'How many percent of Americans were without a romantic partner in 2018, according to the Pew Research Center?'},\n",
              " {'answer': ' 33',\n",
              "  'question': 'How many percent of Americans ages 18 to 34 were without a romantic partner?'}]"
            ]
          },
          "metadata": {},
          "execution_count": 111
        }
      ]
    },
    {
      "cell_type": "code",
      "source": [
        "nlp(social19)"
      ],
      "metadata": {
        "colab": {
          "base_uri": "https://localhost:8080/"
        },
        "id": "r1ShjOlOMSkC",
        "outputId": "a1e92e70-2a28-4e58-b80e-9e028001051f"
      },
      "execution_count": 112,
      "outputs": [
        {
          "output_type": "execute_result",
          "data": {
            "text/plain": [
              "[{'answer': '<pad> Rachel Au-Yong',\n",
              "  'question': 'What is the name of the person who does not support gay families?'}]"
            ]
          },
          "metadata": {},
          "execution_count": 112
        }
      ]
    },
    {
      "cell_type": "code",
      "source": [
        "nlp(social20)"
      ],
      "metadata": {
        "colab": {
          "base_uri": "https://localhost:8080/"
        },
        "id": "v8nFCaEwMTYT",
        "outputId": "3d022fa0-5c41-4452-b28d-285c513700c6"
      },
      "execution_count": 113,
      "outputs": [
        {
          "output_type": "execute_result",
          "data": {
            "text/plain": [
              "[]"
            ]
          },
          "metadata": {},
          "execution_count": 113
        }
      ]
    },
    {
      "cell_type": "code",
      "source": [
        "nlp1(social1)"
      ],
      "metadata": {
        "colab": {
          "base_uri": "https://localhost:8080/"
        },
        "id": "XKqhoHpxMWlU",
        "outputId": "b7e6c161-0311-49d0-9ecd-d020c7229977"
      },
      "execution_count": 114,
      "outputs": [
        {
          "output_type": "execute_result",
          "data": {
            "text/plain": [
              "['What does COVID-19 have to do with social mobility and inequality?',\n",
              " 'What is a new disadvantaged group among us?',\n",
              " 'How are Millennials worse off?']"
            ]
          },
          "metadata": {},
          "execution_count": 114
        }
      ]
    },
    {
      "cell_type": "code",
      "source": [
        "nlp1(social2)"
      ],
      "metadata": {
        "colab": {
          "base_uri": "https://localhost:8080/"
        },
        "id": "8BL0G65CMZGf",
        "outputId": "32359a27-fa5d-4dcf-9f9a-690bfea2893b"
      },
      "execution_count": 115,
      "outputs": [
        {
          "output_type": "execute_result",
          "data": {
            "text/plain": [
              "['What is South Korea No Country for Young People?',\n",
              " \"What are the faces and insecurities of Singapore's elderly working poor Families under pressure in an ageing society?\"]"
            ]
          },
          "metadata": {},
          "execution_count": 115
        }
      ]
    },
    {
      "cell_type": "code",
      "source": [
        "nlp1(social3)"
      ],
      "metadata": {
        "colab": {
          "base_uri": "https://localhost:8080/"
        },
        "id": "E_dGN-anMZx9",
        "outputId": "ecea2a75-92e8-4cbe-f735-54f667527677"
      },
      "execution_count": 116,
      "outputs": [
        {
          "output_type": "execute_result",
          "data": {
            "text/plain": [
              "[\"What is the world's GDP?\",\n",
              " 'What does McKinsey & Co say the world is leaving on the table because of this gender gap?',\n",
              " 'Who is the Head of the Centre for the New Economy and Society and Member of the Executive Committee?']"
            ]
          },
          "metadata": {},
          "execution_count": 116
        }
      ]
    },
    {
      "cell_type": "code",
      "source": [
        "nlp1(social4)"
      ],
      "metadata": {
        "colab": {
          "base_uri": "https://localhost:8080/"
        },
        "id": "E35muUK7MbHL",
        "outputId": "9a6e272d-2623-493b-9707-bdc033d47e75"
      },
      "execution_count": 117,
      "outputs": [
        {
          "output_type": "execute_result",
          "data": {
            "text/plain": [
              "['What did Mr de Souza say commercial surrogacy “commodifies the life of a baby”?',\n",
              " 'What was the name of the case that allows Singaporean gay dad to adopt surrogate son?']"
            ]
          },
          "metadata": {},
          "execution_count": 117
        }
      ]
    },
    {
      "cell_type": "code",
      "source": [
        "nlp1(social5)"
      ],
      "metadata": {
        "colab": {
          "base_uri": "https://localhost:8080/"
        },
        "id": "pdiipKJtMb41",
        "outputId": "cb6be68d-1381-4a52-90c4-b1928aef01c3"
      },
      "execution_count": 118,
      "outputs": [
        {
          "output_type": "execute_result",
          "data": {
            "text/plain": [
              "[\"What is the summary of progress of the world's women in 2019-2020?\",\n",
              " 'How is the fight for gender equality changing EU 1-4 & 6?']"
            ]
          },
          "metadata": {},
          "execution_count": 118
        }
      ]
    },
    {
      "cell_type": "code",
      "source": [
        "nlp1(social6)"
      ],
      "metadata": {
        "colab": {
          "base_uri": "https://localhost:8080/"
        },
        "id": "Ib5DShvRMcx8",
        "outputId": "61961477-85ae-4b78-d133-ed09ec5711d8"
      },
      "execution_count": 119,
      "outputs": [
        {
          "output_type": "execute_result",
          "data": {
            "text/plain": [
              "['What is a Singapore perspective?',\n",
              " 'What is the SECTION C: ISSUES TO DO WITH SOCIAL MOBILITY & INEQUALITY Reading 10: Rethink governance and institutions to tackle poverty and inequality Adapted from To tackle inequality, stop expecting the same rules to make a difference?']"
            ]
          },
          "metadata": {},
          "execution_count": 119
        }
      ]
    },
    {
      "cell_type": "code",
      "source": [
        "nlp1(social7)"
      ],
      "metadata": {
        "colab": {
          "base_uri": "https://localhost:8080/"
        },
        "id": "qYzjvGFOMec5",
        "outputId": "4847dd11-5fb4-4dfa-a088-c96417f1c58d"
      },
      "execution_count": 120,
      "outputs": [
        {
          "output_type": "execute_result",
          "data": {
            "text/plain": [
              "['What year did the New Nation mention that the effect of a school variable can be manipulated by decision-makers is small relative to other determinants of student performance?',\n",
              " 'What is a very important variable affecting educational performance and earnings of individuals?',\n",
              " 'When they are 45 employed, what does the change within the school system not necessarily bring about?']"
            ]
          },
          "metadata": {},
          "execution_count": 120
        }
      ]
    },
    {
      "cell_type": "code",
      "source": [
        "nlp1(social8)"
      ],
      "metadata": {
        "colab": {
          "base_uri": "https://localhost:8080/"
        },
        "id": "Js7P5bzpMfb6",
        "outputId": "52ce6eab-4052-405c-82e3-663beffe3df3"
      },
      "execution_count": 121,
      "outputs": [
        {
          "output_type": "execute_result",
          "data": {
            "text/plain": [
              "['What are some areas where women have been disadvantaged?',\n",
              " 'How many women of working age are not afforded equal economic opportunity?',\n",
              " \"What is the World Bank's Women, Business and Law report?\"]"
            ]
          },
          "metadata": {},
          "execution_count": 121
        }
      ]
    },
    {
      "cell_type": "code",
      "source": [
        "nlp1(social9)"
      ],
      "metadata": {
        "colab": {
          "base_uri": "https://localhost:8080/"
        },
        "id": "x7EoFhTDMidj",
        "outputId": "ef20b313-1f32-4a62-a66a-20817d5b2796"
      },
      "execution_count": 122,
      "outputs": [
        {
          "output_type": "execute_result",
          "data": {
            "text/plain": [
              "['What are the alternatives to the nuclear Social Issues family?',\n",
              " 'What do the arrangements allow more adults and children to live and grow under the loving gaze of a dozen pairs of eyes?']"
            ]
          },
          "metadata": {},
          "execution_count": 122
        }
      ]
    },
    {
      "cell_type": "code",
      "source": [
        "nlp1(social10)"
      ],
      "metadata": {
        "colab": {
          "base_uri": "https://localhost:8080/"
        },
        "id": "FNIRFViPMjH1",
        "outputId": "8ac0576c-a3f4-4f7f-c39f-f5f8053c5ec1"
      },
      "execution_count": 123,
      "outputs": [
        {
          "output_type": "execute_result",
          "data": {
            "text/plain": [
              "['What is defined as a situation in which the solution to a problem is impossible because it is also the cause of the problem?',\n",
              " 'What is the assistant manager of COMNET Senior Services under AMKFSC Community Services?']"
            ]
          },
          "metadata": {},
          "execution_count": 123
        }
      ]
    },
    {
      "cell_type": "code",
      "source": [
        "nlp1(social11)"
      ],
      "metadata": {
        "colab": {
          "base_uri": "https://localhost:8080/"
        },
        "id": "47WYTnhpMjnO",
        "outputId": "088b4795-0183-4863-b664-3a8e7e0a0b81"
      },
      "execution_count": 124,
      "outputs": [
        {
          "output_type": "execute_result",
          "data": {
            "text/plain": [
              "['How many women do not have the same economic rights as men?',\n",
              " 'How much of the women in developing world are responsible for their own bodies?',\n",
              " 'What is a section B: Issues to do with Family, Marriage and Parenting?']"
            ]
          },
          "metadata": {},
          "execution_count": 124
        }
      ]
    },
    {
      "cell_type": "code",
      "source": [
        "nlp1(social12)"
      ],
      "metadata": {
        "colab": {
          "base_uri": "https://localhost:8080/"
        },
        "id": "1wm8EYouMkTg",
        "outputId": "14ca1ac1-28d7-4ab0-da81-6cb86dc04574"
      },
      "execution_count": 125,
      "outputs": [
        {
          "output_type": "execute_result",
          "data": {
            "text/plain": [
              "['What is the reason the movement is seen by the government as a huge threat?',\n",
              " 'What does the Chinese society have that makes the ‘lying flat’ movement more worrying?']"
            ]
          },
          "metadata": {},
          "execution_count": 125
        }
      ]
    },
    {
      "cell_type": "code",
      "source": [
        "nlp1(social13)"
      ],
      "metadata": {
        "colab": {
          "base_uri": "https://localhost:8080/"
        },
        "id": "ZJ_5gNK3Ml0e",
        "outputId": "a83b213e-9dcf-467e-c983-54f14acf240c"
      },
      "execution_count": 126,
      "outputs": [
        {
          "output_type": "execute_result",
          "data": {
            "text/plain": [
              "['What would be much higher if the data took into account the full range of motherhood related workplace cases of well-performing pregnant employees?',\n",
              " 'What is RI GP Y5 2022 | Social Issues changed from full-time to part-time?']"
            ]
          },
          "metadata": {},
          "execution_count": 126
        }
      ]
    },
    {
      "cell_type": "code",
      "source": [
        "nlp1(social14)"
      ],
      "metadata": {
        "colab": {
          "base_uri": "https://localhost:8080/"
        },
        "id": "zbSS5cLrMmit",
        "outputId": "daf8ee9f-369d-429a-a79d-4263fdc5516a"
      },
      "execution_count": 127,
      "outputs": [
        {
          "output_type": "execute_result",
          "data": {
            "text/plain": [
              "[\"What has led to a rethinking of Singapore's social compact?\",\n",
              " 'In what year did the SARS outbreak occur?',\n",
              " 'What did the 2013 Population White Paper require?']"
            ]
          },
          "metadata": {},
          "execution_count": 127
        }
      ]
    },
    {
      "cell_type": "code",
      "source": [
        "nlp1(social15)"
      ],
      "metadata": {
        "colab": {
          "base_uri": "https://localhost:8080/"
        },
        "id": "1V6cKnG7Mnim",
        "outputId": "f428708d-42e2-4c4d-8048-a0b43eb35744"
      },
      "execution_count": 128,
      "outputs": [
        {
          "output_type": "execute_result",
          "data": {
            "text/plain": [
              "['What countries have reduced inequality over decades?',\n",
              " 'What were the benefits of universal tax-and-transfer systems?',\n",
              " 'How many currencies did some countries maintain?']"
            ]
          },
          "metadata": {},
          "execution_count": 128
        }
      ]
    },
    {
      "cell_type": "code",
      "source": [
        "nlp1(social16)"
      ],
      "metadata": {
        "colab": {
          "base_uri": "https://localhost:8080/"
        },
        "id": "Hi9yO8NeMoTD",
        "outputId": "345bca99-61d3-4b65-fb93-8a1597d809eb"
      },
      "execution_count": 129,
      "outputs": [
        {
          "output_type": "execute_result",
          "data": {
            "text/plain": [
              "['What is a sensational dramatisation of despair in South Korea?',\n",
              " 'What are two industries fueled by the glamour of the young?']"
            ]
          },
          "metadata": {},
          "execution_count": 129
        }
      ]
    },
    {
      "cell_type": "code",
      "source": [
        "nlp1(social17)"
      ],
      "metadata": {
        "colab": {
          "base_uri": "https://localhost:8080/"
        },
        "id": "RV2nZ4hRMo3W",
        "outputId": "2048f069-02c5-46f5-be95-c3197bc58028"
      },
      "execution_count": 130,
      "outputs": [
        {
          "output_type": "execute_result",
          "data": {
            "text/plain": [
              "[\"What data did the Manpower Ministry use to calculate the gender wage gap over a 40-year period to cover an individual's most productive work years?\",\n",
              " 'How long has gender wage gaps been narrowed over the past decade?']"
            ]
          },
          "metadata": {},
          "execution_count": 130
        }
      ]
    },
    {
      "cell_type": "code",
      "source": [
        "nlp1(social18)"
      ],
      "metadata": {
        "colab": {
          "base_uri": "https://localhost:8080/"
        },
        "id": "OjwGM6JAMpqt",
        "outputId": "738a6c8b-63df-4dfc-c9ad-2f179582d1e6"
      },
      "execution_count": 131,
      "outputs": [
        {
          "output_type": "execute_result",
          "data": {
            "text/plain": [
              "['How many percent of American adults were married in 2019?',\n",
              " 'What percentage of Americans ages 18 to 34 lived without a romantic partner in 2004?',\n",
              " 'How many Americans were married by 2018, according to the General Social Survey?']"
            ]
          },
          "metadata": {},
          "execution_count": 131
        }
      ]
    },
    {
      "cell_type": "code",
      "source": [
        "nlp1(social19)"
      ],
      "metadata": {
        "colab": {
          "base_uri": "https://localhost:8080/"
        },
        "id": "EGYmV3RIMqJs",
        "outputId": "29e5d656-7809-4d8a-914a-35aad00ab41a"
      },
      "execution_count": 132,
      "outputs": [
        {
          "output_type": "execute_result",
          "data": {
            "text/plain": [
              "['What does government not encourage single parenthood as a lifestyle choice?',\n",
              " 'What does Rachel Au-Yong say does not support gay families?']"
            ]
          },
          "metadata": {},
          "execution_count": 132
        }
      ]
    },
    {
      "cell_type": "code",
      "source": [
        "nlp1(social20)"
      ],
      "metadata": {
        "colab": {
          "base_uri": "https://localhost:8080/"
        },
        "id": "kppsbzNfMqxQ",
        "outputId": "418117b1-e369-4430-92c9-0f0c896a9512"
      },
      "execution_count": 133,
      "outputs": [
        {
          "output_type": "execute_result",
          "data": {
            "text/plain": [
              "['What is one set of standards for living for Singaporeans in a similar situation?',\n",
              " 'What is another example of a long-term hostel or dormitory?']"
            ]
          },
          "metadata": {},
          "execution_count": 133
        }
      ]
    },
    {
      "cell_type": "markdown",
      "source": [
        "General Paper: Arts and Culture Sentences"
      ],
      "metadata": {
        "id": "1Dl3lbaEM21J"
      }
    },
    {
      "cell_type": "code",
      "source": [
        "arts1 = \"Against the wall: The journey of Singapore’s street art scene from fringe to mainstream 3 and 4 49 15 Artists rally around Alfian Sa'at after Ong Ye Kung cites his poem during Yale-NUS debate 3, 4 and 10  53 16 Steaks Grown From Human Cells Spark Interest and Outrage  3, 4 and 10  55 Section D:  Different genres of the Arts   17 High and Low Art  1, 4 and 8  5718 Music helps us remember who we are and how we belong during difficult and traumatic times 2, 4 and 10  59 19 How NFTs are fuelling the digital art boom 4 and 10 6 Section E: Threats to Culture    20 Give the Easter Islanders their statue back – it doesn’t belong in theBritish Museum 8-10 66 21 To return or not: Who should own indigenous art? \"\n",
        "arts2 = \"The critic Raymond Williams, in his souped-up dictionary, “Keywords,” writes that “culture” has three divergent meanings:  there’s culture as a process of individual enrichment, as when we say that someone is “cultured”  (in 1605, Francis Bacon wrote about “the culture and manurance1 of minds”); culture as a group’s “particular way of life,” as when we talk about French culture, company culture, or multiculturalism; and culture as an activity , pursued by means of the 15 museums, concerts, books, and movies that might be encouraged by a Ministry of Culture (or covered on a blog like this one).\"\n",
        "arts3 = \"The role of the arts in making a nation a home * For artistic millennials, making a living out of the arts is a craft in itself Singapore cultural statistics – Arts attendance & revenue  5 30 COVID-19 has shown Singapore digital arts and humanities are quite the essential service 5 32 Art education holds some lessons on the way we teach and the full measure of an arts education\"\n",
        "arts4 = \"Arts & Culture  Foundational Concepts  Cole suggests that there is a two-way relationship between non-material culture (say, the values, beliefs, and practices shared by a group) and material culture or cultural products (like film, music, literature and art); not only does material culture often arise out of non-material culture, the cultural products thus created can in turn, shape aspects of non-material culture.\"\n",
        "arts5 = \"70 Data Drives Sameness Jada Watson, a professor at the University of Ottawa who studies country radio airplay, described how the country radio charts, like Billboard’s Hot Country Songs list, which includes streaming, “have become incredibly homogenous, not just in gender but with songs that stay number one the entire A 1954 classic thriller by famous director Alfred Hitchcock Arts & Culture  Threats to Culture year.”\"\n",
        "arts6 = \"(RI 2013 Y6 CT2) London's British Museum won’t return the Elgin Marbles to Greece, saying their controversial removal was a 'creative act' (Naomi Rea, 30 Jan 2019, Business Insider) @  Arts & Culture  Threats to Culture The dos and don’ts of cultural appropriation Jenni Avins Quratzand \"\n",
        "arts7 = \"Arts & Culture Investing in the Arts COVID-19 has shown Singapore digital arts and humanities are quite the essential service\"\n",
        "arts8 = \"In The Making of Enchantment Moments , Filipino director Lav Diaz opened the set of his forthcoming film to the public, to watch the making of it; in Open Homes, everyday Singaporeans invited 20-30 strangers into their private lives and told them their story; and in collaboration with Podesta, graphic novelist Sonny Liew’s stage show Becoming Graphic became as much about his new book as the 110 process of creating it.\"\n",
        "arts9 = \"Treat a cultural exchange like any other creative collaboration – give credit, and consider  royalties Arts & Culture  Threats to Culture Co-branded collaborations are common business deals in today’s fashion industry, and that’s just how 110 Oskar Metsavaht, the founder and creative director of the popular Brazilian sportswear brand Osklen, treated his dealings with the Asháninka tribe for Osklen’s Spring 2016 collection. \"\n",
        "arts10 = \"Artistic director Noorlinah Mohamed believes that ‘Singaporeans are much more open and progressive than the government gives them credit for’ (lines 117-118), which is echoed by theatre practitioner Tracie Pang’s view that ‘[w]e have a community of arts goers who are intelligent enough to make up their own minds’ (lines 131-132):  (a) To what extent do you agree and why? \"\n",
        "arts11 = \"As Gordon Graham writes, “It leads people to place a high value on very lifelike portraits such as those by the great masters – Michelangelo, Rubens, Velásquez and so on – and to raise questions about the value of ‘modern’ art – the cubist distortions of Picasso, the surrealist figures of Jan Miro, the abstracts of 25 Kandinsky or the ‘action’ paintings of Jackson Pollock.”  \"\n",
        "arts12 = \"Further reading: “Art education key to developing an innovative mindset” – Ye Shufangmindset”  Arts & Culture  Investing in the Arts Reading 11: The full measure of an arts education This article will help you to understand:\"\n",
        "arts13 = \"The proportion of students entering arts courses at university excludes students who left Sota before completing the six-year programme to pursue tertiary studies in the arts, at institutions like the National University of Singapore's Yong Siew Toh Conservatory of Music or the Central School of Ballet 50 in London, as well as those who return to work full-time in the arts sector after working professionally in another discipline. \"\n",
        "arts14 = \"Arts & Culture  Different genres of the arts Big businesses and celebrities are getting in on the action: NBA Top Shot, the National Basketball 75 Association’s official platform to buy and sell NFT-based highlights (packaged like digital trading cards), has racked up over $390 million in sales since its October launch, according to parent company Dapper Labs.\"\n",
        "arts15 = \"When Singapore’s founding father Lee Kuan Yew died in 2015, Ong says, it led to “a kind of 85 tenuousness”, or loss of identity, that was felt throughout the city-state – and led to a government more afraid to take risks: “We started again after LKY passed away ... and from 2015, the conversation became more restrictive,” he says.\"\n",
        "arts16 = \"(It was coined a long time ago, in a 1975 documentary film called “Rape Culture” that focussed, in part, on an organization called Prisoners Against Rape; Ariel Levy, in a recent piece for this magazine, defines it as “a value system in which women are currency, and sex is something that men get—or take—from them.”)\"\n",
        "arts17 = \"In Paris, for example, pre-Columbian sculptures have migrated over and over: from the Louvre and the Musée Guimet in the early-to-mid-19th Century, where they were exhibited as antiquities; to the ethnographic Trocadéro in the late 19th Century, where aesthetics were irrelevant; and now to the Musée du Quai Branly, which proudly calls itself an art museum. \"\n",
        "arts18 = \"For more on what the government is doing to support the Singapore art scene through COVID-19, consider visiting the NAC’s website \"\n",
        "arts19 = \"How an arts education provides skills that can be “transferred” to other areas of learning News last month that fewer than three in 10 School of the Arts (Sota) graduating students go on to pursue arts-related university courses stirred debate, with some saying this was too low a figure and asking if taxpayers' dollars were well spent in funding such a school.\"\n",
        "arts20 = \"Sites such as The Idishe Velt (The Jewish World), a message board which boasts 200,000 visits per month, and Kave Shtiebel (The Coffee House), which features Yiddish pop up ads, are just a few 40 examples of how Jewish communities are keeping Yiddish alive by creating safe spaces online where users can easily communicate with each other in their own language. \""
      ],
      "metadata": {
        "id": "_BftrxeuM5vo"
      },
      "execution_count": 134,
      "outputs": []
    },
    {
      "cell_type": "code",
      "source": [
        "nlp(arts1)"
      ],
      "metadata": {
        "colab": {
          "base_uri": "https://localhost:8080/"
        },
        "id": "ybq0quR4SPS0",
        "outputId": "c63224dc-fdaf-4c33-86c6-8b98d5b1bfb4"
      },
      "execution_count": 135,
      "outputs": [
        {
          "output_type": "execute_result",
          "data": {
            "text/plain": [
              "[{'answer': \"<pad> Alfian Sa'at\",\n",
              "  'question': 'Who did Ong Ye Kung rally around?'}]"
            ]
          },
          "metadata": {},
          "execution_count": 135
        }
      ]
    },
    {
      "cell_type": "code",
      "source": [
        "nlp(arts2)"
      ],
      "metadata": {
        "colab": {
          "base_uri": "https://localhost:8080/"
        },
        "id": "NFiPKqdsSWOa",
        "outputId": "2d90d23e-9ff8-447a-ab49-9e0c9a83bb0b"
      },
      "execution_count": 136,
      "outputs": [
        {
          "output_type": "execute_result",
          "data": {
            "text/plain": [
              "[{'answer': '<pad> Raymond Williams', 'question': 'Who wrote Keywords?'}]"
            ]
          },
          "metadata": {},
          "execution_count": 136
        }
      ]
    },
    {
      "cell_type": "code",
      "source": [
        "nlp(arts3)"
      ],
      "metadata": {
        "colab": {
          "base_uri": "https://localhost:8080/"
        },
        "id": "ACelRHnKSXX7",
        "outputId": "0cc62204-f52f-40d9-cad9-f61fb7a0d686"
      },
      "execution_count": 137,
      "outputs": [
        {
          "output_type": "execute_result",
          "data": {
            "text/plain": [
              "[{'answer': '<pad> art',\n",
              "  'question': 'What is the name of the art education that has some lessons on the way we teach and the full measure of an arts education?'}]"
            ]
          },
          "metadata": {},
          "execution_count": 137
        }
      ]
    },
    {
      "cell_type": "code",
      "source": [
        "nlp(arts4)"
      ],
      "metadata": {
        "colab": {
          "base_uri": "https://localhost:8080/"
        },
        "id": "WHRDyJCPSYw1",
        "outputId": "16c28a0f-b6b9-4658-f1ca-91a3dbae4722"
      },
      "execution_count": 138,
      "outputs": [
        {
          "output_type": "execute_result",
          "data": {
            "text/plain": [
              "[{'answer': '<pad> arts & Culture Foundational Concepts',\n",
              "  'question': 'What does Cole believe there is a two-way relationship between non-material culture and material culture?'}]"
            ]
          },
          "metadata": {},
          "execution_count": 138
        }
      ]
    },
    {
      "cell_type": "code",
      "source": [
        "nlp(arts5)"
      ],
      "metadata": {
        "colab": {
          "base_uri": "https://localhost:8080/"
        },
        "id": "DzHcmBgXSbVo",
        "outputId": "81b607fb-18e9-495a-884d-7219a002279b"
      },
      "execution_count": 139,
      "outputs": [
        {
          "output_type": "execute_result",
          "data": {
            "text/plain": [
              "[{'answer': '<pad> Billboard',\n",
              "  'question': 'What is the name of the country radio chart?'}]"
            ]
          },
          "metadata": {},
          "execution_count": 139
        }
      ]
    },
    {
      "cell_type": "code",
      "source": [
        "nlp(arts6)"
      ],
      "metadata": {
        "colab": {
          "base_uri": "https://localhost:8080/"
        },
        "id": "0RqKLDOgSc8Y",
        "outputId": "fa0f8f08-5e2c-4670-eb56-3608ab59e65b"
      },
      "execution_count": 140,
      "outputs": [
        {
          "output_type": "execute_result",
          "data": {
            "text/plain": [
              "[{'answer': \"<pad> 'creative act'\",\n",
              "  'question': 'What did the British Museum say the removal of the Elgin Marbles was?'}]"
            ]
          },
          "metadata": {},
          "execution_count": 140
        }
      ]
    },
    {
      "cell_type": "code",
      "source": [
        "nlp(arts7)"
      ],
      "metadata": {
        "colab": {
          "base_uri": "https://localhost:8080/"
        },
        "id": "7rXyUgkISd7P",
        "outputId": "f4766b68-4806-4045-fe30-4ec4fea6ab3c"
      },
      "execution_count": 141,
      "outputs": [
        {
          "output_type": "execute_result",
          "data": {
            "text/plain": [
              "[{'answer': '<pad> Arts & Culture Investing in the Arts',\n",
              "  'question': 'What does COVID-19 show Singapore digital arts and humanities are the essential service?'}]"
            ]
          },
          "metadata": {},
          "execution_count": 141
        }
      ]
    },
    {
      "cell_type": "code",
      "source": [
        "nlp(arts8)"
      ],
      "metadata": {
        "colab": {
          "base_uri": "https://localhost:8080/"
        },
        "id": "afk0DWXBSfHZ",
        "outputId": "3519a99f-7b79-46e0-f8ee-11c474cb3141"
      },
      "execution_count": 142,
      "outputs": [
        {
          "output_type": "execute_result",
          "data": {
            "text/plain": [
              "[{'answer': '<pad> Lav Diaz',\n",
              "  'question': 'Who opened the set of The Making of Enchantment Moments to the public?'}]"
            ]
          },
          "metadata": {},
          "execution_count": 142
        }
      ]
    },
    {
      "cell_type": "code",
      "source": [
        "nlp(arts9)"
      ],
      "metadata": {
        "colab": {
          "base_uri": "https://localhost:8080/"
        },
        "id": "xcxcix2dSf9L",
        "outputId": "570da645-977e-4a4c-a8af-e92b99f2a735"
      },
      "execution_count": 143,
      "outputs": [
        {
          "output_type": "execute_result",
          "data": {
            "text/plain": [
              "[{'answer': '<pad> Oskar Metsavaht',\n",
              "  'question': 'Who is the founder and creative director of Osklen?'}]"
            ]
          },
          "metadata": {},
          "execution_count": 143
        }
      ]
    },
    {
      "cell_type": "code",
      "source": [
        "nlp(arts10)"
      ],
      "metadata": {
        "colab": {
          "base_uri": "https://localhost:8080/"
        },
        "id": "VgkjaaldShAz",
        "outputId": "69f2c070-2d84-4690-dfed-3616d5e743c3"
      },
      "execution_count": 144,
      "outputs": [
        {
          "output_type": "execute_result",
          "data": {
            "text/plain": [
              "[{'answer': '<pad> Noorlinah Mohamed',\n",
              "  'question': 'Who believes that Singaporeans are more open and progressive than the government gives them credit for?'}]"
            ]
          },
          "metadata": {},
          "execution_count": 144
        }
      ]
    },
    {
      "cell_type": "code",
      "source": [
        "nlp(arts11)"
      ],
      "metadata": {
        "colab": {
          "base_uri": "https://localhost:8080/"
        },
        "id": "a7wPkCxxShy-",
        "outputId": "b4cdf91e-e30e-4da7-a476-64faf3c026de"
      },
      "execution_count": 145,
      "outputs": [
        {
          "output_type": "execute_result",
          "data": {
            "text/plain": [
              "[{'answer': '<pad> 25', 'question': 'How many Kandinsky abstracts are there?'},\n",
              " {'answer': ' Jan Miro', 'question': 'Who was the surrealist figure of?'}]"
            ]
          },
          "metadata": {},
          "execution_count": 145
        }
      ]
    },
    {
      "cell_type": "code",
      "source": [
        "nlp(arts12)"
      ],
      "metadata": {
        "colab": {
          "base_uri": "https://localhost:8080/"
        },
        "id": "QrlLsSmbSi-D",
        "outputId": "90369ed1-2e4b-452a-fad0-f215cdada2ca"
      },
      "execution_count": 146,
      "outputs": [
        {
          "output_type": "execute_result",
          "data": {
            "text/plain": [
              "[{'answer': '<pad> Ye Shufangmindset',\n",
              "  'question': 'What is the title of the article that will help you understand the importance of arts education?'}]"
            ]
          },
          "metadata": {},
          "execution_count": 146
        }
      ]
    },
    {
      "cell_type": "code",
      "source": [
        "nlp(arts13)"
      ],
      "metadata": {
        "colab": {
          "base_uri": "https://localhost:8080/"
        },
        "id": "3DLxBqboSmls",
        "outputId": "ee48bba3-f415-4cb0-88d7-843f161742fe"
      },
      "execution_count": 147,
      "outputs": [
        {
          "output_type": "execute_result",
          "data": {
            "text/plain": [
              "[{'answer': '<pad> six',\n",
              "  'question': 'How many years did students leave Sota to pursue tertiary studies in the arts?'}]"
            ]
          },
          "metadata": {},
          "execution_count": 147
        }
      ]
    },
    {
      "cell_type": "code",
      "source": [
        "nlp(arts14)"
      ],
      "metadata": {
        "colab": {
          "base_uri": "https://localhost:8080/"
        },
        "id": "63Cd8IwYSnkl",
        "outputId": "de41e1c1-fa01-4057-cc0d-9844c012c861"
      },
      "execution_count": 148,
      "outputs": [
        {
          "output_type": "execute_result",
          "data": {
            "text/plain": [
              "[{'answer': '<pad> over $390 million',\n",
              "  'question': 'How much has NBA Top Shot racked up in sales since its October launch?'}]"
            ]
          },
          "metadata": {},
          "execution_count": 148
        }
      ]
    },
    {
      "cell_type": "code",
      "source": [
        "nlp(arts15)"
      ],
      "metadata": {
        "colab": {
          "base_uri": "https://localhost:8080/"
        },
        "id": "698hPJ_GSoNn",
        "outputId": "5591c3a6-af26-4974-daf9-b397f3ab4478"
      },
      "execution_count": 149,
      "outputs": [
        {
          "output_type": "execute_result",
          "data": {
            "text/plain": [
              "[{'answer': '<pad> Lee Kuan Yew',\n",
              "  'question': \"Who was Singapore's founding father?\"},\n",
              " {'answer': ' 2015', 'question': 'When did Lee Kuan Yew die?'}]"
            ]
          },
          "metadata": {},
          "execution_count": 149
        }
      ]
    },
    {
      "cell_type": "code",
      "source": [
        "nlp(arts16)"
      ],
      "metadata": {
        "colab": {
          "base_uri": "https://localhost:8080/"
        },
        "id": "DonBncUTSo2P",
        "outputId": "e62e510d-f194-4a40-805f-31489e381a81"
      },
      "execution_count": 150,
      "outputs": [
        {
          "output_type": "execute_result",
          "data": {
            "text/plain": [
              "[{'answer': '<pad> Prisoners Against Rape',\n",
              "  'question': 'What was the name of the organization that was founded in 1975?'},\n",
              " {'answer': ' 1975', 'question': 'When was the film \"Rape Culture\" coined?'}]"
            ]
          },
          "metadata": {},
          "execution_count": 150
        }
      ]
    },
    {
      "cell_type": "code",
      "source": [
        "nlp(arts17)"
      ],
      "metadata": {
        "colab": {
          "base_uri": "https://localhost:8080/"
        },
        "id": "ac0v1sTbSpUz",
        "outputId": "b95cd520-c87f-4341-a832-60a520c076ef"
      },
      "execution_count": 151,
      "outputs": [
        {
          "output_type": "execute_result",
          "data": {
            "text/plain": [
              "[{'answer': '<pad> Musée du Quai Branly',\n",
              "  'question': 'What is the name of the Musée du Quai Branly?'}]"
            ]
          },
          "metadata": {},
          "execution_count": 151
        }
      ]
    },
    {
      "cell_type": "code",
      "source": [
        "nlp(arts18)"
      ],
      "metadata": {
        "colab": {
          "base_uri": "https://localhost:8080/"
        },
        "id": "DaofIJd-SqJC",
        "outputId": "199e3334-0407-4779-808a-c59f22a7c3c0"
      },
      "execution_count": 152,
      "outputs": [
        {
          "output_type": "execute_result",
          "data": {
            "text/plain": [
              "[{'answer': '<pad> COVID-19',\n",
              "  'question': \"What is the name of the NAC's website?\"}]"
            ]
          },
          "metadata": {},
          "execution_count": 152
        }
      ]
    },
    {
      "cell_type": "code",
      "source": [
        "nlp(arts19)"
      ],
      "metadata": {
        "colab": {
          "base_uri": "https://localhost:8080/"
        },
        "id": "4f0xyFkASqn3",
        "outputId": "973ee09d-2a29-4d62-fa4f-c938aab133ed"
      },
      "execution_count": 153,
      "outputs": [
        {
          "output_type": "execute_result",
          "data": {
            "text/plain": [
              "[{'answer': '<pad> fewer than three in 10',\n",
              "  'question': 'How many School of the Arts graduating students go on to pursue arts-related university courses?'}]"
            ]
          },
          "metadata": {},
          "execution_count": 153
        }
      ]
    },
    {
      "cell_type": "code",
      "source": [
        "nlp(arts20)"
      ],
      "metadata": {
        "colab": {
          "base_uri": "https://localhost:8080/"
        },
        "id": "vl7k384WSrQK",
        "outputId": "f5ec53b3-6ead-4757-96f8-325549d744f5"
      },
      "execution_count": 154,
      "outputs": [
        {
          "output_type": "execute_result",
          "data": {
            "text/plain": [
              "[{'answer': '<pad> 200,000',\n",
              "  'question': 'How many visits does The Idishe Velt have per month?'},\n",
              " {'answer': ' Kave Shtiebel',\n",
              "  'question': 'What is the name of the coffee house that features Yiddish pop up ads?'}]"
            ]
          },
          "metadata": {},
          "execution_count": 154
        }
      ]
    },
    {
      "cell_type": "code",
      "source": [
        "nlp1(arts1)"
      ],
      "metadata": {
        "colab": {
          "base_uri": "https://localhost:8080/"
        },
        "id": "QNrfFTuWS9GN",
        "outputId": "8f3ce64b-a4a6-4a7f-87a9-884544be64c7"
      },
      "execution_count": 155,
      "outputs": [
        {
          "output_type": "execute_result",
          "data": {
            "text/plain": [
              "['Who cites his poem during the Yale-NUS debate?',\n",
              " 'What does music help us remember during difficult and traumatic times?',\n",
              " 'How are NFTs fueling the digital art boom?']"
            ]
          },
          "metadata": {},
          "execution_count": 155
        }
      ]
    },
    {
      "cell_type": "code",
      "source": [
        "nlp1(arts2)"
      ],
      "metadata": {
        "colab": {
          "base_uri": "https://localhost:8080/"
        },
        "id": "3eh9WjqGS-tg",
        "outputId": "df2e3f82-292c-4d7e-ad61-f30cc2ec89ed"
      },
      "execution_count": 156,
      "outputs": [
        {
          "output_type": "execute_result",
          "data": {
            "text/plain": [
              "['What does Raymond Williams write in his souped-up dictionary?',\n",
              " 'When did Francis Bacon write about \"the culture and manurance1 of minds\"?',\n",
              " 'How many museums, concerts, books, and movies might be encouraged by a Ministry of Culture?']"
            ]
          },
          "metadata": {},
          "execution_count": 156
        }
      ]
    },
    {
      "cell_type": "code",
      "source": [
        "nlp1(arts3)"
      ],
      "metadata": {
        "colab": {
          "base_uri": "https://localhost:8080/"
        },
        "id": "EQ8rrm86S_rq",
        "outputId": "ed7bdec5-1bdb-422b-86fd-1478530c01fc"
      },
      "execution_count": 157,
      "outputs": [
        {
          "output_type": "execute_result",
          "data": {
            "text/plain": [
              "['What is the role of the arts in making a nation a home for artistic millennials?',\n",
              " 'What has shown Singapore digital arts and humanities are quite the essential service 5 32 Art education holds some lessons on how we teach and the full measure of an arts education?']"
            ]
          },
          "metadata": {},
          "execution_count": 157
        }
      ]
    },
    {
      "cell_type": "code",
      "source": [
        "nlp1(arts4)"
      ],
      "metadata": {
        "colab": {
          "base_uri": "https://localhost:8080/"
        },
        "id": "f1egGUYyTAcX",
        "outputId": "1378d7a9-03cf-41c1-cc4d-e3724e075020"
      },
      "execution_count": 158,
      "outputs": [
        {
          "output_type": "execute_result",
          "data": {
            "text/plain": [
              "['What does Cole believe there is a two-way relationship between non-material culture and material culture?',\n",
              " 'What type of culture does material culture often arise out of?']"
            ]
          },
          "metadata": {},
          "execution_count": 158
        }
      ]
    },
    {
      "cell_type": "code",
      "source": [
        "nlp1(arts5)"
      ],
      "metadata": {
        "colab": {
          "base_uri": "https://localhost:8080/"
        },
        "id": "7WrzUUJGTBi0",
        "outputId": "552ff41e-28bb-4dc5-b35d-ae451020fb8a"
      },
      "execution_count": 159,
      "outputs": [
        {
          "output_type": "execute_result",
          "data": {
            "text/plain": [
              "['Who is a professor at the University of Ottawa who studies country radio airplay?',\n",
              " \"What is the name of Billboard's Hot Country Songs list?\",\n",
              " 'Who wrote a book about the country radio charts?']"
            ]
          },
          "metadata": {},
          "execution_count": 159
        }
      ]
    },
    {
      "cell_type": "code",
      "source": [
        "nlp1(arts6)"
      ],
      "metadata": {
        "colab": {
          "base_uri": "https://localhost:8080/"
        },
        "id": "ZpNDGiCATCs6",
        "outputId": "aed85923-9894-41fe-d363-99935b0235af"
      },
      "execution_count": 160,
      "outputs": [
        {
          "output_type": "execute_result",
          "data": {
            "text/plain": [
              "[\"What did the British Museum say was a 'creative act'?\",\n",
              " \"Who said the removal of the Elgin Marbles was 'a Creative act?\",\n",
              " \"What did Jenni Avins Quratzand say were the dos and don'ts of cultural appropriation?\"]"
            ]
          },
          "metadata": {},
          "execution_count": 160
        }
      ]
    },
    {
      "cell_type": "code",
      "source": [
        "nlp1(arts7)"
      ],
      "metadata": {
        "colab": {
          "base_uri": "https://localhost:8080/"
        },
        "id": "Zwi68IA_TDbI",
        "outputId": "d5b53194-9a5a-4a3f-fb92-ab804d598e2e"
      },
      "execution_count": 161,
      "outputs": [
        {
          "output_type": "execute_result",
          "data": {
            "text/plain": [
              "['In what year did COVID-19 invest in Arts & Culture?',\n",
              " \"What is Singapore's digital arts and humanities?\"]"
            ]
          },
          "metadata": {},
          "execution_count": 161
        }
      ]
    },
    {
      "cell_type": "code",
      "source": [
        "nlp1(arts8)"
      ],
      "metadata": {
        "colab": {
          "base_uri": "https://localhost:8080/"
        },
        "id": "FVJ66mUITES5",
        "outputId": "762647d8-1756-4e4c-88f3-77ffb44c4f85"
      },
      "execution_count": 162,
      "outputs": [
        {
          "output_type": "execute_result",
          "data": {
            "text/plain": [
              "['Who opened the set of The Making of Enchantment Moments to the public?',\n",
              " 'How many strangers were invited into their private lives in Open Homes?',\n",
              " 'Who collaborated with Podesta to create Becoming Graphic?']"
            ]
          },
          "metadata": {},
          "execution_count": 162
        }
      ]
    },
    {
      "cell_type": "code",
      "source": [
        "nlp1(arts9)"
      ],
      "metadata": {
        "colab": {
          "base_uri": "https://localhost:8080/"
        },
        "id": "vRNTZDXdTE9c",
        "outputId": "032891c3-e24d-405d-d7a1-a845a4f7a855"
      },
      "execution_count": 163,
      "outputs": [
        {
          "output_type": "execute_result",
          "data": {
            "text/plain": [
              "['Who is the founder and creative director of the popular Brazilian sportswear brand Osklen?',\n",
              " 'What is the name of Oskar Metsavaht?']"
            ]
          },
          "metadata": {},
          "execution_count": 163
        }
      ]
    },
    {
      "cell_type": "code",
      "source": [
        "nlp1(arts10)"
      ],
      "metadata": {
        "colab": {
          "base_uri": "https://localhost:8080/"
        },
        "id": "maOaap2XTFlt",
        "outputId": "c39d97f7-6b66-47e7-a3bb-bd9d0cb7663b"
      },
      "execution_count": 164,
      "outputs": [
        {
          "output_type": "execute_result",
          "data": {
            "text/plain": [
              "['Who believes that Singaporeans are more open and progressive than the government gives them credit for?',\n",
              " \"What is Tracie Pang's view of the community of arts goers who are intelligent enough to make their own minds?\"]"
            ]
          },
          "metadata": {},
          "execution_count": 164
        }
      ]
    },
    {
      "cell_type": "code",
      "source": [
        "nlp1(arts11)"
      ],
      "metadata": {
        "colab": {
          "base_uri": "https://localhost:8080/"
        },
        "id": "gTZbD1pgTGaM",
        "outputId": "ddc3f614-6236-40bf-efcc-9a871cc37749"
      },
      "execution_count": 165,
      "outputs": [
        {
          "output_type": "execute_result",
          "data": {
            "text/plain": [
              "['What is the name of the portraits of Michelangelo, Rubens, Velásquez and so on?',\n",
              " 'What are the abstracts of 25 Kandinsky or the action paintings of Jackson Pollock?']"
            ]
          },
          "metadata": {},
          "execution_count": 165
        }
      ]
    },
    {
      "cell_type": "code",
      "source": [
        "nlp1(arts12)"
      ],
      "metadata": {
        "colab": {
          "base_uri": "https://localhost:8080/"
        },
        "id": "GLlAd8-UTHe3",
        "outputId": "631814ae-1e47-43ab-bbb0-03a0ba9b9121"
      },
      "execution_count": 166,
      "outputs": [
        {
          "output_type": "execute_result",
          "data": {
            "text/plain": [
              "['What is the key to developing an innovative mindset?',\n",
              " 'What is Ye Shufangmindset?']"
            ]
          },
          "metadata": {},
          "execution_count": 166
        }
      ]
    },
    {
      "cell_type": "code",
      "source": [
        "nlp1(arts13)"
      ],
      "metadata": {
        "colab": {
          "base_uri": "https://localhost:8080/"
        },
        "id": "AF2TkOjsTIYH",
        "outputId": "9ad1302f-ddbc-4c4f-da32-fda923acaeb1"
      },
      "execution_count": 167,
      "outputs": [
        {
          "output_type": "execute_result",
          "data": {
            "text/plain": [
              "['What percentage of students entering arts courses at university excludes students who left Sota before completing the six-year programme to pursue tertiary studies in the arts?',\n",
              " \"What is the National University of Singapore's Yong Siew Toh Conservatory of Music?\"]"
            ]
          },
          "metadata": {},
          "execution_count": 167
        }
      ]
    },
    {
      "cell_type": "code",
      "source": [
        "nlp1(arts14)"
      ],
      "metadata": {
        "colab": {
          "base_uri": "https://localhost:8080/"
        },
        "id": "71APc8E-TJUG",
        "outputId": "37fb2619-dae9-4d1a-9d92-1b9eb229539b"
      },
      "execution_count": 168,
      "outputs": [
        {
          "output_type": "execute_result",
          "data": {
            "text/plain": [
              "['What is the official platform to buy and sell NFT-based highlights?',\n",
              " 'How much has NBA Top Shot racked up in sales since its October launch?',\n",
              " 'What company is Dapper Labs?']"
            ]
          },
          "metadata": {},
          "execution_count": 168
        }
      ]
    },
    {
      "cell_type": "code",
      "source": [
        "nlp1(arts15)"
      ],
      "metadata": {
        "colab": {
          "base_uri": "https://localhost:8080/"
        },
        "id": "ez3T9X8yTJ9J",
        "outputId": "6bb43c1d-2d0d-499c-8cdb-57f2cf7e4d2c"
      },
      "execution_count": 169,
      "outputs": [
        {
          "output_type": "execute_result",
          "data": {
            "text/plain": [
              "['When did Lee Kuan Yew die?',\n",
              " 'What was the name of the founding father of Singapore?',\n",
              " 'When did LKY pass away?',\n",
              " 'How many tenuousness did Ong say was a result of the death?']"
            ]
          },
          "metadata": {},
          "execution_count": 169
        }
      ]
    },
    {
      "cell_type": "code",
      "source": [
        "nlp1(arts16)"
      ],
      "metadata": {
        "colab": {
          "base_uri": "https://localhost:8080/"
        },
        "id": "s0Y2nD0pTKiw",
        "outputId": "48409584-d926-42c5-b597-c9ebb0436272"
      },
      "execution_count": 170,
      "outputs": [
        {
          "output_type": "execute_result",
          "data": {
            "text/plain": [
              "['When was the film \"Rape Culture\" coined?',\n",
              " 'What was the name of a documentary film that focused on Prisoners Against Rape?',\n",
              " 'Who wrote a piece for the magazine that defines it as a value system in which women are currency?']"
            ]
          },
          "metadata": {},
          "execution_count": 170
        }
      ]
    },
    {
      "cell_type": "code",
      "source": [
        "nlp1(arts17)"
      ],
      "metadata": {
        "colab": {
          "base_uri": "https://localhost:8080/"
        },
        "id": "BLcTxTPNTLcx",
        "outputId": "6b3c0307-4461-4220-a5c1-a4e865c43400"
      },
      "execution_count": 171,
      "outputs": [
        {
          "output_type": "execute_result",
          "data": {
            "text/plain": [
              "['In what century were pre-Columbian sculptures exhibited as antiquities?',\n",
              " 'What was the ethnographic Trocadéro in the late 19th century?',\n",
              " 'Where is the Musée du Quai Branly called?']"
            ]
          },
          "metadata": {},
          "execution_count": 171
        }
      ]
    },
    {
      "cell_type": "code",
      "source": [
        "nlp1(arts18)"
      ],
      "metadata": {
        "colab": {
          "base_uri": "https://localhost:8080/"
        },
        "id": "KOVaOSAITMDF",
        "outputId": "fbb7193f-0614-486c-e497-a58d09d3863b"
      },
      "execution_count": 172,
      "outputs": [
        {
          "output_type": "execute_result",
          "data": {
            "text/plain": [
              "[\"What does the government do to support Singapore's art scene through COVID-19?\",\n",
              " \"What is the name of the NAC's website?\"]"
            ]
          },
          "metadata": {},
          "execution_count": 172
        }
      ]
    },
    {
      "cell_type": "code",
      "source": [
        "nlp1(arts19)"
      ],
      "metadata": {
        "colab": {
          "base_uri": "https://localhost:8080/"
        },
        "id": "1HFN0-O4TM4v",
        "outputId": "a3e72760-3123-4670-abcf-b831680956a8"
      },
      "execution_count": 173,
      "outputs": [
        {
          "output_type": "execute_result",
          "data": {
            "text/plain": [
              "['How many School of the Arts students go on to pursue arts-related university courses?',\n",
              " 'What did some say was too low a figure?']"
            ]
          },
          "metadata": {},
          "execution_count": 173
        }
      ]
    },
    {
      "cell_type": "code",
      "source": [
        "nlp1(arts20)"
      ],
      "metadata": {
        "colab": {
          "base_uri": "https://localhost:8080/"
        },
        "id": "uAulK-CPTNYm",
        "outputId": "8d2e6a83-b71c-40c7-ed68-733f2b15bae3"
      },
      "execution_count": 174,
      "outputs": [
        {
          "output_type": "execute_result",
          "data": {
            "text/plain": [
              "['How many visits does The Idishe Velt have per month?',\n",
              " 'How many ads does Kave Shtiebel feature?',\n",
              " 'What is the name of the coffee house that features Yiddish pop up ads?']"
            ]
          },
          "metadata": {},
          "execution_count": 174
        }
      ]
    },
    {
      "cell_type": "markdown",
      "source": [
        "General Paper: Politics Sentences"
      ],
      "metadata": {
        "id": "EpFdO0cjThHs"
      }
    },
    {
      "cell_type": "code",
      "source": [
        "politics1 = 'regime a method or system of government or administration republic a country in which the supreme power is held by the people or their elected representatives, or by an elected or nominated president right wing those who support more conservative or traditional policies than others in their group socialism a political and economic theory advocating that land, transport, natural resources, and the chief industries should be owned & managed by the State  a policy/practice based on this state (often State) an organised community under one government (the State of Israel) or forming part of a federal republic (States of the USA)  civil government with established boundaries and jurisdiction '\n",
        "politics2 = 'Among other things, China had intensified efforts to defend Huawei by charging Canadians Michael Kovrig and Michael Spavor with espionage after a Canadian court refused to stop extradition proceedings against CFO Meng Wanzhou, and warned the United Kingdom it would “bear the consequences” for excluding the telecom giant from its 5G network; cracked down on the once semi-autonomous region of Hong 5 Kong, enacting a far-reaching National Security Law and arresting multiple pro-democracy activists; lashed out at and imposed trade sanctions on Australia for questioning its handling of the COVID-19 pandemic; tightened its grip on the Paracel and Spratly Islands in the South China Sea by unilaterally setting up new administrative districts; increased maritime militia patrols around the Japanese-controlled Senkaku/Diaoyu Islands; clashed with India at the disputed border in the 10 Himalayas; and deployed a record number of warplanes across the median line in the Taiwan Strait around China’s own National Day. '\n",
        "politics3 = 'Each branch has some authority to check the power of the others, thereby maintaining a balance among the three communism a social system in which property is owned by the community and each member works for the common benefit a political doctrine or movement seeking to overthrow capitalism and establish a form of communism; such a system established in the former USSR and elsewhere constitution  the principles according to which a country is organised demagogue a leader whose impassioned rhetoric appeals to greed, fear, and hatred democracy government by the whole people of a country, especially through representatives whom they elect   a country governed in this way [from Greek demos = people, + -cracy] dictator a ruler who has unrestricted authority, especially one who has taken control by force failed state'\n",
        "politics4 = 'a large community of people of mainly common descent, language, history, etc., usually inhabiting a particular territory and under one government nationalism  a patriotic feeling or principles or efforts a movement favouring independence for a country that is controlled by or forms part of another partisan a strong and often uncritical supporter of a person, group, or cause  parliament an assembly that makes the laws of a country patriarchy'\n",
        "politics5 = 'governance governing, control government governing, the system of method of governing  the group or organisation governing a country the State as an agent left wing those who support a more extreme form of socialism than others in their group liberal tolerant, open-minded, especially in religion and politics mandate (noun) authority given to someone to perform a certain task or to apply certain policies meritocracy  government or control by people of high ability, selected by some form of '\n",
        "politics6 = 'Wikileaks: Secrets and Lies Recommended reading:  1) Introduction to philosophers on politics (Hobbes: Leviathan Ch. XIII , Aristotle: Politics, Plato: The Republic , Machiavelli: The Prince 2) George Orwell:  Politics and the English Language 3) Margaret Thatcher, The Downing Street Years (autobiography of the ‘Iron Lady’)  4) Margaret Thatcher, The Path to Power (another autobiography; an insight into the intellectual and political formation of one of Britain’s most famous female leaders)  5) Jung Chang:'\n",
        "politics7 = 'This reading will help you to: Understand the political divide in America concerning the handling of the Covid-19 pandemic Consider the age-old conflict between societies’ ability to simultaneously uphold individual freedom and maximize public safety and health Reflect on the appropriate balance between protecting individual rights from coercive governments and safeguarding society’s interests After more than 18 months of a pandemic, with 1 of every 545 Americans killed by COVID-19, a substantial chunk of the population continues to assert their own individual liberties over the common good.'\n",
        "politics8 = 'Understand the underlying tension between individual freedom and national good and how China’s move to prioritise the latter completely at the expense of the former has led to social unrest and political anger: Consider how  such an authoritarian style of governance is dependent on the nature of the social compact between a government and its people, Over the past three years, China’s top leader, Xi Jinping, staked his legitimacy on “zero Covid,” making it an ideological campaign aimed at demonstrating the superiority of centralized control over democratic rule.'\n",
        "politics9 = '1520s, “science of government”, from politic (adj.), modelled on Aristotle’s ta politika  ‘affairs of state’, the name of his book on governing and governments [from Online Etymology Dictionary] From this, we can draw a basic meaning of “politics” as management (“governance”) of a group of people (“citizens”) who live and function within a specified geographical boundary (“city”) .'\n",
        "politics10 = '(Authoritarian populists have been with us now for 20 years, in economically bad times as well as good, in both predominately Catholic and Protestant societies, in Nordic and Mediterranean regions, in liberal Norway and conservative Switzerland, in egalitarian welfare states as well as unequal societies, in the European Union and in several Anglo -American democracies like New Zealand, Canada, and Australia.)  '\n",
        "politics11 = 'There are several different ways in which such elections are conducted: some demand a majority decision; others operate a first-past-the-post system which allows representatives to be elected even if a majority of the electorate do RI GP Y6 2023 / Politics and Governance I Copyrighted: Knowledge Skills Department, for internal circulation only not vote for them, provi ded that no one else receives more votes than them (e.g. Britain). '\n",
        "politics12 = 'This was/is done either internally  (e.g. exerting pressure on citizens to comply with specific rules and laws; denying minority groups certain rights, to mark them as “non-citizens” who do not “belong” – e.g. denying identification documents to certain ethnic groups) or externally  (e.g. invading neighboring territory where people similar to one’s citizens live, to exterminate or expel those not of the same nationality – e.g. via conquest & wars). '\n",
        "politics13 = 'The idea was that rather than 80 RI GP Y6 2023 / Politics and Governance I providing every home with a quarter acre of land and their own large yard, you would build the housing in the one area of the building site that would cause the least damage to natural drainage and eco-systems and preserve the rest of the land as a parkland for hiking and viewing.'\n",
        "politics14 = 'By now, Xi Jinping should also understand that this virus can’t be controlled, and if it can’t be controlled, then opening up must happen sooner or later,” said Deng Yuwen, a former editor at a 35 Communist Party newspaper, the Study Times, who now lives in the United States and writes commentaries about Chinese politics.'\n",
        "politics15 = 'However, many believe that even these acceptable laws must not override certain basic freedoms – 20 or rights – which, they say, all humans are born with: the rights to life, to freedom of expression, to worship, to freedom of assembly, to ownership of property, to ownership of your own body and the products of its labour… The longer the list, the more self-evident are its inherent problems.'\n",
        "politics16 = 'Indeed, social media platforms played a role in the 2009 civil revolt in Moldova, dubbed “the first Facebook revolution”; the 2009 unrest in Iran, called “the first Twitter revolution”; the 2011 Russian “almost-revolution”; and the first wave of Arab social unrest in 30 2011, when “the Facebook-armed youth of Tunisia and Egypt” demonstrated “the liberating power of social media.”'\n",
        "politics17 = 'Ukraine’s military successes have exposed Russia’s many military weaknesses, gave the U.S. and NATO a priceless insight into Russia’s limits and vulnerabilities, led Sweden and Finland to apply to join NATO, and led many NATO states – including key cases Germany – to announce plans 180 to revitalize their forces in ways where a decade of NATO efforts to persuade them to spend 2% of their GDP on defense failed to accomplish.'\n",
        "politics18 = 'Features of these personal dictatorships include: a narrow inner circle of trusted people; installation 35 of loyalists in positions of power; promotion of members of the family; creation of a new political movement; use of referendums as a way of justifying decisions; and the creation of new security services loyal to the leader.'\n"
      ],
      "metadata": {
        "id": "PlFKNuPaTllE"
      },
      "execution_count": 175,
      "outputs": []
    },
    {
      "cell_type": "code",
      "source": [
        "nlp(politics1)"
      ],
      "metadata": {
        "colab": {
          "base_uri": "https://localhost:8080/"
        },
        "id": "NRgJFg9HWnw0",
        "outputId": "3a29404b-709c-423d-9641-ea444b21e3ea"
      },
      "execution_count": 176,
      "outputs": [
        {
          "output_type": "execute_result",
          "data": {
            "text/plain": [
              "[{'answer': '<pad> a method or system of government or administration republic',\n",
              "  'question': 'What is a regime?'}]"
            ]
          },
          "metadata": {},
          "execution_count": 176
        }
      ]
    },
    {
      "cell_type": "code",
      "source": [
        "nlp(politics2)"
      ],
      "metadata": {
        "colab": {
          "base_uri": "https://localhost:8080/"
        },
        "id": "ep2Mb4WMWo1g",
        "outputId": "a06ffd56-8cc7-460c-db7f-a3b4f7304b27"
      },
      "execution_count": 177,
      "outputs": [
        {
          "output_type": "execute_result",
          "data": {
            "text/plain": [
              "[{'answer': '<pad> China',\n",
              "  'question': 'Who had intensified efforts to defend Huawei by charging Michael Kovrig and Michael Spavor with espionage?'}]"
            ]
          },
          "metadata": {},
          "execution_count": 177
        }
      ]
    },
    {
      "cell_type": "code",
      "source": [
        "nlp(politics3)"
      ],
      "metadata": {
        "colab": {
          "base_uri": "https://localhost:8080/"
        },
        "id": "elMUmYnLWqWP",
        "outputId": "fb39f5e8-7d64-4b7e-ed4f-bb869ef07668"
      },
      "execution_count": 178,
      "outputs": [
        {
          "output_type": "execute_result",
          "data": {
            "text/plain": [
              "[{'answer': '<pad> a political doctrine or movement seeking to overthrow capitalism',\n",
              "  'question': 'What does each member work for the common benefit of?'}]"
            ]
          },
          "metadata": {},
          "execution_count": 178
        }
      ]
    },
    {
      "cell_type": "code",
      "source": [
        "nlp(politics4)"
      ],
      "metadata": {
        "colab": {
          "base_uri": "https://localhost:8080/"
        },
        "id": "fnmryTJIWqyV",
        "outputId": "07ae8dbf-471b-434c-9fcb-133b6affdc76"
      },
      "execution_count": 179,
      "outputs": [
        {
          "output_type": "execute_result",
          "data": {
            "text/plain": [
              "[{'answer': '<pad> a large community of people of mainly common descent, language, history, etc.',\n",
              "  'question': 'What type of people inhabit a particular territory?'}]"
            ]
          },
          "metadata": {},
          "execution_count": 179
        }
      ]
    },
    {
      "cell_type": "code",
      "source": [
        "nlp(politics5)"
      ],
      "metadata": {
        "colab": {
          "base_uri": "https://localhost:8080/"
        },
        "id": "6ivmf3smWraN",
        "outputId": "f75f5b02-feff-46b4-b947-4f01748d5116"
      },
      "execution_count": 180,
      "outputs": [
        {
          "output_type": "execute_result",
          "data": {
            "text/plain": [
              "[{'answer': '<pad> a more extreme form of socialism',\n",
              "  'question': 'What are left wing people who support?'}]"
            ]
          },
          "metadata": {},
          "execution_count": 180
        }
      ]
    },
    {
      "cell_type": "code",
      "source": [
        "nlp(politics6)"
      ],
      "metadata": {
        "colab": {
          "base_uri": "https://localhost:8080/"
        },
        "id": "70SerLBtWr43",
        "outputId": "d786f320-f25f-4ad4-a5f4-af67536fc350"
      },
      "execution_count": 181,
      "outputs": [
        {
          "output_type": "execute_result",
          "data": {
            "text/plain": [
              "[{'answer': '<pad> XIII', 'question': 'What was Leviathan Ch.?'},\n",
              " {'answer': '<pad> Jung Chang',\n",
              "  'question': 'Who was the author of The Path to Power?'}]"
            ]
          },
          "metadata": {},
          "execution_count": 181
        }
      ]
    },
    {
      "cell_type": "code",
      "source": [
        "nlp(politics7)"
      ],
      "metadata": {
        "colab": {
          "base_uri": "https://localhost:8080/"
        },
        "id": "rW9bvUsDWsmc",
        "outputId": "63092bac-b74c-423c-ee52-d356885ed40a"
      },
      "execution_count": 182,
      "outputs": [
        {
          "output_type": "execute_result",
          "data": {
            "text/plain": [
              "[{'answer': '<pad> 1',\n",
              "  'question': 'How many Americans were killed by COVID-19?'}]"
            ]
          },
          "metadata": {},
          "execution_count": 182
        }
      ]
    },
    {
      "cell_type": "code",
      "source": [
        "nlp(politics8)"
      ],
      "metadata": {
        "colab": {
          "base_uri": "https://localhost:8080/"
        },
        "id": "CgrScvypWtbf",
        "outputId": "1b9ed028-e9da-4498-de9d-dbe79a871828"
      },
      "execution_count": 183,
      "outputs": [
        {
          "output_type": "execute_result",
          "data": {
            "text/plain": [
              "[{'answer': '<pad> Xi Jinping', 'question': \"Who was China's top leader?\"}]"
            ]
          },
          "metadata": {},
          "execution_count": 183
        }
      ]
    },
    {
      "cell_type": "code",
      "source": [
        "nlp(politics9)"
      ],
      "metadata": {
        "colab": {
          "base_uri": "https://localhost:8080/"
        },
        "id": "J98IzRbUWuCf",
        "outputId": "3478e011-7687-4569-db6a-afdb3e3e47a4"
      },
      "execution_count": 184,
      "outputs": [
        {
          "output_type": "execute_result",
          "data": {
            "text/plain": [
              "[{'answer': '<pad> politic',\n",
              "  'question': 'What is the name of the ta politika?'},\n",
              " {'answer': '<pad> ta politika',\n",
              "  'question': \"What is the name of Aristotle's book on governing and governments?\"}]"
            ]
          },
          "metadata": {},
          "execution_count": 184
        }
      ]
    },
    {
      "cell_type": "code",
      "source": [
        "nlp(politics10)"
      ],
      "metadata": {
        "colab": {
          "base_uri": "https://localhost:8080/"
        },
        "id": "81AXUqAxWug2",
        "outputId": "1d47bf67-cd91-4e4d-8223-e3ef5c3ab4e9"
      },
      "execution_count": 185,
      "outputs": [
        {
          "output_type": "execute_result",
          "data": {
            "text/plain": [
              "[{'answer': '<pad> 20 years',\n",
              "  'question': 'How long have the authoritarian populists been with us?'}]"
            ]
          },
          "metadata": {},
          "execution_count": 185
        }
      ]
    },
    {
      "cell_type": "code",
      "source": [
        "nlp(politics11)"
      ],
      "metadata": {
        "colab": {
          "base_uri": "https://localhost:8080/"
        },
        "id": "9K7bMERrWvCe",
        "outputId": "b6d8412e-d6fc-47f7-9308-5ec9536a0fb3"
      },
      "execution_count": 186,
      "outputs": [
        {
          "output_type": "execute_result",
          "data": {
            "text/plain": [
              "[{'answer': '<pad> RI GP Y6 2023',\n",
              "  'question': 'What is the name of the first-past-the-post system that allows representatives to be elected even if a majority of the elector'},\n",
              " {'answer': '<pad> Britain',\n",
              "  'question': 'What is the name of the country in which the majority of the electorate is elected?'}]"
            ]
          },
          "metadata": {},
          "execution_count": 186
        }
      ]
    },
    {
      "cell_type": "code",
      "source": [
        "nlp(politics12)"
      ],
      "metadata": {
        "colab": {
          "base_uri": "https://localhost:8080/"
        },
        "id": "m0OHYtyNWvqK",
        "outputId": "d01ec8e0-475e-4ed6-a21c-280303f9dda6"
      },
      "execution_count": 187,
      "outputs": [
        {
          "output_type": "execute_result",
          "data": {
            "text/plain": [
              "[{'answer': '<pad> internally', 'question': 'What was/is this done?'},\n",
              " {'answer': '<pad> denying identification documents to certain ethnic groups',\n",
              "  'question': 'What was done internally?'},\n",
              " {'answer': '<pad> denying identification documents to certain ethnic groups',\n",
              "  'question': 'What was done internally?'},\n",
              " {'answer': '<pad> conquest & wars',\n",
              "  'question': 'What was the purpose of exterminating or expeling those not of the same nationality?'},\n",
              " {'answer': '<pad> conquest & wars',\n",
              "  'question': 'What was the purpose of exterminating or expeling those not of the same nationality?'}]"
            ]
          },
          "metadata": {},
          "execution_count": 187
        }
      ]
    },
    {
      "cell_type": "code",
      "source": [
        "nlp(politics13)"
      ],
      "metadata": {
        "colab": {
          "base_uri": "https://localhost:8080/"
        },
        "id": "-6VoSG67WwiO",
        "outputId": "a422b9e9-6ce7-48b2-d2da-98820af882ce"
      },
      "execution_count": 188,
      "outputs": [
        {
          "output_type": "execute_result",
          "data": {
            "text/plain": [
              "[{'answer': '<pad> 80 RI GP Y6 2023',\n",
              "  'question': 'What was the idea of building a home that would cause the least damage to natural drainage and eco-systems?'}]"
            ]
          },
          "metadata": {},
          "execution_count": 188
        }
      ]
    },
    {
      "cell_type": "code",
      "source": [
        "nlp(politics14)"
      ],
      "metadata": {
        "colab": {
          "base_uri": "https://localhost:8080/"
        },
        "id": "3OIilUdtWw__",
        "outputId": "fa632b28-5366-4943-f446-ea5e88b86621"
      },
      "execution_count": 189,
      "outputs": [
        {
          "output_type": "execute_result",
          "data": {
            "text/plain": [
              "[{'answer': '<pad> Deng Yuwen',\n",
              "  'question': 'Who wrote commentaries about Chinese politics?'}]"
            ]
          },
          "metadata": {},
          "execution_count": 189
        }
      ]
    },
    {
      "cell_type": "code",
      "source": [
        "nlp(politics15)"
      ],
      "metadata": {
        "colab": {
          "base_uri": "https://localhost:8080/"
        },
        "id": "nv1EXvcqWxj9",
        "outputId": "c4fc52e3-cdf3-44f4-87e2-66ca9873c4d4"
      },
      "execution_count": 190,
      "outputs": [
        {
          "output_type": "execute_result",
          "data": {
            "text/plain": [
              "[{'answer': '<pad> 20',\n",
              "  'question': 'How many basic freedoms do many believe must not override?'}]"
            ]
          },
          "metadata": {},
          "execution_count": 190
        }
      ]
    },
    {
      "cell_type": "code",
      "source": [
        "nlp(politics16)"
      ],
      "metadata": {
        "colab": {
          "base_uri": "https://localhost:8080/"
        },
        "id": "JvIKyA-BWyB4",
        "outputId": "4117e8da-bf5a-4552-f92e-654c91d83556"
      },
      "execution_count": 191,
      "outputs": [
        {
          "output_type": "execute_result",
          "data": {
            "text/plain": [
              "[{'answer': '<pad> the first Facebook revolution',\n",
              "  'question': 'What was the 2009 civil revolt in Moldova called?'},\n",
              " {'answer': ' the first Twitter revolution',\n",
              "  'question': 'What was the 2009 unrest in Iran called?'}]"
            ]
          },
          "metadata": {},
          "execution_count": 191
        }
      ]
    },
    {
      "cell_type": "code",
      "source": [
        "nlp(politics17)"
      ],
      "metadata": {
        "colab": {
          "base_uri": "https://localhost:8080/"
        },
        "id": "4CGNTLZ_Wyr5",
        "outputId": "fbeb3421-1ef6-4a11-8a69-a654085276dd"
      },
      "execution_count": 192,
      "outputs": [
        {
          "output_type": "execute_result",
          "data": {
            "text/plain": [
              "[{'answer': '<pad> 2%',\n",
              "  'question': \"How much of Ukraine's GDP was spent on defense?\"}]"
            ]
          },
          "metadata": {},
          "execution_count": 192
        }
      ]
    },
    {
      "cell_type": "code",
      "source": [
        "nlp(politics18)"
      ],
      "metadata": {
        "colab": {
          "base_uri": "https://localhost:8080/"
        },
        "id": "bmO4978BWzZE",
        "outputId": "5ddb11cf-555c-43bd-c0d5-827087a5aa77"
      },
      "execution_count": 193,
      "outputs": [
        {
          "output_type": "execute_result",
          "data": {
            "text/plain": [
              "[{'answer': '<pad> a narrow inner circle of trusted people',\n",
              "  'question': 'What are some of the features of dictatorships?'},\n",
              " {'answer': ' 35',\n",
              "  'question': 'How many loyalists are installed in positions of power?'}]"
            ]
          },
          "metadata": {},
          "execution_count": 193
        }
      ]
    },
    {
      "cell_type": "code",
      "source": [
        "nlp1(politics1)"
      ],
      "metadata": {
        "colab": {
          "base_uri": "https://localhost:8080/"
        },
        "id": "4fO6yKOTW0AC",
        "outputId": "2f58c567-4ac3-461f-da7f-1a80fd974401"
      },
      "execution_count": 194,
      "outputs": [
        {
          "output_type": "execute_result",
          "data": {
            "text/plain": [
              "['What is a system of government or administration republic a country in which the supreme power is held by the people or their elected representatives?',\n",
              " 'Who supports more conservative or traditional policies than others in their group socialism a political and economic theory advocating that land, transport, natural resources, and the chief industries should be owned & managed by the State a policy/practice based on this state?']"
            ]
          },
          "metadata": {},
          "execution_count": 194
        }
      ]
    },
    {
      "cell_type": "code",
      "source": [
        "nlp1(politics2)"
      ],
      "metadata": {
        "colab": {
          "base_uri": "https://localhost:8080/"
        },
        "id": "WgdDTTQWW1AQ",
        "outputId": "67b3f84b-8ac9-40a1-e557-d9622d91a801"
      },
      "execution_count": 195,
      "outputs": [
        {
          "output_type": "execute_result",
          "data": {
            "text/plain": [
              "['Who was charged with espionage after a Canadian court refused to stop extradition proceedings against Huawei?',\n",
              " 'What was the name of the country that imposed trade sanctions on Australia for questioning its handling of the COVID-19 pandemic?',\n",
              " 'How did China tighten its grip on the Paracel and Spratly Islands?']"
            ]
          },
          "metadata": {},
          "execution_count": 195
        }
      ]
    },
    {
      "cell_type": "code",
      "source": [
        "nlp1(politics3)"
      ],
      "metadata": {
        "colab": {
          "base_uri": "https://localhost:8080/"
        },
        "id": "IJr0i9wiW1rF",
        "outputId": "7072de61-6dbf-48fa-ddd4-0262477d9516"
      },
      "execution_count": 196,
      "outputs": [
        {
          "output_type": "execute_result",
          "data": {
            "text/plain": [
              "['What is a social system in which property is owned by the community and each member works for the common benefit a political doctrine or movement seeking to overthrow capitalism and establish a form of communism?',\n",
              " 'What is an impassioned rhetoric that appeals to greed, fear, and hatred democracy government by the whole people of a country?']"
            ]
          },
          "metadata": {},
          "execution_count": 196
        }
      ]
    },
    {
      "cell_type": "code",
      "source": [
        "nlp1(politics4)"
      ],
      "metadata": {
        "colab": {
          "base_uri": "https://localhost:8080/"
        },
        "id": "h04yTkMzW2aK",
        "outputId": "b71de737-958d-45de-90f7-383a3b78085a"
      },
      "execution_count": 197,
      "outputs": [
        {
          "output_type": "execute_result",
          "data": {
            "text/plain": [
              "['What is a large community of people of mainly common descent, language, history, etc., usually inhabiting a particular territory and under one government nationalism a patriotic feeling or principles or efforts a movement favouring independence for a country that is controlled by or forms part of another partisan a strong and often uncritical supporter of a person, group, or cause what?']"
            ]
          },
          "metadata": {},
          "execution_count": 197
        }
      ]
    },
    {
      "cell_type": "code",
      "source": [
        "nlp1(politics5)"
      ],
      "metadata": {
        "colab": {
          "base_uri": "https://localhost:8080/"
        },
        "id": "k-J9KbYzW3Zp",
        "outputId": "3c6db8c0-80cb-4f6d-e6a5-6e847147ca8d"
      },
      "execution_count": 198,
      "outputs": [
        {
          "output_type": "execute_result",
          "data": {
            "text/plain": [
              "['What is the system of method of governing the group or organisation governing a country the State as an agent left wing those who support a more extreme form of socialism than others in their group liberal tolerant, open-minded, especially in religion and politics mandate (noun) authority given to someone to perform a certain task or to apply certain policies meritocracy government or control by people of what?']"
            ]
          },
          "metadata": {},
          "execution_count": 198
        }
      ]
    },
    {
      "cell_type": "code",
      "source": [
        "nlp1(politics6)"
      ],
      "metadata": {
        "colab": {
          "base_uri": "https://localhost:8080/"
        },
        "id": "FTlLT-AkW4A3",
        "outputId": "a94ef919-4344-4b5d-da24-caa90b87e3bd"
      },
      "execution_count": 199,
      "outputs": [
        {
          "output_type": "execute_result",
          "data": {
            "text/plain": [
              "['What is the author of The Downing Street Years?',\n",
              " \"What is Margaret Thatcher's autobiography?\",\n",
              " 'Who wrote The Path to Power?']"
            ]
          },
          "metadata": {},
          "execution_count": 199
        }
      ]
    },
    {
      "cell_type": "code",
      "source": [
        "nlp1(politics7)"
      ],
      "metadata": {
        "colab": {
          "base_uri": "https://localhost:8080/"
        },
        "id": "KCRUJaf6W4tY",
        "outputId": "ff89711b-aaac-4868-e2f9-1053686c2de0"
      },
      "execution_count": 200,
      "outputs": [
        {
          "output_type": "execute_result",
          "data": {
            "text/plain": [
              "['How many Americans were killed by the COVID-19 pandemic?',\n",
              " 'What percentage of the population continues to assert their own individual liberties over the common good?']"
            ]
          },
          "metadata": {},
          "execution_count": 200
        }
      ]
    },
    {
      "cell_type": "code",
      "source": [
        "nlp1(politics8)"
      ],
      "metadata": {
        "colab": {
          "base_uri": "https://localhost:8080/"
        },
        "id": "sHsCF6S6W5B_",
        "outputId": "7901c165-93bf-4282-af0d-fda5075be7f2"
      },
      "execution_count": 201,
      "outputs": [
        {
          "output_type": "execute_result",
          "data": {
            "text/plain": [
              "['What did Xi Jinping stake his legitimacy on?',\n",
              " 'What was the name of the top leader of China?']"
            ]
          },
          "metadata": {},
          "execution_count": 201
        }
      ]
    },
    {
      "cell_type": "code",
      "source": [
        "nlp1(politics9)"
      ],
      "metadata": {
        "colab": {
          "base_uri": "https://localhost:8080/"
        },
        "id": "8t8cxm0UW68y",
        "outputId": "2c16ceb3-df0b-4413-a365-af2ac2b4d85c"
      },
      "execution_count": 202,
      "outputs": [
        {
          "output_type": "execute_result",
          "data": {
            "text/plain": [
              "[\"What was the name of Aristotle's book on governing and governments?\",\n",
              " 'What is the definition of a group of people who live within a specified geographical boundary?']"
            ]
          },
          "metadata": {},
          "execution_count": 202
        }
      ]
    },
    {
      "cell_type": "code",
      "source": [
        "nlp1(politics10)"
      ],
      "metadata": {
        "colab": {
          "base_uri": "https://localhost:8080/"
        },
        "id": "MzfgTQChW7-Q",
        "outputId": "55076422-49a5-4dc1-e816-6b1ddb8c4fb7"
      },
      "execution_count": 203,
      "outputs": [
        {
          "output_type": "execute_result",
          "data": {
            "text/plain": [
              "['How long have authoritarian populists been with us?',\n",
              " 'In what regions of the world are they predominant Protestant?',\n",
              " 'What is the name of the group that has a strong population?']"
            ]
          },
          "metadata": {},
          "execution_count": 203
        }
      ]
    },
    {
      "cell_type": "code",
      "source": [
        "nlp1(politics11)"
      ],
      "metadata": {
        "colab": {
          "base_uri": "https://localhost:8080/"
        },
        "id": "NkI6H38uW9i1",
        "outputId": "2f0b0acd-3a25-436b-f988-123387d97de3"
      },
      "execution_count": 204,
      "outputs": [
        {
          "output_type": "execute_result",
          "data": {
            "text/plain": [
              "['What is RI GP Y6 2023 / Politics and Governance I Copyrighted: Knowledge Skills Department for internal circulation only not vote for?',\n",
              " 'What is the name of the system in which such elections are conducted?']"
            ]
          },
          "metadata": {},
          "execution_count": 204
        }
      ]
    },
    {
      "cell_type": "code",
      "source": [
        "nlp1(politics12)"
      ],
      "metadata": {
        "colab": {
          "base_uri": "https://localhost:8080/"
        },
        "id": "uH6g57xvW-Db",
        "outputId": "e524d221-cd92-47d6-82b3-1ac7fd17cef5"
      },
      "execution_count": 205,
      "outputs": [
        {
          "output_type": "execute_result",
          "data": {
            "text/plain": [
              "['What was done internally?',\n",
              " 'What did the government do internally to protect the rights of minority groups?',\n",
              " 'How does the government act?']"
            ]
          },
          "metadata": {},
          "execution_count": 205
        }
      ]
    },
    {
      "cell_type": "code",
      "source": [
        "nlp1(politics13)"
      ],
      "metadata": {
        "colab": {
          "base_uri": "https://localhost:8080/"
        },
        "id": "xF24tGd5W-lN",
        "outputId": "b1bfb2d9-9fc9-4233-cc23-b343e9a44b8d"
      },
      "execution_count": 206,
      "outputs": [
        {
          "output_type": "execute_result",
          "data": {
            "text/plain": [
              "['How many RI GP Y6 2023 / Politics and Governance I provided every home with a quarter acre of land and their own large yard?',\n",
              " 'What would cause the least damage to natural drainage and eco-systems and preserve the rest of the land as a parkland?']"
            ]
          },
          "metadata": {},
          "execution_count": 206
        }
      ]
    },
    {
      "cell_type": "code",
      "source": [
        "nlp1(politics14)"
      ],
      "metadata": {
        "colab": {
          "base_uri": "https://localhost:8080/"
        },
        "id": "M5ogo2GgW_E_",
        "outputId": "5d97ee07-0987-4d67-ccd3-5cd86c6ed9cf"
      },
      "execution_count": 207,
      "outputs": [
        {
          "output_type": "execute_result",
          "data": {
            "text/plain": [
              "[\"What virus can't be controlled by Xi Jinping?\",\n",
              " 'Who is the former editor of a 35 Communist Party newspaper?',\n",
              " 'Where does Yuwen live?']"
            ]
          },
          "metadata": {},
          "execution_count": 207
        }
      ]
    },
    {
      "cell_type": "code",
      "source": [
        "nlp1(politics15)"
      ],
      "metadata": {
        "colab": {
          "base_uri": "https://localhost:8080/"
        },
        "id": "l-gJPP-JW_u0",
        "outputId": "22ca62e4-d4af-41b0-d679-d247a6f4d882"
      },
      "execution_count": 208,
      "outputs": [
        {
          "output_type": "execute_result",
          "data": {
            "text/plain": [
              "['How many basic freedoms do many believe must not be override?',\n",
              " 'What are the rights to life, to freedom of expression, to worship, to assembly, to ownership of your own body and products of its labour?']"
            ]
          },
          "metadata": {},
          "execution_count": 208
        }
      ]
    },
    {
      "cell_type": "code",
      "source": [
        "nlp1(politics16)"
      ],
      "metadata": {
        "colab": {
          "base_uri": "https://localhost:8080/"
        },
        "id": "TgviL_RDXAPB",
        "outputId": "3d7fa32b-0473-4409-ff51-21a9f4eea4f9"
      },
      "execution_count": 209,
      "outputs": [
        {
          "output_type": "execute_result",
          "data": {
            "text/plain": [
              "['What did social media platforms play a role in the 2009 civil revolt in Moldova?',\n",
              " 'What did the 2009 unrest in Iran call the 2011 Russian \"almost-revolution\"?',\n",
              " 'When did the first wave of Arab social unrest occur?']"
            ]
          },
          "metadata": {},
          "execution_count": 209
        }
      ]
    },
    {
      "cell_type": "code",
      "source": [
        "nlp1(politics17)"
      ],
      "metadata": {
        "colab": {
          "base_uri": "https://localhost:8080/"
        },
        "id": "fiWrvoLnXAv5",
        "outputId": "80781d23-c091-44da-cf6b-5f3f731af415"
      },
      "execution_count": 210,
      "outputs": [
        {
          "output_type": "execute_result",
          "data": {
            "text/plain": [
              "['How many NATO states announced plans to revitalize their forces?',\n",
              " 'How much of their GDP was spent on defense by the NATO?']"
            ]
          },
          "metadata": {},
          "execution_count": 210
        }
      ]
    },
    {
      "cell_type": "code",
      "source": [
        "nlp1(politics18)"
      ],
      "metadata": {
        "colab": {
          "base_uri": "https://localhost:8080/"
        },
        "id": "bgIRiN5fXBRB",
        "outputId": "f11763a9-5b7b-4f71-b7bc-5adb2484d411"
      },
      "execution_count": 211,
      "outputs": [
        {
          "output_type": "execute_result",
          "data": {
            "text/plain": [
              "['How many loyalists are installed in positions of power?',\n",
              " 'What is the name of the new political movement that is used to justify decisions?']"
            ]
          },
          "metadata": {},
          "execution_count": 211
        }
      ]
    },
    {
      "cell_type": "code",
      "source": [
        "pip install mysql"
      ],
      "metadata": {
        "colab": {
          "base_uri": "https://localhost:8080/"
        },
        "id": "lGhLnMyunM1B",
        "outputId": "8438a6c0-aca9-48f4-d168-183a712d4f9c"
      },
      "execution_count": 219,
      "outputs": [
        {
          "output_type": "stream",
          "name": "stdout",
          "text": [
            "Looking in indexes: https://pypi.org/simple, https://us-python.pkg.dev/colab-wheels/public/simple/\n",
            "Requirement already satisfied: mysql in /usr/local/lib/python3.9/dist-packages (0.0.3)\n",
            "Requirement already satisfied: mysqlclient in /usr/local/lib/python3.9/dist-packages (from mysql) (2.1.1)\n"
          ]
        }
      ]
    },
    {
      "cell_type": "code",
      "source": [
        "pip install mysql.connector-python"
      ],
      "metadata": {
        "colab": {
          "base_uri": "https://localhost:8080/"
        },
        "id": "ERuyYnAassTe",
        "outputId": "4f832dc5-9696-46ad-f693-0d30a5f636c0"
      },
      "execution_count": 240,
      "outputs": [
        {
          "output_type": "stream",
          "name": "stdout",
          "text": [
            "Looking in indexes: https://pypi.org/simple, https://us-python.pkg.dev/colab-wheels/public/simple/\n",
            "Collecting mysql.connector-python\n",
            "  Downloading mysql_connector_python-8.0.32-cp39-cp39-manylinux1_x86_64.whl (23.5 MB)\n",
            "\u001b[2K     \u001b[90m━━━━━━━━━━━━━━━━━━━━━━━━━━━━━━━━━━━━━━━━\u001b[0m \u001b[32m23.5/23.5 MB\u001b[0m \u001b[31m12.4 MB/s\u001b[0m eta \u001b[36m0:00:00\u001b[0m\n",
            "\u001b[?25hRequirement already satisfied: protobuf<=3.20.3,>=3.11.0 in /usr/local/lib/python3.9/dist-packages (from mysql.connector-python) (3.20.3)\n",
            "Installing collected packages: mysql.connector-python\n",
            "Successfully installed mysql.connector-python-8.0.32\n"
          ]
        }
      ]
    },
    {
      "cell_type": "code",
      "source": [
        "import mysql.connector\n",
        "try:\n",
        "  cnx = mysql.connector.connect(host='localhost', user='root', password='zchenxi2')\n",
        "except mysql.connector.Error as e:\n",
        "  s=str(e)\n",
        "  print(s)"
      ],
      "metadata": {
        "colab": {
          "base_uri": "https://localhost:8080/"
        },
        "id": "M1WxZys3uQJu",
        "outputId": "12845ff8-9426-4517-f045-ae474206322e"
      },
      "execution_count": 242,
      "outputs": [
        {
          "output_type": "stream",
          "name": "stdout",
          "text": [
            "2003: Can't connect to MySQL server on 'localhost:3306' (111 Connection refused)\n"
          ]
        }
      ]
    },
    {
      "cell_type": "code",
      "source": [
        "##pseudocode for questiongeneration \n",
        "##the questions for the different subjects are loaded into different databases\n",
        "##subtopics are loaded into the different tables, with their respective names\n",
        "import random\n"
      ],
      "metadata": {
        "id": "_VO0Q19w4hoJ"
      },
      "execution_count": 244,
      "outputs": []
    },
    {
      "cell_type": "code",
      "source": [
        "Dictionary_for_days = {1: 'General Paper', 2: 'Chemistry', 3: 'Physics', 4: 'Mathematics', 5: 'Economics'}\n",
        "i = 0\n",
        "question_list = []\n",
        "while i < 0: \n",
        "  cnx = mysql.connector.connect(host='localhost', user='root', password='zchenxi2')\n",
        "  USE Dictionary_for_days[i]\n",
        "  SHOW TABLES;        \n",
        "  SELECT FOUND_ROWS();\n",
        "  x = FOUND_ROWS()\n",
        "  column_list = random.sample(range(1, x), 5)\n",
        "\n",
        "  ##math.randint(x, 5)\n",
        "  ##access 5 tables\n",
        "  ##access random index from the table, append it to the question list\n",
        "  \n",
        "  i = (i + 1)%5"
      ],
      "metadata": {
        "id": "7705oPvZ_wTy"
      },
      "execution_count": null,
      "outputs": []
    }
  ]
}